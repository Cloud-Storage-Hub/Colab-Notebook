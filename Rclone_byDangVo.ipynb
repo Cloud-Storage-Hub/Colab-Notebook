{
  "cells": [
    {
      "cell_type": "markdown",
      "metadata": {
        "id": "view-in-github",
        "colab_type": "text"
      },
      "source": [
        "<a href=\"https://colab.research.google.com/github/vonguyendang/colab-notebook/blob/main/Rclone_byDangVo.ipynb\" target=\"_parent\"><img src=\"https://colab.research.google.com/assets/colab-badge.svg\" alt=\"Open In Colab\"/></a>"
      ]
    },
    {
      "cell_type": "markdown",
      "metadata": {
        "id": "NkXRpNhJmjFp"
      },
      "source": [
        "#**START**"
      ]
    },
    {
      "cell_type": "code",
      "execution_count": null,
      "metadata": {
        "cellView": "form",
        "colab": {
          "base_uri": "https://localhost:8080/"
        },
        "collapsed": true,
        "id": "FX4mU9QtkqVf",
        "outputId": "a7766ec2-a84e-40ca-c368-2182f6d5bb58"
      },
      "outputs": [
        {
          "output_type": "stream",
          "name": "stdout",
          "text": [
            "Sử dụng CPU theo từng lõi (%): [15.0, 14.8]\n",
            "\n",
            "Giá trị trung bình sử dụng CPU (%): 78.4\n",
            "\n",
            "Bộ nhớ:\n",
            "  Tổng: 12.67 GB\n",
            "  Đã sử dụng: 0.77 GB\n",
            "  Phần trăm đã sử dụng: 8.5%\n",
            "\n",
            "Dung lượng ổ đĩa:\n",
            "  Tổng: 107.72 GB\n",
            "  Đã sử dụng: 27.41 GB\n",
            "  Phần trăm đã sử dụng: 25.4%\n",
            "\n",
            "Số lượng kết nối mạng: 39\n",
            "\n",
            "Thời gian khởi động của hệ thống theo múi giờ Việt Nam: 2024-07-24 08:58:36 +07\n",
            "\n",
            "Dữ liệu tải xuống (GB): 0.42 GB\n",
            "  ____         _        _   _      ____    __      __    ___    \n",
            " |  _ \\       / \\      | \\ | |    / ___|   \\ \\    / /   / _ \\   \n",
            " | | | |     / _ \\     |  \\| |   | |  _     \\ \\  / /   | | | |  \n",
            " | |_| |    / ___ \\    | . ` |   | |_| |     \\ \\/ /    | |_| |  \n",
            " |____/    /_/   \\_\\   |_|\\ _|    \\____|      \\__/      \\___/   \n"
          ]
        }
      ],
      "source": [
        "#@title Kiểm tra hệ thống\n",
        "import psutil\n",
        "import datetime\n",
        "import pytz\n",
        "\n",
        "# Lấy giá trị sử dụng CPU hiện tại\n",
        "cpu_percent = psutil.cpu_percent(percpu=True)\n",
        "print(\"Sử dụng CPU theo từng lõi (%):\", cpu_percent)\n",
        "\n",
        "# Lấy giá trị trung bình sử dụng CPU\n",
        "avg_cpu_percent = psutil.cpu_percent(interval=1)\n",
        "print(\"\\nGiá trị trung bình sử dụng CPU (%):\", avg_cpu_percent)\n",
        "\n",
        "# Lấy thông tin về bộ nhớ\n",
        "svmem = psutil.virtual_memory()\n",
        "total_memory_gb = svmem.total / (1024 ** 3)\n",
        "used_memory_gb = svmem.used / (1024 ** 3)\n",
        "percent_memory_used = svmem.percent\n",
        "\n",
        "# Lấy thông tin về dung lượng ổ đĩa\n",
        "sdiskusage = psutil.disk_usage('/')\n",
        "total_disk_gb = sdiskusage.total / (1024 ** 3)\n",
        "used_disk_gb = sdiskusage.used / (1024 ** 3)\n",
        "percent_disk_used = sdiskusage.percent\n",
        "\n",
        "print(\"\\nBộ nhớ:\")\n",
        "print(f\"  Tổng: {total_memory_gb:.2f} GB\")\n",
        "print(f\"  Đã sử dụng: {used_memory_gb:.2f} GB\")\n",
        "print(f\"  Phần trăm đã sử dụng: {percent_memory_used:.1f}%\")\n",
        "\n",
        "print(\"\\nDung lượng ổ đĩa:\")\n",
        "print(f\"  Tổng: {total_disk_gb:.2f} GB\")\n",
        "print(f\"  Đã sử dụng: {used_disk_gb:.2f} GB\")\n",
        "print(f\"  Phần trăm đã sử dụng: {percent_disk_used:.1f}%\")\n",
        "\n",
        "# Lấy thông tin về các kết nối mạng\n",
        "connections = psutil.net_connections()\n",
        "print(\"\\nSố lượng kết nối mạng:\", len(connections))\n",
        "\n",
        "# Lấy thời gian khởi động của hệ thống\n",
        "boot_time_timestamp = psutil.boot_time()\n",
        "\n",
        "# Chuyển đổi thời gian khởi động thành đối tượng datetime\n",
        "boot_time_datetime = datetime.datetime.fromtimestamp(boot_time_timestamp)\n",
        "\n",
        "# Lấy múi giờ của Việt Nam\n",
        "vietnam_timezone = pytz.timezone('Asia/Ho_Chi_Minh')\n",
        "\n",
        "# Chuyển đổi thời gian khởi động sang múi giờ Việt Nam\n",
        "boot_time_vietnam = pytz.utc.localize(boot_time_datetime).astimezone(vietnam_timezone)\n",
        "\n",
        "# Định dạng thời gian theo chuỗi\n",
        "boot_time_str = boot_time_vietnam.strftime(\"%Y-%m-%d %H:%M:%S %Z\")\n",
        "print(\"\\nThời gian khởi động của hệ thống theo múi giờ Việt Nam:\", boot_time_str)\n",
        "\n",
        "# Lấy thông tin về dữ liệu mạng đã truyền\n",
        "net_io = psutil.net_io_counters()\n",
        "\n",
        "# Chuyển đổi dữ liệu tải xuống từ byte sang GB\n",
        "download_gb = net_io.bytes_recv / (1024**3)\n",
        "print(f\"\\nDữ liệu tải xuống (GB): {download_gb:.2f} GB\")\n",
        "\n",
        "def d():\n",
        "    return [\n",
        "        \"  ____  \",\n",
        "        \" |  _ \\\\ \",\n",
        "        \" | | | |\",\n",
        "        \" | |_| |\",\n",
        "        \" |____/ \"\n",
        "    ]\n",
        "\n",
        "def a():\n",
        "    return [\n",
        "        \"     _    \",\n",
        "        \"    / \\\\   \",\n",
        "        \"   / _ \\\\  \",\n",
        "        \"  / ___ \\\\ \",\n",
        "        \" /_/   \\\\_\\\\\"\n",
        "    ]\n",
        "\n",
        "def n():\n",
        "    return [\n",
        "        \"  _   _  \",\n",
        "        \" | \\\\ | | \",\n",
        "        \" |  \\\\| | \",\n",
        "        \" | . ` | \",\n",
        "        \" |_|\\\\ _| \",\n",
        "    ]\n",
        "\n",
        "def g():\n",
        "    return [\n",
        "        \"  ____  \",\n",
        "        \" / ___| \",\n",
        "        \"| |  _  \",\n",
        "        \"| |_| | \",\n",
        "        \" \\\\____| \"\n",
        "    ]\n",
        "\n",
        "def v():\n",
        "    return [\n",
        "        \"__      __\",\n",
        "        \"\\\\ \\\\    / /\",\n",
        "        \" \\\\ \\\\  / / \",\n",
        "        \"  \\\\ \\\\/ /  \",\n",
        "        \"   \\\\__/   \"\n",
        "    ]\n",
        "\n",
        "def o():\n",
        "    return [\n",
        "        \"  ___  \",\n",
        "        \" / _ \\\\ \",\n",
        "        \"| | | |\",\n",
        "        \"| |_| |\",\n",
        "        \" \\\\___/ \"\n",
        "    ]\n",
        "\n",
        "def print_dang_vo():\n",
        "    letters = [d(), a(), n(), g(), v(), o()]\n",
        "    max_height = max(len(letter) for letter in letters)\n",
        "\n",
        "    for i in range(max_height):\n",
        "        for letter in letters:\n",
        "            if i < len(letter):\n",
        "                print(letter[i], end=\"  \")\n",
        "            else:\n",
        "                print(\" \" * len(letter[0]), end=\"  \")\n",
        "        print()\n",
        "\n",
        "print_dang_vo()"
      ]
    },
    {
      "cell_type": "code",
      "execution_count": null,
      "metadata": {
        "cellView": "form",
        "colab": {
          "base_uri": "https://localhost:8080/"
        },
        "collapsed": true,
        "id": "SIVvKN1XSVyx",
        "outputId": "1dc28cf6-c638-475f-9762-699b2124d4d7"
      },
      "outputs": [
        {
          "output_type": "stream",
          "name": "stdout",
          "text": [
            "Wed Jul 24 09:48:00 AM +07 2024\n",
            "Wed Jul 24 09:48:00 AM +07 2024\n"
          ]
        }
      ],
      "source": [
        "#@title Đặt thời gian theo Asia/Ho_Chi_Minh\n",
        "# Kiểm tra múi giờ hiện tại\n",
        "!date\n",
        "\n",
        "# Cài đặt múi giờ thành Asia/Ho_Chi_Minh\n",
        "!ln -sf /usr/share/zoneinfo/Asia/Ho_Chi_Minh /etc/localtime\n",
        "!echo \"Asia/Ho_Chi_Minh\" > /etc/timezone\n",
        "\n",
        "# Kiểm tra lại múi giờ sau khi thay đổi\n",
        "!date\n"
      ]
    },
    {
      "cell_type": "code",
      "execution_count": null,
      "metadata": {
        "cellView": "form",
        "colab": {
          "base_uri": "https://localhost:8080/"
        },
        "collapsed": true,
        "id": "52h5TD5okZeN",
        "outputId": "9bd542cd-6247-46ac-e49f-9ef90f157e2a"
      },
      "outputs": [
        {
          "output_type": "stream",
          "name": "stdout",
          "text": [
            "Retrieving speedtest.net configuration...\n",
            "Testing from Google Cloud (34.148.170.242)...\n",
            "Retrieving speedtest.net server list...\n",
            "Selecting best server based on ping...\n",
            "Hosted by Conexon Connect (Atlanta, GA) [422.10 km]: 18.096 ms\n",
            "Testing download speed................................................................................\n",
            "Download: 2670.17 Mbit/s\n",
            "Testing upload speed......................................................................................................\n",
            "Upload: 604.56 Mbit/s\n"
          ]
        }
      ],
      "source": [
        "#@title Kiểm tra tốc độ mạng\n",
        "!curl -s https://raw.githubusercontent.com/sivel/speedtest-cli/master/speedtest.py | python -"
      ]
    },
    {
      "cell_type": "code",
      "execution_count": null,
      "metadata": {
        "cellView": "form",
        "colab": {
          "base_uri": "https://localhost:8080/"
        },
        "collapsed": true,
        "id": "G9eGQ8dEem_V",
        "outputId": "c8d8c51b-8bec-4f20-f24c-db2c850bd410"
      },
      "outputs": [
        {
          "output_type": "stream",
          "name": "stdout",
          "text": [
            "  % Total    % Received % Xferd  Average Speed   Time    Time     Time  Current\n",
            "                                 Dload  Upload   Total   Spent    Left  Speed\n",
            "100  4734  100  4734    0     0   8658      0 --:--:-- --:--:-- --:--:--  8670\n",
            "\n",
            "The latest version of rclone rclone v1.67.0 is already installed.\n",
            "\n"
          ]
        }
      ],
      "source": [
        "#@title 1. Cài đặt rclone\n",
        "!sudo -v ; curl https://rclone.org/install.sh | sudo bash"
      ]
    },
    {
      "cell_type": "code",
      "execution_count": null,
      "metadata": {
        "cellView": "form",
        "colab": {
          "base_uri": "https://localhost:8080/"
        },
        "collapsed": true,
        "id": "shxMdFsPfF4_",
        "outputId": "b30469a8-2f3f-4c4b-e359-517a135f399d"
      },
      "outputs": [
        {
          "output_type": "stream",
          "name": "stdout",
          "text": [
            "Configuration file is stored at:\n",
            "/root/.config/rclone/rclone.conf\n"
          ]
        }
      ],
      "source": [
        "#@title 2. Kiểm tra path file config\n",
        "!rclone config file"
      ]
    },
    {
      "cell_type": "markdown",
      "metadata": {
        "id": "fdDDUJ7oxj3s"
      },
      "source": [
        "**3. Chọn 3.1 hoặc 3.2 để cấu hình rclone.conf**"
      ]
    },
    {
      "cell_type": "code",
      "execution_count": null,
      "metadata": {
        "cellView": "form",
        "colab": {
          "base_uri": "https://localhost:8080/"
        },
        "collapsed": true,
        "id": "DuCf80UMwDDM",
        "outputId": "fe4a7002-e58e-4e86-a1c1-56ff5ee82a5d"
      },
      "outputs": [
        {
          "output_type": "stream",
          "name": "stdout",
          "text": [
            "Nội dung từ /content/drive/MyDrive/rclone/rclone.conf đã được sao chép sang /root/.config/rclone/rclone.conf.\n"
          ]
        }
      ],
      "source": [
        "#@title 3.1 Tạo và thêm nội dung vào file rclone.conf\n",
        "# Phải upload file config lên drive trước\n",
        "# Đường dẫn tới file gốc và file đích\n",
        "file1_path = \"/content/drive/MyDrive/rclone/rclone.conf\"\n",
        "file2_path = \"/root/.config/rclone/rclone.conf\"\n",
        "\n",
        "# Đọc nội dung từ file1.txt\n",
        "with open(file1_path, 'r') as file1:\n",
        "    content = file1.read()\n",
        "\n",
        "# Ghi nội dung vào file2.txt\n",
        "with open(file2_path, 'w') as file2:\n",
        "    file2.write(content)\n",
        "\n",
        "print(f\"Nội dung từ {file1_path} đã được sao chép sang {file2_path}.\")\n"
      ]
    },
    {
      "cell_type": "code",
      "execution_count": null,
      "metadata": {
        "cellView": "form",
        "colab": {
          "base_uri": "https://localhost:8080/"
        },
        "collapsed": true,
        "id": "YvX-OaF_ymaX",
        "outputId": "a50ccd9b-17c1-4e07-a13b-e191f9049fd3"
      },
      "outputs": [
        {
          "output_type": "stream",
          "name": "stdout",
          "text": [
            "Nội dung của file1.txt:\n",
            "[vodang2702]\n",
            "type = drive\n",
            "scope = drive\n",
            "token = {\"access_token\":\"ya29.a0AXooCgvh-vuSF8gPk0kAFO3HuQrAeWlhCEhkrRC0pqxtlKJTOpzvfnupNXkyOucNKpAdjk9t8_dKNvhzmA-zhyD21aMmqVqvUmrJZ5Ht-h6nTH5JIky5Yp5QJQm6TOa3e4AsBhRmZT85y_PPseFt83FmgjYS32cCZmx-T2waCgYKASISARISFQHGX2Mi4HU-7saMJUj0arSnzlAR8g0174\",\"token_type\":\"Bearer\",\"refresh_token\":\"1//0etAna78Bd0-JCgYIARAAGA4SNwF-L9IrGHCRSNNgxU0oYwHYHTb7Wmf_qLJ3Apw2C-fhtVdm5D0glpEDUvTGY7YLl-Gdj03dKq8\",\"expiry\":\"2024-06-01T11:07:05.953353+07:00\"}\n",
            "\n",
            "[vndang96]\n",
            "type = drive\n",
            "scope = drive\n",
            "token = {\"access_token\":\"ya29.a0AXooCgvhLjCEvJAMJF07IUhK7jBCaxYHwc0n5rQX4NpHqw6cc13no4d8_yXVTJSEhghvaxpy64t117vE_x0oulSHA35rYH92M8agu-U2mCdkPTFRky7mGui16YCKC3pNauNc2dJIUMh9d52f6cAPJo8t4odERIlrwv8zaCgYKAeESARASFQHGX2Miv1KvjfvM8rKxTKni5NEUrg0171\",\"token_type\":\"Bearer\",\"refresh_token\":\"1//0eaT-PbwXK2FbCgYIARAAGA4SNwF-L9IrUacG6yUXnih1OBu_J22Mr6a7b6qfVcDU3AgSFoQZpASqn30t42qa8I0jKAE2qJ4ykyI\",\"expiry\":\"2024-05-06T22:49:39.738498+07:00\"}\n",
            "\n",
            "[duongle]\n",
            "type = onedrive\n",
            "token = {\"access_token\":\"eyJ0eXAiOiJKV1QiLCJub25jZSI6IkVmczBVdUVlYjBzT1NmM2YzaWVTT2J2d3FCQTVqM2Nwam5oZFV2T3ZGU28iLCJhbGciOiJSUzI1NiIsIng1dCI6IkwxS2ZLRklfam5YYndXYzIyeFp4dzFzVUhIMCIsImtpZCI6IkwxS2ZLRklfam5YYndXYzIyeFp4dzFzVUhIMCJ9.eyJhdWQiOiIwMDAwMDAwMy0wMDAwLTAwMDAtYzAwMC0wMDAwMDAwMDAwMDAiLCJpc3MiOiJodHRwczovL3N0cy53aW5kb3dzLm5ldC8yNTg0YjhiOS01NjE3LTQyMGItYWEyNC1jMmE3ODA1NmVjYzMvIiwiaWF0IjoxNzE3MDUzNTQ1LCJuYmYiOjE3MTcwNTM1NDUsImV4cCI6MTcxNzA1OTE5NCwiYWNjdCI6MCwiYWNyIjoiMSIsImFpbyI6IkFUUUF5LzhXQUFBQXQ1OVBtd0xRSU5RZWxaYi9nMTBlaXVDSktqdjdLM21ZaTV5dngrbTNoY2dvOUM2QjZ2Q3pFbzdsekxGQjVvVnMiLCJhbXIiOlsicHdkIl0sImFwcF9kaXNwbGF5bmFtZSI6InJjbG9uZSIsImFwcGlkIjoiYjE1NjY1ZDktZWRhNi00MDkyLTg1MzktMGVlYzM3NmFmZDU5IiwiYXBwaWRhY3IiOiIxIiwiZmFtaWx5X25hbWUiOiJOR1VZRU4iLCJnaXZlbl9uYW1lIjoiVEhBSSBEVU9ORyIsImlkdHlwIjoidXNlciIsImlwYWRkciI6IjI0MDI6ODAwOjYzNDA6ZWE3ODpmZDYxOmM4ZDk6MzBiNTo1MWNhIiwibmFtZSI6IlRIQUkgRFVPTkcgTkdVWUVOIiwib2lkIjoiYzE1M2ZmNDEtNGQ2NC00MTlhLTlkZmMtODEwZjlmZGZkM2M0IiwicGxhdGYiOiI1IiwicHVpZCI6IjEwMDMyMDAyRkQ0OThDODQiLCJyaCI6IjAuQVZZQXViaUVKUmRXQzBLcUpNS25nRmJzd3dNQUFBQUFBQUFBd0FBQUFBQUFBQUNmQU9nLiIsInNjcCI6IkZpbGVzLlJlYWQgRmlsZXMuUmVhZC5BbGwgRmlsZXMuUmVhZFdyaXRlIEZpbGVzLlJlYWRXcml0ZS5BbGwgU2l0ZXMuUmVhZC5BbGwgcHJvZmlsZSBvcGVuaWQgZW1haWwiLCJzaWduaW5fc3RhdGUiOlsia21zaSJdLCJzdWIiOiIxYm5PX3lQNTROX2xjbUQxSmpfbHc1YjZqcUdSM1hoTEVtX2pTeUE1T3BFIiwidGVuYW50X3JlZ2lvbl9zY29wZSI6IkFTIiwidGlkIjoiMjU4NGI4YjktNTYxNy00MjBiLWFhMjQtYzJhNzgwNTZlY2MzIiwidW5pcXVlX25hbWUiOiJEdW9uZ2xlQG5naGllbnNldHVwcy5uZXQiLCJ1cG4iOiJEdW9uZ2xlQG5naGllbnNldHVwcy5uZXQiLCJ1dGkiOiJaWGtvczNGdExrcVBkQ1U4WmJZckFBIiwidmVyIjoiMS4wIiwid2lkcyI6WyJiNzlmYmY0ZC0zZWY5LTQ2ODktODE0My03NmIxOTRlODU1MDkiXSwieG1zX3N0Ijp7InN1YiI6IjJ6VUluLVlzYmRUWHJ1a1RQTEsxSWNVN2xwMTRBY2dtNGRDUnY2MktXVTQifSwieG1zX3RjZHQiOjE2NjY0Mjg3NTd9.BNvGYV9E4g-YImWR1z5hoDj_B9ScxMdOgY-8rnLgDVfhi0BBHuPYVQMEQsq-M09GwfXY50Pcl5gIYbLiYUyUc-ft1__okGAHhlqO7b-qx4ZgKXAFJ1SSWEZ3vIoNPOr5EgFCkSozOcnFq2VHqOvix1RhTtGbGdzXo_va2_oiguMNHDoaAjO8avJ8iFXeWero5nbhBvsmN1_ucbSNnX6fVyuGJ4xIa4DxktKI1b2lefsFkR4JJQo5-9uxleqH223dxZryuqFX_cOLz_LPzoDUC3CoV-xDinC906HBKx8UaBIU6LHWQsUoQb79xonTUp9DRUeeqb7MazCcBvMY-HjhEg\",\"token_type\":\"Bearer\",\"refresh_token\":\"0.AVYAubiEJRdWC0KqJMKngFbsw9llVrGm7ZJAhTkO7Ddq_VmfAOg.AgABAwEAAADnfolhJpSnRYB1SVj-Hgd8AgDs_wUA9P_nWcv7VY9iNAqNeVhn9SRv0w-UOydkuOA3FCSdI80Ywxp2rlw2Txq46G_CzjxNs_jkBDyyQ7kdK4LyMv6eGX5slSQW6-E5A5V1ykHLKW4Ry_8UA_UJ9P-trA3k0k0jCabsUCsb29zDE_L4wYa2WptP8Q-o5VfkPIdaZ49cfSS8uY7d1KLfj9RtPelrI74Ha2n-3JJa0gBwgnP-T5IpLX6P_ViBJ1NbL2WsOicfZ2ELEVg5SoFXTjEhXAW4w8ksd61VMkv0nZJX11TBqJIyoujRVWxqPgPL-Jbt34e5Pt_jUV800ASlxUSSlTfI0opMxFjHOSgjwHjfk16qDmkr1w-ss_k06aBP0zgoEOTso7D2HiTmIf8Clu8PIUW0IbLOnw0dLRvPnPCfhZqci1yT7fc97x2yo9KBPUxrsLoJ8mbxgPJjWRZAYvQ9MPpA2BZXTGgW9-dax11pfqMN90RpFoZqeAjJ8Nyjp-N-afnho20qcU1YQfIvQTWkbU0N0kDrPFjzITMb70gYrpriOM0oEJqvVy5DPKUuQ8pL83A4CNaJ3vJN7-9a71dBS1xTnmlGLTCO-d9yvgY3oG5Z2ktGQbGXnuL3Fj2dmboH9LBImh9tHaFKygXyTbe-_CSQNA0gxP2-EbJbH56WuywnLgdyvpcMvV4zGU3Srk67BdvL4MP1l5Ms5EjW4HKwPayzu_kDPxU9MIVjvDjtpY3gaAvl-C-W38v54IzUm74clC9_QM1fyU7S_TnjdT_Kuqot65iQ7KU83cncrhbbErjIjXKf\",\"expiry\":\"2024-05-30T15:53:13.517732+07:00\"}\n",
            "drive_id = b!9u95bogjQ0-0VJZmNoxxftDnBj3pgKpEsGMrweaULJp_0lcAefRuS6FzR8El3pIM\n",
            "drive_type = business\n",
            "\n",
            "[admin]\n",
            "type = onedrive\n",
            "token = {\"access_token\":\"eyJ0eXAiOiJKV1QiLCJub25jZSI6IlhKYzBUYkRVbkh0ei1nX1J2ejZLbUMySUd5T2duWjdFaGVZcVJ1TGFYa1EiLCJhbGciOiJSUzI1NiIsIng1dCI6IkwxS2ZLRklfam5YYndXYzIyeFp4dzFzVUhIMCIsImtpZCI6IkwxS2ZLRklfam5YYndXYzIyeFp4dzFzVUhIMCJ9.eyJhdWQiOiIwMDAwMDAwMy0wMDAwLTAwMDAtYzAwMC0wMDAwMDAwMDAwMDAiLCJpc3MiOiJodHRwczovL3N0cy53aW5kb3dzLm5ldC9jNjhlOTYyYS1hNThlLTRhOWUtODY3Yy04YmQ2NWY5ODQ4YzUvIiwiaWF0IjoxNzE3MTk1Njg5LCJuYmYiOjE3MTcxOTU2ODksImV4cCI6MTcxNzIwMDYyMSwiYWNjdCI6MCwiYWNyIjoiMSIsImFpbyI6IkFWUUFxLzhXQUFBQXlpeDZ2cWlMT0F0RFpabDR6V0t5UGp4UW1icjk4TTk2UWVHZkN2bVF5VCt0SklUQ0JVZDk4eVpONFpMamdEQkVOOXkya04wSW9BMUk2czdmVUl4Q2c4RWFPVE9NV1h3ay9aMjRnb3pCeEVnPSIsImFtciI6WyJwd2QiLCJtZmEiXSwiYXBwX2Rpc3BsYXluYW1lIjoicmNsb25lIiwiYXBwaWQiOiJiMTU2NjVkOS1lZGE2LTQwOTItODUzOS0wZWVjMzc2YWZkNTkiLCJhcHBpZGFjciI6IjEiLCJmYW1pbHlfbmFtZSI6IlbDtSIsImdpdmVuX25hbWUiOiLEkMSDbmciLCJpZHR5cCI6InVzZXIiLCJpcGFkZHIiOiIyNDAyOjgwMDo2MzQwOmNkMTI6MmMxMTo3ZGEyOjliYTA6ZGU4YyIsIm5hbWUiOiLEkMSDbmcgVsO1Iiwib2lkIjoiMzk1NmJlOGEtNGYwYi00MTQ0LTlhYWYtNGM5MWNhMDcyNTRiIiwicGxhdGYiOiI1IiwicHVpZCI6IjEwMDMyMDAzMkE3N0VCOTIiLCJyaCI6IjAuQVQwQUtwYU94bzZsbmtxR2ZJdldYNWhJeFFNQUFBQUFBQUFBd0FBQUFBQUFBQUNoQUdVLiIsInNjcCI6IkZpbGVzLlJlYWQgRmlsZXMuUmVhZC5BbGwgRmlsZXMuUmVhZFdyaXRlIEZpbGVzLlJlYWRXcml0ZS5BbGwgU2l0ZXMuUmVhZC5BbGwgcHJvZmlsZSBvcGVuaWQgZW1haWwiLCJzaWduaW5fc3RhdGUiOlsia21zaSJdLCJzdWIiOiI5dzZDMkE3ZkpUU1FaSkFmWTY0Y2t2S2JFb3VqeE00VGtmMzQxQ0RSb3FNIiwidGVuYW50X3JlZ2lvbl9zY29wZSI6IkFTIiwidGlkIjoiYzY4ZTk2MmEtYTU4ZS00YTllLTg2N2MtOGJkNjVmOTg0OGM1IiwidW5pcXVlX25hbWUiOiJhZG1pbkB2bmRhbmcub25taWNyb3NvZnQuY29tIiwidXBuIjoiYWRtaW5Adm5kYW5nLm9ubWljcm9zb2Z0LmNvbSIsInV0aSI6Ik41T1FjcWRiSVU2MFBQMzExUzlNQUEiLCJ2ZXIiOiIxLjAiLCJ3aWRzIjpbIjYyZTkwMzk0LTY5ZjUtNDIzNy05MTkwLTAxMjE3NzE0NWUxMCIsImI3OWZiZjRkLTNlZjktNDY4OS04MTQzLTc2YjE5NGU4NTUwOSJdLCJ4bXNfc3QiOnsic3ViIjoiVE5YVmVhbkFGdWczSUUzRmVqMXFjTmpQbjBKVmlGZzJkNXIyTWZMd05UMCJ9LCJ4bXNfdGNkdCI6MTcwMjgxMDM4OH0.ZiCzeTGGLh9n3QKFrGH_5ijv5rW4BDyEnLxEb7vu80njS0f5aFeAjPgetTB4HemHGJdhluXsF0ZI9exxapkUIpp5xNvwnMh4i9GdJy-CFY34xWhb-W7jXvGE6aycImtachX8leOAHY5qtV4f8quq5lEHlT3hrMW2CGcK8TrPr_qfjfgHZruMOvlCK0aC1zvsugw5UFfy_ub7YvzxCCG-ZJ4zkGSUTsYfqlizo7_YF4noeTLIoWIgaVfUVWqUqgb_k-3VGbnVepUhhrANIJF9cU6TjMSNCCl-OcBh-vDcctQSwq1lT204mQ7ieMg28XIc7wBQDY7Ki1NM2UEi0iRvhg\",\"token_type\":\"Bearer\",\"refresh_token\":\"0.AT0AKpaOxo6lnkqGfIvWX5hIxdllVrGm7ZJAhTkO7Ddq_VmhAGU.AgABAwEAAADnfolhJpSnRYB1SVj-Hgd8AgDs_wUA9P_IOAhuXevlPnEvQvLqvFaaJzG1Lby2EwufzW2W4smUG1gYhaxs3aswzL1Xv9PW5KbeFLPbG7brw0TF9q0Hb8i9DE5CMOl6FFSXS2ylgofYkBr-otU3xUMxqpNYL_7r-cPGYreBqZ6mL-9kKeUOWoo5iCArFgYRompC5txJ4Exsaf8-f4bZApHi_O3TklGu1JuTfIRusarHGGDkFr8sPs3SVAEOflmXg-BCJwSSYBnD3whpPfFf8Q59E3O2-5dgLQIxygxttdlARP_dK7QaNq0VscFVz7xOR-azM4HNyTpLJBV0NsYXAxiHYFqS4YJJQ8L9Gg-ukqJM-PXkjdgkJtAl3I3uMqD6FhHS6LzCwdYO7ODg3aB2tS0yIcHw48D62Hv7eyYi0vd9Jw6S1bedS-Fam9Vw9PK6SgWTPxdq2sBaWyErt3egwF_-hH4eulLl339LYxnT80-tlCE_eZrZJ61KV0up0dsZAXDLKiQ9NcrI8ciKS3dmy8R5QmHzREzumpM2Row-YYXFRDx_Z4wLVQi6vEFKqGEsjV1cv6-DgjOE90ztC6EYh-d1_l-kBocuYqw4vXOoLrGNoTVrJe7kUzjhSkmYBdxZ-woVgXHBYuLRFQ2p73h3-VBOt3_5ZC9j0LSxice3tAYx634xybNjWXTNxA8Opiz5X6P427wev9aKzl88FUFLDdBla6ifRvvp2rf__t4WVfA3YGk0oQDBr7Kd5Pe9vogCbvFNhPqZWKBQzrxsl16ewArVThbFYWNx4YVNiMZcMa8vXHYxPM3Ku0S6nM7pHUw2MAGmdzk9Rk9_6HNdcdBNsjAKQuX-mFu5KToFQw\",\"expiry\":\"2024-06-01T07:10:21.293759+07:00\"}\n",
            "drive_id = b!ccVv8pBjrUiWrb2eOtuxykBcylSNnRVNq1ritzVH83YoB_UPFf5uS5ssawiVkkUj\n",
            "drive_type = business\n",
            "\n",
            "[dangvn]\n",
            "type = onedrive\n",
            "token = {\"access_token\":\"eyJ0eXAiOiJKV1QiLCJub25jZSI6IjFXVTJ1dTdFa2ZFOVhWTmFkMzBPNmRvbGdjN0s2RTk2SEdoNVdlRzQxLXciLCJhbGciOiJSUzI1NiIsIng1dCI6IkwxS2ZLRklfam5YYndXYzIyeFp4dzFzVUhIMCIsImtpZCI6IkwxS2ZLRklfam5YYndXYzIyeFp4dzFzVUhIMCJ9.eyJhdWQiOiIwMDAwMDAwMy0wMDAwLTAwMDAtYzAwMC0wMDAwMDAwMDAwMDAiLCJpc3MiOiJodHRwczovL3N0cy53aW5kb3dzLm5ldC9jNjhlOTYyYS1hNThlLTRhOWUtODY3Yy04YmQ2NWY5ODQ4YzUvIiwiaWF0IjoxNzE3MTk1NTU5LCJuYmYiOjE3MTcxOTU1NTksImV4cCI6MTcxNzIwMDQ0NywiYWNjdCI6MCwiYWNyIjoiMSIsImFpbyI6IkFUUUF5LzhXQUFBQU5NZHFIZ2lKWWJ6NjRocCtHUUVHQ0hnUTVibGpmRG5sUlNqYVZlSytiNENSN0ZXMllvL0Z5TEpSaDc3N2dhdWkiLCJhbXIiOlsicHdkIl0sImFwcF9kaXNwbGF5bmFtZSI6InJjbG9uZSIsImFwcGlkIjoiYjE1NjY1ZDktZWRhNi00MDkyLTg1MzktMGVlYzM3NmFmZDU5IiwiYXBwaWRhY3IiOiIxIiwiZmFtaWx5X25hbWUiOiJWbyBOZ3V5ZW4iLCJnaXZlbl9uYW1lIjoiRGFuZyIsImlkdHlwIjoidXNlciIsImlwYWRkciI6IjI0MDI6ODAwOjYzNDA6ZDYzNjpjYzUzOmU3MjU6NmEzYTo3NTAiLCJuYW1lIjoiRGFuZyBWbyBOZ3V5ZW4iLCJvaWQiOiJjMDQxYTBlOS04ZWZmLTQxYjQtOWFiMC05Yzk0OWYwYTI1ODgiLCJwbGF0ZiI6IjUiLCJwdWlkIjoiMTAwMzIwMDMyQjU1RjVGQyIsInJoIjoiMC5BVDBBS3BhT3hvNmxua3FHZkl2V1g1aEl4UU1BQUFBQUFBQUF3QUFBQUFBQUFBQ2hBRTQuIiwic2NwIjoiRmlsZXMuUmVhZCBGaWxlcy5SZWFkLkFsbCBGaWxlcy5SZWFkV3JpdGUgRmlsZXMuUmVhZFdyaXRlLkFsbCBTaXRlcy5SZWFkLkFsbCBwcm9maWxlIG9wZW5pZCBlbWFpbCIsInN1YiI6Ild2ajgxb1JCeGZBUXc2eFpCdTVBOUc4R3pkcnliWUZwczY4SFh2VmkyRjAiLCJ0ZW5hbnRfcmVnaW9uX3Njb3BlIjoiQVMiLCJ0aWQiOiJjNjhlOTYyYS1hNThlLTRhOWUtODY3Yy04YmQ2NWY5ODQ4YzUiLCJ1bmlxdWVfbmFtZSI6ImRhbmd2bkBkYW5ndm8ub25lIiwidXBuIjoiZGFuZ3ZuQGRhbmd2by5vbmUiLCJ1dGkiOiJVUjMxQUlyTGNFMk83U19OMUMxWEFBIiwidmVyIjoiMS4wIiwid2lkcyI6WyJiNzlmYmY0ZC0zZWY5LTQ2ODktODE0My03NmIxOTRlODU1MDkiXSwieG1zX3N0Ijp7InN1YiI6InM0SVB4czRXV1FmdUtxSlh1Ukttc1Q3VlVHQndSaWg1bHVrMkdOenkyWHcifSwieG1zX3RjZHQiOjE3MDI4MTAzODh9.MWEsDJo6m2EGfAxoAX_sWqHvJpajBmI1zp60aKD0ATW361aL-iOijCOQpa0unw_WjeZ9b9or4VqEpe4hJtHEyuCBeQrUksHLLe_eJSPqNKoOf3NrLc0UNpBRDVI3Q6bHsm02z3_YbErMbtRhJz0_WWUIPyIVYivebTbriPgwLG-Xrf-Of9GMTEwPLehDYA2Pa-oh4j9lZjC6lsmle-Lpuevb8ImMR5Ctgn9Q3Uao52GKS7XvsaSRGLtykxK5I_pulY5Xsy4XjQTZm90r8Xjtyi_-Iy61mepNhtJbcZmScqPtksz0WL7Q1QpzeS7nisNQZPOK_1Uf8Omq4zbzVM0XzQ\",\"token_type\":\"Bearer\",\"refresh_token\":\"0.AT0AKpaOxo6lnkqGfIvWX5hIxdllVrGm7ZJAhTkO7Ddq_VmhAE4.AgABAwEAAADnfolhJpSnRYB1SVj-Hgd8AgDs_wUA9P9m8tzaQ4Z8rK1NrkTRT7Z4GDOYM-TIPnRLC-WKy0mSAv7ugbJ-Sc8OOM5hH5YrhbZnAXHc07zkYzU2NB7BEZl0MmU2bcOVBsj0C804J6CuAN0ApzWV_HETxmNeGr8jrl1Yl4Wzb-XDDb6q7MTI_J0XD8b0HRqS_uMj-PhSUf7BZUJB3SRmC25TLVx-IzHgpx7Qrf6_O80Swr9dR4nS3qWgBKtYiyCohYI_n-AKZb1EFlKqyYDfk4ydPK6ox54rYscf23fDDLTzxVXnuxHtvs-DmbRs3DH80BUFHXB1s3P182xyqrslRl0UqoKy4GNjgqmvdQZxJju7TfgdlbLPYH99nTduS6ohlaMzM-qYtsR8LEva5FMF1aYxxbWAQ9EvXgejJccJ8rxf0RKmYPWqWnjaNGCGZ57H106Qal58uuZ1NlwjZjSfBWJtDeG3hJPCbIBzJ0T1jAo2WoYs4PWkApL-qg07OEboitGjuTpSjSeIbAu9QenOCjFxDxlJRB-x80xFpE9xl_JL3MWN0znvwPZ5Sm701rzNy356SIvTGNDpijnIaAEL1ZDzyxruAq8srKBOI7YtdJsUNxDbt9AFhIatLFNDeT2OQsUG2-I47qNhuOMYBnc8vxnSy7CzTBuUSejZ8OLl6QA6ftV1iMqPtMdQLT51myG4nd2ixq0qVy1-K8gjrbolVY86Asac1VyEsYWYjUNp4Ow_ScO_Bzf7KbWpw8OXTU-bWMRgEt-B1KayQ8KR3gFrXVjt51JFPcYdYEE7hMkp-IrUT7E\",\"expiry\":\"2024-06-01T07:07:26.614784+07:00\"}\n",
            "drive_id = b!EQVQY1QqB0WbMAP90bO12EBcylSNnRVNq1ritzVH83YoB_UPFf5uS5ssawiVkkUj\n",
            "drive_type = business\n",
            "\n",
            "[dangvo]\n",
            "type = onedrive\n",
            "token = {\"access_token\":\"eyJ0eXAiOiJKV1QiLCJub25jZSI6ImF1dUszVWJJTkdTMHpwLVB4OFdtV05mS0hPd1E4WUgyUjFxMnRUSlZ3MkUiLCJhbGciOiJSUzI1NiIsIng1dCI6IkwxS2ZLRklfam5YYndXYzIyeFp4dzFzVUhIMCIsImtpZCI6IkwxS2ZLRklfam5YYndXYzIyeFp4dzFzVUhIMCJ9.eyJhdWQiOiIwMDAwMDAwMy0wMDAwLTAwMDAtYzAwMC0wMDAwMDAwMDAwMDAiLCJpc3MiOiJodHRwczovL3N0cy53aW5kb3dzLm5ldC82YjU4ZWI4My04YzMwLTRlZjktOGVjOS0wMWJmZTc2MWEyN2QvIiwiaWF0IjoxNzE3MDY4NTM0LCJuYmYiOjE3MTcwNjg1MzQsImV4cCI6MTcxNzA3MjYzMSwiYWNjdCI6MCwiYWNyIjoiMSIsImFpbyI6IkFWUUFxLzhXQUFBQTNiaVhTemtXQU96OGJYcmNDTG01UVozN1g1RmdVbjhGMlNDSVJHSW5XaWZ1Mm1hQW0ybHpqTkgxOVJZNEkzSjF5eXhhSUt1ZE1zOXUzU2FqSGZwejMwWWw3eUx5b2Z5eW91cEY2OXprdmo4PSIsImFtciI6WyJwd2QiLCJtZmEiXSwiYXBwX2Rpc3BsYXluYW1lIjoicmNsb25lIiwiYXBwaWQiOiJiMTU2NjVkOS1lZGE2LTQwOTItODUzOS0wZWVjMzc2YWZkNTkiLCJhcHBpZGFjciI6IjEiLCJmYW1pbHlfbmFtZSI6IkRhbmciLCJnaXZlbl9uYW1lIjoiVm8iLCJpZHR5cCI6InVzZXIiLCJpcGFkZHIiOiIyNDAyOjgwMDo2MzQwOmQ2MzY6Y2M1MzplNzI1OjZhM2E6NzUwIiwibmFtZSI6IlZvIERhbmciLCJvaWQiOiJmZmJkZTA5MC1kYzhlLTQ4M2MtOTczYy1kNmU1MDEwODc5MjYiLCJwbGF0ZiI6IjUiLCJwdWlkIjoiMTAwMzIwMDMzOEY1MEI3NyIsInJoIjoiMC5BY29BZy10WWF6Q00tVTZPeVFHXzUyR2lmUU1BQUFBQUFBQUF3QUFBQUFBQUFBREtBTkEuIiwic2NwIjoiRmlsZXMuUmVhZCBGaWxlcy5SZWFkLkFsbCBGaWxlcy5SZWFkV3JpdGUgRmlsZXMuUmVhZFdyaXRlLkFsbCBTaXRlcy5SZWFkLkFsbCBwcm9maWxlIG9wZW5pZCBlbWFpbCIsInNpZ25pbl9zdGF0ZSI6WyJrbXNpIl0sInN1YiI6Im1BYmtPNVVNclpibWFKYk1GRFFteWpHdm9PNFQ1dDdvLWhxXzNwTVdQbkkiLCJ0ZW5hbnRfcmVnaW9uX3Njb3BlIjoiTkEiLCJ0aWQiOiI2YjU4ZWI4My04YzMwLTRlZjktOGVjOS0wMWJmZTc2MWEyN2QiLCJ1bmlxdWVfbmFtZSI6IkRhbmd2b0B3ODh5bi5vbm1pY3Jvc29mdC5jb20iLCJ1cG4iOiJEYW5ndm9Adzg4eW4ub25taWNyb3NvZnQuY29tIiwidXRpIjoiSnlmRmlaMDEtVS1zZ2oyaFB2eHVBdyIsInZlciI6IjEuMCIsIndpZHMiOlsiYjc5ZmJmNGQtM2VmOS00Njg5LTgxNDMtNzZiMTk0ZTg1NTA5Il0sInhtc19zdCI6eyJzdWIiOiJqZmdCdXFMUUcwV2tDX3BXZEl5ZG9nWmxiZ1J3MGtDNkg5WTFSU1UxQzVzIn0sInhtc190Y2R0IjoxNzAyOTg2NzQ4fQ.gu-qAAadMZc6gIBN5bCUT0jP1HCEA23d_jK2fbwpzyouB50fMu61CCg-PzE25udU-DSbVElIvbHg-RsTg8zM0eMt6InI8eozbKRhGlXHdpmFfvyZnIJbw-2snG7AdFyD0z_hTvnSi2CPWcVOv0rlWhaO1jW_MBH1Wtp6GdrvlRpLzQ4THl0Wqqds6WQ40iECTnszXN_xMEWMVVT5KUI3ISlqROnl8ZodJmgUPx2aMb6F_gO0sDzin2ts0klyYtLph3WuKgI3eIv8JsDFXWmyM64uF3K2THxez5CoOMB5iQqeTKG12vUnCjnsri22C1AKj9PvGarAVXY5ha2scotx7Q\",\"token_type\":\"Bearer\",\"refresh_token\":\"0.AcoAg-tYazCM-U6OyQG_52GifdllVrGm7ZJAhTkO7Ddq_VnKANA.AgABAwEAAADnfolhJpSnRYB1SVj-Hgd8AgDs_wUA9P-n6eQky6MtFCEWueVtm2uVVxk5OC1MtDJmCn_mOKZGauzSvpUVjcb796Ygy75YT6aK59yOr0Ri7nUozhycknNBflxYBSqO9FwnuE8uYhYuMomZy4TYJh8_KsLSYHW8ItRintFGFd9QyiSqaQ3kjrKfSt8GizGYQ1nuiUedWPHhIDGyQhlMXJpVy356TpIRsBWim_EqJCV9gy0kjE52p6t5C7lhgrivt63HFyeF226OOOknqji0hnf4VGT95P-whwgAsME_l1TgdzVGcgX4sygGErIEbKChF7yJlAqVFSUdQ1xAEoDx11MMCSons71aEpQS-bOUWZ8IBwKoilqhBhqM1xvgPGk2tJa6Q9yFYWhElnBsrVFWjhzYFL8EXtmGNMgFRp3Vq-ZCDAucehmpq1ZqutE6YV1MJ2fNp8OhqDIVo0HLAj0tXR_ZWP5vRqSNqlYxS31rXFaUCJ-6ewH3nW2chGH8UsUwmwYy5HuO7NF__mQWcxpmWWDNi7PFZA2rbTB8AUan3UEihYAgeVDDvWhB7iclA__zkBA3dxC3Z_meoDjZ7mrpICc24Sr81CnKLA21uTnFgtXjc-oTxINI-pov1Wa8cQBvM1P-XlmDlvzvbFfdLNJo3qlrCy2JoQVxHAMAWlI-k2wDTEf7yq5dxtqZDwu5qwtVaZRHLJ4Y5c1eH9EKZ_fGk7pDivi98TIUMdh4sClTSAobTe13PxCGYWaXeo46xW7MbnleNonNKwIC86n7vxopdwtRB3Khkxj5zAK59wkN2uZBW5IXFV8oSEfHohuJPDwhMu66BiRqkET5k6jGueXlP7tbd7Wk\",\"expiry\":\"2024-05-30T19:37:11.252126+07:00\"}\n",
            "drive_id = b!L6qlRzq8E0auPPoUr-bR8_u4nZjwSnJGm7oAsUsnIP4EmPeJFv8aTL0hCKzYHUE0\n",
            "drive_type = business\n",
            "\n",
            "[obt]\n",
            "type = onedrive\n",
            "token = {\"access_token\":\"eyJ0eXAiOiJKV1QiLCJub25jZSI6IlB6UHQxNWxDZFRQOVJlbnJhLVVDaUZnWW4xS1c4ZjBJMldKV2ZPSDFOckkiLCJhbGciOiJSUzI1NiIsIng1dCI6IkwxS2ZLRklfam5YYndXYzIyeFp4dzFzVUhIMCIsImtpZCI6IkwxS2ZLRklfam5YYndXYzIyeFp4dzFzVUhIMCJ9.eyJhdWQiOiIwMDAwMDAwMy0wMDAwLTAwMDAtYzAwMC0wMDAwMDAwMDAwMDAiLCJpc3MiOiJodHRwczovL3N0cy53aW5kb3dzLm5ldC8yZjA0NTZjYi0zMjQ0LTRkMjAtYWQ3Mi0yMGJmNjFlYzNkNDYvIiwiaWF0IjoxNzE3MDY4NzY1LCJuYmYiOjE3MTcwNjg3NjUsImV4cCI6MTcxNzA3MjkzMCwiYWNjdCI6MCwiYWNyIjoiMSIsImFpbyI6IkFUUUF5LzhXQUFBQXBwZ2RYUFFWUlVkSFNFMmNuYTNLS3V1bERUUHdpRDQ5YlYxWnRQcTZ0Mjk4Qm9BN3FzclpCQTdHbERyUWJXcHMiLCJhbXIiOlsicHdkIl0sImFwcF9kaXNwbGF5bmFtZSI6InJjbG9uZSIsImFwcGlkIjoiYjE1NjY1ZDktZWRhNi00MDkyLTg1MzktMGVlYzM3NmFmZDU5IiwiYXBwaWRhY3IiOiIxIiwiZmFtaWx5X25hbWUiOiIyMDIzMTEyNzExMCIsImdpdmVuX25hbWUiOiJPQlQiLCJpZHR5cCI6InVzZXIiLCJpcGFkZHIiOiIyNDAyOjgwMDo2MzQwOmQ2MzY6Y2M1MzplNzI1OjZhM2E6NzUwIiwibmFtZSI6Ik9CVCAyMDIzMTEyNzExMCIsIm9pZCI6IjczMWEzMjAxLTZhZTMtNDEzMS1hZmFhLWIwNWE3MTBjOTdhNyIsInBsYXRmIjoiNSIsInB1aWQiOiIxMDAzMjAwMzFEMDAxNERCIiwicmgiOiIwLkFTb0F5MVlFTDBReUlFMnRjaUNfWWV3OVJnTUFBQUFBQUFBQXdBQUFBQUFBQUFBcUFCRS4iLCJzY3AiOiJGaWxlcy5SZWFkIEZpbGVzLlJlYWQuQWxsIEZpbGVzLlJlYWRXcml0ZSBGaWxlcy5SZWFkV3JpdGUuQWxsIFNpdGVzLlJlYWQuQWxsIHByb2ZpbGUgb3BlbmlkIGVtYWlsIiwic3ViIjoiNUNpb2lWU29sR0p3SzJqU19QQTlncUJGNkFXZmtmbDZ0Um9xU0pCdUY0OCIsInRlbmFudF9yZWdpb25fc2NvcGUiOiJBUyIsInRpZCI6IjJmMDQ1NmNiLTMyNDQtNGQyMC1hZDcyLTIwYmY2MWVjM2Q0NiIsInVuaXF1ZV9uYW1lIjoiT0JUXzIwMjMxMTI3MTEwQGNvZGluZ2NsYXNzLmVkdS52biIsInVwbiI6Ik9CVF8yMDIzMTEyNzExMEBjb2RpbmdjbGFzcy5lZHUudm4iLCJ1dGkiOiJXbnZmUXM5ekprV3FBcXVyU2NMWkFBIiwidmVyIjoiMS4wIiwid2lkcyI6WyJiNzlmYmY0ZC0zZWY5LTQ2ODktODE0My03NmIxOTRlODU1MDkiXSwieG1zX3N0Ijp7InN1YiI6ImhJMXhvSENwNUlOc1dFNjlDaHNFbUVacjRtYXU5MTNFR2VlNVlVb2RnVXMifSwieG1zX3RjZHQiOjE1MzIwOTQ5MDR9.Yh6-ruf-GV_w2OHMjFFGEkMEqpxJSueZ2IhfTAZ7oOuWTVxMttTghh4qOWPNrQAZN1N-NmdjKUVWGeSwhoEMYiRGO9zYoX7oBEUFkq4BNeoVimlkA5SdClEclPsg4XXAmlE1tKylh18CBbcy8l-Z118gntn7fbot3ewjSTB_RL_vthCpXB1JRm5bxCNXrxtCfuOtZCE3zDIs8xh-ULS6msnHoUHSf_ROnieljyjzIfjgNLJqGTxb9bi-dyHQs4Iu54UO_aN5UxRY4ZE-Nl-L5uJr2GIKoAtaDnAtJmxnSn_v-mDk67PSS2oIphUMtrC0lfZ5sBFV1WMtnycLK7lplw\",\"token_type\":\"Bearer\",\"refresh_token\":\"0.ASoAy1YEL0QyIE2tciC_Yew9RtllVrGm7ZJAhTkO7Ddq_VkqABE.AgABAwEAAADnfolhJpSnRYB1SVj-Hgd8AgDs_wUA9P-ZqEUJfO4xFYMb68GJoDoZnMmIwlwKpOvvqxk0wmYZ9TdsgQm4uycydnc4vaCZt2llaITCYVHgQCBgjblHfTkk4yx_n6iGevErU8RrSg37XWKJZ6uKld-q9-TG3SZdzh2hYdJ5DoikI9tABHD6S3XnRfz0Y0ugRQQnMIcixt36u7uCUwRBByfjfNL48VnjrAJhKqjaJ6Om2oFOfaexxko-WSMaQD9HNEEkSiCWr7ldJpV3oClVFjtuAXdn6bucAUzv2kigMzgrmPqR17xzsxD2G8dtWA8MZQPQ6hRkQ9-6QMKoEOGW7gHL7Dt_tYrqV8gfBWy_dqJluLUHPpxx7pIv17Hs0-nQTqAnXn1KS-0XFXpK2ToyKeow-t7K88dMK-3loIKWvam3SwBhHkV7f__3kLX5WT-YDP3NKxdi4W6bvi8jqzzZlxLWRJTrKLyNfCsC0SEyCNerQ8ID5_mPUNq8_VBtUEMJX7YD6iaFw-1JzNDQv8TfuMrj7DoZ1-ujWx2davgua2ZcL2eNNp7lAd2GVpF1y183p9byaBR9_KTNFLVuSPPpGYlYki1DhTc3cTt_BJXEdOVuw1PgXMC9mUhWWViR8kF2gAbJHpT0IQGmVC-VW4mc8xvh0URVq7G6trWWXC1cYClRzf-Wd02ohcJFW42ivis1oRdrI6tTz_yDfS26gE0nZTcdfe239Dn6EiWNYrXUGsc_aQ21XmHtzpr2Q0UGK1PUl0OLxXvNSauA6j7U8Rj5geWLDsw3LEs9cAnHWn_RklRpZL0EpOe5\",\"expiry\":\"2024-05-30T19:42:10.429909+07:00\"}\n",
            "drive_id = b!cTJkJ_hkh0-0FKms4867BIW2_aVjm85IqDMFWePOUHm5XGMLEnj6Q4Q4qAUbBdB-\n",
            "drive_type = business\n",
            "\n",
            "[edward]\n",
            "type = drive\n",
            "scope = drive\n",
            "token = {\"access_token\":\"ya29.a0AXooCgv2mIAEmQLXUgqlNM2EQ97ESOK-PnVrJT6vgRiwDmaY5zSSzOQrEspB_daO-T57Xu2Ayqbn9UxGVuLPANY4dl0NGisX4XiRnkwdOIjPZXHAFg6WG8sUJeBdKQp8O5fmZE59Rh2kNp2J9M_R72sdrWh78d0_qbyZaCgYKAUgSARISFQHGX2Mi2rELrdCNdRdyqQOxvQMMdg0171\",\"token_type\":\"Bearer\",\"refresh_token\":\"1//0eTD8esFcpXspCgYIARAAGA4SNwF-L9IrmBsXO2IGQyRjsTqb8jVUfohtFiWbYYcBcv9yEuTP998SziBVL5yI7gHQ2-BmwI90kBE\",\"expiry\":\"2024-05-30T19:42:39.736928+07:00\"}\n",
            "team_drive = \n",
            "\n",
            "\n",
            "\n",
            "Nội dung của file2.txt:\n",
            "[vodang2702]\n",
            "type = drive\n",
            "scope = drive\n",
            "token = {\"access_token\":\"ya29.a0AXooCgvh-vuSF8gPk0kAFO3HuQrAeWlhCEhkrRC0pqxtlKJTOpzvfnupNXkyOucNKpAdjk9t8_dKNvhzmA-zhyD21aMmqVqvUmrJZ5Ht-h6nTH5JIky5Yp5QJQm6TOa3e4AsBhRmZT85y_PPseFt83FmgjYS32cCZmx-T2waCgYKASISARISFQHGX2Mi4HU-7saMJUj0arSnzlAR8g0174\",\"token_type\":\"Bearer\",\"refresh_token\":\"1//0etAna78Bd0-JCgYIARAAGA4SNwF-L9IrGHCRSNNgxU0oYwHYHTb7Wmf_qLJ3Apw2C-fhtVdm5D0glpEDUvTGY7YLl-Gdj03dKq8\",\"expiry\":\"2024-06-01T11:07:05.953353+07:00\"}\n",
            "\n",
            "[vndang96]\n",
            "type = drive\n",
            "scope = drive\n",
            "token = {\"access_token\":\"ya29.a0AXooCgvhLjCEvJAMJF07IUhK7jBCaxYHwc0n5rQX4NpHqw6cc13no4d8_yXVTJSEhghvaxpy64t117vE_x0oulSHA35rYH92M8agu-U2mCdkPTFRky7mGui16YCKC3pNauNc2dJIUMh9d52f6cAPJo8t4odERIlrwv8zaCgYKAeESARASFQHGX2Miv1KvjfvM8rKxTKni5NEUrg0171\",\"token_type\":\"Bearer\",\"refresh_token\":\"1//0eaT-PbwXK2FbCgYIARAAGA4SNwF-L9IrUacG6yUXnih1OBu_J22Mr6a7b6qfVcDU3AgSFoQZpASqn30t42qa8I0jKAE2qJ4ykyI\",\"expiry\":\"2024-05-06T22:49:39.738498+07:00\"}\n",
            "\n",
            "[duongle]\n",
            "type = onedrive\n",
            "token = {\"access_token\":\"eyJ0eXAiOiJKV1QiLCJub25jZSI6IkVmczBVdUVlYjBzT1NmM2YzaWVTT2J2d3FCQTVqM2Nwam5oZFV2T3ZGU28iLCJhbGciOiJSUzI1NiIsIng1dCI6IkwxS2ZLRklfam5YYndXYzIyeFp4dzFzVUhIMCIsImtpZCI6IkwxS2ZLRklfam5YYndXYzIyeFp4dzFzVUhIMCJ9.eyJhdWQiOiIwMDAwMDAwMy0wMDAwLTAwMDAtYzAwMC0wMDAwMDAwMDAwMDAiLCJpc3MiOiJodHRwczovL3N0cy53aW5kb3dzLm5ldC8yNTg0YjhiOS01NjE3LTQyMGItYWEyNC1jMmE3ODA1NmVjYzMvIiwiaWF0IjoxNzE3MDUzNTQ1LCJuYmYiOjE3MTcwNTM1NDUsImV4cCI6MTcxNzA1OTE5NCwiYWNjdCI6MCwiYWNyIjoiMSIsImFpbyI6IkFUUUF5LzhXQUFBQXQ1OVBtd0xRSU5RZWxaYi9nMTBlaXVDSktqdjdLM21ZaTV5dngrbTNoY2dvOUM2QjZ2Q3pFbzdsekxGQjVvVnMiLCJhbXIiOlsicHdkIl0sImFwcF9kaXNwbGF5bmFtZSI6InJjbG9uZSIsImFwcGlkIjoiYjE1NjY1ZDktZWRhNi00MDkyLTg1MzktMGVlYzM3NmFmZDU5IiwiYXBwaWRhY3IiOiIxIiwiZmFtaWx5X25hbWUiOiJOR1VZRU4iLCJnaXZlbl9uYW1lIjoiVEhBSSBEVU9ORyIsImlkdHlwIjoidXNlciIsImlwYWRkciI6IjI0MDI6ODAwOjYzNDA6ZWE3ODpmZDYxOmM4ZDk6MzBiNTo1MWNhIiwibmFtZSI6IlRIQUkgRFVPTkcgTkdVWUVOIiwib2lkIjoiYzE1M2ZmNDEtNGQ2NC00MTlhLTlkZmMtODEwZjlmZGZkM2M0IiwicGxhdGYiOiI1IiwicHVpZCI6IjEwMDMyMDAyRkQ0OThDODQiLCJyaCI6IjAuQVZZQXViaUVKUmRXQzBLcUpNS25nRmJzd3dNQUFBQUFBQUFBd0FBQUFBQUFBQUNmQU9nLiIsInNjcCI6IkZpbGVzLlJlYWQgRmlsZXMuUmVhZC5BbGwgRmlsZXMuUmVhZFdyaXRlIEZpbGVzLlJlYWRXcml0ZS5BbGwgU2l0ZXMuUmVhZC5BbGwgcHJvZmlsZSBvcGVuaWQgZW1haWwiLCJzaWduaW5fc3RhdGUiOlsia21zaSJdLCJzdWIiOiIxYm5PX3lQNTROX2xjbUQxSmpfbHc1YjZqcUdSM1hoTEVtX2pTeUE1T3BFIiwidGVuYW50X3JlZ2lvbl9zY29wZSI6IkFTIiwidGlkIjoiMjU4NGI4YjktNTYxNy00MjBiLWFhMjQtYzJhNzgwNTZlY2MzIiwidW5pcXVlX25hbWUiOiJEdW9uZ2xlQG5naGllbnNldHVwcy5uZXQiLCJ1cG4iOiJEdW9uZ2xlQG5naGllbnNldHVwcy5uZXQiLCJ1dGkiOiJaWGtvczNGdExrcVBkQ1U4WmJZckFBIiwidmVyIjoiMS4wIiwid2lkcyI6WyJiNzlmYmY0ZC0zZWY5LTQ2ODktODE0My03NmIxOTRlODU1MDkiXSwieG1zX3N0Ijp7InN1YiI6IjJ6VUluLVlzYmRUWHJ1a1RQTEsxSWNVN2xwMTRBY2dtNGRDUnY2MktXVTQifSwieG1zX3RjZHQiOjE2NjY0Mjg3NTd9.BNvGYV9E4g-YImWR1z5hoDj_B9ScxMdOgY-8rnLgDVfhi0BBHuPYVQMEQsq-M09GwfXY50Pcl5gIYbLiYUyUc-ft1__okGAHhlqO7b-qx4ZgKXAFJ1SSWEZ3vIoNPOr5EgFCkSozOcnFq2VHqOvix1RhTtGbGdzXo_va2_oiguMNHDoaAjO8avJ8iFXeWero5nbhBvsmN1_ucbSNnX6fVyuGJ4xIa4DxktKI1b2lefsFkR4JJQo5-9uxleqH223dxZryuqFX_cOLz_LPzoDUC3CoV-xDinC906HBKx8UaBIU6LHWQsUoQb79xonTUp9DRUeeqb7MazCcBvMY-HjhEg\",\"token_type\":\"Bearer\",\"refresh_token\":\"0.AVYAubiEJRdWC0KqJMKngFbsw9llVrGm7ZJAhTkO7Ddq_VmfAOg.AgABAwEAAADnfolhJpSnRYB1SVj-Hgd8AgDs_wUA9P_nWcv7VY9iNAqNeVhn9SRv0w-UOydkuOA3FCSdI80Ywxp2rlw2Txq46G_CzjxNs_jkBDyyQ7kdK4LyMv6eGX5slSQW6-E5A5V1ykHLKW4Ry_8UA_UJ9P-trA3k0k0jCabsUCsb29zDE_L4wYa2WptP8Q-o5VfkPIdaZ49cfSS8uY7d1KLfj9RtPelrI74Ha2n-3JJa0gBwgnP-T5IpLX6P_ViBJ1NbL2WsOicfZ2ELEVg5SoFXTjEhXAW4w8ksd61VMkv0nZJX11TBqJIyoujRVWxqPgPL-Jbt34e5Pt_jUV800ASlxUSSlTfI0opMxFjHOSgjwHjfk16qDmkr1w-ss_k06aBP0zgoEOTso7D2HiTmIf8Clu8PIUW0IbLOnw0dLRvPnPCfhZqci1yT7fc97x2yo9KBPUxrsLoJ8mbxgPJjWRZAYvQ9MPpA2BZXTGgW9-dax11pfqMN90RpFoZqeAjJ8Nyjp-N-afnho20qcU1YQfIvQTWkbU0N0kDrPFjzITMb70gYrpriOM0oEJqvVy5DPKUuQ8pL83A4CNaJ3vJN7-9a71dBS1xTnmlGLTCO-d9yvgY3oG5Z2ktGQbGXnuL3Fj2dmboH9LBImh9tHaFKygXyTbe-_CSQNA0gxP2-EbJbH56WuywnLgdyvpcMvV4zGU3Srk67BdvL4MP1l5Ms5EjW4HKwPayzu_kDPxU9MIVjvDjtpY3gaAvl-C-W38v54IzUm74clC9_QM1fyU7S_TnjdT_Kuqot65iQ7KU83cncrhbbErjIjXKf\",\"expiry\":\"2024-05-30T15:53:13.517732+07:00\"}\n",
            "drive_id = b!9u95bogjQ0-0VJZmNoxxftDnBj3pgKpEsGMrweaULJp_0lcAefRuS6FzR8El3pIM\n",
            "drive_type = business\n",
            "\n",
            "[admin]\n",
            "type = onedrive\n",
            "token = {\"access_token\":\"eyJ0eXAiOiJKV1QiLCJub25jZSI6IlhKYzBUYkRVbkh0ei1nX1J2ejZLbUMySUd5T2duWjdFaGVZcVJ1TGFYa1EiLCJhbGciOiJSUzI1NiIsIng1dCI6IkwxS2ZLRklfam5YYndXYzIyeFp4dzFzVUhIMCIsImtpZCI6IkwxS2ZLRklfam5YYndXYzIyeFp4dzFzVUhIMCJ9.eyJhdWQiOiIwMDAwMDAwMy0wMDAwLTAwMDAtYzAwMC0wMDAwMDAwMDAwMDAiLCJpc3MiOiJodHRwczovL3N0cy53aW5kb3dzLm5ldC9jNjhlOTYyYS1hNThlLTRhOWUtODY3Yy04YmQ2NWY5ODQ4YzUvIiwiaWF0IjoxNzE3MTk1Njg5LCJuYmYiOjE3MTcxOTU2ODksImV4cCI6MTcxNzIwMDYyMSwiYWNjdCI6MCwiYWNyIjoiMSIsImFpbyI6IkFWUUFxLzhXQUFBQXlpeDZ2cWlMT0F0RFpabDR6V0t5UGp4UW1icjk4TTk2UWVHZkN2bVF5VCt0SklUQ0JVZDk4eVpONFpMamdEQkVOOXkya04wSW9BMUk2czdmVUl4Q2c4RWFPVE9NV1h3ay9aMjRnb3pCeEVnPSIsImFtciI6WyJwd2QiLCJtZmEiXSwiYXBwX2Rpc3BsYXluYW1lIjoicmNsb25lIiwiYXBwaWQiOiJiMTU2NjVkOS1lZGE2LTQwOTItODUzOS0wZWVjMzc2YWZkNTkiLCJhcHBpZGFjciI6IjEiLCJmYW1pbHlfbmFtZSI6IlbDtSIsImdpdmVuX25hbWUiOiLEkMSDbmciLCJpZHR5cCI6InVzZXIiLCJpcGFkZHIiOiIyNDAyOjgwMDo2MzQwOmNkMTI6MmMxMTo3ZGEyOjliYTA6ZGU4YyIsIm5hbWUiOiLEkMSDbmcgVsO1Iiwib2lkIjoiMzk1NmJlOGEtNGYwYi00MTQ0LTlhYWYtNGM5MWNhMDcyNTRiIiwicGxhdGYiOiI1IiwicHVpZCI6IjEwMDMyMDAzMkE3N0VCOTIiLCJyaCI6IjAuQVQwQUtwYU94bzZsbmtxR2ZJdldYNWhJeFFNQUFBQUFBQUFBd0FBQUFBQUFBQUNoQUdVLiIsInNjcCI6IkZpbGVzLlJlYWQgRmlsZXMuUmVhZC5BbGwgRmlsZXMuUmVhZFdyaXRlIEZpbGVzLlJlYWRXcml0ZS5BbGwgU2l0ZXMuUmVhZC5BbGwgcHJvZmlsZSBvcGVuaWQgZW1haWwiLCJzaWduaW5fc3RhdGUiOlsia21zaSJdLCJzdWIiOiI5dzZDMkE3ZkpUU1FaSkFmWTY0Y2t2S2JFb3VqeE00VGtmMzQxQ0RSb3FNIiwidGVuYW50X3JlZ2lvbl9zY29wZSI6IkFTIiwidGlkIjoiYzY4ZTk2MmEtYTU4ZS00YTllLTg2N2MtOGJkNjVmOTg0OGM1IiwidW5pcXVlX25hbWUiOiJhZG1pbkB2bmRhbmcub25taWNyb3NvZnQuY29tIiwidXBuIjoiYWRtaW5Adm5kYW5nLm9ubWljcm9zb2Z0LmNvbSIsInV0aSI6Ik41T1FjcWRiSVU2MFBQMzExUzlNQUEiLCJ2ZXIiOiIxLjAiLCJ3aWRzIjpbIjYyZTkwMzk0LTY5ZjUtNDIzNy05MTkwLTAxMjE3NzE0NWUxMCIsImI3OWZiZjRkLTNlZjktNDY4OS04MTQzLTc2YjE5NGU4NTUwOSJdLCJ4bXNfc3QiOnsic3ViIjoiVE5YVmVhbkFGdWczSUUzRmVqMXFjTmpQbjBKVmlGZzJkNXIyTWZMd05UMCJ9LCJ4bXNfdGNkdCI6MTcwMjgxMDM4OH0.ZiCzeTGGLh9n3QKFrGH_5ijv5rW4BDyEnLxEb7vu80njS0f5aFeAjPgetTB4HemHGJdhluXsF0ZI9exxapkUIpp5xNvwnMh4i9GdJy-CFY34xWhb-W7jXvGE6aycImtachX8leOAHY5qtV4f8quq5lEHlT3hrMW2CGcK8TrPr_qfjfgHZruMOvlCK0aC1zvsugw5UFfy_ub7YvzxCCG-ZJ4zkGSUTsYfqlizo7_YF4noeTLIoWIgaVfUVWqUqgb_k-3VGbnVepUhhrANIJF9cU6TjMSNCCl-OcBh-vDcctQSwq1lT204mQ7ieMg28XIc7wBQDY7Ki1NM2UEi0iRvhg\",\"token_type\":\"Bearer\",\"refresh_token\":\"0.AT0AKpaOxo6lnkqGfIvWX5hIxdllVrGm7ZJAhTkO7Ddq_VmhAGU.AgABAwEAAADnfolhJpSnRYB1SVj-Hgd8AgDs_wUA9P_IOAhuXevlPnEvQvLqvFaaJzG1Lby2EwufzW2W4smUG1gYhaxs3aswzL1Xv9PW5KbeFLPbG7brw0TF9q0Hb8i9DE5CMOl6FFSXS2ylgofYkBr-otU3xUMxqpNYL_7r-cPGYreBqZ6mL-9kKeUOWoo5iCArFgYRompC5txJ4Exsaf8-f4bZApHi_O3TklGu1JuTfIRusarHGGDkFr8sPs3SVAEOflmXg-BCJwSSYBnD3whpPfFf8Q59E3O2-5dgLQIxygxttdlARP_dK7QaNq0VscFVz7xOR-azM4HNyTpLJBV0NsYXAxiHYFqS4YJJQ8L9Gg-ukqJM-PXkjdgkJtAl3I3uMqD6FhHS6LzCwdYO7ODg3aB2tS0yIcHw48D62Hv7eyYi0vd9Jw6S1bedS-Fam9Vw9PK6SgWTPxdq2sBaWyErt3egwF_-hH4eulLl339LYxnT80-tlCE_eZrZJ61KV0up0dsZAXDLKiQ9NcrI8ciKS3dmy8R5QmHzREzumpM2Row-YYXFRDx_Z4wLVQi6vEFKqGEsjV1cv6-DgjOE90ztC6EYh-d1_l-kBocuYqw4vXOoLrGNoTVrJe7kUzjhSkmYBdxZ-woVgXHBYuLRFQ2p73h3-VBOt3_5ZC9j0LSxice3tAYx634xybNjWXTNxA8Opiz5X6P427wev9aKzl88FUFLDdBla6ifRvvp2rf__t4WVfA3YGk0oQDBr7Kd5Pe9vogCbvFNhPqZWKBQzrxsl16ewArVThbFYWNx4YVNiMZcMa8vXHYxPM3Ku0S6nM7pHUw2MAGmdzk9Rk9_6HNdcdBNsjAKQuX-mFu5KToFQw\",\"expiry\":\"2024-06-01T07:10:21.293759+07:00\"}\n",
            "drive_id = b!ccVv8pBjrUiWrb2eOtuxykBcylSNnRVNq1ritzVH83YoB_UPFf5uS5ssawiVkkUj\n",
            "drive_type = business\n",
            "\n",
            "[dangvn]\n",
            "type = onedrive\n",
            "token = {\"access_token\":\"eyJ0eXAiOiJKV1QiLCJub25jZSI6IjFXVTJ1dTdFa2ZFOVhWTmFkMzBPNmRvbGdjN0s2RTk2SEdoNVdlRzQxLXciLCJhbGciOiJSUzI1NiIsIng1dCI6IkwxS2ZLRklfam5YYndXYzIyeFp4dzFzVUhIMCIsImtpZCI6IkwxS2ZLRklfam5YYndXYzIyeFp4dzFzVUhIMCJ9.eyJhdWQiOiIwMDAwMDAwMy0wMDAwLTAwMDAtYzAwMC0wMDAwMDAwMDAwMDAiLCJpc3MiOiJodHRwczovL3N0cy53aW5kb3dzLm5ldC9jNjhlOTYyYS1hNThlLTRhOWUtODY3Yy04YmQ2NWY5ODQ4YzUvIiwiaWF0IjoxNzE3MTk1NTU5LCJuYmYiOjE3MTcxOTU1NTksImV4cCI6MTcxNzIwMDQ0NywiYWNjdCI6MCwiYWNyIjoiMSIsImFpbyI6IkFUUUF5LzhXQUFBQU5NZHFIZ2lKWWJ6NjRocCtHUUVHQ0hnUTVibGpmRG5sUlNqYVZlSytiNENSN0ZXMllvL0Z5TEpSaDc3N2dhdWkiLCJhbXIiOlsicHdkIl0sImFwcF9kaXNwbGF5bmFtZSI6InJjbG9uZSIsImFwcGlkIjoiYjE1NjY1ZDktZWRhNi00MDkyLTg1MzktMGVlYzM3NmFmZDU5IiwiYXBwaWRhY3IiOiIxIiwiZmFtaWx5X25hbWUiOiJWbyBOZ3V5ZW4iLCJnaXZlbl9uYW1lIjoiRGFuZyIsImlkdHlwIjoidXNlciIsImlwYWRkciI6IjI0MDI6ODAwOjYzNDA6ZDYzNjpjYzUzOmU3MjU6NmEzYTo3NTAiLCJuYW1lIjoiRGFuZyBWbyBOZ3V5ZW4iLCJvaWQiOiJjMDQxYTBlOS04ZWZmLTQxYjQtOWFiMC05Yzk0OWYwYTI1ODgiLCJwbGF0ZiI6IjUiLCJwdWlkIjoiMTAwMzIwMDMyQjU1RjVGQyIsInJoIjoiMC5BVDBBS3BhT3hvNmxua3FHZkl2V1g1aEl4UU1BQUFBQUFBQUF3QUFBQUFBQUFBQ2hBRTQuIiwic2NwIjoiRmlsZXMuUmVhZCBGaWxlcy5SZWFkLkFsbCBGaWxlcy5SZWFkV3JpdGUgRmlsZXMuUmVhZFdyaXRlLkFsbCBTaXRlcy5SZWFkLkFsbCBwcm9maWxlIG9wZW5pZCBlbWFpbCIsInN1YiI6Ild2ajgxb1JCeGZBUXc2eFpCdTVBOUc4R3pkcnliWUZwczY4SFh2VmkyRjAiLCJ0ZW5hbnRfcmVnaW9uX3Njb3BlIjoiQVMiLCJ0aWQiOiJjNjhlOTYyYS1hNThlLTRhOWUtODY3Yy04YmQ2NWY5ODQ4YzUiLCJ1bmlxdWVfbmFtZSI6ImRhbmd2bkBkYW5ndm8ub25lIiwidXBuIjoiZGFuZ3ZuQGRhbmd2by5vbmUiLCJ1dGkiOiJVUjMxQUlyTGNFMk83U19OMUMxWEFBIiwidmVyIjoiMS4wIiwid2lkcyI6WyJiNzlmYmY0ZC0zZWY5LTQ2ODktODE0My03NmIxOTRlODU1MDkiXSwieG1zX3N0Ijp7InN1YiI6InM0SVB4czRXV1FmdUtxSlh1Ukttc1Q3VlVHQndSaWg1bHVrMkdOenkyWHcifSwieG1zX3RjZHQiOjE3MDI4MTAzODh9.MWEsDJo6m2EGfAxoAX_sWqHvJpajBmI1zp60aKD0ATW361aL-iOijCOQpa0unw_WjeZ9b9or4VqEpe4hJtHEyuCBeQrUksHLLe_eJSPqNKoOf3NrLc0UNpBRDVI3Q6bHsm02z3_YbErMbtRhJz0_WWUIPyIVYivebTbriPgwLG-Xrf-Of9GMTEwPLehDYA2Pa-oh4j9lZjC6lsmle-Lpuevb8ImMR5Ctgn9Q3Uao52GKS7XvsaSRGLtykxK5I_pulY5Xsy4XjQTZm90r8Xjtyi_-Iy61mepNhtJbcZmScqPtksz0WL7Q1QpzeS7nisNQZPOK_1Uf8Omq4zbzVM0XzQ\",\"token_type\":\"Bearer\",\"refresh_token\":\"0.AT0AKpaOxo6lnkqGfIvWX5hIxdllVrGm7ZJAhTkO7Ddq_VmhAE4.AgABAwEAAADnfolhJpSnRYB1SVj-Hgd8AgDs_wUA9P9m8tzaQ4Z8rK1NrkTRT7Z4GDOYM-TIPnRLC-WKy0mSAv7ugbJ-Sc8OOM5hH5YrhbZnAXHc07zkYzU2NB7BEZl0MmU2bcOVBsj0C804J6CuAN0ApzWV_HETxmNeGr8jrl1Yl4Wzb-XDDb6q7MTI_J0XD8b0HRqS_uMj-PhSUf7BZUJB3SRmC25TLVx-IzHgpx7Qrf6_O80Swr9dR4nS3qWgBKtYiyCohYI_n-AKZb1EFlKqyYDfk4ydPK6ox54rYscf23fDDLTzxVXnuxHtvs-DmbRs3DH80BUFHXB1s3P182xyqrslRl0UqoKy4GNjgqmvdQZxJju7TfgdlbLPYH99nTduS6ohlaMzM-qYtsR8LEva5FMF1aYxxbWAQ9EvXgejJccJ8rxf0RKmYPWqWnjaNGCGZ57H106Qal58uuZ1NlwjZjSfBWJtDeG3hJPCbIBzJ0T1jAo2WoYs4PWkApL-qg07OEboitGjuTpSjSeIbAu9QenOCjFxDxlJRB-x80xFpE9xl_JL3MWN0znvwPZ5Sm701rzNy356SIvTGNDpijnIaAEL1ZDzyxruAq8srKBOI7YtdJsUNxDbt9AFhIatLFNDeT2OQsUG2-I47qNhuOMYBnc8vxnSy7CzTBuUSejZ8OLl6QA6ftV1iMqPtMdQLT51myG4nd2ixq0qVy1-K8gjrbolVY86Asac1VyEsYWYjUNp4Ow_ScO_Bzf7KbWpw8OXTU-bWMRgEt-B1KayQ8KR3gFrXVjt51JFPcYdYEE7hMkp-IrUT7E\",\"expiry\":\"2024-06-01T07:07:26.614784+07:00\"}\n",
            "drive_id = b!EQVQY1QqB0WbMAP90bO12EBcylSNnRVNq1ritzVH83YoB_UPFf5uS5ssawiVkkUj\n",
            "drive_type = business\n",
            "\n",
            "[dangvo]\n",
            "type = onedrive\n",
            "token = {\"access_token\":\"eyJ0eXAiOiJKV1QiLCJub25jZSI6ImF1dUszVWJJTkdTMHpwLVB4OFdtV05mS0hPd1E4WUgyUjFxMnRUSlZ3MkUiLCJhbGciOiJSUzI1NiIsIng1dCI6IkwxS2ZLRklfam5YYndXYzIyeFp4dzFzVUhIMCIsImtpZCI6IkwxS2ZLRklfam5YYndXYzIyeFp4dzFzVUhIMCJ9.eyJhdWQiOiIwMDAwMDAwMy0wMDAwLTAwMDAtYzAwMC0wMDAwMDAwMDAwMDAiLCJpc3MiOiJodHRwczovL3N0cy53aW5kb3dzLm5ldC82YjU4ZWI4My04YzMwLTRlZjktOGVjOS0wMWJmZTc2MWEyN2QvIiwiaWF0IjoxNzE3MDY4NTM0LCJuYmYiOjE3MTcwNjg1MzQsImV4cCI6MTcxNzA3MjYzMSwiYWNjdCI6MCwiYWNyIjoiMSIsImFpbyI6IkFWUUFxLzhXQUFBQTNiaVhTemtXQU96OGJYcmNDTG01UVozN1g1RmdVbjhGMlNDSVJHSW5XaWZ1Mm1hQW0ybHpqTkgxOVJZNEkzSjF5eXhhSUt1ZE1zOXUzU2FqSGZwejMwWWw3eUx5b2Z5eW91cEY2OXprdmo4PSIsImFtciI6WyJwd2QiLCJtZmEiXSwiYXBwX2Rpc3BsYXluYW1lIjoicmNsb25lIiwiYXBwaWQiOiJiMTU2NjVkOS1lZGE2LTQwOTItODUzOS0wZWVjMzc2YWZkNTkiLCJhcHBpZGFjciI6IjEiLCJmYW1pbHlfbmFtZSI6IkRhbmciLCJnaXZlbl9uYW1lIjoiVm8iLCJpZHR5cCI6InVzZXIiLCJpcGFkZHIiOiIyNDAyOjgwMDo2MzQwOmQ2MzY6Y2M1MzplNzI1OjZhM2E6NzUwIiwibmFtZSI6IlZvIERhbmciLCJvaWQiOiJmZmJkZTA5MC1kYzhlLTQ4M2MtOTczYy1kNmU1MDEwODc5MjYiLCJwbGF0ZiI6IjUiLCJwdWlkIjoiMTAwMzIwMDMzOEY1MEI3NyIsInJoIjoiMC5BY29BZy10WWF6Q00tVTZPeVFHXzUyR2lmUU1BQUFBQUFBQUF3QUFBQUFBQUFBREtBTkEuIiwic2NwIjoiRmlsZXMuUmVhZCBGaWxlcy5SZWFkLkFsbCBGaWxlcy5SZWFkV3JpdGUgRmlsZXMuUmVhZFdyaXRlLkFsbCBTaXRlcy5SZWFkLkFsbCBwcm9maWxlIG9wZW5pZCBlbWFpbCIsInNpZ25pbl9zdGF0ZSI6WyJrbXNpIl0sInN1YiI6Im1BYmtPNVVNclpibWFKYk1GRFFteWpHdm9PNFQ1dDdvLWhxXzNwTVdQbkkiLCJ0ZW5hbnRfcmVnaW9uX3Njb3BlIjoiTkEiLCJ0aWQiOiI2YjU4ZWI4My04YzMwLTRlZjktOGVjOS0wMWJmZTc2MWEyN2QiLCJ1bmlxdWVfbmFtZSI6IkRhbmd2b0B3ODh5bi5vbm1pY3Jvc29mdC5jb20iLCJ1cG4iOiJEYW5ndm9Adzg4eW4ub25taWNyb3NvZnQuY29tIiwidXRpIjoiSnlmRmlaMDEtVS1zZ2oyaFB2eHVBdyIsInZlciI6IjEuMCIsIndpZHMiOlsiYjc5ZmJmNGQtM2VmOS00Njg5LTgxNDMtNzZiMTk0ZTg1NTA5Il0sInhtc19zdCI6eyJzdWIiOiJqZmdCdXFMUUcwV2tDX3BXZEl5ZG9nWmxiZ1J3MGtDNkg5WTFSU1UxQzVzIn0sInhtc190Y2R0IjoxNzAyOTg2NzQ4fQ.gu-qAAadMZc6gIBN5bCUT0jP1HCEA23d_jK2fbwpzyouB50fMu61CCg-PzE25udU-DSbVElIvbHg-RsTg8zM0eMt6InI8eozbKRhGlXHdpmFfvyZnIJbw-2snG7AdFyD0z_hTvnSi2CPWcVOv0rlWhaO1jW_MBH1Wtp6GdrvlRpLzQ4THl0Wqqds6WQ40iECTnszXN_xMEWMVVT5KUI3ISlqROnl8ZodJmgUPx2aMb6F_gO0sDzin2ts0klyYtLph3WuKgI3eIv8JsDFXWmyM64uF3K2THxez5CoOMB5iQqeTKG12vUnCjnsri22C1AKj9PvGarAVXY5ha2scotx7Q\",\"token_type\":\"Bearer\",\"refresh_token\":\"0.AcoAg-tYazCM-U6OyQG_52GifdllVrGm7ZJAhTkO7Ddq_VnKANA.AgABAwEAAADnfolhJpSnRYB1SVj-Hgd8AgDs_wUA9P-n6eQky6MtFCEWueVtm2uVVxk5OC1MtDJmCn_mOKZGauzSvpUVjcb796Ygy75YT6aK59yOr0Ri7nUozhycknNBflxYBSqO9FwnuE8uYhYuMomZy4TYJh8_KsLSYHW8ItRintFGFd9QyiSqaQ3kjrKfSt8GizGYQ1nuiUedWPHhIDGyQhlMXJpVy356TpIRsBWim_EqJCV9gy0kjE52p6t5C7lhgrivt63HFyeF226OOOknqji0hnf4VGT95P-whwgAsME_l1TgdzVGcgX4sygGErIEbKChF7yJlAqVFSUdQ1xAEoDx11MMCSons71aEpQS-bOUWZ8IBwKoilqhBhqM1xvgPGk2tJa6Q9yFYWhElnBsrVFWjhzYFL8EXtmGNMgFRp3Vq-ZCDAucehmpq1ZqutE6YV1MJ2fNp8OhqDIVo0HLAj0tXR_ZWP5vRqSNqlYxS31rXFaUCJ-6ewH3nW2chGH8UsUwmwYy5HuO7NF__mQWcxpmWWDNi7PFZA2rbTB8AUan3UEihYAgeVDDvWhB7iclA__zkBA3dxC3Z_meoDjZ7mrpICc24Sr81CnKLA21uTnFgtXjc-oTxINI-pov1Wa8cQBvM1P-XlmDlvzvbFfdLNJo3qlrCy2JoQVxHAMAWlI-k2wDTEf7yq5dxtqZDwu5qwtVaZRHLJ4Y5c1eH9EKZ_fGk7pDivi98TIUMdh4sClTSAobTe13PxCGYWaXeo46xW7MbnleNonNKwIC86n7vxopdwtRB3Khkxj5zAK59wkN2uZBW5IXFV8oSEfHohuJPDwhMu66BiRqkET5k6jGueXlP7tbd7Wk\",\"expiry\":\"2024-05-30T19:37:11.252126+07:00\"}\n",
            "drive_id = b!L6qlRzq8E0auPPoUr-bR8_u4nZjwSnJGm7oAsUsnIP4EmPeJFv8aTL0hCKzYHUE0\n",
            "drive_type = business\n",
            "\n",
            "[obt]\n",
            "type = onedrive\n",
            "token = {\"access_token\":\"eyJ0eXAiOiJKV1QiLCJub25jZSI6IlB6UHQxNWxDZFRQOVJlbnJhLVVDaUZnWW4xS1c4ZjBJMldKV2ZPSDFOckkiLCJhbGciOiJSUzI1NiIsIng1dCI6IkwxS2ZLRklfam5YYndXYzIyeFp4dzFzVUhIMCIsImtpZCI6IkwxS2ZLRklfam5YYndXYzIyeFp4dzFzVUhIMCJ9.eyJhdWQiOiIwMDAwMDAwMy0wMDAwLTAwMDAtYzAwMC0wMDAwMDAwMDAwMDAiLCJpc3MiOiJodHRwczovL3N0cy53aW5kb3dzLm5ldC8yZjA0NTZjYi0zMjQ0LTRkMjAtYWQ3Mi0yMGJmNjFlYzNkNDYvIiwiaWF0IjoxNzE3MDY4NzY1LCJuYmYiOjE3MTcwNjg3NjUsImV4cCI6MTcxNzA3MjkzMCwiYWNjdCI6MCwiYWNyIjoiMSIsImFpbyI6IkFUUUF5LzhXQUFBQXBwZ2RYUFFWUlVkSFNFMmNuYTNLS3V1bERUUHdpRDQ5YlYxWnRQcTZ0Mjk4Qm9BN3FzclpCQTdHbERyUWJXcHMiLCJhbXIiOlsicHdkIl0sImFwcF9kaXNwbGF5bmFtZSI6InJjbG9uZSIsImFwcGlkIjoiYjE1NjY1ZDktZWRhNi00MDkyLTg1MzktMGVlYzM3NmFmZDU5IiwiYXBwaWRhY3IiOiIxIiwiZmFtaWx5X25hbWUiOiIyMDIzMTEyNzExMCIsImdpdmVuX25hbWUiOiJPQlQiLCJpZHR5cCI6InVzZXIiLCJpcGFkZHIiOiIyNDAyOjgwMDo2MzQwOmQ2MzY6Y2M1MzplNzI1OjZhM2E6NzUwIiwibmFtZSI6Ik9CVCAyMDIzMTEyNzExMCIsIm9pZCI6IjczMWEzMjAxLTZhZTMtNDEzMS1hZmFhLWIwNWE3MTBjOTdhNyIsInBsYXRmIjoiNSIsInB1aWQiOiIxMDAzMjAwMzFEMDAxNERCIiwicmgiOiIwLkFTb0F5MVlFTDBReUlFMnRjaUNfWWV3OVJnTUFBQUFBQUFBQXdBQUFBQUFBQUFBcUFCRS4iLCJzY3AiOiJGaWxlcy5SZWFkIEZpbGVzLlJlYWQuQWxsIEZpbGVzLlJlYWRXcml0ZSBGaWxlcy5SZWFkV3JpdGUuQWxsIFNpdGVzLlJlYWQuQWxsIHByb2ZpbGUgb3BlbmlkIGVtYWlsIiwic3ViIjoiNUNpb2lWU29sR0p3SzJqU19QQTlncUJGNkFXZmtmbDZ0Um9xU0pCdUY0OCIsInRlbmFudF9yZWdpb25fc2NvcGUiOiJBUyIsInRpZCI6IjJmMDQ1NmNiLTMyNDQtNGQyMC1hZDcyLTIwYmY2MWVjM2Q0NiIsInVuaXF1ZV9uYW1lIjoiT0JUXzIwMjMxMTI3MTEwQGNvZGluZ2NsYXNzLmVkdS52biIsInVwbiI6Ik9CVF8yMDIzMTEyNzExMEBjb2RpbmdjbGFzcy5lZHUudm4iLCJ1dGkiOiJXbnZmUXM5ekprV3FBcXVyU2NMWkFBIiwidmVyIjoiMS4wIiwid2lkcyI6WyJiNzlmYmY0ZC0zZWY5LTQ2ODktODE0My03NmIxOTRlODU1MDkiXSwieG1zX3N0Ijp7InN1YiI6ImhJMXhvSENwNUlOc1dFNjlDaHNFbUVacjRtYXU5MTNFR2VlNVlVb2RnVXMifSwieG1zX3RjZHQiOjE1MzIwOTQ5MDR9.Yh6-ruf-GV_w2OHMjFFGEkMEqpxJSueZ2IhfTAZ7oOuWTVxMttTghh4qOWPNrQAZN1N-NmdjKUVWGeSwhoEMYiRGO9zYoX7oBEUFkq4BNeoVimlkA5SdClEclPsg4XXAmlE1tKylh18CBbcy8l-Z118gntn7fbot3ewjSTB_RL_vthCpXB1JRm5bxCNXrxtCfuOtZCE3zDIs8xh-ULS6msnHoUHSf_ROnieljyjzIfjgNLJqGTxb9bi-dyHQs4Iu54UO_aN5UxRY4ZE-Nl-L5uJr2GIKoAtaDnAtJmxnSn_v-mDk67PSS2oIphUMtrC0lfZ5sBFV1WMtnycLK7lplw\",\"token_type\":\"Bearer\",\"refresh_token\":\"0.ASoAy1YEL0QyIE2tciC_Yew9RtllVrGm7ZJAhTkO7Ddq_VkqABE.AgABAwEAAADnfolhJpSnRYB1SVj-Hgd8AgDs_wUA9P-ZqEUJfO4xFYMb68GJoDoZnMmIwlwKpOvvqxk0wmYZ9TdsgQm4uycydnc4vaCZt2llaITCYVHgQCBgjblHfTkk4yx_n6iGevErU8RrSg37XWKJZ6uKld-q9-TG3SZdzh2hYdJ5DoikI9tABHD6S3XnRfz0Y0ugRQQnMIcixt36u7uCUwRBByfjfNL48VnjrAJhKqjaJ6Om2oFOfaexxko-WSMaQD9HNEEkSiCWr7ldJpV3oClVFjtuAXdn6bucAUzv2kigMzgrmPqR17xzsxD2G8dtWA8MZQPQ6hRkQ9-6QMKoEOGW7gHL7Dt_tYrqV8gfBWy_dqJluLUHPpxx7pIv17Hs0-nQTqAnXn1KS-0XFXpK2ToyKeow-t7K88dMK-3loIKWvam3SwBhHkV7f__3kLX5WT-YDP3NKxdi4W6bvi8jqzzZlxLWRJTrKLyNfCsC0SEyCNerQ8ID5_mPUNq8_VBtUEMJX7YD6iaFw-1JzNDQv8TfuMrj7DoZ1-ujWx2davgua2ZcL2eNNp7lAd2GVpF1y183p9byaBR9_KTNFLVuSPPpGYlYki1DhTc3cTt_BJXEdOVuw1PgXMC9mUhWWViR8kF2gAbJHpT0IQGmVC-VW4mc8xvh0URVq7G6trWWXC1cYClRzf-Wd02ohcJFW42ivis1oRdrI6tTz_yDfS26gE0nZTcdfe239Dn6EiWNYrXUGsc_aQ21XmHtzpr2Q0UGK1PUl0OLxXvNSauA6j7U8Rj5geWLDsw3LEs9cAnHWn_RklRpZL0EpOe5\",\"expiry\":\"2024-05-30T19:42:10.429909+07:00\"}\n",
            "drive_id = b!cTJkJ_hkh0-0FKms4867BIW2_aVjm85IqDMFWePOUHm5XGMLEnj6Q4Q4qAUbBdB-\n",
            "drive_type = business\n",
            "\n",
            "[edward]\n",
            "type = drive\n",
            "scope = drive\n",
            "token = {\"access_token\":\"ya29.a0AXooCgv2mIAEmQLXUgqlNM2EQ97ESOK-PnVrJT6vgRiwDmaY5zSSzOQrEspB_daO-T57Xu2Ayqbn9UxGVuLPANY4dl0NGisX4XiRnkwdOIjPZXHAFg6WG8sUJeBdKQp8O5fmZE59Rh2kNp2J9M_R72sdrWh78d0_qbyZaCgYKAUgSARISFQHGX2Mi2rELrdCNdRdyqQOxvQMMdg0171\",\"token_type\":\"Bearer\",\"refresh_token\":\"1//0eTD8esFcpXspCgYIARAAGA4SNwF-L9IrmBsXO2IGQyRjsTqb8jVUfohtFiWbYYcBcv9yEuTP998SziBVL5yI7gHQ2-BmwI90kBE\",\"expiry\":\"2024-05-30T19:42:39.736928+07:00\"}\n",
            "team_drive = \n",
            "\n",
            "\n"
          ]
        }
      ],
      "source": [
        "#@title So sánh nội dung đã thêm\n",
        "# Đọc và hiển thị nội dung của file1.txt\n",
        "print(\"Nội dung của file1.txt:\")\n",
        "with open(file1_path, 'r') as file1:\n",
        "    print(file1.read())\n",
        "\n",
        "# Đọc và hiển thị nội dung của file2.txt\n",
        "print(\"\\nNội dung của file2.txt:\")\n",
        "with open(file2_path, 'r') as file2:\n",
        "    print(file2.read())"
      ]
    },
    {
      "cell_type": "code",
      "execution_count": null,
      "metadata": {
        "cellView": "form",
        "id": "N67zTOHkfM3J"
      },
      "outputs": [],
      "source": [
        "#@title 3.2 Tạo thư mục chứa file config\n",
        "#!touch /root/.config/rclone/"
      ]
    },
    {
      "cell_type": "markdown",
      "metadata": {
        "id": "GlL2p8Ebp9bZ"
      },
      "source": [
        "Kéo file rclone.conf từ /Users/dangvo/.config/rclone/rclone.conf trên local vào /root/.config/rclone/"
      ]
    },
    {
      "cell_type": "code",
      "execution_count": null,
      "metadata": {
        "colab": {
          "base_uri": "https://localhost:8080/"
        },
        "id": "vxeImH1nxILX",
        "outputId": "075fcf74-d1e0-4516-f9c4-fb4b4bbe655b"
      },
      "outputs": [
        {
          "output_type": "stream",
          "name": "stdout",
          "text": [
            "Reading package lists... Done\n",
            "Building dependency tree... Done\n",
            "Reading state information... Done\n",
            "unrar is already the newest version (1:6.1.5-1).\n",
            "0 upgraded, 0 newly installed, 0 to remove and 45 not upgraded.\n",
            "Reading package lists... Done\n",
            "Building dependency tree... Done\n",
            "Reading state information... Done\n",
            "p7zip-full is already the newest version (16.02+dfsg-8).\n",
            "0 upgraded, 0 newly installed, 0 to remove and 45 not upgraded.\n"
          ]
        }
      ],
      "source": [
        "# Cài đặt giải nén\n",
        "!apt-get install unrar\n",
        "!apt-get install p7zip-full"
      ]
    },
    {
      "cell_type": "markdown",
      "metadata": {
        "id": "jOMsMQwD3hMR"
      },
      "source": [
        "#**Kiểm tra hạn ngạch drive**"
      ]
    },
    {
      "cell_type": "markdown",
      "metadata": {
        "id": "J0eDKxxxPCQd"
      },
      "source": [
        "#**Kiểm tra kích thước thư mục**"
      ]
    },
    {
      "cell_type": "code",
      "execution_count": null,
      "metadata": {
        "colab": {
          "base_uri": "https://localhost:8080/"
        },
        "collapsed": true,
        "id": "PF5CaR77oxzy",
        "outputId": "9cb21809-ec9f-42fd-c9be-8a14d8a6d8b1",
        "cellView": "form"
      },
      "outputs": [
        {
          "output_type": "stream",
          "name": "stdout",
          "text": [
            "Current remotes:\n",
            "\n",
            "Name                 Type\n",
            "====                 ====\n",
            "admin                onedrive\n",
            "dangvn               onedrive\n",
            "dangvo               onedrive\n",
            "duongle              onedrive\n",
            "edward               drive\n",
            "obt                  onedrive\n",
            "vndang96             drive\n",
            "vodang2702           drive\n",
            "\n",
            "e) Edit existing remote\n",
            "n) New remote\n",
            "d) Delete remote\n",
            "r) Rename remote\n",
            "c) Copy remote\n",
            "s) Set configuration password\n",
            "q) Quit config\n",
            "e/n/d/r/c/s/q> q\n"
          ]
        }
      ],
      "source": [
        "#@title 4. Kiểm tra các cloud đã kết nối\n",
        "!rclone config"
      ]
    },
    {
      "cell_type": "code",
      "execution_count": null,
      "metadata": {
        "cellView": "form",
        "colab": {
          "base_uri": "https://localhost:8080/",
          "height": 311,
          "referenced_widgets": [
            "03f14e722b2c4997ae2ea329bcf10116",
            "5c16205a47b84dfd995c3740cbe97c09",
            "cd331cb6d270462f88788d691ac2a5a8",
            "c269529abb65459993052ed0ca66960d",
            "ee5fc35f6b854bee9fc8b12676531984",
            "79e1b6286c8d4f18ae861fc65d385b93"
          ]
        },
        "id": "y2ebLODFl3Nv",
        "outputId": "3349aa11-6e82-4efa-9ae5-7c6c446489c2"
      },
      "outputs": [
        {
          "data": {
            "application/vnd.jupyter.widget-view+json": {
              "model_id": "03f14e722b2c4997ae2ea329bcf10116",
              "version_major": 2,
              "version_minor": 0
            },
            "text/plain": [
              "RadioButtons(description='Select Drive:', options=('vodang2702', 'vndang96', 'duongle', 'admin', 'dangvn', 'da…"
            ]
          },
          "metadata": {},
          "output_type": "display_data"
        },
        {
          "data": {
            "application/vnd.jupyter.widget-view+json": {
              "model_id": "c269529abb65459993052ed0ca66960d",
              "version_major": 2,
              "version_minor": 0
            },
            "text/plain": [
              "Textarea(value='', layout=Layout(height='100px', width='15%'))"
            ]
          },
          "metadata": {},
          "output_type": "display_data"
        }
      ],
      "source": [
        "#@title Kiểm tra dung lượng lưu trữ\n",
        "import ipywidgets as widgets\n",
        "from IPython.display import display\n",
        "import os\n",
        "import configparser\n",
        "\n",
        "# Đọc nội dung từ file rclone.conf\n",
        "with open(\"/root/.config/rclone/rclone.conf\", \"r\") as f:\n",
        "    content = f.read()\n",
        "\n",
        "# Sử dụng configparser để phân tích cấu trúc của file cấu hình\n",
        "config = configparser.ConfigParser()\n",
        "config.read_string(content)\n",
        "\n",
        "# Trích xuất danh sách các section (drives)\n",
        "drive_list = config.sections()\n",
        "# Danh sách các drive\n",
        "# drive_list = [\"vndang96\", \"duongle\", \"vodang2702\"]\n",
        "\n",
        "def execute_rclone_about(drive):\n",
        "    command = f\"rclone about {drive}:\"\n",
        "    output = os.popen(command).read()\n",
        "    output_text.value = output\n",
        "\n",
        "# Tạo trường RadioButton cho các drive\n",
        "drive_radio_buttons = widgets.RadioButtons(\n",
        "    options=drive_list,\n",
        "    description=\"Select Drive:\"\n",
        ")\n",
        "\n",
        "output_text = widgets.Textarea(layout={'width': '15%', 'height': '100px'})\n",
        "# Hiển thị trường RadioButton\n",
        "display(drive_radio_buttons, output_text)\n",
        "\n",
        "# Thực thi hàm execute_rclone_about khi chọn drive\n",
        "drive_radio_buttons.observe(lambda change: execute_rclone_about(change.new), names='value')\n"
      ]
    },
    {
      "cell_type": "code",
      "source": [
        "#@title Kiểm tra kích thước thư mục v2\n",
        "#@markdown <center><h5>Nhập tên drive đã được cấu hình trong rclone (mặc định: vodang2702)</h5></center>\n",
        "Drive = \"vodang2702\"  # @param {type:\"string\"}\n",
        "while not Drive:\n",
        "  Drive = input(\"Vui lòng nhập tên drive: \")\n",
        "\n",
        "#@markdown ---\n",
        "\n",
        "#@markdown <center><h5>CHỌN MỘT TRONG HAI CÁCH SAU:</h5></center>\n",
        "\n",
        "#@markdown <center><h6>Cách 1: Nhập đường dẫn đến thư mục/tệp (ví dụ: check dao van hoặc English/Mind maps English)</h6></center>\n",
        "Path = \"\"  # @param {type:\"string\"}\n",
        "\n",
        "#@markdown <center><h6>HOẶC</h6></center>\n",
        "\n",
        "#@markdown <center><h6>Cách 2: Dán liên kết đến thư mục/tệp (ví dụ: https://drive.google.com/drive/folders/...)</h6></center>\n",
        "URL = \"\"  # @param {type:\"string\"}\n",
        "\n",
        "#@markdown ---\n",
        "\n",
        "import re\n",
        "\n",
        "if Path and URL:\n",
        "  print(\"Vui lòng chỉ chọn một trong hai cách nhập: Đường dẫn PATH hoặc URL.\")\n",
        "elif not Path and not URL:\n",
        "  print(\"Vui lòng nhập đường dẫn PATH hoặc URL.\")\n",
        "else:\n",
        "  if URL:\n",
        "    # Trích xuất ID thư mục từ URL (nếu có)\n",
        "    id = re.search(r\"/folders/([a-zA-Z0-9_-]+)\", URL)\n",
        "    if id:\n",
        "      command = f'rclone size \"{Drive},root_folder_id={id.group(1)}\":'\n",
        "    else:\n",
        "      print(\"Không thể trích xuất ID thư mục từ URL. Vui lòng kiểm tra lại URL.\")\n",
        "      exit()  # Thoát nếu không tìm thấy ID\n",
        "  if Path:\n",
        "     command = f'rclone size \"{Drive}\":\"{Path}\"'\n",
        "\n",
        "  result = !{command}\n",
        "\n",
        " # Kiểm tra lỗi và hiển thị kết quả\n",
        "  if result[0].startswith(\"20\"):\n",
        "    print(\"Lỗi:\", result[0])\n",
        "  else:\n",
        "    for line in result:  # Duyệt qua từng dòng trong result\n",
        "      print(line)       # In từng dòng\n"
      ],
      "metadata": {
        "colab": {
          "base_uri": "https://localhost:8080/"
        },
        "id": "flf-k52TydaX",
        "outputId": "4b684ab6-2615-42ee-8796-5cc5ec614d31"
      },
      "execution_count": null,
      "outputs": [
        {
          "output_type": "stream",
          "name": "stdout",
          "text": [
            "Vui lòng nhập đường dẫn hoặc URL.\n"
          ]
        }
      ]
    },
    {
      "cell_type": "code",
      "execution_count": null,
      "metadata": {
        "cellView": "form",
        "colab": {
          "base_uri": "https://localhost:8080/",
          "height": 468,
          "referenced_widgets": [
            "bd2b1d06fafa477da0a0aa39cfb36174",
            "53e7622c77fc44ffb0f301d8eeb34188",
            "a95d18403345494a8f96f6b09230e10f",
            "fa7f191592a341b3adbf0fe679bb6686",
            "be5212cd249e467595902f93ea481116",
            "779e5b04d0a640289397597c916ebcd4",
            "4e44a788d3aa4052ba827e2ba97d5b88",
            "a38aa7174a3045c8914162cad6957812",
            "135040d663ed4433904634172087cfd2",
            "1f8fa5780ea04fb7ba5f48686a750616",
            "a08e71643b2b437597ad92858ceb2dbc",
            "69939e349f7c4d8ba9db1c45a1fc9cc9",
            "031448ed99f9463d9e8162a8db006750",
            "d7b7c3162bdf4b5185de162e24e03aca",
            "ada1c385b9da484a9d935d5dfff6298a",
            "3518e6846a80410e931ba315dbb46254",
            "71a7b0664bff4bd0827418b286254366",
            "92541e1fc6e64473af63ccfb3e8ec66b"
          ]
        },
        "id": "RSneo0ZQOgBQ",
        "outputId": "e29aa10e-5323-4708-b83c-d2c576412f88"
      },
      "outputs": [
        {
          "data": {
            "application/vnd.jupyter.widget-view+json": {
              "model_id": "bd2b1d06fafa477da0a0aa39cfb36174",
              "version_major": 2,
              "version_minor": 0
            },
            "text/plain": [
              "Dropdown(description='Select Drive:', options=('vodang2702', 'vndang96', 'duongle', 'admin', 'dangvn', 'dangvo…"
            ]
          },
          "metadata": {},
          "output_type": "display_data"
        },
        {
          "data": {
            "application/vnd.jupyter.widget-view+json": {
              "model_id": "fa7f191592a341b3adbf0fe679bb6686",
              "version_major": 2,
              "version_minor": 0
            },
            "text/plain": [
              "Text(value='', description='Path:', layout=Layout(height='30px', width='100%'), placeholder='English/Mind maps…"
            ]
          },
          "metadata": {},
          "output_type": "display_data"
        },
        {
          "data": {
            "application/vnd.jupyter.widget-view+json": {
              "model_id": "4e44a788d3aa4052ba827e2ba97d5b88",
              "version_major": 2,
              "version_minor": 0
            },
            "text/plain": [
              "Textarea(value='', layout=Layout(height='150px', width='100%'), placeholder='Output will be displayed here...'…"
            ]
          },
          "metadata": {},
          "output_type": "display_data"
        },
        {
          "data": {
            "application/vnd.jupyter.widget-view+json": {
              "model_id": "1f8fa5780ea04fb7ba5f48686a750616",
              "version_major": 2,
              "version_minor": 0
            },
            "text/plain": [
              "Text(value='', layout=Layout(width='100%'))"
            ]
          },
          "metadata": {},
          "output_type": "display_data"
        },
        {
          "data": {
            "application/vnd.jupyter.widget-view+json": {
              "model_id": "031448ed99f9463d9e8162a8db006750",
              "version_major": 2,
              "version_minor": 0
            },
            "text/plain": [
              "Button(button_style='danger', description='Cancel', style=ButtonStyle())"
            ]
          },
          "metadata": {},
          "output_type": "display_data"
        },
        {
          "data": {
            "application/vnd.jupyter.widget-view+json": {
              "model_id": "3518e6846a80410e931ba315dbb46254",
              "version_major": 2,
              "version_minor": 0
            },
            "text/plain": [
              "Text(value='', layout=Layout(width='100%'))"
            ]
          },
          "metadata": {},
          "output_type": "display_data"
        },
        {
          "name": "stdout",
          "output_type": "stream",
          "text": [
            "Executing command: rclone size \"vodang2702:CCCD\"\n",
            "Executing command: rclone size \"vodang2702:check dao v\"\n",
            "Executing command: rclone size \"vodang2702:CCCD\"\n",
            "Executing command: rclone size \"vodang2702:1Team HSG [BK]\"\n",
            "Executing command: rclone size \"vodang2702:1Team HSG\"\n",
            "Executing command: rclone size \"vodang2702:1Team HSG [Backuo]\"\n",
            "Executing command: rclone size \"vodang2702:1Team HSG [Backup]\"\n"
          ]
        }
      ],
      "source": [
        "#@title Kiểm tra kích thước thư mục v1\n",
        "import ipywidgets as widgets\n",
        "from IPython.display import display\n",
        "import os\n",
        "import time\n",
        "import configparser\n",
        "\n",
        "# Đọc nội dung từ file rclone.conf\n",
        "with open(\"/root/.config/rclone/rclone.conf\", \"r\") as f:\n",
        "    content = f.read()\n",
        "\n",
        "# Sử dụng configparser để phân tích cấu trúc của file cấu hình\n",
        "config = configparser.ConfigParser()\n",
        "config.read_string(content)\n",
        "\n",
        "# Trích xuất danh sách các section (drives)\n",
        "drive_list = config.sections()\n",
        "\n",
        "def execute_rclone_size(drive):\n",
        "    path = path_input.value\n",
        "    command = f'rclone size \"{drive}:{path}\"'\n",
        "    print(f\"Executing command: {command}\")\n",
        "\n",
        "    start_time = time.time()  # Lấy thời gian bắt đầu\n",
        "\n",
        "    result = os.popen(command).read()\n",
        "    end_time = time.time()  # Lấy thời gian kết thúc\n",
        "    elapsed_time = end_time - start_time  # Tính thời gian thực thi\n",
        "\n",
        "    output_text.value = result\n",
        "\n",
        "    elapsed_time_text.value = f\"Elapsed Time: {elapsed_time:.2f} seconds\"\n",
        "\n",
        "def on_path_input_submit(change):\n",
        "    execute_rclone_size(drive_dropdown.value)\n",
        "\n",
        "# Tạo trường dropdown\n",
        "drive_dropdown = widgets.Dropdown(\n",
        "    options=drive_list,\n",
        "    description=\"Select Drive:\"\n",
        ")\n",
        "\n",
        "# Nhập đường dẫn thư mục\n",
        "path_input = widgets.Text(\n",
        "    description=\"Path:\",\n",
        "    placeholder=\"English/Mind maps English\",\n",
        "    layout={'width': '100%', 'height': '30px'}\n",
        ")\n",
        "\n",
        "def on_path_input_submit(change):\n",
        "    execute_rclone_size(drive_dropdown.value)\n",
        "\n",
        "path_input.on_submit(on_path_input_submit)\n",
        "\n",
        "# Widget để hiển thị kết quả\n",
        "output_text = widgets.Textarea(\n",
        "    layout={'height': '150px', 'width': '100%'},\n",
        "    placeholder=\"Output will be displayed here...\"\n",
        ")\n",
        "\n",
        "# Widget để hiển thị thời gian thực thi\n",
        "elapsed_time_text = widgets.Text(\n",
        "    layout={'width': '100%'}\n",
        ")\n",
        "\n",
        "# Tạo nút huỷ lệnh\n",
        "cancel_button = widgets.Button(description=\"Cancel\", button_style=\"danger\")\n",
        "\n",
        "# Tạo widget để hiển thị thông báo\n",
        "cancel_status = widgets.Text(layout={'width': '100%'})\n",
        "\n",
        "def cancel_execution(_):\n",
        "    # Nếu có một lệnh đang thực thi, hãy cố gắng kết thúc nó\n",
        "    os.system(\"pkill -f 'rclone size'\")\n",
        "    cancel_status.value = \"Cancellation successful.\"\n",
        "\n",
        "# Gắn hàm cancel_execution vào sự kiện click của nút\n",
        "cancel_button.on_click(cancel_execution)\n",
        "\n",
        "# Hiển thị nút huỷ lệnh cùng các widget khác\n",
        "display(drive_dropdown, path_input, output_text, elapsed_time_text, cancel_button, cancel_status)\n"
      ]
    },
    {
      "cell_type": "markdown",
      "metadata": {
        "id": "dtuv_dKk509L"
      },
      "source": [
        "#**Thực thi lệnh copy, sync**"
      ]
    },
    {
      "cell_type": "markdown",
      "source": [
        "**Thao tác nhanh**"
      ],
      "metadata": {
        "id": "9Qrmoida54Ir"
      }
    },
    {
      "cell_type": "code",
      "source": [
        "#@title Download file/folder từ Google Drive URL\n",
        "#@markdown <h5>Chức năng download file/foder từ Google drive URL được share public, Lưu vào My Drive</center>\n",
        "\n",
        "#@markdown ---\n",
        "\n",
        "#@markdown <h6>Dán liên kết đến thư mục/tệp (ví dụ: https://drive.google.com/drive/folders/...)</h6>\n",
        "\n",
        "Google_Drive_Url = \"https://drive.google.com/drive/folders/1I7VSoUdSXSJ_r6Bm0y0l1j7TXbKdWNQD\"  # @param {type:\"string\"}\n",
        "\n",
        "#@markdown <h6>Nhập đường dẫn đến thư mục đích cần lưu file/folder (ví dụ: vodang2702:New Folder)</h6>\n",
        "\n",
        "Target_Folder = \"vodang2702:1.5 Ao Lua\"  # @param {type:\"string\"}\n",
        "\n",
        "#@markdown ---\n",
        "\n",
        "import re\n",
        "\n",
        "if not Google_Drive_Url and not Target_Folder:\n",
        "  print(\"Vui lòng nhập Google_Drive_Url và Target_Folder.\")\n",
        "else:\n",
        "  if Target_Folder:\n",
        "    drive = re.search(r\"^(.+?):\", Target_Folder)  # Tìm kiếm phần trước dấu \":\"\n",
        "    if drive:\n",
        "        mydrive = drive.group(1)       # Lấy phần đã tìm thấy (mydrive)\n",
        "        print(mydrive)\n",
        "    else:\n",
        "        print(\"Không thể trích xuất MyDrive từ Target_Folder. Vui lòng kiểm tra lại Target_Folder.\")\n",
        "        exit()  # Thoát nếu không tìm thấy MyDrive\n",
        "  if Google_Drive_Url:\n",
        "    # Trích xuất ID thư mục từ URL (nếu có)\n",
        "    id = re.search(r\"/folders/([a-zA-Z0-9_-]+)\", Google_Drive_Url)\n",
        "    if id:\n",
        "      command = f\"rclone copy -v --transfers 20 --checkers 40 '{mydrive},root_folder_id=\\\"{id.group(1)}\\\":' '{Target_Folder}'\"\n",
        "      print(command)\n",
        "    else:\n",
        "      print(\"Không thể trích xuất ID thư mục từ Google_Drive_Url. Vui lòng kiểm tra lại Google_Drive_Url.\")\n",
        "      exit()  # Thoát nếu không tìm thấy ID\n",
        "\n",
        "  result = !{command}\n",
        " # Kiểm tra lỗi và hiển thị kết quả\n",
        "  if result:  # Nếu result không rỗng\n",
        "    if result[0].startswith(\"20\"):\n",
        "      print(\"Lỗi:\", result[0])\n",
        "    else:\n",
        "      for line in result:\n",
        "        print(line)\n",
        "  else:\n",
        "    print(\"Không tìm thấy thư mục hoặc tệp.\")"
      ],
      "metadata": {
        "colab": {
          "base_uri": "https://localhost:8080/"
        },
        "id": "dDp9xWlct-wA",
        "outputId": "17a9fbbb-d461-434d-a203-de867be7cf7d",
        "cellView": "form"
      },
      "execution_count": null,
      "outputs": [
        {
          "output_type": "stream",
          "name": "stdout",
          "text": [
            "vodang2702\n",
            "rclone copy --transfers 20 --checkers 40 'vodang2702,root_folder_id=\"1I7VSoUdSXSJ_r6Bm0y0l1j7TXbKdWNQD\":' 'vodang2702:1.5 Ao Lua'\n",
            "Không tìm thấy thư mục hoặc tệp.\n"
          ]
        }
      ]
    },
    {
      "cell_type": "markdown",
      "metadata": {
        "id": "7Uoq-Xd355PE"
      },
      "source": [
        "**Thao tác lệnh copy**"
      ]
    },
    {
      "cell_type": "markdown",
      "metadata": {
        "id": "SVDyrIPf59He"
      },
      "source": [
        "*Không in log ra màn hình, ghi log vào file*"
      ]
    },
    {
      "cell_type": "code",
      "execution_count": null,
      "metadata": {
        "id": "yvNR3VZg6CZH"
      },
      "outputs": [],
      "source": [
        "# Copy folder từ google drive sang one drive + ghi log vào file\n",
        "# VD: !rclone copy -v --transfers 12 vodang2702:\"Khoá Học 2TB\" admin:\"Khoá Học 2TB\" --log-file /content/sample_data/logfile.txt\n",
        "\n",
        "!rclone copy -v --transfers 12 vodang2702:\"Khoá Học 2TB\" admin:\"Khoá Học 2TB\" --log-file /content/sample_data/logfile.txt"
      ]
    },
    {
      "cell_type": "code",
      "execution_count": null,
      "metadata": {
        "id": "UQDJT6By6ILB"
      },
      "outputs": [],
      "source": [
        "# Copy folder được chia sẻ vào drive (cùng tài khoản gmail) + ghi log vào file\n",
        "# VD:!rclone copy -v --drive-shared-with-me --server-side-across-configs --transfers 12 --checkers 20 --bwlimit 0 \"vodang2702:1Team HSG [Backup]\"  \"vodang2702:1Team HSG [BK]\" --log-file /content/sample_data/logfile.txt\n",
        "\n",
        "!rclone copy -v --drive-shared-with-me --server-side-across-configs --transfers 10 --checkers 20 --bwlimit 0 \"vodang2702:1Team HSG [Backup]\"  \"vodang2702:1Team HSG [BK]\" --log-file /content/sample_data/logfile.txt\n"
      ]
    },
    {
      "cell_type": "markdown",
      "metadata": {
        "id": "j4sw_cKd6KuS"
      },
      "source": [
        "*Ghi log ra màn hình*"
      ]
    },
    {
      "cell_type": "code",
      "execution_count": null,
      "metadata": {
        "id": "gjqPy7WB6PLz"
      },
      "outputs": [],
      "source": [
        "# Copy folder từ google drive sang one drive + in log ra màn hình\n",
        "# VD: !rclone copy -v --transfers 15 vodang2702:\"Khoá Học 2TB\" admin:\"Khoá Học 2TB\"\n",
        "\n",
        "!rclone copy -v --transfers 10 --checkers 20 vodang2702:\"Khoá Học 2TB\" admin:\"Khoá Học 2TB\""
      ]
    },
    {
      "cell_type": "code",
      "execution_count": null,
      "metadata": {
        "id": "_mHd3lvI6TIn"
      },
      "outputs": [],
      "source": [
        "# Copy folder từ google drive sang one drive, bỏ qua file đã tồn tại ở thư mục đích (copy thêm), giới hạn băng thông và số lượng luồng song song\n",
        "# VD: !rclone copy -vP --bwlimit 7M --ignore-existing --transfers 15 vodang2702:\"Khoá Học 2TB\" admin:\"Khoá Học 2TB\"\n",
        "\n",
        "!rclone copy -v --checkers 40 --transfers 15 vodang2702:\"Khoá Học 2TB\" admin:\"Khoá Học 2TB\""
      ]
    },
    {
      "cell_type": "code",
      "execution_count": null,
      "metadata": {
        "id": "DVuebWUSb2zN"
      },
      "outputs": [],
      "source": [
        "!rclone copy -vv --ignore-existing -P -u --check-first \"vodang2702:1Team HSG [Backup]\" \"vodang2702:1Team HSG\""
      ]
    },
    {
      "cell_type": "code",
      "execution_count": null,
      "metadata": {
        "id": "LKJb6I9eKI4K"
      },
      "outputs": [],
      "source": [
        "!rclone size \"vodang2702:FREE - DesignsBurner -  BIGGEST PACK - Part 2\""
      ]
    },
    {
      "cell_type": "code",
      "source": [
        "!rclone copy -v --transfers 20 --checkers 40 'vodang2702,root_folder_id=\"1I7VSoUdSXSJ_r6Bm0y0l1j7TXbKdWNQD\":' 'vodang2702:1.5 Ao Lua'"
      ],
      "metadata": {
        "colab": {
          "base_uri": "https://localhost:8080/"
        },
        "id": "c-rLiKgWB8X8",
        "outputId": "8273d7e2-fbdc-488e-ce50-dd8ee65ce886"
      },
      "execution_count": null,
      "outputs": [
        {
          "output_type": "stream",
          "name": "stdout",
          "text": [
            "2024/07/24 11:46:44 INFO  : There was nothing to transfer\n",
            "2024/07/24 11:46:44 INFO  : \n",
            "Transferred:   \t          0 B / 0 B, -, 0 B/s, ETA -\n",
            "Checks:                 5 / 5, 100%\n",
            "Elapsed time:        17.7s\n",
            "\n"
          ]
        }
      ]
    },
    {
      "cell_type": "code",
      "source": [
        "!rclone copy -v --transfers 20 --checkers 40 'vodang2702,root_folder_id=\"1WBvzRvV7z2nR5sZfTOQEQroB19g4IRDn\":' \"vodang2702:229.PHOTOSHOP HUYTRAINING\""
      ],
      "metadata": {
        "id": "u76mOk-aBjed",
        "colab": {
          "base_uri": "https://localhost:8080/"
        },
        "outputId": "60ff261b-3777-4c94-ac0b-e6d9d57d6c94",
        "collapsed": true
      },
      "execution_count": null,
      "outputs": [
        {
          "output_type": "stream",
          "name": "stdout",
          "text": [
            "^C\n"
          ]
        }
      ]
    },
    {
      "cell_type": "code",
      "execution_count": null,
      "metadata": {
        "id": "rZPM9WMC6Wxn",
        "colab": {
          "base_uri": "https://localhost:8080/"
        },
        "outputId": "5db1a26e-2880-4b06-b405-293e11b0afed",
        "collapsed": true
      },
      "outputs": [
        {
          "output_type": "stream",
          "name": "stdout",
          "text": [
            "2024/07/21 18:16:48 INFO  : Google drive root 'TONG HOP KHOA HOC FULL/Khóa Học vidieu1112': Running all checks before starting transfers\n",
            "2024/07/21 18:16:49 INFO  : Google drive root 'TONG HOP KHOA HOC FULL/Khóa Học vidieu1112': Checks finished, now starting transfers\n",
            "2024/07/21 18:17:48 INFO  : \n",
            "Transferred:   \t          0 B / 308.796 GiB, 0%, 0 B/s, ETA -\n",
            "Transferred:            0 / 114, 0%\n",
            "Elapsed time:       1m1.7s\n",
            "Transferring:\n",
            " *  Thành thạo Bootstrap …er Nguyễn Đức Việt.zip:  0% /8.718Gi, 0/s, -\n",
            " *     89 ngày thành tài với Amazon Shipping.zip:  0% /904.106Mi, 0/s, -\n",
            " *       9 Bước luyện nghe Tiếng Anh đột phá.zip:  0% /3.557Gi, 0/s, -\n",
            " *         AUTOCAD 2D từ cơ bản đến nâng cao.rar:  0% /3.506Gi, 0/s, -\n",
            " * Adobe Indesign CC 2015…ơ bản đến nâng cao.zip:  0% /6.143Gi, 0/s, -\n",
            " * Adobe Premiere dành ch…i bắt đầu - cơ bản.zip:  0% /1.767Gi, 0/s, -\n",
            " * Anh văn giao tiếp cho … hoàn toàn mất gốc.rar:  0% /3.705Gi, 0/s, -\n",
            " * Auto Chatbot và Hệ thố…age SEO Top Google.zip:  0% /2.843Gi, 0/s, -\n",
            " *        AutoCad Triển khai bản vẽ nội thất.zip:  0% /7.144Gi, 0/s, -\n",
            " *           Bí quyết kiếm tiền trên Youtube.zip:  0% /1.020Gi, 0/s, -\n",
            " * ChatBots How to Make a…er Chat Bot in 1hr.rar:  0% /378.610Mi, 0/s, -\n",
            " * Chatbot Viral - Cách t…gày với chi phí 0đ.zip:  0% /236.216Mi, 0/s, -\n",
            " * Chuyên gia Triển khai …kỹ thuật với Revit.rar:  0% /5.761Gi, 0/s, -\n",
            " * Chuyên đề vật liệu 3d …n họa 3d kiến trúc.zip:  0% /2.106Gi, 0/s, -\n",
            " *         Chứng khoán cho người mới bắt đầu.zip:  0% /6.040Gi, 0/s, -\n",
            " *                          Crypto Currency .rar:  0% /4.488Gi, 0/s, -\n",
            " * DVD - Tu hoc lap trinh… trong 24h (SWIFT).zip:  0% /2.165Gi, 0/s, -\n",
            " * Dựng phim chuyên nghiệ…ngành truyền thông.rar:  0% /3.001Gi, 0/s, -\n",
            " *    Dựng phim kỹ xảo truyền thông đỉnh cao.rar:  0% /4.045Gi, 0/s, -\n",
            " * Dựng video chuyên nghi…ition và Photoshop.rar:  0% /2.537Gi, 0/s, -\n",
            "\n",
            "2024/07/21 18:18:48 INFO  : \n",
            "Transferred:   \t          0 B / 308.796 GiB, 0%, 0 B/s, ETA -\n",
            "Transferred:            0 / 114, 0%\n",
            "Elapsed time:       2m1.7s\n",
            "Transferring:\n",
            " *  Thành thạo Bootstrap …er Nguyễn Đức Việt.zip:  0% /8.718Gi, 0/s, -\n",
            " *     89 ngày thành tài với Amazon Shipping.zip:  0% /904.106Mi, 0/s, -\n",
            " *       9 Bước luyện nghe Tiếng Anh đột phá.zip:  0% /3.557Gi, 0/s, -\n",
            " *         AUTOCAD 2D từ cơ bản đến nâng cao.rar:  0% /3.506Gi, 0/s, -\n",
            " * Adobe Indesign CC 2015…ơ bản đến nâng cao.zip:  0% /6.143Gi, 0/s, -\n",
            " * Adobe Premiere dành ch…i bắt đầu - cơ bản.zip:  0% /1.767Gi, 0/s, -\n",
            " * Anh văn giao tiếp cho … hoàn toàn mất gốc.rar:  0% /3.705Gi, 0/s, -\n",
            " * Auto Chatbot và Hệ thố…age SEO Top Google.zip:  0% /2.843Gi, 0/s, -\n",
            " *        AutoCad Triển khai bản vẽ nội thất.zip:  0% /7.144Gi, 0/s, -\n",
            " *           Bí quyết kiếm tiền trên Youtube.zip:  0% /1.020Gi, 0/s, -\n",
            " * ChatBots How to Make a…er Chat Bot in 1hr.rar:  0% /378.610Mi, 0/s, -\n",
            " * Chatbot Viral - Cách t…gày với chi phí 0đ.zip:  0% /236.216Mi, 0/s, -\n",
            " * Chuyên gia Triển khai …kỹ thuật với Revit.rar:  0% /5.761Gi, 0/s, -\n",
            " * Chuyên đề vật liệu 3d …n họa 3d kiến trúc.zip:  0% /2.106Gi, 0/s, -\n",
            " *         Chứng khoán cho người mới bắt đầu.zip:  0% /6.040Gi, 0/s, -\n",
            " *                          Crypto Currency .rar:  0% /4.488Gi, 0/s, -\n",
            " * DVD - Tu hoc lap trinh… trong 24h (SWIFT).zip:  0% /2.165Gi, 0/s, -\n",
            " * Dựng phim chuyên nghiệ…ngành truyền thông.rar:  0% /3.001Gi, 0/s, -\n",
            " *    Dựng phim kỹ xảo truyền thông đỉnh cao.rar:  0% /4.045Gi, 0/s, -\n",
            " * Dựng video chuyên nghi…ition và Photoshop.rar:  0% /2.537Gi, 0/s, -\n",
            "\n",
            "^C\n"
          ]
        }
      ],
      "source": [
        "!rclone copy -v --ignore-existing -u --check-first --transfers 20 --checkers 40 \"vodang2702:TONG HOP KHOA HOC FULL/Khóa Họcxx\" \"vodang2702:TONG HOP KHOA HOC FULL/Khóa Học vidieu1112\""
      ]
    },
    {
      "cell_type": "code",
      "execution_count": null,
      "metadata": {
        "id": "yvtn_Cv_YNi9"
      },
      "outputs": [],
      "source": [
        "!rclone dedupe -vvP \"vodang2702:1Team HSG [BK]\" --dedupe-mode skip --checkers=16 --buffer-size=64M --log-file /content/drive/MyDrive/Log-rclone-colab/logfile.txt"
      ]
    },
    {
      "cell_type": "code",
      "execution_count": null,
      "metadata": {
        "id": "RLlQ8DbmxNcg"
      },
      "outputs": [],
      "source": [
        "!rclone dedupe -vv \"vodang2702:1Team HSG\" --dedupe-mode skip --checkers=16 --buffer-size=64M"
      ]
    },
    {
      "cell_type": "code",
      "execution_count": null,
      "metadata": {
        "colab": {
          "base_uri": "https://localhost:8080/"
        },
        "collapsed": true,
        "id": "1Eqa2BmT_cST",
        "outputId": "3b1018ce-9ca6-456f-8bb4-de1fc23533ca"
      },
      "outputs": [
        {
          "name": "stdout",
          "output_type": "stream",
          "text": [
            "2024/06/06 12:54:56 INFO  : Part2: Made directory with metadata (mtime=2023-08-23T12:04:08.514Z)\n",
            "2024/06/06 12:54:57 INFO  : 1080P_4000K_306706861.mp4: Copied (server-side copy)\n",
            "2024/06/06 12:54:57 INFO  : 1080P_4000K_304044492.mp4: Copied (server-side copy)\n",
            "2024/06/06 12:54:57 INFO  : 1440P_6000K_216236541.mp4: Copied (server-side copy)\n",
            "2024/06/06 12:54:57 INFO  : 1080P_4000K_306063631.mp4: Copied (server-side copy)\n",
            "2024/06/06 12:54:58 INFO  : 1440P_6000K_309057221.mp4: Copied (server-side copy)\n",
            "2024/06/06 12:54:58 INFO  : 1440P_6000K_285374982.mp4: Copied (server-side copy)\n",
            "2024/06/06 12:54:58 INFO  : 1440P_6000K_313363271.mp4: Copied (server-side copy)\n",
            "2024/06/06 12:54:58 INFO  : 1440P_6000K_287024942.mp4: Copied (server-side copy)\n",
            "2024/06/06 12:54:59 INFO  : Such A Sweet Melody.mp4: Copied (server-side copy)\n",
            "2024/06/06 12:54:59 INFO  : 9773.mp4: Copied (server-side copy)\n",
            "2024/06/06 12:54:59 INFO  : 9772.mp4: Copied (server-side copy)\n",
            "2024/06/06 12:54:59 INFO  : bffs.19.03.26.melody.marks.lilo.mai.and.alice.pink.beach.house.bums.mp4: Copied (server-side copy)\n",
            "2024/06/06 12:55:00 INFO  : Part2/18.11.19.Melody.Marks.XXX.1080p.MP4.mp4: Copied (server-side copy)\n",
            "2024/06/06 12:55:00 INFO  : teenfidelity.e367.melody.marks.maintenance.baby.mp4: Copied (server-side copy)\n",
            "2024/06/06 12:55:00 INFO  : melody_marks_tommy_gunn_ITR_FamilyAffairs_4k_25k_FX.mp4: Copied (server-side copy)\n",
            "2024/06/06 12:55:01 INFO  : Part2/18.12.12.Melody.Marks.XXX.1080p.MP4.mp4: Copied (server-side copy)\n",
            "2024/06/06 12:55:01 INFO  : Part2/19.01.23.Melody.Marks.College.Roommate.XXX.1080p.MP4.mp4: Copied (server-side copy)\n",
            "2024/06/06 12:55:01 INFO  : Part2/19.01.24.Melody.Marks.Such.A.Sweet.Melody.XXX.1080p.MP4.mp4: Copied (server-side copy)\n",
            "2024/06/06 12:55:02 INFO  : Part2/19.03.05.Melody.Marks.Modeling.Audition.XXX.1080p.MP4.mp4: Copied (server-side copy)\n",
            "2024/06/06 12:55:02 INFO  : Part2/19.03.08.Melody.Marks.Naked.Closeup.XXX.1080p.MP.mp4: Copied (server-side copy)\n",
            "2024/06/06 12:55:02 INFO  : Part2/19.04.10.melody.marks.the.sexpert.mp4: Copied (server-side copy)\n",
            "2024/06/06 12:55:02 INFO  : Part2/19.03.10.Melody.Marks.Shower.XXX.1080p.MP4.mp4: Copied (server-side copy)\n",
            "2024/06/06 12:55:03 INFO  : Part2/19.04.15.Melody.Marks.Interview.XXX.1080p.MP4.mp4: Copied (server-side copy)\n",
            "2024/06/06 12:55:03 INFO  : Part2/19.05.01.melody.marks.full.access.mp4: Copied (server-side copy)\n",
            "2024/06/06 12:55:04 INFO  : Part2/19.07.30.Melody.Marks.What.Shes.Got.XXX.1080p.MP4.mp4: Copied (server-side copy)\n",
            "2024/06/06 12:55:04 INFO  : Part2/19.09.24.melody.marks.mp4: Copied (server-side copy)\n",
            "2024/06/06 12:55:04 INFO  : Part2/19.12.11.melody.marks.good.intentions.mp4: Copied (server-side copy)\n",
            "2024/06/06 12:55:04 INFO  : \n",
            "Transferred:   \t   42.757 GiB / 42.757 GiB, 100%, 0 B/s, ETA -\n",
            "Transferred:           27 / 27, 100%\n",
            "Server Side Copies:    27 @ 42.757 GiB\n",
            "Elapsed time:        10.8s\n",
            "\n"
          ]
        }
      ],
      "source": [
        "!rclone copy -v --drive-shared-with-me --server-side-across-configs \"vodang2702:Melody Marks [43GB]\"  \"vodang2702:1Team HSG/Melody Marks [43GB]\""
      ]
    },
    {
      "cell_type": "markdown",
      "metadata": {
        "id": "zMV1kqXN6g8D"
      },
      "source": [
        "\n",
        "**GHI CHÚ**\n",
        "\n",
        "<details>\n",
        "  <summary>LIÊN QUAN TỚI FLAG MẶC ĐỊNH</summary>\n",
        "  \n",
        "  Dưới đây là các thông số mặc định của một số cờ (flags) phổ biến trong rclone:\n",
        "\n",
        "1. **`-P` hoặc `--progress`**:\n",
        "    - Mặc định: Không hiển thị tiến trình. Khi sử dụng cờ này, nó sẽ hiển thị tiến trình sao chép tệp.\n",
        "\n",
        "2. **`--bwlimit`**:\n",
        "    - Mặc định: Không giới hạn băng thông.\n",
        "    - Ví dụ: `--bwlimit 10M` để giới hạn băng thông ở mức 10 MB/s.\n",
        "\n",
        "3. **`--transfers`**:\n",
        "    - Mặc định: `4` (sao chép 4 tệp đồng thời).\n",
        "    - Ví dụ: `--transfers 8` để sao chép 8 tệp đồng thời.\n",
        "\n",
        "4. **`--exclude`**:\n",
        "    - Mặc định: Không loại trừ tệp nào.\n",
        "    - Ví dụ: `--exclude \"*.txt\"` để loại trừ tất cả các tệp có đuôi `.txt`.\n",
        "\n",
        "5. **`--include`**:\n",
        "    - Mặc định: Bao gồm tất cả các tệp.\n",
        "    - Ví dụ: `--include \"*.jpg\"` để chỉ bao gồm các tệp có đuôi `.jpg`.\n",
        "\n",
        "6. **`--max-size`**:\n",
        "    - Mặc định: Không giới hạn kích thước tệp tối đa.\n",
        "    - Ví dụ: `--max-size 100M` để chỉ sao chép các tệp có kích thước nhỏ hơn hoặc bằng 100 MB.\n",
        "\n",
        "7. **`--min-size`**:\n",
        "    - Mặc định: Không giới hạn kích thước tệp tối thiểu.\n",
        "    - Ví dụ: `--min-size 10M` để chỉ sao chép các tệp có kích thước lớn hơn hoặc bằng 10 MB.\n",
        "\n",
        "8. **`--log-file`** và **`--log-level`**:\n",
        "    - Mặc định: Không ghi log ra tệp và mức độ chi tiết của log là `NOTICE`.\n",
        "    - Ví dụ: `--log-file rclone.log --log-level INFO` để ghi log chi tiết vào tệp `rclone.log`.\n",
        "\n",
        "9. **`--dry-run`**:\n",
        "    - Mặc định: Không chạy thử.\n",
        "    - Khi sử dụng cờ này, nó sẽ mô phỏng việc sao chép mà không thực sự thực hiện sao chép.\n",
        "\n",
        "10. **`--checkers`**:\n",
        "    - Mặc định: `8` (sử dụng 8 luồng kiểm tra song song).\n",
        "    - Ví dụ: `--checkers 16` để sử dụng 16 luồng kiểm tra song song.\n",
        "\n",
        "11. **`--retries`**:\n",
        "    - Mặc định: `3` (thử lại 3 lần khi gặp lỗi).\n",
        "    - Ví dụ: `--retries 5` để thử lại 5 lần khi gặp lỗi.\n",
        "\n",
        "### Cách Kiểm Tra Các Giá Trị Mặc Định\n",
        "\n",
        "Bạn có thể kiểm tra giá trị mặc định của các cờ và nhiều thông tin khác bằng cách sử dụng lệnh `rclone help flags` hoặc xem tài liệu trực tuyến của rclone tại [Rclone Documentation](https://rclone.org/docs/).\n",
        "\n",
        "### Ví Dụ Chi Tiết\n",
        "\n",
        "Dưới đây là một ví dụ chi tiết về cách sử dụng một số cờ với các giá trị mặc định và thay đổi:\n",
        "\n",
        "```bash\n",
        "rclone copy gdrive:backup /path/to/local_backup -P --bwlimit 10M --transfers 8 --exclude \"*.txt\" --log-file rclone.log --log-level INFO --dry-run\n",
        "```\n",
        "\n",
        "Giải thích:\n",
        "- `-P`: Hiển thị tiến trình sao chép.\n",
        "- `--bwlimit 10M`: Giới hạn băng thông ở mức 10 MB/s.\n",
        "- `--transfers 8`: Sao chép 8 tệp đồng thời.\n",
        "- `--exclude \"*.txt\"`: Loại trừ tất cả các tệp có đuôi `.txt`.\n",
        "- `--log-file rclone.log`: Ghi log ra tệp `rclone.log`.\n",
        "- `--log-level INFO`: Ghi log chi tiết ở mức INFO.\n",
        "- `--dry-run`: Chạy thử mà không thực sự sao chép tệp.\n",
        "\n",
        "Bằng cách sử dụng các cờ này, bạn có thể kiểm soát tốt hơn quá trình sao chép tệp của mình với rclone.\n",
        "</details>\n",
        "\n",
        "\n",
        "<details>\n",
        "  <summary>LIÊN QUAN TỚI GHI LỌG</summary>\n",
        "Để tắt việc in log ra màn hình khi sử dụng rclone, bạn có thể sử dụng tùy chọn `--log-level` và thiết lập mức độ log thành `NOTICE` hoặc cao hơn. Dưới đây là một số tùy chọn phổ biến cho `--log-level`:\n",
        "\n",
        "- `NOTICE`: Chỉ hiển thị các thông báo quan trọng.\n",
        "- `ERROR`: Chỉ hiển thị các lỗi.\n",
        "- `NONE`: Tắt hoàn toàn việc ghi log.\n",
        "\n",
        "Ví dụ, nếu bạn muốn tắt hoàn toàn việc in log ra màn hình, bạn có thể sử dụng lệnh sau:\n",
        "\n",
        "```bash\n",
        "rclone sync source: destination: --log-level NONE\n",
        "```\n",
        "\n",
        "Ngoài ra, bạn cũng có thể sử dụng tùy chọn `--quiet` để giảm bớt lượng thông tin log được in ra:\n",
        "\n",
        "```bash\n",
        "rclone sync source: destination: --quiet\n",
        "```\n",
        "\n",
        "Dưới đây là một số ví dụ khác với các mức độ log khác nhau:\n",
        "\n",
        "- Chỉ hiển thị các thông báo quan trọng (NOTICE):\n",
        "\n",
        "```bash\n",
        "rclone sync source: destination: --log-level NOTICE\n",
        "```\n",
        "\n",
        "- Chỉ hiển thị lỗi (ERROR):\n",
        "\n",
        "```bash\n",
        "rclone sync source: destination: --log-level ERROR\n",
        "```\n",
        "\n",
        "Nếu bạn muốn lưu log vào một file thay vì in ra màn hình, bạn có thể sử dụng tùy chọn `--log-file`:\n",
        "\n",
        "```bash\n",
        "rclone sync source: destination: --log-file /path/to/logfile.txt --log-level INFO\n",
        "```\n",
        "</details>"
      ]
    }
  ],
  "metadata": {
    "colab": {
      "collapsed_sections": [
        "NkXRpNhJmjFp"
      ],
      "provenance": [],
      "mount_file_id": "1iCF4J_ohxogmv1QsmfwVng_LLX8fvkGW",
      "authorship_tag": "ABX9TyOc3zN1QF35mB3q/KGhXOvQ",
      "include_colab_link": true
    },
    "kernelspec": {
      "display_name": "Python 3",
      "name": "python3"
    },
    "language_info": {
      "name": "python"
    },
    "widgets": {
      "application/vnd.jupyter.widget-state+json": {
        "031448ed99f9463d9e8162a8db006750": {
          "model_module": "@jupyter-widgets/controls",
          "model_module_version": "1.5.0",
          "model_name": "ButtonModel",
          "state": {
            "_dom_classes": [],
            "_model_module": "@jupyter-widgets/controls",
            "_model_module_version": "1.5.0",
            "_model_name": "ButtonModel",
            "_view_count": null,
            "_view_module": "@jupyter-widgets/controls",
            "_view_module_version": "1.5.0",
            "_view_name": "ButtonView",
            "button_style": "danger",
            "description": "Cancel",
            "disabled": false,
            "icon": "",
            "layout": "IPY_MODEL_d7b7c3162bdf4b5185de162e24e03aca",
            "style": "IPY_MODEL_ada1c385b9da484a9d935d5dfff6298a",
            "tooltip": ""
          }
        },
        "03f14e722b2c4997ae2ea329bcf10116": {
          "model_module": "@jupyter-widgets/controls",
          "model_module_version": "1.5.0",
          "model_name": "RadioButtonsModel",
          "state": {
            "_dom_classes": [],
            "_model_module": "@jupyter-widgets/controls",
            "_model_module_version": "1.5.0",
            "_model_name": "RadioButtonsModel",
            "_options_labels": [
              "vodang2702",
              "vndang96",
              "duongle",
              "admin",
              "dangvn",
              "dangvo",
              "obt",
              "edward"
            ],
            "_view_count": null,
            "_view_module": "@jupyter-widgets/controls",
            "_view_module_version": "1.5.0",
            "_view_name": "RadioButtonsView",
            "description": "Select Drive:",
            "description_tooltip": null,
            "disabled": false,
            "index": 0,
            "layout": "IPY_MODEL_5c16205a47b84dfd995c3740cbe97c09",
            "style": "IPY_MODEL_cd331cb6d270462f88788d691ac2a5a8"
          }
        },
        "135040d663ed4433904634172087cfd2": {
          "model_module": "@jupyter-widgets/controls",
          "model_module_version": "1.5.0",
          "model_name": "DescriptionStyleModel",
          "state": {
            "_model_module": "@jupyter-widgets/controls",
            "_model_module_version": "1.5.0",
            "_model_name": "DescriptionStyleModel",
            "_view_count": null,
            "_view_module": "@jupyter-widgets/base",
            "_view_module_version": "1.2.0",
            "_view_name": "StyleView",
            "description_width": ""
          }
        },
        "1f8fa5780ea04fb7ba5f48686a750616": {
          "model_module": "@jupyter-widgets/controls",
          "model_module_version": "1.5.0",
          "model_name": "TextModel",
          "state": {
            "_dom_classes": [],
            "_model_module": "@jupyter-widgets/controls",
            "_model_module_version": "1.5.0",
            "_model_name": "TextModel",
            "_view_count": null,
            "_view_module": "@jupyter-widgets/controls",
            "_view_module_version": "1.5.0",
            "_view_name": "TextView",
            "continuous_update": true,
            "description": "",
            "description_tooltip": null,
            "disabled": false,
            "layout": "IPY_MODEL_a08e71643b2b437597ad92858ceb2dbc",
            "placeholder": "​",
            "style": "IPY_MODEL_69939e349f7c4d8ba9db1c45a1fc9cc9",
            "value": "Elapsed Time: 2.92 seconds"
          }
        },
        "3518e6846a80410e931ba315dbb46254": {
          "model_module": "@jupyter-widgets/controls",
          "model_module_version": "1.5.0",
          "model_name": "TextModel",
          "state": {
            "_dom_classes": [],
            "_model_module": "@jupyter-widgets/controls",
            "_model_module_version": "1.5.0",
            "_model_name": "TextModel",
            "_view_count": null,
            "_view_module": "@jupyter-widgets/controls",
            "_view_module_version": "1.5.0",
            "_view_name": "TextView",
            "continuous_update": true,
            "description": "",
            "description_tooltip": null,
            "disabled": false,
            "layout": "IPY_MODEL_71a7b0664bff4bd0827418b286254366",
            "placeholder": "​",
            "style": "IPY_MODEL_92541e1fc6e64473af63ccfb3e8ec66b",
            "value": "Cancellation successful."
          }
        },
        "4e44a788d3aa4052ba827e2ba97d5b88": {
          "model_module": "@jupyter-widgets/controls",
          "model_module_version": "1.5.0",
          "model_name": "TextareaModel",
          "state": {
            "_dom_classes": [],
            "_model_module": "@jupyter-widgets/controls",
            "_model_module_version": "1.5.0",
            "_model_name": "TextareaModel",
            "_view_count": null,
            "_view_module": "@jupyter-widgets/controls",
            "_view_module_version": "1.5.0",
            "_view_name": "TextareaView",
            "continuous_update": true,
            "description": "",
            "description_tooltip": null,
            "disabled": false,
            "layout": "IPY_MODEL_a38aa7174a3045c8914162cad6957812",
            "placeholder": "Output will be displayed here...",
            "rows": null,
            "style": "IPY_MODEL_135040d663ed4433904634172087cfd2",
            "value": "Total:   2 TiB\nUsed:    282 B\nFree:    1.859 TiB\nTrashed: 0 B\nOther:   144.196 GiB\n"
          }
        },
        "53e7622c77fc44ffb0f301d8eeb34188": {
          "model_module": "@jupyter-widgets/base",
          "model_module_version": "1.2.0",
          "model_name": "LayoutModel",
          "state": {
            "_model_module": "@jupyter-widgets/base",
            "_model_module_version": "1.2.0",
            "_model_name": "LayoutModel",
            "_view_count": null,
            "_view_module": "@jupyter-widgets/base",
            "_view_module_version": "1.2.0",
            "_view_name": "LayoutView",
            "align_content": null,
            "align_items": null,
            "align_self": null,
            "border": null,
            "bottom": null,
            "display": null,
            "flex": null,
            "flex_flow": null,
            "grid_area": null,
            "grid_auto_columns": null,
            "grid_auto_flow": null,
            "grid_auto_rows": null,
            "grid_column": null,
            "grid_gap": null,
            "grid_row": null,
            "grid_template_areas": null,
            "grid_template_columns": null,
            "grid_template_rows": null,
            "height": null,
            "justify_content": null,
            "justify_items": null,
            "left": null,
            "margin": null,
            "max_height": null,
            "max_width": null,
            "min_height": null,
            "min_width": null,
            "object_fit": null,
            "object_position": null,
            "order": null,
            "overflow": null,
            "overflow_x": null,
            "overflow_y": null,
            "padding": null,
            "right": null,
            "top": null,
            "visibility": null,
            "width": null
          }
        },
        "5c16205a47b84dfd995c3740cbe97c09": {
          "model_module": "@jupyter-widgets/base",
          "model_module_version": "1.2.0",
          "model_name": "LayoutModel",
          "state": {
            "_model_module": "@jupyter-widgets/base",
            "_model_module_version": "1.2.0",
            "_model_name": "LayoutModel",
            "_view_count": null,
            "_view_module": "@jupyter-widgets/base",
            "_view_module_version": "1.2.0",
            "_view_name": "LayoutView",
            "align_content": null,
            "align_items": null,
            "align_self": null,
            "border": null,
            "bottom": null,
            "display": null,
            "flex": null,
            "flex_flow": null,
            "grid_area": null,
            "grid_auto_columns": null,
            "grid_auto_flow": null,
            "grid_auto_rows": null,
            "grid_column": null,
            "grid_gap": null,
            "grid_row": null,
            "grid_template_areas": null,
            "grid_template_columns": null,
            "grid_template_rows": null,
            "height": null,
            "justify_content": null,
            "justify_items": null,
            "left": null,
            "margin": null,
            "max_height": null,
            "max_width": null,
            "min_height": null,
            "min_width": null,
            "object_fit": null,
            "object_position": null,
            "order": null,
            "overflow": null,
            "overflow_x": null,
            "overflow_y": null,
            "padding": null,
            "right": null,
            "top": null,
            "visibility": null,
            "width": null
          }
        },
        "69939e349f7c4d8ba9db1c45a1fc9cc9": {
          "model_module": "@jupyter-widgets/controls",
          "model_module_version": "1.5.0",
          "model_name": "DescriptionStyleModel",
          "state": {
            "_model_module": "@jupyter-widgets/controls",
            "_model_module_version": "1.5.0",
            "_model_name": "DescriptionStyleModel",
            "_view_count": null,
            "_view_module": "@jupyter-widgets/base",
            "_view_module_version": "1.2.0",
            "_view_name": "StyleView",
            "description_width": ""
          }
        },
        "71a7b0664bff4bd0827418b286254366": {
          "model_module": "@jupyter-widgets/base",
          "model_module_version": "1.2.0",
          "model_name": "LayoutModel",
          "state": {
            "_model_module": "@jupyter-widgets/base",
            "_model_module_version": "1.2.0",
            "_model_name": "LayoutModel",
            "_view_count": null,
            "_view_module": "@jupyter-widgets/base",
            "_view_module_version": "1.2.0",
            "_view_name": "LayoutView",
            "align_content": null,
            "align_items": null,
            "align_self": null,
            "border": null,
            "bottom": null,
            "display": null,
            "flex": null,
            "flex_flow": null,
            "grid_area": null,
            "grid_auto_columns": null,
            "grid_auto_flow": null,
            "grid_auto_rows": null,
            "grid_column": null,
            "grid_gap": null,
            "grid_row": null,
            "grid_template_areas": null,
            "grid_template_columns": null,
            "grid_template_rows": null,
            "height": null,
            "justify_content": null,
            "justify_items": null,
            "left": null,
            "margin": null,
            "max_height": null,
            "max_width": null,
            "min_height": null,
            "min_width": null,
            "object_fit": null,
            "object_position": null,
            "order": null,
            "overflow": null,
            "overflow_x": null,
            "overflow_y": null,
            "padding": null,
            "right": null,
            "top": null,
            "visibility": null,
            "width": "100%"
          }
        },
        "779e5b04d0a640289397597c916ebcd4": {
          "model_module": "@jupyter-widgets/controls",
          "model_module_version": "1.5.0",
          "model_name": "DescriptionStyleModel",
          "state": {
            "_model_module": "@jupyter-widgets/controls",
            "_model_module_version": "1.5.0",
            "_model_name": "DescriptionStyleModel",
            "_view_count": null,
            "_view_module": "@jupyter-widgets/base",
            "_view_module_version": "1.2.0",
            "_view_name": "StyleView",
            "description_width": ""
          }
        },
        "79e1b6286c8d4f18ae861fc65d385b93": {
          "model_module": "@jupyter-widgets/controls",
          "model_module_version": "1.5.0",
          "model_name": "DescriptionStyleModel",
          "state": {
            "_model_module": "@jupyter-widgets/controls",
            "_model_module_version": "1.5.0",
            "_model_name": "DescriptionStyleModel",
            "_view_count": null,
            "_view_module": "@jupyter-widgets/base",
            "_view_module_version": "1.2.0",
            "_view_name": "StyleView",
            "description_width": ""
          }
        },
        "92541e1fc6e64473af63ccfb3e8ec66b": {
          "model_module": "@jupyter-widgets/controls",
          "model_module_version": "1.5.0",
          "model_name": "DescriptionStyleModel",
          "state": {
            "_model_module": "@jupyter-widgets/controls",
            "_model_module_version": "1.5.0",
            "_model_name": "DescriptionStyleModel",
            "_view_count": null,
            "_view_module": "@jupyter-widgets/base",
            "_view_module_version": "1.2.0",
            "_view_name": "StyleView",
            "description_width": ""
          }
        },
        "a08e71643b2b437597ad92858ceb2dbc": {
          "model_module": "@jupyter-widgets/base",
          "model_module_version": "1.2.0",
          "model_name": "LayoutModel",
          "state": {
            "_model_module": "@jupyter-widgets/base",
            "_model_module_version": "1.2.0",
            "_model_name": "LayoutModel",
            "_view_count": null,
            "_view_module": "@jupyter-widgets/base",
            "_view_module_version": "1.2.0",
            "_view_name": "LayoutView",
            "align_content": null,
            "align_items": null,
            "align_self": null,
            "border": null,
            "bottom": null,
            "display": null,
            "flex": null,
            "flex_flow": null,
            "grid_area": null,
            "grid_auto_columns": null,
            "grid_auto_flow": null,
            "grid_auto_rows": null,
            "grid_column": null,
            "grid_gap": null,
            "grid_row": null,
            "grid_template_areas": null,
            "grid_template_columns": null,
            "grid_template_rows": null,
            "height": null,
            "justify_content": null,
            "justify_items": null,
            "left": null,
            "margin": null,
            "max_height": null,
            "max_width": null,
            "min_height": null,
            "min_width": null,
            "object_fit": null,
            "object_position": null,
            "order": null,
            "overflow": null,
            "overflow_x": null,
            "overflow_y": null,
            "padding": null,
            "right": null,
            "top": null,
            "visibility": null,
            "width": "100%"
          }
        },
        "a38aa7174a3045c8914162cad6957812": {
          "model_module": "@jupyter-widgets/base",
          "model_module_version": "1.2.0",
          "model_name": "LayoutModel",
          "state": {
            "_model_module": "@jupyter-widgets/base",
            "_model_module_version": "1.2.0",
            "_model_name": "LayoutModel",
            "_view_count": null,
            "_view_module": "@jupyter-widgets/base",
            "_view_module_version": "1.2.0",
            "_view_name": "LayoutView",
            "align_content": null,
            "align_items": null,
            "align_self": null,
            "border": null,
            "bottom": null,
            "display": null,
            "flex": null,
            "flex_flow": null,
            "grid_area": null,
            "grid_auto_columns": null,
            "grid_auto_flow": null,
            "grid_auto_rows": null,
            "grid_column": null,
            "grid_gap": null,
            "grid_row": null,
            "grid_template_areas": null,
            "grid_template_columns": null,
            "grid_template_rows": null,
            "height": "150px",
            "justify_content": null,
            "justify_items": null,
            "left": null,
            "margin": null,
            "max_height": null,
            "max_width": null,
            "min_height": null,
            "min_width": null,
            "object_fit": null,
            "object_position": null,
            "order": null,
            "overflow": null,
            "overflow_x": null,
            "overflow_y": null,
            "padding": null,
            "right": null,
            "top": null,
            "visibility": null,
            "width": "100%"
          }
        },
        "a95d18403345494a8f96f6b09230e10f": {
          "model_module": "@jupyter-widgets/controls",
          "model_module_version": "1.5.0",
          "model_name": "DescriptionStyleModel",
          "state": {
            "_model_module": "@jupyter-widgets/controls",
            "_model_module_version": "1.5.0",
            "_model_name": "DescriptionStyleModel",
            "_view_count": null,
            "_view_module": "@jupyter-widgets/base",
            "_view_module_version": "1.2.0",
            "_view_name": "StyleView",
            "description_width": ""
          }
        },
        "ada1c385b9da484a9d935d5dfff6298a": {
          "model_module": "@jupyter-widgets/controls",
          "model_module_version": "1.5.0",
          "model_name": "ButtonStyleModel",
          "state": {
            "_model_module": "@jupyter-widgets/controls",
            "_model_module_version": "1.5.0",
            "_model_name": "ButtonStyleModel",
            "_view_count": null,
            "_view_module": "@jupyter-widgets/base",
            "_view_module_version": "1.2.0",
            "_view_name": "StyleView",
            "button_color": null,
            "font_weight": ""
          }
        },
        "bd2b1d06fafa477da0a0aa39cfb36174": {
          "model_module": "@jupyter-widgets/controls",
          "model_module_version": "1.5.0",
          "model_name": "DropdownModel",
          "state": {
            "_dom_classes": [],
            "_model_module": "@jupyter-widgets/controls",
            "_model_module_version": "1.5.0",
            "_model_name": "DropdownModel",
            "_options_labels": [
              "vodang2702",
              "vndang96",
              "duongle",
              "admin",
              "dangvn",
              "dangvo",
              "obt",
              "edward"
            ],
            "_view_count": null,
            "_view_module": "@jupyter-widgets/controls",
            "_view_module_version": "1.5.0",
            "_view_name": "DropdownView",
            "description": "Select Drive:",
            "description_tooltip": null,
            "disabled": false,
            "index": 0,
            "layout": "IPY_MODEL_53e7622c77fc44ffb0f301d8eeb34188",
            "style": "IPY_MODEL_a95d18403345494a8f96f6b09230e10f"
          }
        },
        "be5212cd249e467595902f93ea481116": {
          "model_module": "@jupyter-widgets/base",
          "model_module_version": "1.2.0",
          "model_name": "LayoutModel",
          "state": {
            "_model_module": "@jupyter-widgets/base",
            "_model_module_version": "1.2.0",
            "_model_name": "LayoutModel",
            "_view_count": null,
            "_view_module": "@jupyter-widgets/base",
            "_view_module_version": "1.2.0",
            "_view_name": "LayoutView",
            "align_content": null,
            "align_items": null,
            "align_self": null,
            "border": null,
            "bottom": null,
            "display": null,
            "flex": null,
            "flex_flow": null,
            "grid_area": null,
            "grid_auto_columns": null,
            "grid_auto_flow": null,
            "grid_auto_rows": null,
            "grid_column": null,
            "grid_gap": null,
            "grid_row": null,
            "grid_template_areas": null,
            "grid_template_columns": null,
            "grid_template_rows": null,
            "height": "30px",
            "justify_content": null,
            "justify_items": null,
            "left": null,
            "margin": null,
            "max_height": null,
            "max_width": null,
            "min_height": null,
            "min_width": null,
            "object_fit": null,
            "object_position": null,
            "order": null,
            "overflow": null,
            "overflow_x": null,
            "overflow_y": null,
            "padding": null,
            "right": null,
            "top": null,
            "visibility": null,
            "width": "100%"
          }
        },
        "c269529abb65459993052ed0ca66960d": {
          "model_module": "@jupyter-widgets/controls",
          "model_module_version": "1.5.0",
          "model_name": "TextareaModel",
          "state": {
            "_dom_classes": [],
            "_model_module": "@jupyter-widgets/controls",
            "_model_module_version": "1.5.0",
            "_model_name": "TextareaModel",
            "_view_count": null,
            "_view_module": "@jupyter-widgets/controls",
            "_view_module_version": "1.5.0",
            "_view_name": "TextareaView",
            "continuous_update": true,
            "description": "",
            "description_tooltip": null,
            "disabled": false,
            "layout": "IPY_MODEL_ee5fc35f6b854bee9fc8b12676531984",
            "placeholder": "​",
            "rows": null,
            "style": "IPY_MODEL_79e1b6286c8d4f18ae861fc65d385b93",
            "value": "Total:   30 TiB\nUsed:    2.403 TiB\nFree:    27.595 TiB\nTrashed: 0 B\nOther:   1.535 GiB\n"
          }
        },
        "cd331cb6d270462f88788d691ac2a5a8": {
          "model_module": "@jupyter-widgets/controls",
          "model_module_version": "1.5.0",
          "model_name": "DescriptionStyleModel",
          "state": {
            "_model_module": "@jupyter-widgets/controls",
            "_model_module_version": "1.5.0",
            "_model_name": "DescriptionStyleModel",
            "_view_count": null,
            "_view_module": "@jupyter-widgets/base",
            "_view_module_version": "1.2.0",
            "_view_name": "StyleView",
            "description_width": ""
          }
        },
        "d7b7c3162bdf4b5185de162e24e03aca": {
          "model_module": "@jupyter-widgets/base",
          "model_module_version": "1.2.0",
          "model_name": "LayoutModel",
          "state": {
            "_model_module": "@jupyter-widgets/base",
            "_model_module_version": "1.2.0",
            "_model_name": "LayoutModel",
            "_view_count": null,
            "_view_module": "@jupyter-widgets/base",
            "_view_module_version": "1.2.0",
            "_view_name": "LayoutView",
            "align_content": null,
            "align_items": null,
            "align_self": null,
            "border": null,
            "bottom": null,
            "display": null,
            "flex": null,
            "flex_flow": null,
            "grid_area": null,
            "grid_auto_columns": null,
            "grid_auto_flow": null,
            "grid_auto_rows": null,
            "grid_column": null,
            "grid_gap": null,
            "grid_row": null,
            "grid_template_areas": null,
            "grid_template_columns": null,
            "grid_template_rows": null,
            "height": null,
            "justify_content": null,
            "justify_items": null,
            "left": null,
            "margin": null,
            "max_height": null,
            "max_width": null,
            "min_height": null,
            "min_width": null,
            "object_fit": null,
            "object_position": null,
            "order": null,
            "overflow": null,
            "overflow_x": null,
            "overflow_y": null,
            "padding": null,
            "right": null,
            "top": null,
            "visibility": null,
            "width": null
          }
        },
        "ee5fc35f6b854bee9fc8b12676531984": {
          "model_module": "@jupyter-widgets/base",
          "model_module_version": "1.2.0",
          "model_name": "LayoutModel",
          "state": {
            "_model_module": "@jupyter-widgets/base",
            "_model_module_version": "1.2.0",
            "_model_name": "LayoutModel",
            "_view_count": null,
            "_view_module": "@jupyter-widgets/base",
            "_view_module_version": "1.2.0",
            "_view_name": "LayoutView",
            "align_content": null,
            "align_items": null,
            "align_self": null,
            "border": null,
            "bottom": null,
            "display": null,
            "flex": null,
            "flex_flow": null,
            "grid_area": null,
            "grid_auto_columns": null,
            "grid_auto_flow": null,
            "grid_auto_rows": null,
            "grid_column": null,
            "grid_gap": null,
            "grid_row": null,
            "grid_template_areas": null,
            "grid_template_columns": null,
            "grid_template_rows": null,
            "height": "100px",
            "justify_content": null,
            "justify_items": null,
            "left": null,
            "margin": null,
            "max_height": null,
            "max_width": null,
            "min_height": null,
            "min_width": null,
            "object_fit": null,
            "object_position": null,
            "order": null,
            "overflow": null,
            "overflow_x": null,
            "overflow_y": null,
            "padding": null,
            "right": null,
            "top": null,
            "visibility": null,
            "width": "15%"
          }
        },
        "fa7f191592a341b3adbf0fe679bb6686": {
          "model_module": "@jupyter-widgets/controls",
          "model_module_version": "1.5.0",
          "model_name": "TextModel",
          "state": {
            "_dom_classes": [],
            "_model_module": "@jupyter-widgets/controls",
            "_model_module_version": "1.5.0",
            "_model_name": "TextModel",
            "_view_count": null,
            "_view_module": "@jupyter-widgets/controls",
            "_view_module_version": "1.5.0",
            "_view_name": "TextView",
            "continuous_update": true,
            "description": "Path:",
            "description_tooltip": null,
            "disabled": false,
            "layout": "IPY_MODEL_be5212cd249e467595902f93ea481116",
            "placeholder": "English/Mind maps English",
            "style": "IPY_MODEL_779e5b04d0a640289397597c916ebcd4",
            "value": "1Team HSG [Backup]"
          }
        }
      }
    }
  },
  "nbformat": 4,
  "nbformat_minor": 0
}