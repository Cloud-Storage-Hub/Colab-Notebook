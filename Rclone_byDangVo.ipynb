{
  "cells": [
    {
      "cell_type": "markdown",
      "metadata": {
        "id": "view-in-github",
        "colab_type": "text"
      },
      "source": [
        "<a href=\"https://colab.research.google.com/github/vonguyendang/colab-notebook/blob/main/Rclone_byDangVo.ipynb\" target=\"_parent\"><img src=\"https://colab.research.google.com/assets/colab-badge.svg\" alt=\"Open In Colab\"/></a>"
      ]
    },
    {
      "cell_type": "markdown",
      "metadata": {
        "id": "NkXRpNhJmjFp"
      },
      "source": [
        "#**START**"
      ]
    },
    {
      "cell_type": "code",
      "execution_count": null,
      "metadata": {
        "cellView": "form",
        "collapsed": true,
        "id": "FX4mU9QtkqVf"
      },
      "outputs": [],
      "source": [
        "#@title Kiểm tra hệ thống\n",
        "import psutil\n",
        "import datetime\n",
        "import pytz\n",
        "\n",
        "# Lấy giá trị sử dụng CPU hiện tại\n",
        "cpu_percent = psutil.cpu_percent(percpu=True)\n",
        "print(\"Sử dụng CPU theo từng lõi (%):\", cpu_percent)\n",
        "\n",
        "# Lấy giá trị trung bình sử dụng CPU\n",
        "avg_cpu_percent = psutil.cpu_percent(interval=1)\n",
        "print(\"\\nGiá trị trung bình sử dụng CPU (%):\", avg_cpu_percent)\n",
        "\n",
        "# Lấy thông tin về bộ nhớ\n",
        "svmem = psutil.virtual_memory()\n",
        "total_memory_gb = svmem.total / (1024 ** 3)\n",
        "used_memory_gb = svmem.used / (1024 ** 3)\n",
        "percent_memory_used = svmem.percent\n",
        "\n",
        "# Lấy thông tin về dung lượng ổ đĩa\n",
        "sdiskusage = psutil.disk_usage('/')\n",
        "total_disk_gb = sdiskusage.total / (1024 ** 3)\n",
        "used_disk_gb = sdiskusage.used / (1024 ** 3)\n",
        "percent_disk_used = sdiskusage.percent\n",
        "\n",
        "print(\"\\nBộ nhớ:\")\n",
        "print(f\"  Tổng: {total_memory_gb:.2f} GB\")\n",
        "print(f\"  Đã sử dụng: {used_memory_gb:.2f} GB\")\n",
        "print(f\"  Phần trăm đã sử dụng: {percent_memory_used:.1f}%\")\n",
        "\n",
        "print(\"\\nDung lượng ổ đĩa:\")\n",
        "print(f\"  Tổng: {total_disk_gb:.2f} GB\")\n",
        "print(f\"  Đã sử dụng: {used_disk_gb:.2f} GB\")\n",
        "print(f\"  Phần trăm đã sử dụng: {percent_disk_used:.1f}%\")\n",
        "\n",
        "# Lấy thông tin về các kết nối mạng\n",
        "connections = psutil.net_connections()\n",
        "print(\"\\nSố lượng kết nối mạng:\", len(connections))\n",
        "\n",
        "# Lấy thời gian khởi động của hệ thống\n",
        "boot_time_timestamp = psutil.boot_time()\n",
        "\n",
        "# Chuyển đổi thời gian khởi động thành đối tượng datetime\n",
        "boot_time_datetime = datetime.datetime.fromtimestamp(boot_time_timestamp)\n",
        "\n",
        "# Lấy múi giờ của Việt Nam\n",
        "vietnam_timezone = pytz.timezone('Asia/Ho_Chi_Minh')\n",
        "\n",
        "# Chuyển đổi thời gian khởi động sang múi giờ Việt Nam\n",
        "boot_time_vietnam = pytz.utc.localize(boot_time_datetime).astimezone(vietnam_timezone)\n",
        "\n",
        "# Định dạng thời gian theo chuỗi\n",
        "boot_time_str = boot_time_vietnam.strftime(\"%Y-%m-%d %H:%M:%S %Z\")\n",
        "print(\"\\nThời gian khởi động của hệ thống theo múi giờ Việt Nam:\", boot_time_str)\n",
        "\n",
        "# Lấy thông tin về dữ liệu mạng đã truyền\n",
        "net_io = psutil.net_io_counters()\n",
        "\n",
        "# Chuyển đổi dữ liệu tải xuống từ byte sang GB\n",
        "download_gb = net_io.bytes_recv / (1024**3)\n",
        "print(f\"\\nDữ liệu tải xuống (GB): {download_gb:.2f} GB\")\n",
        "\n",
        "def d():\n",
        "    return [\n",
        "        \"  ____  \",\n",
        "        \" |  _ \\\\ \",\n",
        "        \" | | | |\",\n",
        "        \" | |_| |\",\n",
        "        \" |____/ \"\n",
        "    ]\n",
        "\n",
        "def a():\n",
        "    return [\n",
        "        \"     _    \",\n",
        "        \"    / \\\\   \",\n",
        "        \"   / _ \\\\  \",\n",
        "        \"  / ___ \\\\ \",\n",
        "        \" /_/   \\\\_\\\\\"\n",
        "    ]\n",
        "\n",
        "def n():\n",
        "    return [\n",
        "        \"  _   _  \",\n",
        "        \" | \\\\ | | \",\n",
        "        \" |  \\\\| | \",\n",
        "        \" | . ` | \",\n",
        "        \" |_|\\\\ _| \",\n",
        "    ]\n",
        "\n",
        "def g():\n",
        "    return [\n",
        "        \"  ____  \",\n",
        "        \" / ___| \",\n",
        "        \"| |  _  \",\n",
        "        \"| |_| | \",\n",
        "        \" \\\\____| \"\n",
        "    ]\n",
        "\n",
        "def v():\n",
        "    return [\n",
        "        \"__      __\",\n",
        "        \"\\\\ \\\\    / /\",\n",
        "        \" \\\\ \\\\  / / \",\n",
        "        \"  \\\\ \\\\/ /  \",\n",
        "        \"   \\\\__/   \"\n",
        "    ]\n",
        "\n",
        "def o():\n",
        "    return [\n",
        "        \"  ___  \",\n",
        "        \" / _ \\\\ \",\n",
        "        \"| | | |\",\n",
        "        \"| |_| |\",\n",
        "        \" \\\\___/ \"\n",
        "    ]\n",
        "\n",
        "def print_dang_vo():\n",
        "    letters = [d(), a(), n(), g(), v(), o()]\n",
        "    max_height = max(len(letter) for letter in letters)\n",
        "\n",
        "    for i in range(max_height):\n",
        "        for letter in letters:\n",
        "            if i < len(letter):\n",
        "                print(letter[i], end=\"  \")\n",
        "            else:\n",
        "                print(\" \" * len(letter[0]), end=\"  \")\n",
        "        print()\n",
        "\n",
        "print_dang_vo()"
      ]
    },
    {
      "cell_type": "code",
      "execution_count": null,
      "metadata": {
        "cellView": "form",
        "collapsed": true,
        "id": "SIVvKN1XSVyx"
      },
      "outputs": [],
      "source": [
        "#@title Đặt thời gian theo Asia/Ho_Chi_Minh\n",
        "# Kiểm tra múi giờ hiện tại\n",
        "!date\n",
        "\n",
        "# Cài đặt múi giờ thành Asia/Ho_Chi_Minh\n",
        "!ln -sf /usr/share/zoneinfo/Asia/Ho_Chi_Minh /etc/localtime\n",
        "!echo \"Asia/Ho_Chi_Minh\" > /etc/timezone\n",
        "\n",
        "# Kiểm tra lại múi giờ sau khi thay đổi\n",
        "!date\n"
      ]
    },
    {
      "cell_type": "code",
      "execution_count": null,
      "metadata": {
        "cellView": "form",
        "collapsed": true,
        "id": "52h5TD5okZeN"
      },
      "outputs": [],
      "source": [
        "#@title Kiểm tra tốc độ mạng\n",
        "!curl -s https://raw.githubusercontent.com/sivel/speedtest-cli/master/speedtest.py | python -"
      ]
    },
    {
      "cell_type": "code",
      "execution_count": null,
      "metadata": {
        "cellView": "form",
        "collapsed": true,
        "id": "G9eGQ8dEem_V"
      },
      "outputs": [],
      "source": [
        "#@title 1. Cài đặt rclone\n",
        "!sudo -v ; curl https://rclone.org/install.sh | sudo bash"
      ]
    },
    {
      "cell_type": "code",
      "execution_count": null,
      "metadata": {
        "cellView": "form",
        "collapsed": true,
        "id": "shxMdFsPfF4_"
      },
      "outputs": [],
      "source": [
        "#@title 2. Kiểm tra path file config\n",
        "!rclone config file"
      ]
    },
    {
      "cell_type": "markdown",
      "metadata": {
        "id": "fdDDUJ7oxj3s"
      },
      "source": [
        "**3. Chọn 3.1 hoặc 3.2 để cấu hình rclone.conf**"
      ]
    },
    {
      "cell_type": "code",
      "execution_count": null,
      "metadata": {
        "cellView": "form",
        "collapsed": true,
        "id": "DuCf80UMwDDM"
      },
      "outputs": [],
      "source": [
        "#@title 3.1 Tạo và thêm nội dung vào file rclone.conf\n",
        "# Phải upload file config lên drive trước\n",
        "# Đường dẫn tới file gốc và file đích\n",
        "file1_path = \"/content/drive/MyDrive/rclone/rclone.conf\"\n",
        "file2_path = \"/root/.config/rclone/rclone.conf\"\n",
        "\n",
        "# Đọc nội dung từ file1.txt\n",
        "with open(file1_path, 'r') as file1:\n",
        "    content = file1.read()\n",
        "\n",
        "# Ghi nội dung vào file2.txt\n",
        "with open(file2_path, 'w') as file2:\n",
        "    file2.write(content)\n",
        "\n",
        "print(f\"Nội dung từ {file1_path} đã được sao chép sang {file2_path}.\")\n"
      ]
    },
    {
      "cell_type": "code",
      "execution_count": null,
      "metadata": {
        "cellView": "form",
        "collapsed": true,
        "id": "YvX-OaF_ymaX"
      },
      "outputs": [],
      "source": [
        "#@title So sánh nội dung đã thêm\n",
        "# Đọc và hiển thị nội dung của file1.txt\n",
        "print(\"Nội dung của file1.txt:\")\n",
        "with open(file1_path, 'r') as file1:\n",
        "    print(file1.read())\n",
        "\n",
        "# Đọc và hiển thị nội dung của file2.txt\n",
        "print(\"\\nNội dung của file2.txt:\")\n",
        "with open(file2_path, 'r') as file2:\n",
        "    print(file2.read())"
      ]
    },
    {
      "cell_type": "code",
      "execution_count": null,
      "metadata": {
        "cellView": "form",
        "id": "N67zTOHkfM3J"
      },
      "outputs": [],
      "source": [
        "#@title 3.2 Tạo thư mục chứa file config\n",
        "#!touch /root/.config/rclone/"
      ]
    },
    {
      "cell_type": "markdown",
      "metadata": {
        "id": "GlL2p8Ebp9bZ"
      },
      "source": [
        "Kéo file rclone.conf từ /Users/dangvo/.config/rclone/rclone.conf trên local vào /root/.config/rclone/"
      ]
    },
    {
      "cell_type": "code",
      "execution_count": null,
      "metadata": {
        "id": "vxeImH1nxILX"
      },
      "outputs": [],
      "source": [
        "# Cài đặt giải nén\n",
        "!apt-get install unrar\n",
        "!apt-get install p7zip-full"
      ]
    },
    {
      "cell_type": "markdown",
      "metadata": {
        "id": "jOMsMQwD3hMR"
      },
      "source": [
        "#**Kiểm tra hạn ngạch drive**"
      ]
    },
    {
      "cell_type": "markdown",
      "metadata": {
        "id": "J0eDKxxxPCQd"
      },
      "source": [
        "#**Kiểm tra kích thước thư mục**"
      ]
    },
    {
      "cell_type": "code",
      "execution_count": null,
      "metadata": {
        "collapsed": true,
        "id": "PF5CaR77oxzy",
        "cellView": "form"
      },
      "outputs": [],
      "source": [
        "#@title 4. Kiểm tra các cloud đã kết nối\n",
        "!rclone config"
      ]
    },
    {
      "cell_type": "code",
      "execution_count": null,
      "metadata": {
        "cellView": "form",
        "id": "y2ebLODFl3Nv"
      },
      "outputs": [],
      "source": [
        "#@title Kiểm tra dung lượng lưu trữ\n",
        "import ipywidgets as widgets\n",
        "from IPython.display import display\n",
        "import os\n",
        "import configparser\n",
        "\n",
        "# Đọc nội dung từ file rclone.conf\n",
        "with open(\"/root/.config/rclone/rclone.conf\", \"r\") as f:\n",
        "    content = f.read()\n",
        "\n",
        "# Sử dụng configparser để phân tích cấu trúc của file cấu hình\n",
        "config = configparser.ConfigParser()\n",
        "config.read_string(content)\n",
        "\n",
        "# Trích xuất danh sách các section (drives)\n",
        "drive_list = config.sections()\n",
        "# Danh sách các drive\n",
        "# drive_list = [\"vndang96\", \"duongle\", \"vodang2702\"]\n",
        "\n",
        "def execute_rclone_about(drive):\n",
        "    command = f\"rclone about {drive}:\"\n",
        "    output = os.popen(command).read()\n",
        "    output_text.value = output\n",
        "\n",
        "# Tạo trường RadioButton cho các drive\n",
        "drive_radio_buttons = widgets.RadioButtons(\n",
        "    options=drive_list,\n",
        "    description=\"Select Drive:\"\n",
        ")\n",
        "\n",
        "output_text = widgets.Textarea(layout={'width': '15%', 'height': '100px'})\n",
        "# Hiển thị trường RadioButton\n",
        "display(drive_radio_buttons, output_text)\n",
        "\n",
        "# Thực thi hàm execute_rclone_about khi chọn drive\n",
        "drive_radio_buttons.observe(lambda change: execute_rclone_about(change.new), names='value')\n"
      ]
    },
    {
      "cell_type": "code",
      "source": [
        "#@title Kiểm tra kích thước thư mục v2\n",
        "#@markdown <center><h5>Nhập tên drive đã được cấu hình trong rclone (mặc định: vodang2702)</h5></center>\n",
        "Drive = \"vodang2702\"  # @param {type:\"string\"}\n",
        "while not Drive:\n",
        "  Drive = input(\"Vui lòng nhập tên drive: \")\n",
        "\n",
        "#@markdown ---\n",
        "\n",
        "#@markdown <center><h5>CHỌN MỘT TRONG HAI CÁCH SAU:</h5></center>\n",
        "\n",
        "#@markdown <center><h6>Cách 1: Nhập đường dẫn đến thư mục/tệp (ví dụ: check dao van hoặc English/Mind maps English)</h6></center>\n",
        "Path = \"\"  # @param {type:\"string\"}\n",
        "\n",
        "#@markdown <center><h6>HOẶC</h6></center>\n",
        "\n",
        "#@markdown <center><h6>Cách 2: Dán liên kết đến thư mục/tệp (ví dụ: https://drive.google.com/drive/folders/...)</h6></center>\n",
        "URL = \"\"  # @param {type:\"string\"}\n",
        "\n",
        "#@markdown ---\n",
        "\n",
        "import re\n",
        "\n",
        "if Path and URL:\n",
        "  print(\"Vui lòng chỉ chọn một trong hai cách nhập: Đường dẫn PATH hoặc URL.\")\n",
        "elif not Path and not URL:\n",
        "  print(\"Vui lòng nhập đường dẫn PATH hoặc URL.\")\n",
        "else:\n",
        "  if URL:\n",
        "    # Trích xuất ID thư mục từ URL (nếu có)\n",
        "    id = re.search(r\"/folders/([a-zA-Z0-9_-]+)\", URL)\n",
        "    if id:\n",
        "      command = f'rclone size \"{Drive},root_folder_id={id.group(1)}\":'\n",
        "    else:\n",
        "      print(\"Không thể trích xuất ID thư mục từ URL. Vui lòng kiểm tra lại URL.\")\n",
        "      exit()  # Thoát nếu không tìm thấy ID\n",
        "  if Path:\n",
        "     command = f'rclone size \"{Drive}\":\"{Path}\"'\n",
        "\n",
        "  result = !{command}\n",
        "\n",
        " # Kiểm tra lỗi và hiển thị kết quả\n",
        "  if result[0].startswith(\"20\"):\n",
        "    print(\"Lỗi:\", result[0])\n",
        "  else:\n",
        "    for line in result:  # Duyệt qua từng dòng trong result\n",
        "      print(line)       # In từng dòng\n"
      ],
      "metadata": {
        "id": "flf-k52TydaX",
        "cellView": "form"
      },
      "execution_count": null,
      "outputs": []
    },
    {
      "cell_type": "code",
      "execution_count": null,
      "metadata": {
        "cellView": "form",
        "id": "RSneo0ZQOgBQ"
      },
      "outputs": [],
      "source": [
        "#@title Kiểm tra kích thước thư mục v1\n",
        "import ipywidgets as widgets\n",
        "from IPython.display import display\n",
        "import os\n",
        "import time\n",
        "import configparser\n",
        "\n",
        "# Đọc nội dung từ file rclone.conf\n",
        "with open(\"/root/.config/rclone/rclone.conf\", \"r\") as f:\n",
        "    content = f.read()\n",
        "\n",
        "# Sử dụng configparser để phân tích cấu trúc của file cấu hình\n",
        "config = configparser.ConfigParser()\n",
        "config.read_string(content)\n",
        "\n",
        "# Trích xuất danh sách các section (drives)\n",
        "drive_list = config.sections()\n",
        "\n",
        "def execute_rclone_size(drive):\n",
        "    path = path_input.value\n",
        "    command = f'rclone size \"{drive}:{path}\"'\n",
        "    print(f\"Executing command: {command}\")\n",
        "\n",
        "    start_time = time.time()  # Lấy thời gian bắt đầu\n",
        "\n",
        "    result = os.popen(command).read()\n",
        "    end_time = time.time()  # Lấy thời gian kết thúc\n",
        "    elapsed_time = end_time - start_time  # Tính thời gian thực thi\n",
        "\n",
        "    output_text.value = result\n",
        "\n",
        "    elapsed_time_text.value = f\"Elapsed Time: {elapsed_time:.2f} seconds\"\n",
        "\n",
        "def on_path_input_submit(change):\n",
        "    execute_rclone_size(drive_dropdown.value)\n",
        "\n",
        "# Tạo trường dropdown\n",
        "drive_dropdown = widgets.Dropdown(\n",
        "    options=drive_list,\n",
        "    description=\"Select Drive:\"\n",
        ")\n",
        "\n",
        "# Nhập đường dẫn thư mục\n",
        "path_input = widgets.Text(\n",
        "    description=\"Path:\",\n",
        "    placeholder=\"English/Mind maps English\",\n",
        "    layout={'width': '100%', 'height': '30px'}\n",
        ")\n",
        "\n",
        "def on_path_input_submit(change):\n",
        "    execute_rclone_size(drive_dropdown.value)\n",
        "\n",
        "path_input.on_submit(on_path_input_submit)\n",
        "\n",
        "# Widget để hiển thị kết quả\n",
        "output_text = widgets.Textarea(\n",
        "    layout={'height': '150px', 'width': '100%'},\n",
        "    placeholder=\"Output will be displayed here...\"\n",
        ")\n",
        "\n",
        "# Widget để hiển thị thời gian thực thi\n",
        "elapsed_time_text = widgets.Text(\n",
        "    layout={'width': '100%'}\n",
        ")\n",
        "\n",
        "# Tạo nút huỷ lệnh\n",
        "cancel_button = widgets.Button(description=\"Cancel\", button_style=\"danger\")\n",
        "\n",
        "# Tạo widget để hiển thị thông báo\n",
        "cancel_status = widgets.Text(layout={'width': '100%'})\n",
        "\n",
        "def cancel_execution(_):\n",
        "    # Nếu có một lệnh đang thực thi, hãy cố gắng kết thúc nó\n",
        "    os.system(\"pkill -f 'rclone size'\")\n",
        "    cancel_status.value = \"Cancellation successful.\"\n",
        "\n",
        "# Gắn hàm cancel_execution vào sự kiện click của nút\n",
        "cancel_button.on_click(cancel_execution)\n",
        "\n",
        "# Hiển thị nút huỷ lệnh cùng các widget khác\n",
        "display(drive_dropdown, path_input, output_text, elapsed_time_text, cancel_button, cancel_status)\n"
      ]
    },
    {
      "cell_type": "markdown",
      "metadata": {
        "id": "dtuv_dKk509L"
      },
      "source": [
        "#**Thực thi lệnh copy, sync**"
      ]
    },
    {
      "cell_type": "markdown",
      "source": [
        "**Thao tác nhanh**"
      ],
      "metadata": {
        "id": "9Qrmoida54Ir"
      }
    },
    {
      "cell_type": "code",
      "source": [
        "#@title Download file/folder từ Google Drive URL\n",
        "#@markdown <h5>Chức năng download file/foder từ Google drive URL được share public, Lưu vào My Drive</center>\n",
        "\n",
        "#@markdown ---\n",
        "\n",
        "#@markdown <h6>Dán liên kết đến thư mục/tệp (ví dụ: https://drive.google.com/drive/folders/...)</h6>\n",
        "\n",
        "Google_Drive_Url = \"https://drive.google.com/drive/folders/1I7VSoUdSXSJ_r6Bm0y0l1j7TXbKdWNQD\"  # @param {type:\"string\"}\n",
        "\n",
        "#@markdown <h6>Nhập đường dẫn đến thư mục đích cần lưu file/folder (ví dụ: vodang2702:New Folder)</h6>\n",
        "\n",
        "Target_Folder = \"vodang2702:1.5 Ao Lua\"  # @param {type:\"string\"}\n",
        "\n",
        "#@markdown ---\n",
        "\n",
        "import re\n",
        "\n",
        "if not Google_Drive_Url and not Target_Folder:\n",
        "  print(\"Vui lòng nhập Google_Drive_Url và Target_Folder.\")\n",
        "else:\n",
        "  if Target_Folder:\n",
        "    drive = re.search(r\"^(.+?):\", Target_Folder)  # Tìm kiếm phần trước dấu \":\"\n",
        "    if drive:\n",
        "        mydrive = drive.group(1)       # Lấy phần đã tìm thấy (mydrive)\n",
        "        print(mydrive)\n",
        "    else:\n",
        "        print(\"Không thể trích xuất MyDrive từ Target_Folder. Vui lòng kiểm tra lại Target_Folder.\")\n",
        "        exit()  # Thoát nếu không tìm thấy MyDrive\n",
        "  if Google_Drive_Url:\n",
        "    # Trích xuất ID thư mục từ URL (nếu có)\n",
        "    id = re.search(r\"/folders/([a-zA-Z0-9_-]+)\", Google_Drive_Url)\n",
        "    if id:\n",
        "      command = f\"rclone copy -v --transfers 20 --checkers 40 '{mydrive},root_folder_id=\\\"{id.group(1)}\\\":' '{Target_Folder}'\"\n",
        "      print(command)\n",
        "    else:\n",
        "      print(\"Không thể trích xuất ID thư mục từ Google_Drive_Url. Vui lòng kiểm tra lại Google_Drive_Url.\")\n",
        "      exit()  # Thoát nếu không tìm thấy ID\n",
        "\n",
        "  result = !{command}\n",
        " # Kiểm tra lỗi và hiển thị kết quả\n",
        "  if result:  # Nếu result không rỗng\n",
        "    if result[0].startswith(\"20\"):\n",
        "      print(\"Lỗi:\", result[0])\n",
        "    else:\n",
        "      for line in result:\n",
        "        print(line)\n",
        "  else:\n",
        "    print(\"Không tìm thấy thư mục hoặc tệp.\")"
      ],
      "metadata": {
        "id": "dDp9xWlct-wA",
        "cellView": "form"
      },
      "execution_count": null,
      "outputs": []
    },
    {
      "cell_type": "markdown",
      "metadata": {
        "id": "7Uoq-Xd355PE"
      },
      "source": [
        "**Thao tác lệnh copy**"
      ]
    },
    {
      "cell_type": "markdown",
      "metadata": {
        "id": "SVDyrIPf59He"
      },
      "source": [
        "*Không in log ra màn hình, ghi log vào file*"
      ]
    },
    {
      "cell_type": "code",
      "execution_count": null,
      "metadata": {
        "id": "yvNR3VZg6CZH"
      },
      "outputs": [],
      "source": [
        "# Copy folder từ google drive sang one drive + ghi log vào file\n",
        "# VD: !rclone copy -v --transfers 12 vodang2702:\"Khoá Học 2TB\" admin:\"Khoá Học 2TB\" --log-file /content/sample_data/logfile.txt\n",
        "\n",
        "!rclone copy -v --transfers 12 vodang2702:\"Khoá Học 2TB\" admin:\"Khoá Học 2TB\" --log-file /content/sample_data/logfile.txt"
      ]
    },
    {
      "cell_type": "code",
      "execution_count": null,
      "metadata": {
        "id": "UQDJT6By6ILB"
      },
      "outputs": [],
      "source": [
        "# Copy folder được chia sẻ vào drive (cùng tài khoản gmail) + ghi log vào file\n",
        "# VD:!rclone copy -v --drive-shared-with-me --server-side-across-configs --transfers 12 --checkers 20 --bwlimit 0 \"vodang2702:1Team HSG [Backup]\"  \"vodang2702:1Team HSG [BK]\" --log-file /content/sample_data/logfile.txt\n",
        "\n",
        "!rclone copy -v --drive-shared-with-me --server-side-across-configs --transfers 10 --checkers 20 --bwlimit 0 \"vodang2702:1Team HSG [Backup]\"  \"vodang2702:1Team HSG [BK]\" --log-file /content/sample_data/logfile.txt\n"
      ]
    },
    {
      "cell_type": "markdown",
      "metadata": {
        "id": "j4sw_cKd6KuS"
      },
      "source": [
        "*Ghi log ra màn hình*"
      ]
    },
    {
      "cell_type": "code",
      "execution_count": null,
      "metadata": {
        "id": "gjqPy7WB6PLz"
      },
      "outputs": [],
      "source": [
        "# Copy folder từ google drive sang one drive + in log ra màn hình\n",
        "# VD: !rclone copy -v --transfers 15 vodang2702:\"Khoá Học 2TB\" admin:\"Khoá Học 2TB\"\n",
        "\n",
        "!rclone copy -v --transfers 10 --checkers 20 vodang2702:\"Khoá Học 2TB\" admin:\"Khoá Học 2TB\""
      ]
    },
    {
      "cell_type": "code",
      "execution_count": null,
      "metadata": {
        "id": "_mHd3lvI6TIn"
      },
      "outputs": [],
      "source": [
        "# Copy folder từ google drive sang one drive, bỏ qua file đã tồn tại ở thư mục đích (copy thêm), giới hạn băng thông và số lượng luồng song song\n",
        "# VD: !rclone copy -vP --bwlimit 7M --ignore-existing --transfers 15 vodang2702:\"Khoá Học 2TB\" admin:\"Khoá Học 2TB\"\n",
        "\n",
        "!rclone copy -v --checkers 40 --transfers 15 vodang2702:\"Khoá Học 2TB\" admin:\"Khoá Học 2TB\""
      ]
    },
    {
      "cell_type": "code",
      "execution_count": null,
      "metadata": {
        "id": "DVuebWUSb2zN"
      },
      "outputs": [],
      "source": [
        "!rclone copy -vv --ignore-existing -P -u --check-first \"vodang2702:1Team HSG [Backup]\" \"vodang2702:1Team HSG\""
      ]
    },
    {
      "cell_type": "code",
      "execution_count": null,
      "metadata": {
        "id": "LKJb6I9eKI4K"
      },
      "outputs": [],
      "source": [
        "!rclone size \"vodang2702:FREE - DesignsBurner -  BIGGEST PACK - Part 2\""
      ]
    },
    {
      "cell_type": "code",
      "source": [
        "!rclone copy -v --transfers 20 --checkers 40 'vodang2702,root_folder_id=\"1I7VSoUdSXSJ_r6Bm0y0l1j7TXbKdWNQD\":' 'vodang2702:1.5 Ao Lua'"
      ],
      "metadata": {
        "id": "c-rLiKgWB8X8"
      },
      "execution_count": null,
      "outputs": []
    },
    {
      "cell_type": "code",
      "source": [
        "!rclone copy -v --transfers 20 --checkers 40 'vodang2702,root_folder_id=\"1WBvzRvV7z2nR5sZfTOQEQroB19g4IRDn\":' \"vodang2702:229.PHOTOSHOP HUYTRAINING\""
      ],
      "metadata": {
        "id": "u76mOk-aBjed",
        "collapsed": true
      },
      "execution_count": null,
      "outputs": []
    },
    {
      "cell_type": "code",
      "execution_count": null,
      "metadata": {
        "id": "rZPM9WMC6Wxn",
        "collapsed": true
      },
      "outputs": [],
      "source": [
        "!rclone copy -v --ignore-existing -u --check-first --transfers 20 --checkers 40 \"vodang2702:TONG HOP KHOA HOC FULL/Khóa Họcxx\" \"vodang2702:TONG HOP KHOA HOC FULL/Khóa Học vidieu1112\""
      ]
    },
    {
      "cell_type": "code",
      "execution_count": null,
      "metadata": {
        "id": "yvtn_Cv_YNi9"
      },
      "outputs": [],
      "source": [
        "!rclone dedupe -vvP \"vodang2702:1Team HSG [BK]\" --dedupe-mode skip --checkers=16 --buffer-size=64M --log-file /content/drive/MyDrive/Log-rclone-colab/logfile.txt"
      ]
    },
    {
      "cell_type": "code",
      "execution_count": null,
      "metadata": {
        "id": "RLlQ8DbmxNcg"
      },
      "outputs": [],
      "source": [
        "!rclone dedupe -vv \"vodang2702:1Team HSG\" --dedupe-mode skip --checkers=16 --buffer-size=64M"
      ]
    },
    {
      "cell_type": "code",
      "execution_count": null,
      "metadata": {
        "collapsed": true,
        "id": "1Eqa2BmT_cST"
      },
      "outputs": [],
      "source": [
        "!rclone copy -v --drive-shared-with-me --server-side-across-configs \"vodang2702:Melody Marks [43GB]\"  \"vodang2702:1Team HSG/Melody Marks [43GB]\""
      ]
    },
    {
      "cell_type": "markdown",
      "metadata": {
        "id": "zMV1kqXN6g8D"
      },
      "source": [
        "\n",
        "**GHI CHÚ**\n",
        "\n",
        "<details>\n",
        "  <summary>LIÊN QUAN TỚI FLAG MẶC ĐỊNH</summary>\n",
        "  \n",
        "  Dưới đây là các thông số mặc định của một số cờ (flags) phổ biến trong rclone:\n",
        "\n",
        "1. **`-P` hoặc `--progress`**:\n",
        "    - Mặc định: Không hiển thị tiến trình. Khi sử dụng cờ này, nó sẽ hiển thị tiến trình sao chép tệp.\n",
        "\n",
        "2. **`--bwlimit`**:\n",
        "    - Mặc định: Không giới hạn băng thông.\n",
        "    - Ví dụ: `--bwlimit 10M` để giới hạn băng thông ở mức 10 MB/s.\n",
        "\n",
        "3. **`--transfers`**:\n",
        "    - Mặc định: `4` (sao chép 4 tệp đồng thời).\n",
        "    - Ví dụ: `--transfers 8` để sao chép 8 tệp đồng thời.\n",
        "\n",
        "4. **`--exclude`**:\n",
        "    - Mặc định: Không loại trừ tệp nào.\n",
        "    - Ví dụ: `--exclude \"*.txt\"` để loại trừ tất cả các tệp có đuôi `.txt`.\n",
        "\n",
        "5. **`--include`**:\n",
        "    - Mặc định: Bao gồm tất cả các tệp.\n",
        "    - Ví dụ: `--include \"*.jpg\"` để chỉ bao gồm các tệp có đuôi `.jpg`.\n",
        "\n",
        "6. **`--max-size`**:\n",
        "    - Mặc định: Không giới hạn kích thước tệp tối đa.\n",
        "    - Ví dụ: `--max-size 100M` để chỉ sao chép các tệp có kích thước nhỏ hơn hoặc bằng 100 MB.\n",
        "\n",
        "7. **`--min-size`**:\n",
        "    - Mặc định: Không giới hạn kích thước tệp tối thiểu.\n",
        "    - Ví dụ: `--min-size 10M` để chỉ sao chép các tệp có kích thước lớn hơn hoặc bằng 10 MB.\n",
        "\n",
        "8. **`--log-file`** và **`--log-level`**:\n",
        "    - Mặc định: Không ghi log ra tệp và mức độ chi tiết của log là `NOTICE`.\n",
        "    - Ví dụ: `--log-file rclone.log --log-level INFO` để ghi log chi tiết vào tệp `rclone.log`.\n",
        "\n",
        "9. **`--dry-run`**:\n",
        "    - Mặc định: Không chạy thử.\n",
        "    - Khi sử dụng cờ này, nó sẽ mô phỏng việc sao chép mà không thực sự thực hiện sao chép.\n",
        "\n",
        "10. **`--checkers`**:\n",
        "    - Mặc định: `8` (sử dụng 8 luồng kiểm tra song song).\n",
        "    - Ví dụ: `--checkers 16` để sử dụng 16 luồng kiểm tra song song.\n",
        "\n",
        "11. **`--retries`**:\n",
        "    - Mặc định: `3` (thử lại 3 lần khi gặp lỗi).\n",
        "    - Ví dụ: `--retries 5` để thử lại 5 lần khi gặp lỗi.\n",
        "\n",
        "### Cách Kiểm Tra Các Giá Trị Mặc Định\n",
        "\n",
        "Bạn có thể kiểm tra giá trị mặc định của các cờ và nhiều thông tin khác bằng cách sử dụng lệnh `rclone help flags` hoặc xem tài liệu trực tuyến của rclone tại [Rclone Documentation](https://rclone.org/docs/).\n",
        "\n",
        "### Ví Dụ Chi Tiết\n",
        "\n",
        "Dưới đây là một ví dụ chi tiết về cách sử dụng một số cờ với các giá trị mặc định và thay đổi:\n",
        "\n",
        "```bash\n",
        "rclone copy gdrive:backup /path/to/local_backup -P --bwlimit 10M --transfers 8 --exclude \"*.txt\" --log-file rclone.log --log-level INFO --dry-run\n",
        "```\n",
        "\n",
        "Giải thích:\n",
        "- `-P`: Hiển thị tiến trình sao chép.\n",
        "- `--bwlimit 10M`: Giới hạn băng thông ở mức 10 MB/s.\n",
        "- `--transfers 8`: Sao chép 8 tệp đồng thời.\n",
        "- `--exclude \"*.txt\"`: Loại trừ tất cả các tệp có đuôi `.txt`.\n",
        "- `--log-file rclone.log`: Ghi log ra tệp `rclone.log`.\n",
        "- `--log-level INFO`: Ghi log chi tiết ở mức INFO.\n",
        "- `--dry-run`: Chạy thử mà không thực sự sao chép tệp.\n",
        "\n",
        "Bằng cách sử dụng các cờ này, bạn có thể kiểm soát tốt hơn quá trình sao chép tệp của mình với rclone.\n",
        "</details>\n",
        "\n",
        "\n",
        "<details>\n",
        "  <summary>LIÊN QUAN TỚI GHI LỌG</summary>\n",
        "Để tắt việc in log ra màn hình khi sử dụng rclone, bạn có thể sử dụng tùy chọn `--log-level` và thiết lập mức độ log thành `NOTICE` hoặc cao hơn. Dưới đây là một số tùy chọn phổ biến cho `--log-level`:\n",
        "\n",
        "- `NOTICE`: Chỉ hiển thị các thông báo quan trọng.\n",
        "- `ERROR`: Chỉ hiển thị các lỗi.\n",
        "- `NONE`: Tắt hoàn toàn việc ghi log.\n",
        "\n",
        "Ví dụ, nếu bạn muốn tắt hoàn toàn việc in log ra màn hình, bạn có thể sử dụng lệnh sau:\n",
        "\n",
        "```bash\n",
        "rclone sync source: destination: --log-level NONE\n",
        "```\n",
        "\n",
        "Ngoài ra, bạn cũng có thể sử dụng tùy chọn `--quiet` để giảm bớt lượng thông tin log được in ra:\n",
        "\n",
        "```bash\n",
        "rclone sync source: destination: --quiet\n",
        "```\n",
        "\n",
        "Dưới đây là một số ví dụ khác với các mức độ log khác nhau:\n",
        "\n",
        "- Chỉ hiển thị các thông báo quan trọng (NOTICE):\n",
        "\n",
        "```bash\n",
        "rclone sync source: destination: --log-level NOTICE\n",
        "```\n",
        "\n",
        "- Chỉ hiển thị lỗi (ERROR):\n",
        "\n",
        "```bash\n",
        "rclone sync source: destination: --log-level ERROR\n",
        "```\n",
        "\n",
        "Nếu bạn muốn lưu log vào một file thay vì in ra màn hình, bạn có thể sử dụng tùy chọn `--log-file`:\n",
        "\n",
        "```bash\n",
        "rclone sync source: destination: --log-file /path/to/logfile.txt --log-level INFO\n",
        "```\n",
        "</details>"
      ]
    }
  ],
  "metadata": {
    "colab": {
      "collapsed_sections": [
        "NkXRpNhJmjFp"
      ],
      "provenance": [],
      "mount_file_id": "1iCF4J_ohxogmv1QsmfwVng_LLX8fvkGW",
      "authorship_tag": "ABX9TyOc3zN1QF35mB3q/KGhXOvQ",
      "include_colab_link": true
    },
    "kernelspec": {
      "display_name": "Python 3",
      "name": "python3"
    },
    "language_info": {
      "name": "python"
    }
  },
  "nbformat": 4,
  "nbformat_minor": 0
}