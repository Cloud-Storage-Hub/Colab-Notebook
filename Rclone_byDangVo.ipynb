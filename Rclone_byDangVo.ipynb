{
  "cells": [
    {
      "cell_type": "markdown",
      "metadata": {
        "id": "view-in-github",
        "colab_type": "text"
      },
      "source": [
        "<a href=\"https://colab.research.google.com/github/vonguyendang/colab-notebook/blob/main/Rclone_byDangVo.ipynb\" target=\"_parent\"><img src=\"https://colab.research.google.com/assets/colab-badge.svg\" alt=\"Open In Colab\"/></a>"
      ]
    },
    {
      "cell_type": "markdown",
      "source": [
        "<center>\n",
        "<img src='https://upload.wikimedia.org/wikipedia/commons/1/12/Google_Drive_icon_%282020%29.svg' height=\"150\" alt=\"Google Drive\"/>\n",
        "<img src='https://upload.wikimedia.org/wikipedia/commons/d/d0/Google_Colaboratory_SVG_Logo.svg' height=\"150\" alt=\"Google Colab\"/>\n",
        "<img src='https://i.imgur.com/Dii5771.png' height=\"150\" alt=\"Rclone\"/>\n",
        "<img src='https://i.imgur.com/LB0JIEQ.png' height=\"150\" alt=\"Dang Vo\"/>\n",
        "<br>\n",
        "<font size=12px>\n",
        "  <span style=\"background: linear-gradient(to right, red, orange, yellow, green, blue, indigo, violet);\n",
        "               -webkit-background-clip: text;\n",
        "               color: transparent;\">\n",
        "    COLAB + RCLONE<BR> COPY - SYNC - DOWNLOAD TO GOOGLE DRIVE<BR>BY DANG VO\n",
        "  </span>\n",
        "</font>\n",
        "</center>\n",
        "\n",
        "\n"
      ],
      "metadata": {
        "id": "PGrv9XpxONY8"
      }
    },
    {
      "cell_type": "markdown",
      "metadata": {
        "id": "NkXRpNhJmjFp"
      },
      "source": [
        "#<img src='https://www.svgrepo.com/show/411381/fly.svg' height=\"35\" alt=\"Start\"/> **START**"
      ]
    },
    {
      "cell_type": "code",
      "execution_count": 27,
      "metadata": {
        "cellView": "form",
        "collapsed": true,
        "id": "FX4mU9QtkqVf",
        "colab": {
          "base_uri": "https://localhost:8080/"
        },
        "outputId": "d462b00e-aff9-4ff8-ff79-5a6c46d70de9"
      },
      "outputs": [
        {
          "output_type": "stream",
          "name": "stdout",
          "text": [
            "Sử dụng CPU theo từng lõi (%): [14.1, 13.8]\n",
            "\n",
            "Giá trị trung bình sử dụng CPU (%): 2.0\n",
            "\n",
            "Bộ nhớ:\n",
            "  Tổng: 12.67 GB\n",
            "  Đã sử dụng: 1.05 GB\n",
            "  Phần trăm đã sử dụng: 10.8%\n",
            "\n",
            "Dung lượng ổ đĩa:\n",
            "  Tổng: 107.72 GB\n",
            "  Đã sử dụng: 30.83 GB\n",
            "  Phần trăm đã sử dụng: 28.6%\n",
            "\n",
            "Số lượng kết nối mạng: 39\n",
            "\n",
            "Thời gian khởi động của hệ thống theo múi giờ Việt Nam: 2024-08-19 09:14:15 +07\n",
            "\n",
            "Dữ liệu tải xuống (GB): 0.06 GB\n",
            "  ____         _        _   _      ____    __      __    ___    \n",
            " |  _ \\       / \\      | \\ | |    / ___|   \\ \\    / /   / _ \\   \n",
            " | | | |     / _ \\     |  \\| |   | |  _     \\ \\  / /   | | | |  \n",
            " | |_| |    / ___ \\    | . ` |   | |_| |     \\ \\/ /    | |_| |  \n",
            " |____/    /_/   \\_\\   |_|\\ _|    \\____|      \\__/      \\___/   \n"
          ]
        }
      ],
      "source": [
        "#@title Kiểm tra hệ thống\n",
        "import psutil\n",
        "import datetime\n",
        "import pytz\n",
        "\n",
        "# Lấy giá trị sử dụng CPU hiện tại\n",
        "cpu_percent = psutil.cpu_percent(percpu=True)\n",
        "print(\"Sử dụng CPU theo từng lõi (%):\", cpu_percent)\n",
        "\n",
        "# Lấy giá trị trung bình sử dụng CPU\n",
        "avg_cpu_percent = psutil.cpu_percent(interval=1)\n",
        "print(\"\\nGiá trị trung bình sử dụng CPU (%):\", avg_cpu_percent)\n",
        "\n",
        "# Lấy thông tin về bộ nhớ\n",
        "svmem = psutil.virtual_memory()\n",
        "total_memory_gb = svmem.total / (1024 ** 3)\n",
        "used_memory_gb = svmem.used / (1024 ** 3)\n",
        "percent_memory_used = svmem.percent\n",
        "\n",
        "# Lấy thông tin về dung lượng ổ đĩa\n",
        "sdiskusage = psutil.disk_usage('/')\n",
        "total_disk_gb = sdiskusage.total / (1024 ** 3)\n",
        "used_disk_gb = sdiskusage.used / (1024 ** 3)\n",
        "percent_disk_used = sdiskusage.percent\n",
        "\n",
        "print(\"\\nBộ nhớ:\")\n",
        "print(f\"  Tổng: {total_memory_gb:.2f} GB\")\n",
        "print(f\"  Đã sử dụng: {used_memory_gb:.2f} GB\")\n",
        "print(f\"  Phần trăm đã sử dụng: {percent_memory_used:.1f}%\")\n",
        "\n",
        "print(\"\\nDung lượng ổ đĩa:\")\n",
        "print(f\"  Tổng: {total_disk_gb:.2f} GB\")\n",
        "print(f\"  Đã sử dụng: {used_disk_gb:.2f} GB\")\n",
        "print(f\"  Phần trăm đã sử dụng: {percent_disk_used:.1f}%\")\n",
        "\n",
        "# Lấy thông tin về các kết nối mạng\n",
        "connections = psutil.net_connections()\n",
        "print(\"\\nSố lượng kết nối mạng:\", len(connections))\n",
        "\n",
        "# Lấy thời gian khởi động của hệ thống\n",
        "boot_time_timestamp = psutil.boot_time()\n",
        "\n",
        "# Chuyển đổi thời gian khởi động thành đối tượng datetime\n",
        "boot_time_datetime = datetime.datetime.fromtimestamp(boot_time_timestamp)\n",
        "\n",
        "# Lấy múi giờ của Việt Nam\n",
        "vietnam_timezone = pytz.timezone('Asia/Ho_Chi_Minh')\n",
        "\n",
        "# Chuyển đổi thời gian khởi động sang múi giờ Việt Nam\n",
        "boot_time_vietnam = pytz.utc.localize(boot_time_datetime).astimezone(vietnam_timezone)\n",
        "\n",
        "# Định dạng thời gian theo chuỗi\n",
        "boot_time_str = boot_time_vietnam.strftime(\"%Y-%m-%d %H:%M:%S %Z\")\n",
        "print(\"\\nThời gian khởi động của hệ thống theo múi giờ Việt Nam:\", boot_time_str)\n",
        "\n",
        "# Lấy thông tin về dữ liệu mạng đã truyền\n",
        "net_io = psutil.net_io_counters()\n",
        "\n",
        "# Chuyển đổi dữ liệu tải xuống từ byte sang GB\n",
        "download_gb = net_io.bytes_recv / (1024**3)\n",
        "print(f\"\\nDữ liệu tải xuống (GB): {download_gb:.2f} GB\")\n",
        "\n",
        "def d():\n",
        "    return [\n",
        "        \"  ____  \",\n",
        "        \" |  _ \\\\ \",\n",
        "        \" | | | |\",\n",
        "        \" | |_| |\",\n",
        "        \" |____/ \"\n",
        "    ]\n",
        "\n",
        "def a():\n",
        "    return [\n",
        "        \"     _    \",\n",
        "        \"    / \\\\   \",\n",
        "        \"   / _ \\\\  \",\n",
        "        \"  / ___ \\\\ \",\n",
        "        \" /_/   \\\\_\\\\\"\n",
        "    ]\n",
        "\n",
        "def n():\n",
        "    return [\n",
        "        \"  _   _  \",\n",
        "        \" | \\\\ | | \",\n",
        "        \" |  \\\\| | \",\n",
        "        \" | . ` | \",\n",
        "        \" |_|\\\\ _| \",\n",
        "    ]\n",
        "\n",
        "def g():\n",
        "    return [\n",
        "        \"  ____  \",\n",
        "        \" / ___| \",\n",
        "        \"| |  _  \",\n",
        "        \"| |_| | \",\n",
        "        \" \\\\____| \"\n",
        "    ]\n",
        "\n",
        "def v():\n",
        "    return [\n",
        "        \"__      __\",\n",
        "        \"\\\\ \\\\    / /\",\n",
        "        \" \\\\ \\\\  / / \",\n",
        "        \"  \\\\ \\\\/ /  \",\n",
        "        \"   \\\\__/   \"\n",
        "    ]\n",
        "\n",
        "def o():\n",
        "    return [\n",
        "        \"  ___  \",\n",
        "        \" / _ \\\\ \",\n",
        "        \"| | | |\",\n",
        "        \"| |_| |\",\n",
        "        \" \\\\___/ \"\n",
        "    ]\n",
        "\n",
        "def print_dang_vo():\n",
        "    letters = [d(), a(), n(), g(), v(), o()]\n",
        "    max_height = max(len(letter) for letter in letters)\n",
        "\n",
        "    for i in range(max_height):\n",
        "        for letter in letters:\n",
        "            if i < len(letter):\n",
        "                print(letter[i], end=\"  \")\n",
        "            else:\n",
        "                print(\" \" * len(letter[0]), end=\"  \")\n",
        "        print()\n",
        "\n",
        "print_dang_vo()"
      ]
    },
    {
      "cell_type": "code",
      "execution_count": 28,
      "metadata": {
        "cellView": "form",
        "collapsed": true,
        "id": "SIVvKN1XSVyx",
        "colab": {
          "base_uri": "https://localhost:8080/"
        },
        "outputId": "7dd2397b-b110-4dba-cdc7-b81efcf8c008"
      },
      "outputs": [
        {
          "output_type": "stream",
          "name": "stdout",
          "text": [
            "Mon Aug 19 06:07:00 AM UTC 2024\n",
            "Mon Aug 19 01:07:00 PM +07 2024\n"
          ]
        }
      ],
      "source": [
        "#@title Đặt thời gian theo Asia/Ho_Chi_Minh\n",
        "# Kiểm tra múi giờ hiện tại\n",
        "!date\n",
        "\n",
        "# Cài đặt múi giờ thành Asia/Ho_Chi_Minh\n",
        "!ln -sf /usr/share/zoneinfo/Asia/Ho_Chi_Minh /etc/localtime\n",
        "!echo \"Asia/Ho_Chi_Minh\" > /etc/timezone\n",
        "\n",
        "# Kiểm tra lại múi giờ sau khi thay đổi\n",
        "!date\n"
      ]
    },
    {
      "cell_type": "code",
      "execution_count": 29,
      "metadata": {
        "cellView": "form",
        "collapsed": true,
        "id": "52h5TD5okZeN",
        "colab": {
          "base_uri": "https://localhost:8080/"
        },
        "outputId": "4d757f48-ce32-4c60-8bd1-8c77e6dba20f"
      },
      "outputs": [
        {
          "output_type": "stream",
          "name": "stdout",
          "text": [
            "Retrieving speedtest.net configuration...\n",
            "Testing from Google Cloud (34.173.146.142)...\n",
            "Retrieving speedtest.net server list...\n",
            "Selecting best server based on ping...\n",
            "Hosted by Midco (Lawrence, KS) [260.66 km]: 40.95 ms\n",
            "Testing download speed................................................................................\n",
            "Download: 1726.60 Mbit/s\n",
            "Testing upload speed......................................................................................................\n",
            "Upload: 395.61 Mbit/s\n"
          ]
        }
      ],
      "source": [
        "#@title Kiểm tra tốc độ mạng\n",
        "!curl -s https://raw.githubusercontent.com/sivel/speedtest-cli/master/speedtest.py | python -"
      ]
    },
    {
      "cell_type": "code",
      "execution_count": 30,
      "metadata": {
        "cellView": "form",
        "collapsed": true,
        "id": "G9eGQ8dEem_V",
        "colab": {
          "base_uri": "https://localhost:8080/"
        },
        "outputId": "8fdc3c6d-027a-47bb-a4f5-e28ce47b752c"
      },
      "outputs": [
        {
          "output_type": "stream",
          "name": "stdout",
          "text": [
            "  % Total    % Received % Xferd  Average Speed   Time    Time     Time  Current\n",
            "                                 Dload  Upload   Total   Spent    Left  Speed\n",
            "100  4734  100  4734    0     0   9456      0 --:--:-- --:--:-- --:--:--  9449\n",
            "Archive:  rclone-current-linux-amd64.zip\n",
            "   creating: tmp_unzip_dir_for_rclone/rclone-v1.67.0-linux-amd64/\n",
            "  inflating: tmp_unzip_dir_for_rclone/rclone-v1.67.0-linux-amd64/rclone  [binary]\n",
            "  inflating: tmp_unzip_dir_for_rclone/rclone-v1.67.0-linux-amd64/README.html  [text]  \n",
            "  inflating: tmp_unzip_dir_for_rclone/rclone-v1.67.0-linux-amd64/git-log.txt  [text]  \n",
            "  inflating: tmp_unzip_dir_for_rclone/rclone-v1.67.0-linux-amd64/README.txt  [text]  \n",
            "  inflating: tmp_unzip_dir_for_rclone/rclone-v1.67.0-linux-amd64/rclone.1  [text]  \n",
            "Purging old database entries in /usr/share/man...\n",
            "Processing manual pages under /usr/share/man...\n",
            "Updating index cache for path `/usr/share/man/man1'. Wait...done.\n",
            "Checking for stray cats under /usr/share/man...\n",
            "Checking for stray cats under /var/cache/man...\n",
            "Purging old database entries in /usr/share/man/ru...\n",
            "Processing manual pages under /usr/share/man/ru...\n",
            "Purging old database entries in /usr/share/man/sv...\n",
            "Processing manual pages under /usr/share/man/sv...\n",
            "Purging old database entries in /usr/share/man/es...\n",
            "Processing manual pages under /usr/share/man/es...\n",
            "Purging old database entries in /usr/share/man/da...\n",
            "Processing manual pages under /usr/share/man/da...\n",
            "Purging old database entries in /usr/share/man/ja...\n",
            "Processing manual pages under /usr/share/man/ja...\n",
            "Purging old database entries in /usr/share/man/ko...\n",
            "Processing manual pages under /usr/share/man/ko...\n",
            "Purging old database entries in /usr/share/man/zh_CN...\n",
            "Processing manual pages under /usr/share/man/zh_CN...\n",
            "Purging old database entries in /usr/share/man/de...\n",
            "Processing manual pages under /usr/share/man/de...\n",
            "Purging old database entries in /usr/share/man/tr...\n",
            "Processing manual pages under /usr/share/man/tr...\n",
            "Purging old database entries in /usr/share/man/sl...\n",
            "Processing manual pages under /usr/share/man/sl...\n",
            "Purging old database entries in /usr/share/man/fr...\n",
            "Processing manual pages under /usr/share/man/fr...\n",
            "Purging old database entries in /usr/share/man/zh_TW...\n",
            "Processing manual pages under /usr/share/man/zh_TW...\n",
            "Purging old database entries in /usr/share/man/pt...\n",
            "Processing manual pages under /usr/share/man/pt...\n",
            "Purging old database entries in /usr/share/man/cs...\n",
            "Processing manual pages under /usr/share/man/cs...\n",
            "Purging old database entries in /usr/share/man/nl...\n",
            "Processing manual pages under /usr/share/man/nl...\n",
            "Purging old database entries in /usr/share/man/id...\n",
            "Processing manual pages under /usr/share/man/id...\n",
            "Purging old database entries in /usr/share/man/hu...\n",
            "Processing manual pages under /usr/share/man/hu...\n",
            "Purging old database entries in /usr/share/man/pt_BR...\n",
            "Processing manual pages under /usr/share/man/pt_BR...\n",
            "Purging old database entries in /usr/share/man/pl...\n",
            "Processing manual pages under /usr/share/man/pl...\n",
            "Purging old database entries in /usr/share/man/it...\n",
            "Processing manual pages under /usr/share/man/it...\n",
            "Purging old database entries in /usr/share/man/uk...\n",
            "Processing manual pages under /usr/share/man/uk...\n",
            "Purging old database entries in /usr/share/man/sr...\n",
            "Processing manual pages under /usr/share/man/sr...\n",
            "Purging old database entries in /usr/share/man/ro...\n",
            "Processing manual pages under /usr/share/man/ro...\n",
            "Processing manual pages under /usr/local/man...\n",
            "mandb: can't update index cache /var/cache/man/oldlocal/56778: No such file or directory\n",
            "Updating index cache for path `/usr/local/man/man1'. Wait...done.\n",
            "Checking for stray cats under /usr/local/man...\n",
            "Checking for stray cats under /var/cache/man/oldlocal...\n",
            "2 man subdirectories contained newer manual pages.\n",
            "53 manual pages were added.\n",
            "0 stray cats were added.\n",
            "18 old database entries were purged.\n",
            "\n",
            "rclone v1.67.0 has successfully installed.\n",
            "Now run \"rclone config\" for setup. Check https://rclone.org/docs/ for more details.\n",
            "\n"
          ]
        }
      ],
      "source": [
        "#@title 1. Cài đặt rclone\n",
        "!sudo -v ; curl https://rclone.org/install.sh | sudo bash"
      ]
    },
    {
      "cell_type": "code",
      "execution_count": 31,
      "metadata": {
        "cellView": "form",
        "collapsed": true,
        "id": "shxMdFsPfF4_",
        "colab": {
          "base_uri": "https://localhost:8080/"
        },
        "outputId": "22347a99-5600-4450-c876-aa8a3b2b1c44"
      },
      "outputs": [
        {
          "output_type": "stream",
          "name": "stdout",
          "text": [
            "Configuration file doesn't exist, but rclone will use this path:\n",
            "/root/.config/rclone/rclone.conf\n"
          ]
        }
      ],
      "source": [
        "#@title 2. Kiểm tra path file config\n",
        "!rclone config file"
      ]
    },
    {
      "cell_type": "markdown",
      "metadata": {
        "id": "fdDDUJ7oxj3s"
      },
      "source": [
        "**3. Chọn 3.1 hoặc 3.2 để cấu hình rclone.conf**"
      ]
    },
    {
      "cell_type": "code",
      "execution_count": null,
      "metadata": {
        "cellView": "form",
        "collapsed": true,
        "id": "DuCf80UMwDDM"
      },
      "outputs": [],
      "source": [
        "#@title 3.1 Tạo và thêm nội dung vào file rclone.conf\n",
        "# Phải upload file config lên drive trước\n",
        "# Đường dẫn tới file gốc và file đích\n",
        "file1_path = \"/content/drive/MyDrive/rclone/rclone.conf\"\n",
        "file2_path = \"/root/.config/rclone/rclone.conf\"\n",
        "\n",
        "# Đọc nội dung từ file1.txt\n",
        "with open(file1_path, 'r') as file1:\n",
        "    content = file1.read()\n",
        "\n",
        "# Ghi nội dung vào file2.txt\n",
        "with open(file2_path, 'w') as file2:\n",
        "    file2.write(content)\n",
        "\n",
        "print(f\"Nội dung từ {file1_path} đã được sao chép sang {file2_path}.\")\n"
      ]
    },
    {
      "cell_type": "code",
      "execution_count": null,
      "metadata": {
        "cellView": "form",
        "collapsed": true,
        "id": "YvX-OaF_ymaX"
      },
      "outputs": [],
      "source": [
        "#@title So sánh nội dung đã thêm\n",
        "# Đọc và hiển thị nội dung của file1.txt\n",
        "print(\"Nội dung của file1.txt:\")\n",
        "with open(file1_path, 'r') as file1:\n",
        "    print(file1.read())\n",
        "\n",
        "# Đọc và hiển thị nội dung của file2.txt\n",
        "print(\"\\nNội dung của file2.txt:\")\n",
        "with open(file2_path, 'r') as file2:\n",
        "    print(file2.read())"
      ]
    },
    {
      "cell_type": "code",
      "execution_count": 34,
      "metadata": {
        "cellView": "form",
        "id": "N67zTOHkfM3J"
      },
      "outputs": [],
      "source": [
        "#@title 3.2 Tạo thư mục chứa file config\n",
        "#!touch /root/.config/rclone/"
      ]
    },
    {
      "cell_type": "markdown",
      "metadata": {
        "id": "GlL2p8Ebp9bZ"
      },
      "source": [
        "Kéo file rclone.conf từ /Users/dangvo/.config/rclone/rclone.conf trên local vào /root/.config/rclone/"
      ]
    },
    {
      "cell_type": "markdown",
      "source": [
        "**4. Cài đặt một số phần mềm cần thiết**"
      ],
      "metadata": {
        "id": "59v4wAGdfY-5"
      }
    },
    {
      "cell_type": "code",
      "execution_count": null,
      "metadata": {
        "id": "vxeImH1nxILX",
        "cellView": "form"
      },
      "outputs": [],
      "source": [
        "#@title Cài đặt giải nén Unrar và p7zip-full\n",
        "# Cài đặt giải nén\n",
        "!apt-get install unrar\n",
        "!apt-get install p7zip-full"
      ]
    },
    {
      "cell_type": "markdown",
      "source": [
        "#<img src='https://www.svgrepo.com/show/411432/schedule.svg' height=\"30\" alt=\"Time\"/> **Thời gian cho đến khi kết thúc phiên làm việc (Quy tắc 90 phút và 12 giờ)**"
      ],
      "metadata": {
        "id": "qtV0MPP6fBZr"
      }
    },
    {
      "cell_type": "markdown",
      "source": [
        "<details>\n",
        "<summary>CHI TIẾT</summary>\n",
        "  \n",
        "  Chú ý: nếu thời gian vượt quá 0.5 days thì Colab sẽ tự động Restart lại phiên làm việc hiện tại của bạn.\n",
        "\n",
        "**`Kết quả`**:\n",
        "\n",
        "<img src=\"https://i.imgur.com/Tquzfux.png\" style=\"width:80%;height:80%;\"/>\n",
        "\n",
        "Trước tiên, bạn hãy hiểu quy tắc 90 phút của Colab qua hình ảnh sau đây:\n",
        "\n",
        "<img src=\"https://i.imgur.com/OuGE8a0.png\" style=\"width:70%;height:70%;\"/>\n",
        "\n",
        "Và quy tắc 12 giờ:\n",
        "<img src=\"https://i.imgur.com/njtQtSu.png\" style=\"width:80%;height:80%;\"/>"
      ],
      "metadata": {
        "id": "7nynSx6HgUWy"
      }
    },
    {
      "cell_type": "code",
      "source": [
        "#@title Kiểm tra thời gian hoạt động của phiên làm việc\n",
        "!cat /proc/uptime | awk '{print $1 /60 /60 /24 \"days (\" $1 \"sec)\"}'"
      ],
      "metadata": {
        "id": "WLkduIkBjOEo",
        "colab": {
          "base_uri": "https://localhost:8080/"
        },
        "outputId": "1b104bb0-4354-4f58-f313-702192aa735f",
        "cellView": "form"
      },
      "execution_count": null,
      "outputs": [
        {
          "output_type": "stream",
          "name": "stdout",
          "text": [
            "0.000799884days (69.11sec)\n"
          ]
        }
      ]
    },
    {
      "cell_type": "markdown",
      "metadata": {
        "id": "J0eDKxxxPCQd"
      },
      "source": [
        "#<img src='https://www.svgrepo.com/show/411430/search.svg' height=\"30\" alt=\"Check\"/> **Kiểm tra các Cloud đã kết nối và dung lượng lưu trữ**"
      ]
    },
    {
      "cell_type": "code",
      "execution_count": null,
      "metadata": {
        "collapsed": true,
        "id": "PF5CaR77oxzy",
        "colab": {
          "base_uri": "https://localhost:8080/"
        },
        "outputId": "e1c0a26f-0f7d-48d2-acbb-fbcd8e61f593"
      },
      "outputs": [
        {
          "output_type": "stream",
          "name": "stdout",
          "text": [
            "Current remotes:\n",
            "\n",
            "Name                 Type\n",
            "====                 ====\n",
            "admin                onedrive\n",
            "cusc                 drive\n",
            "dangvn               onedrive\n",
            "dangvo               onedrive\n",
            "dttx                 drive\n",
            "duongle              onedrive\n",
            "edward               drive\n",
            "nghienmac4           drive\n",
            "obt                  onedrive\n",
            "vndang96             drive\n",
            "vodang2702           drive\n",
            "\n",
            "e) Edit existing remote\n",
            "n) New remote\n",
            "d) Delete remote\n",
            "r) Rename remote\n",
            "c) Copy remote\n",
            "s) Set configuration password\n",
            "q) Quit config\n",
            "e/n/d/r/c/s/q> 1\n",
            "This value must be one of the following characters: e, n, d, r, c, s, q.\n",
            "e/n/d/r/c/s/q> q\n"
          ]
        }
      ],
      "source": [
        "#@title 5. Kiểm tra các cloud đã kết nối\n",
        "!rclone config"
      ]
    },
    {
      "cell_type": "code",
      "execution_count": null,
      "metadata": {
        "cellView": "form",
        "id": "y2ebLODFl3Nv",
        "colab": {
          "base_uri": "https://localhost:8080/",
          "height": 375,
          "referenced_widgets": [
            "17ec3dbbd471403ca56e7e545a68b5fe",
            "c879282b854445f7b7e3d6b96b185f89",
            "390e6724d3ae4c9993f3df63b88b9d3a",
            "dc74e9bb78284c2e9b60b4c1ec814fe1",
            "f39d5aca556647418b9652d796b412db",
            "09b6d395537c431eb7665506ebbc2eae"
          ]
        },
        "outputId": "c83b4a36-9530-4f65-b698-cb1f5c780e95"
      },
      "outputs": [
        {
          "output_type": "display_data",
          "data": {
            "text/plain": [
              "RadioButtons(description='Select Drive:', options=('vodang2702', 'vndang96', 'duongle', 'admin', 'dangvn', 'da…"
            ],
            "application/vnd.jupyter.widget-view+json": {
              "version_major": 2,
              "version_minor": 0,
              "model_id": "17ec3dbbd471403ca56e7e545a68b5fe"
            }
          },
          "metadata": {}
        },
        {
          "output_type": "display_data",
          "data": {
            "text/plain": [
              "Textarea(value='', layout=Layout(height='100px', width='15%'))"
            ],
            "application/vnd.jupyter.widget-view+json": {
              "version_major": 2,
              "version_minor": 0,
              "model_id": "dc74e9bb78284c2e9b60b4c1ec814fe1"
            }
          },
          "metadata": {}
        }
      ],
      "source": [
        "#@title 6. Kiểm tra dung lượng lưu trữ Cloud\n",
        "import ipywidgets as widgets\n",
        "from IPython.display import display\n",
        "import os\n",
        "import configparser\n",
        "\n",
        "# Đọc nội dung từ file rclone.conf\n",
        "with open(\"/root/.config/rclone/rclone.conf\", \"r\") as f:\n",
        "    content = f.read()\n",
        "\n",
        "# Sử dụng configparser để phân tích cấu trúc của file cấu hình\n",
        "config = configparser.ConfigParser()\n",
        "config.read_string(content)\n",
        "\n",
        "# Trích xuất danh sách các section (drives)\n",
        "drive_list = config.sections()\n",
        "# Danh sách các drive\n",
        "# drive_list = [\"vndang96\", \"duongle\", \"vodang2702\"]\n",
        "\n",
        "def execute_rclone_about(drive):\n",
        "    command = f\"rclone about {drive}:\"\n",
        "    output = os.popen(command).read()\n",
        "    output_text.value = output\n",
        "\n",
        "# Tạo trường RadioButton cho các drive\n",
        "drive_radio_buttons = widgets.RadioButtons(\n",
        "    options=drive_list,\n",
        "    description=\"Select Drive:\"\n",
        ")\n",
        "\n",
        "output_text = widgets.Textarea(layout={'width': '15%', 'height': '100px'})\n",
        "# Hiển thị trường RadioButton\n",
        "display(drive_radio_buttons, output_text)\n",
        "\n",
        "# Thực thi hàm execute_rclone_about khi chọn drive\n",
        "drive_radio_buttons.observe(lambda change: execute_rclone_about(change.new), names='value')\n"
      ]
    },
    {
      "cell_type": "code",
      "source": [
        "#@title 7. Kiểm tra kích thước thư mục v2\n",
        "#@markdown <center><h5>Nhập tên drive đã được cấu hình trong rclone (mặc định: vodang2702)</h5></center>\n",
        "Drive = \"vodang2702\"  # @param {type:\"string\"}\n",
        "while not Drive:\n",
        "  Drive = input(\"Vui lòng nhập tên drive: \")\n",
        "\n",
        "#@markdown ---\n",
        "\n",
        "#@markdown <center><h5>CHỌN MỘT TRONG HAI CÁCH SAU:</h5></center>\n",
        "\n",
        "#@markdown <center><h6>Cách 1: Nhập đường dẫn đến thư mục/tệp (ví dụ: check dao van hoặc English/Mind maps English)</h6></center>\n",
        "Path = \"\"  # @param {type:\"string\"}\n",
        "\n",
        "#@markdown <center><h6>HOẶC</h6></center>\n",
        "\n",
        "#@markdown <center><h6>Cách 2: Dán liên kết đến thư mục/tệp (ví dụ: https://drive.google.com/drive/folders/...)</h6></center>\n",
        "URL = \"\"  # @param {type:\"string\"}\n",
        "\n",
        "#@markdown ---\n",
        "\n",
        "import re\n",
        "\n",
        "if Path and URL:\n",
        "  print(\"Vui lòng chỉ chọn một trong hai cách nhập: Đường dẫn PATH hoặc URL.\")\n",
        "elif not Path and not URL:\n",
        "  print(\"Vui lòng nhập đường dẫn PATH hoặc URL.\")\n",
        "else:\n",
        "  if URL:\n",
        "    # Trích xuất ID thư mục từ URL (nếu có)\n",
        "    id = re.search(r\"/folders/([a-zA-Z0-9_-]+)\", URL)\n",
        "    if id:\n",
        "      command = f'rclone size \"{Drive},root_folder_id={id.group(1)}\":'\n",
        "    else:\n",
        "      print(\"Không thể trích xuất ID thư mục từ URL. Vui lòng kiểm tra lại URL.\")\n",
        "      exit()  # Thoát nếu không tìm thấy ID\n",
        "  if Path:\n",
        "     command = f'rclone size \"{Drive}\":\"{Path}\"'\n",
        "\n",
        "  result = !{command}\n",
        "\n",
        " # Kiểm tra lỗi và hiển thị kết quả\n",
        "  if result[0].startswith(\"20\"):\n",
        "    print(\"Lỗi:\", result[0])\n",
        "  else:\n",
        "    for line in result:  # Duyệt qua từng dòng trong result\n",
        "      print(line)       # In từng dòng\n"
      ],
      "metadata": {
        "id": "flf-k52TydaX",
        "cellView": "form"
      },
      "execution_count": null,
      "outputs": []
    },
    {
      "cell_type": "code",
      "execution_count": null,
      "metadata": {
        "cellView": "form",
        "id": "RSneo0ZQOgBQ"
      },
      "outputs": [],
      "source": [
        "#@title 8. Kiểm tra kích thước thư mục v1\n",
        "import ipywidgets as widgets\n",
        "from IPython.display import display\n",
        "import os\n",
        "import time\n",
        "import configparser\n",
        "\n",
        "# Đọc nội dung từ file rclone.conf\n",
        "with open(\"/root/.config/rclone/rclone.conf\", \"r\") as f:\n",
        "    content = f.read()\n",
        "\n",
        "# Sử dụng configparser để phân tích cấu trúc của file cấu hình\n",
        "config = configparser.ConfigParser()\n",
        "config.read_string(content)\n",
        "\n",
        "# Trích xuất danh sách các section (drives)\n",
        "drive_list = config.sections()\n",
        "\n",
        "def execute_rclone_size(drive):\n",
        "    path = path_input.value\n",
        "    command = f'rclone size \"{drive}:{path}\"'\n",
        "    print(f\"Executing command: {command}\")\n",
        "\n",
        "    start_time = time.time()  # Lấy thời gian bắt đầu\n",
        "\n",
        "    result = os.popen(command).read()\n",
        "    end_time = time.time()  # Lấy thời gian kết thúc\n",
        "    elapsed_time = end_time - start_time  # Tính thời gian thực thi\n",
        "\n",
        "    output_text.value = result\n",
        "\n",
        "    elapsed_time_text.value = f\"Elapsed Time: {elapsed_time:.2f} seconds\"\n",
        "\n",
        "def on_path_input_submit(change):\n",
        "    execute_rclone_size(drive_dropdown.value)\n",
        "\n",
        "# Tạo trường dropdown\n",
        "drive_dropdown = widgets.Dropdown(\n",
        "    options=drive_list,\n",
        "    description=\"Select Drive:\"\n",
        ")\n",
        "\n",
        "# Nhập đường dẫn thư mục\n",
        "path_input = widgets.Text(\n",
        "    description=\"Path:\",\n",
        "    placeholder=\"English/Mind maps English\",\n",
        "    layout={'width': '100%', 'height': '30px'}\n",
        ")\n",
        "\n",
        "def on_path_input_submit(change):\n",
        "    execute_rclone_size(drive_dropdown.value)\n",
        "\n",
        "path_input.on_submit(on_path_input_submit)\n",
        "\n",
        "# Widget để hiển thị kết quả\n",
        "output_text = widgets.Textarea(\n",
        "    layout={'height': '150px', 'width': '100%'},\n",
        "    placeholder=\"Output will be displayed here...\"\n",
        ")\n",
        "\n",
        "# Widget để hiển thị thời gian thực thi\n",
        "elapsed_time_text = widgets.Text(\n",
        "    layout={'width': '100%'}\n",
        ")\n",
        "\n",
        "# Tạo nút huỷ lệnh\n",
        "cancel_button = widgets.Button(description=\"Cancel\", button_style=\"danger\")\n",
        "\n",
        "# Tạo widget để hiển thị thông báo\n",
        "cancel_status = widgets.Text(layout={'width': '100%'})\n",
        "\n",
        "def cancel_execution(_):\n",
        "    # Nếu có một lệnh đang thực thi, hãy cố gắng kết thúc nó\n",
        "    os.system(\"pkill -f 'rclone size'\")\n",
        "    cancel_status.value = \"Cancellation successful.\"\n",
        "\n",
        "# Gắn hàm cancel_execution vào sự kiện click của nút\n",
        "cancel_button.on_click(cancel_execution)\n",
        "\n",
        "# Hiển thị nút huỷ lệnh cùng các widget khác\n",
        "display(drive_dropdown, path_input, output_text, elapsed_time_text, cancel_button, cancel_status)\n"
      ]
    },
    {
      "cell_type": "markdown",
      "metadata": {
        "id": "dtuv_dKk509L"
      },
      "source": [
        "#<img src='https://www.svgrepo.com/show/411456/sync.svg' height=\"30\" alt=\"Sync\"/> **Copy - Sync nhanh với GUI**"
      ]
    },
    {
      "cell_type": "code",
      "source": [
        "#@title <center><img src='https://upload.wikimedia.org/wikipedia/commons/1/12/Google_Drive_icon_%282020%29.svg' height=\"20\" alt=\"Google Drive\"/> ↔ <img src='https://upload.wikimedia.org/wikipedia/commons/1/12/Google_Drive_icon_%282020%29.svg' height=\"20\" alt=\"Google Drive\"/> Download FOLDER <img src='https://www.svgrepo.com/show/788/folder.svg' height=\"20\" alt=\"Google Drive\"> từ Google Drive URL v1.1</center>\n",
        "#@markdown <center><h5>Chức năng download foder từ Google drive URL được share public, Lưu vào My Drive</center>\n",
        "\n",
        "#@markdown ---\n",
        "\n",
        "#@markdown <center><h6>Dán liên kết thư mục được chia sẻ (ví dụ: https://drive.google.com/drive/folders/1CgzIalZTD4DUFpE7xKwzpzjPAixTBm3-...)</h6>\n",
        "\n",
        "Shared_URL = \"https://drive.google.com/drive/folders/1u9keIU7rdqL6ZmUZnjoFqf9o_6fpH-26\"  # @param {type:\"string\"}\n",
        "\n",
        "#@markdown <center><h6>Nhập đường dẫn đến thư mục đích - là folder cha của folder cần lưu</h6>\n",
        "#@markdown <center><h6>(Ví dụ Nhập: vodang2702:TONG HOP KHOA HOC FULL)</h6>\n",
        "#@markdown <center><h6>(Kết quả sẽ là: vodang2702:TONG HOP KHOA HOC FULL/Name shared folder)</h6>\n",
        "Dest_Folder = \"vodang2702:TONG HOP KHOA HOC FULL\"  # @param {type:\"string\"}\n",
        "\n",
        "#@markdown ---\n",
        "\n",
        "# Import các thư viện cần thiết\n",
        "import re\n",
        "import time\n",
        "import requests\n",
        "from bs4 import BeautifulSoup\n",
        "\n",
        "# Khai báo hàm cần dùng\n",
        "class StopExecution(Exception):\n",
        "    \"\"\"Exception tùy chỉnh để biểu thị việc dừng thực thi.\"\"\"\n",
        "    pass\n",
        "\n",
        "def stop_execution():\n",
        "    \"\"\"Hàm dừng thực thi chương trình.\"\"\"\n",
        "    raise StopExecution\n",
        "\n",
        "def get_name_from_gdrive_url(url):\n",
        "    \"\"\"Trích xuất tên từ URL Google Drive.\"\"\"\n",
        "    try:\n",
        "        response = requests.get(url)\n",
        "        response.encoding = 'utf-8'  # Đảm bảo xử lý đúng encoding\n",
        "        soup = BeautifulSoup(response.text, 'html.parser')\n",
        "        title = soup.title.string\n",
        "        return title.replace(\" - Google Drive\", \"\").replace(\" - Google 雲端硬碟\", \"\")\n",
        "    except requests.exceptions.RequestException as e:\n",
        "        print(f\"\\nLỗi khi truy cập URL: {e}\")\n",
        "        stop_execution()\n",
        "    except Exception as e:\n",
        "        print(f\"\\nĐã xảy ra lỗi khi xử lý URL: {e}\")\n",
        "        stop_execution()\n",
        "\n",
        "def extract_gdrive_name(url):\n",
        "    \"\"\"Kiểm tra và in tên tệp/thư mục từ URL Google Drive.\"\"\"\n",
        "    _folder_name = get_name_from_gdrive_url(url)\n",
        "\n",
        "    if _folder_name is None:\n",
        "        print(\"\\nKhông thể trích xuất tên tệp/thư mục từ URL.\")\n",
        "        stop_execution()\n",
        "    elif _folder_name == \"\":\n",
        "        print(\"\\nTên tệp/thư mục không hợp lệ.\")\n",
        "        stop_execution()\n",
        "    elif _folder_name == \"Google Drive: Sign-in\":\n",
        "        print(\"\\nTệp/thư mục được chia sẻ hạn chế, vui lòng liên hệ chủ sở hữu để nhận chia sẻ công khai.\")\n",
        "        stop_execution()\n",
        "    elif _folder_name in [\"Error 404 (Not Found)!!1\", \"Page Not Found\"]:\n",
        "        print(\"\\nTệp/thư mục không tồn tại hoặc đã bị xóa.\")\n",
        "        stop_execution()\n",
        "    else:\n",
        "        return _folder_name\n",
        "\n",
        "# Kiểm tra Shared_URL và Dest_Folder\n",
        "try:\n",
        "  if not Shared_URL and not Dest_Folder:\n",
        "    print(\"Vui lòng nhập Shared_URL và Dest_Folder.\")\n",
        "  else:\n",
        "    if Dest_Folder:\n",
        "      drive = re.search(r\"^(.+?):\", Dest_Folder)  # Tìm kiếm phần trước dấu \":\"\n",
        "      if drive:\n",
        "          mydrive = drive.group(1)       # Lấy phần đã tìm thấy (mydrive)\n",
        "          # print(mydrive)\n",
        "      else:\n",
        "          print(\"Không thể trích xuất MyDrive từ Dest_Folder. Vui lòng kiểm tra lại Dest_Folder.\")\n",
        "          stop_execution()  # Thoát nếu không tìm thấy MyDrive\n",
        "    if Shared_URL:\n",
        "      # Trích xuất ID thư mục từ URL (nếu có)\n",
        "      id = re.search(r\"/folders/([a-zA-Z0-9_-]+)\", Shared_URL)\n",
        "      if id:\n",
        "        #Get file/folder name from shared url - Google Drive\n",
        "\n",
        "        folder_name = extract_gdrive_name(Shared_URL)\n",
        "\n",
        "        # Tạo file log\n",
        "        log_path = f\"{Dest_Folder}/{folder_name}/logfile.xlsx\"\n",
        "        # print(\"log path: \",log_path)\n",
        "\n",
        "        # Thực thi lệnh tạo file log\n",
        "        print(\"\\nĐang tạo file log để lưu nhật ký sao chép thư mục... \")\n",
        "        !rclone touch \"{log_path}\"\n",
        "\n",
        "        # Kiểm tra filelog, thử lại mỗi 5 giây trong tối đa 30 giây\n",
        "        for _ in range(6):  # 6 lần thử với 5 giây chờ mỗi lần\n",
        "            output = !rclone lsf \"{Dest_Folder}\"\n",
        "            if \"logfile.xlsx\" in output:\n",
        "                print(\"\\nFile log đã được nhận diện!\")\n",
        "                break\n",
        "            else:\n",
        "                print(\"\\nFile log chưa được nhận diện, thử lại...\")\n",
        "                time.sleep(5)\n",
        "        else:\n",
        "            print(\"\\nFile log không được nhận diện sau 30 giây.\")\n",
        "            stop_execution()  # Thoát nếu không tìm thấy file log\n",
        "\n",
        "        # Chuyển đổi đường dẫn tương đối của file log sang đường dẫn tuyệt đối\n",
        "        abs_log_path = log_path.replace(\"vodang2702:\",\"/content/drive/MyDrive/\")\n",
        "\n",
        "        print(\"\\nThông tin thư mục nguồn: \")\n",
        "        print(\"\\nShared URL: \",Shared_URL)\n",
        "        print(\"\\nFolder ID: \",id.group(1))\n",
        "        print(\"\\nFolder name: \", folder_name)\n",
        "        print(\"\\nKích thước:\\n\")\n",
        "        !rclone size --drive-shared-with-me \"{mydrive}:{folder_name}\"\n",
        "        # Lệnh copy folder\n",
        "        command = f'rclone copy -v -u --transfers 20 --checkers 40 \\'{mydrive},root_folder_id=\"{id.group(1)}\":\\' \\'{Dest_Folder}/{folder_name}\\' --log-file \"{abs_log_path}\"'\n",
        "        print(\"\\nĐang thực thi:\\n\\n\",command)\n",
        "      else:\n",
        "        print(\"\\nKhông thể trích xuất ID thư mục từ Shared_URL. Vui lòng kiểm tra lại Shared_URL.\")\n",
        "        stop_execution()  # Thoát nếu không tìm thấy ID\n",
        "\n",
        "    result = !{command}\n",
        "  # Kiểm tra lỗi và hiển thị kết quả\n",
        "    if result:  # Nếu result không rỗng\n",
        "      if result[0].startswith(\"20\"):\n",
        "        print(\"\\nLỗi:\", result[0])\n",
        "      else:\n",
        "        for line in result:\n",
        "          print(line)\n",
        "    else:\n",
        "      print(\"\\nKết thúc nhiệm vụ, xem chi tiết file log tại: \",log_path)\n",
        "      print(\"\\nKích thước thư mục đích: \",Dest_Folder,\"/\",folder_name)\n",
        "      print(\"\\n\")\n",
        "      !rclone size \"{Dest_Folder}/{folder_name}\"\n",
        "except StopExecution:\n",
        "    print(\"\\nThật tiếc, chương trình thực thi phải dừng lại tại đây! 😢\")"
      ],
      "metadata": {
        "id": "dDp9xWlct-wA",
        "cellView": "form",
        "collapsed": true,
        "colab": {
          "base_uri": "https://localhost:8080/"
        },
        "outputId": "37128971-a831-4a90-fef4-163ec747242f"
      },
      "execution_count": null,
      "outputs": [
        {
          "output_type": "stream",
          "name": "stdout",
          "text": [
            "\n",
            "Đang tạo file log để lưu nhật ký sao chép thư mục... \n",
            "\n",
            "File log đã được nhận diện!\n",
            "\n",
            "Thông tin thư mục nguồn: \n",
            "\n",
            "Shared URL:  https://drive.google.com/drive/folders/1u9keIU7rdqL6ZmUZnjoFqf9o_6fpH-26\n",
            "\n",
            "Folder ID:  1u9keIU7rdqL6ZmUZnjoFqf9o_6fpH-26\n",
            "\n",
            "Folder name:  Google Drive: Sign-in\n",
            "\n",
            "Kích thước:\n",
            "\n",
            "2024/08/18 23:35:21 Failed to size: directory not found\n",
            "\n",
            "Đang thực thi:\n",
            "\n",
            " rclone copy -v -u --transfers 20 --checkers 40 'vodang2702,root_folder_id=\"1u9keIU7rdqL6ZmUZnjoFqf9o_6fpH-26\":' 'vodang2702:TONG HOP KHOA HOC FULL/Google Drive: Sign-in' --log-file \"/content/drive/MyDrive/TONG HOP KHOA HOC FULL/Google Drive: Sign-in/logfile.xlsx\"\n",
            "^C\n",
            "\n",
            "Kết thúc nhiệm vụ, xem chi tiết file log tại:  vodang2702:TONG HOP KHOA HOC FULL/Google Drive: Sign-in/logfile.xlsx\n",
            "\n",
            "Kích thước thư mục đích:  vodang2702:TONG HOP KHOA HOC FULL / Google Drive: Sign-in\n",
            "\n",
            "\n",
            "Total objects: 3\n",
            "Total size: 186.653 KiB (191133 Byte)\n"
          ]
        }
      ]
    },
    {
      "cell_type": "code",
      "source": [
        "#@title <center><img src='https://upload.wikimedia.org/wikipedia/commons/1/12/Google_Drive_icon_%282020%29.svg' height=\"20\" alt=\"Google Drive\"/> ↔ <img src='https://upload.wikimedia.org/wikipedia/commons/1/12/Google_Drive_icon_%282020%29.svg' height=\"20\" alt=\"Google Drive\"/> Download FOLDER <img src='https://www.svgrepo.com/show/788/folder.svg' height=\"20\" alt=\"Google Drive\"> từ Google Drive URL v2.1</center>\n",
        "#@markdown <center><h5>Chức năng download foder từ Google drive URL được share public, Lưu vào My Drive</center>\n",
        "\n",
        "#@markdown ---\n",
        "\n",
        "#@markdown <center><h6>Dán liên kết thư mục được chia sẻ (ví dụ: https://drive.google.com/drive/folders/1CgzIalZTD4DUFpE7xKwzpzjPAixTBm3-...)</h6>\n",
        "\n",
        "Shared_URL = \"https://drive.google.com/drive/folders/1092CL7l6fqW9dFBb1ATkUZJbGV4JyEhf\"  # @param {type:\"string\"}\n",
        "\n",
        "#@markdown <center><h6>Nhập đường dẫn đến thư mục đích - là folder cha của folder cần lưu</h6>\n",
        "#@markdown <center><h6>(Ví dụ Nhập: vodang2702:TONG HOP KHOA HOC FULL)</h6>\n",
        "#@markdown <center><h6>(Kết quả sẽ là: vodang2702:TONG HOP KHOA HOC FULL/Name shared folder)</h6>\n",
        "Dest_Folder = \"vodang2702:TONG HOP KHOA HOC FULL\"  # @param {type:\"string\"}\n",
        "\n",
        "#@markdown ---\n",
        "\n",
        "# Import các thư viện cần thiết\n",
        "import re\n",
        "import time\n",
        "import requests\n",
        "from bs4 import BeautifulSoup\n",
        "\n",
        "# Khai báo hàm cần dùng\n",
        "class StopExecution(Exception):\n",
        "    \"\"\"Exception tùy chỉnh để biểu thị việc dừng thực thi.\"\"\"\n",
        "    pass\n",
        "\n",
        "def stop_execution():\n",
        "    \"\"\"Hàm dừng thực thi chương trình.\"\"\"\n",
        "    raise StopExecution\n",
        "\n",
        "def get_name_from_gdrive_url(url):\n",
        "    \"\"\"Trích xuất tên từ URL Google Drive.\"\"\"\n",
        "    try:\n",
        "        response = requests.get(url)\n",
        "        response.encoding = 'utf-8'  # Đảm bảo xử lý đúng encoding\n",
        "        soup = BeautifulSoup(response.text, 'html.parser')\n",
        "        title = soup.title.string\n",
        "        return title.replace(\" - Google Drive\", \"\").replace(\" - Google 雲端硬碟\", \"\")\n",
        "    except requests.exceptions.RequestException as e:\n",
        "        print(f\"\\nLỗi khi truy cập URL: {e}\")\n",
        "        stop_execution()\n",
        "    except Exception as e:\n",
        "        print(f\"\\nĐã xảy ra lỗi khi xử lý URL: {e}\")\n",
        "        stop_execution()\n",
        "\n",
        "def extract_gdrive_name(url):\n",
        "    \"\"\"Kiểm tra và in tên tệp/thư mục từ URL Google Drive.\"\"\"\n",
        "    _folder_name = get_name_from_gdrive_url(url)\n",
        "\n",
        "    if _folder_name is None:\n",
        "        print(\"\\nKhông thể trích xuất tên tệp/thư mục từ URL.\")\n",
        "        stop_execution()\n",
        "    elif _folder_name == \"\":\n",
        "        print(\"\\nTên tệp/thư mục không hợp lệ.\")\n",
        "        stop_execution()\n",
        "    elif _folder_name == \"Google Drive: Sign-in\":\n",
        "        print(\"\\nTệp/thư mục được chia sẻ hạn chế, vui lòng liên hệ chủ sở hữu để nhận chia sẻ công khai.\")\n",
        "        stop_execution()\n",
        "    elif _folder_name in [\"Error 404 (Not Found)!!1\", \"Page Not Found\"]:\n",
        "        print(\"\\nTệp/thư mục không tồn tại hoặc đã bị xóa.\")\n",
        "        stop_execution()\n",
        "    else:\n",
        "        return _folder_name\n",
        "\n",
        "# Kiểm tra Shared_URL và Dest_Folder\n",
        "try:\n",
        "  if not Shared_URL and not Dest_Folder:\n",
        "    print(\"Vui lòng nhập Shared_URL và Dest_Folder.\")\n",
        "  else:\n",
        "    if Dest_Folder:\n",
        "      drive = re.search(r\"^(.+?):\", Dest_Folder)  # Tìm kiếm phần trước dấu \":\"\n",
        "      if drive:\n",
        "          mydrive = drive.group(1)       # Lấy phần đã tìm thấy (mydrive)\n",
        "          # print(mydrive)\n",
        "      else:\n",
        "          print(\"\\nKhông thể trích xuất MyDrive từ Dest_Folder. Vui lòng kiểm tra lại Dest_Folder.\")\n",
        "          stop_execution()  # Thoát nếu không tìm thấy MyDrive\n",
        "    if Shared_URL:\n",
        "      # Trích xuất ID thư mục từ URL (nếu có)\n",
        "      id = re.search(r\"/folders/([a-zA-Z0-9_-]+)\", Shared_URL)\n",
        "      if id:\n",
        "        #Get file/folder name from shared url - Google Drive\n",
        "\n",
        "        folder_name = extract_gdrive_name(Shared_URL)\n",
        "\n",
        "        # Print the file/folder name\n",
        "        # print(\"\\nFolder name: \", folder_name)\n",
        "\n",
        "        # Tạo file log\n",
        "        log_path = f\"/content/{folder_name}_logfile.xlsx\"\n",
        "        # print(\"log path: \",log_path)\n",
        "\n",
        "        # Thực thi lệnh tạo file log\n",
        "        print(\"\\nĐang tạo file log để lưu nhật ký sao chép thư mục... \")\n",
        "        !rclone touch \"{log_path}\"\n",
        "\n",
        "        # Kiểm tra filelog, thử lại mỗi 5 giây trong tối đa 30 giây\n",
        "        for _ in range(6):  # 6 lần thử với 5 giây chờ mỗi lần\n",
        "            output0 = !rclone lsf \"/content\"  --files-only\n",
        "            if f\"{folder_name}_logfile.xlsx\" in output0:\n",
        "                print(\"\\nFile log đã được nhận diện!\")\n",
        "                break\n",
        "            else:\n",
        "                print(\"\\nFile log chưa được nhận diện, thử lại...\")\n",
        "                time.sleep(5)\n",
        "        else:\n",
        "            print(\"\\nFile log không được nhận diện sau 30 giây.\")\n",
        "            stop_execution() # Thoát nếu không tìm thấy file log\n",
        "\n",
        "        print(\"\\nThông tin thư mục nguồn: \")\n",
        "        print(\"\\nShared URL: \",Shared_URL)\n",
        "        print(\"\\nFolder ID: \",id.group(1))\n",
        "        print(\"\\nFolder name: \", folder_name)\n",
        "        print(\"\\nKích thước:\\n\")\n",
        "        !rclone size --drive-shared-with-me \"{mydrive}:{folder_name}\"\n",
        "        # Lệnh copy folder\n",
        "        command = f'rclone copy -v -u --ignore-existing --transfers 20 --checkers 40 --drive-shared-with-me --server-side-across-configs --checksum \"{mydrive}:{folder_name}\" \"{mydrive}:0tmp_folder/{folder_name}\" --log-file \"{log_path}\"'\n",
        "        print(\"\\nĐang thực thi:\\n\\n\",command)\n",
        "      else:\n",
        "        print(\"\\nKhông thể trích xuất ID thư mục từ Shared_URL. Vui lòng kiểm tra lại Shared_URL.\")\n",
        "        stop_execution()  # Thoát nếu không tìm thấy ID\n",
        "\n",
        "    result = !{command}\n",
        "  # Kiểm tra lỗi và hiển thị kết quả\n",
        "    if result:  # Nếu result không rỗng\n",
        "      if result[0].startswith(\"20\"):\n",
        "        print(\"\\nLỗi:\", result[0])\n",
        "      else:\n",
        "        for line in result:\n",
        "          print(line)\n",
        "    else:\n",
        "      # Di chuyển thư mục từ A/folder sang B/folder\n",
        "      print(\"\\nĐang di chuyển [\",folder_name,\"] từ thư mục tạm thời tới thư mục đích\")\n",
        "      !rclone move \"{mydrive}:0tmp_folder/{folder_name}\" \"{Dest_Folder}/{folder_name}\"\n",
        "\n",
        "      # Kiểm tra kết quả di chuyển thư mục\n",
        "      for _ in range(5):  # 5 lần thử với 5 giây chờ mỗi lần\n",
        "            output1 = !rclone lsd \"{Dest_Folder}\"\n",
        "            if any(folder_name in line for line in output1):\n",
        "                print(f\"\\nThư mục [{folder_name}] đã xuất hiện trong thư mục đích!\")\n",
        "                break\n",
        "            else:\n",
        "                print(f\"\\nThư mục [{folder_name}] chưa có trong thư mục đích, đang thử lại...\")\n",
        "                time.sleep(5)\n",
        "      else:\n",
        "            print(f\"\\nThư mục [{folder_name}] không có trong thư mục đích sau 25 giây tìm kiếm.\")\n",
        "            stop_execution() # Thoát nếu không tìm thấy thư mục {folder_name}\n",
        "\n",
        "      # Di chuyển tệp từ thư mục A sang thư mục B\n",
        "      !rclone move \"{log_path}\" \"{Dest_Folder}/{folder_name}/\"\n",
        "\n",
        "      # Kiểm tra kết quả di chuyển file log\n",
        "      for _ in range(5):  # 5 lần thử với 5 giây chờ mỗi lần\n",
        "            output2 = !rclone lsf \"{Dest_Folder}/{folder_name}\"\n",
        "            if f\"{folder_name}_logfile.xlsx\"  in output2:\n",
        "                print(f\"\\nFile log: [{folder_name}_logfile.xlsx] đã xuất hiện trong thư mục đích!\")\n",
        "                break\n",
        "            else:\n",
        "                print(f\"\\nFile log: [{folder_name}_logfile.xlsx] chưa có trong thư mục đích, đang thử lại...\")\n",
        "                time.sleep(5)\n",
        "      else:\n",
        "            print(f\"\\nFile log: [{folder_name}_logfile.xlsx] không có trong thư mục đích sau 25 giây tìm kiếm.\")\n",
        "            stop_execution() # Thoát nếu không tìm thấy file log {folder_name}_logfile.xlsx\n",
        "\n",
        "      # Kiểm tra xem thư mục tạm thời có trống hay không và xóa nó\n",
        "      output3 = !rclone size \"{mydrive}:0tmp_folder\"\n",
        "\n",
        "      # Tìm kích thước thư mục (lấy phần số byte từ đầu ra)\n",
        "      match = re.search(r\"Total size: (\\d+ B|\\d+ Bytes)\", \"\\n\".join(output3))\n",
        "      total_size = match.group(1) if match else None\n",
        "\n",
        "      # Nếu kích thước bằng \"0 B\" hoặc \"0 Bytes\", xóa thư mục\n",
        "      if total_size in [\"0 B\", \"0 Bytes\"]:\n",
        "          !rclone purge \"{mydrive}:0tmp_folder\"\n",
        "          print(\"\\nThư mục tạm thời [0tmp_folder] trống và đã được xóa.\")\n",
        "      elif total_size:\n",
        "          print(\"\\nThư mục tạm thời [0tmp_folder] không trống, không thể xóa.\")\n",
        "      else:\n",
        "          print(\"\\nKhông thể phân tích kích thước thư mục tạm [0tmp_folder].\")\n",
        "\n",
        "      print(\"\\nKết thúc nhiệm vụ!\")\n",
        "      print(\"\\nXem chi tiết file log tại: \",Dest_Folder,\"/\",folder_name,\"/\",folder_name,\"_logfile.xlsx\")\n",
        "\n",
        "      # Kiểm tra kích thước thư mục đích\n",
        "      print(\"\\nKích thước thư mục đích: \",Dest_Folder,\"/\",folder_name)\n",
        "      print(\"\\n\")\n",
        "      !rclone size \"{Dest_Folder}/{folder_name}\"\n",
        "except StopExecution:\n",
        "    print(\"\\nThật tiếc, chương trình thực thi phải dừng lại tại đây! 😢\")"
      ],
      "metadata": {
        "colab": {
          "base_uri": "https://localhost:8080/"
        },
        "cellView": "form",
        "id": "cYCEVPPh7MVw",
        "outputId": "fccaf81c-a559-49cb-dc8b-fb28c673f3c0"
      },
      "execution_count": 39,
      "outputs": [
        {
          "output_type": "stream",
          "name": "stdout",
          "text": [
            "\n",
            "Đang tạo file log để lưu nhật ký sao chép thư mục... \n",
            "\n",
            "File log đã được nhận diện!\n",
            "\n",
            "Thông tin thư mục nguồn: \n",
            "\n",
            "Shared URL:  https://drive.google.com/drive/folders/1092CL7l6fqW9dFBb1ATkUZJbGV4JyEhf\n",
            "\n",
            "Folder ID:  1092CL7l6fqW9dFBb1ATkUZJbGV4JyEhf\n",
            "\n",
            "Folder name:  MAP GO AN CUONG\n",
            "\n",
            "Kích thước:\n",
            "\n",
            "2024/08/19 13:26:23 NOTICE: Google drive root 'MAP GO AN CUONG': Size may be underestimated due to 3 objects with unknown size\n",
            "Total objects: 4.109k (4109)\n",
            "Total size: 4.127 GiB (4431811369 Byte)\n",
            "Total objects with unknown size: 3 (3)\n",
            "\n",
            "Đang thực thi:\n",
            "\n",
            " rclone copy -v -u --ignore-existing --transfers 20 --checkers 40 --drive-shared-with-me --server-side-across-configs --checksum \"vodang2702:MAP GO AN CUONG\" \"vodang2702:0tmp_folder/MAP GO AN CUONG\" --log-file \"/content/MAP GO AN CUONG_logfile.xlsx\"\n",
            "\n",
            "Đang di chuyển [ MAP GO AN CUONG ] từ thư mục tạm thời tới thư mục đích\n",
            "\n",
            "Thư mục [MAP GO AN CUONG] đã xuất hiện trong thư mục đích!\n",
            "\n",
            "File log: [MAP GO AN CUONG_logfile.xlsx] đã xuất hiện trong thư mục đích!\n",
            "\n",
            "Thư mục tạm thời [0tmp_folder] trống và đã được xóa.\n",
            "\n",
            "Kết thúc nhiệm vụ!\n",
            "\n",
            "Xem chi tiết file log tại:  vodang2702:TONG HOP KHOA HOC FULL / MAP GO AN CUONG / MAP GO AN CUONG _logfile.xlsx\n",
            "\n",
            "Kích thước thư mục đích:  vodang2702:TONG HOP KHOA HOC FULL / MAP GO AN CUONG\n",
            "\n",
            "\n",
            "2024/08/19 13:50:11 NOTICE: Google drive root 'TONG HOP KHOA HOC FULL/MAP GO AN CUONG': Size may be underestimated due to 3 objects with unknown size\n",
            "Total objects: 4.108k (4108)\n",
            "Total size: 4.128 GiB (4431904549 Byte)\n",
            "Total objects with unknown size: 3 (3)\n"
          ]
        }
      ]
    },
    {
      "cell_type": "code",
      "source": [
        "#@title <center><img src='https://upload.wikimedia.org/wikipedia/commons/1/12/Google_Drive_icon_%282020%29.svg' height=\"20\" alt=\"Google Drive\"/> ↔ <img src='https://upload.wikimedia.org/wikipedia/commons/1/12/Google_Drive_icon_%282020%29.svg' height=\"20\" alt=\"Google Drive\"/> Download FILE <img src='https://www.svgrepo.com/show/492654/file-holder.svg' height=\"20\" alt=\"Google Drive\"> từ Google Drive URL v1.1</center>\n",
        "#@markdown <center><h5>Chức năng download file từ Google drive URL được share public, Lưu vào My Drive</center>\n",
        "\n",
        "#@markdown ---\n",
        "#@markdown <center><h6>Dán liên kết file/thư mục được chia sẻ (ví dụ: https://drive.google.com/file/d/1NUYc-orx5df3RskKdJOxR4AhWix0Th4d...)</h6>\n",
        "\n",
        "Shared_URL = \"https://drive.google.com/file/d/1VEgw8yriHLfAAVMacZTyDAYfw8KGGL4F/view\" # @param {\"type\":\"string\",\"placeholder\":\"https://drive.google.com/file/d/1NUYc-orx5df3RskKdJOxR4AhWix0Th4d/view?usp=drive_link\"}\n",
        "\n",
        "#@markdown <center><h6>Nhập đường dẫn đến thư mục đích cần lưu file (ví dụ: vodang2702:TONG HOP KHOA HOC FULL)</h6>\n",
        "\n",
        "Dest_Folder = \"vodang2702:Phần mềm/Stable Diffusion VN\" # @param {\"type\":\"string\",\"placeholder\":\"vodang2702:TONG HOP KHOA HOC FULL\"}\n",
        "\n",
        "# Import các thư viện cần thiết\n",
        "import re\n",
        "import time\n",
        "import os\n",
        "import requests\n",
        "from bs4 import BeautifulSoup\n",
        "\n",
        "# Khai báo hàm cần dùng\n",
        "class StopExecution(Exception):\n",
        "    \"\"\"Exception tùy chỉnh để biểu thị việc dừng thực thi.\"\"\"\n",
        "    pass\n",
        "\n",
        "def stop_execution():\n",
        "    \"\"\"Hàm dừng thực thi chương trình.\"\"\"\n",
        "    raise StopExecution\n",
        "\n",
        "def get_name_from_gdrive_url(url):\n",
        "    \"\"\"Trích xuất tên từ URL Google Drive.\"\"\"\n",
        "    try:\n",
        "        response = requests.get(url)\n",
        "        response.encoding = 'utf-8'  # Đảm bảo xử lý đúng encoding\n",
        "        soup = BeautifulSoup(response.text, 'html.parser')\n",
        "        title = soup.title.string\n",
        "        return title.replace(\" - Google Drive\", \"\").replace(\" - Google 雲端硬碟\", \"\")\n",
        "    except requests.exceptions.RequestException as e:\n",
        "        print(f\"\\nLỗi khi truy cập URL: {e}\")\n",
        "        stop_execution()\n",
        "    except Exception as e:\n",
        "        print(f\"\\nĐã xảy ra lỗi khi xử lý URL: {e}\")\n",
        "        stop_execution()\n",
        "\n",
        "def extract_gdrive_name(url):\n",
        "    \"\"\"Kiểm tra và in tên tệp/thư mục từ URL Google Drive.\"\"\"\n",
        "    _folder_name = get_name_from_gdrive_url(url)\n",
        "\n",
        "    if _folder_name is None:\n",
        "        print(\"\\nKhông thể trích xuất tên tệp/thư mục từ URL.\")\n",
        "        stop_execution()\n",
        "    elif _folder_name == \"\":\n",
        "        print(\"\\nTên tệp/thư mục không hợp lệ.\")\n",
        "        stop_execution()\n",
        "    elif _folder_name == \"Google Drive: Sign-in\":\n",
        "        print(\"\\nTệp/thư mục được chia sẻ hạn chế, vui lòng liên hệ chủ sở hữu để nhận chia sẻ công khai.\")\n",
        "        stop_execution()\n",
        "    elif _folder_name in [\"Error 404 (Not Found)!!1\", \"Page Not Found\"]:\n",
        "        print(\"\\nTệp/thư mục không tồn tại hoặc đã bị xóa.\")\n",
        "        stop_execution()\n",
        "    else:\n",
        "        return _folder_name\n",
        "\n",
        "try:\n",
        "  # Step 1: Extract the file/folder ID from shared url - Google Drive (using string splitting)\n",
        "  file_id = Shared_URL.split('/')[5]\n",
        "\n",
        "  # Print the file/folder ID\n",
        "  print(\"Bước 1/5. File ID:   \", file_id)\n",
        "\n",
        "  # Step 2: Get file/folder name from shared url - Google Drive\n",
        "\n",
        "  file_name = extract_gdrive_name(Shared_URL)\n",
        "\n",
        "  # Print the file/folder name\n",
        "  print(\"\\nBước 2/5. File name: \", file_name)\n",
        "\n",
        "  # Step 3: Download the file from the URL\n",
        "  url_download = f\"https://drive.google.com/uc?export=download&id={file_id}\"\n",
        "\n",
        "  local_path = os.path.join(\"/content\", file_name)\n",
        "  print(\"\\nBước 3/5. Downloading...[Đợi chờ là hạnh phúc]... \", file_name)\n",
        "  print(\"                          ⬇⬇\")\n",
        "  print(\"                          ⬇⬇\")\n",
        "  !wget -O \"{local_path}\" \"{url_download}\"\n",
        "\n",
        "  # Step 4: Upload the file to Google Drive\n",
        "  destination_path = f\"{Dest_Folder}\"\n",
        "  !rclone copy \"{local_path}\" \"{destination_path}\"\n",
        "\n",
        "  # Step 5: Check the file in Google Drive\n",
        "  print(\"\\nBước 4/5. Checking...[Sẽ hạnh phúc lắm nếu tìm thấy]... \", file_name,\" trong thư mục đích \",Dest_Folder)\n",
        "  print(\"                          ⬇⬇\")\n",
        "  print(\"                          ⬇⬇\")\n",
        "\n",
        "  # Kiểm tra file trong thư mục đích\n",
        "  for _ in range(6):  # 6 lần thử với 5 giây chờ mỗi lần\n",
        "        output = !rclone lsf \"{destination_path}\" --files-only | grep \"{file_name}\"\n",
        "        if f\"{file_name}\" in output:\n",
        "            print(f\"Bước 5/5. File {file_name} đã có trong thư mục đích!\")\n",
        "            break\n",
        "        else:\n",
        "            print(f\"Bước 5/5. File {file_name} chưa có trong thư mục đích, đang tìm kiếm...\")\n",
        "            time.sleep(5)\n",
        "  else:\n",
        "      print(f\"Bước 5/5. File {file_name} không được tìm thấy trong thư mục đích sau 30 giây.\")\n",
        "      print(\"\\nNote: Có thể bạn phải cần bật chế độ debug code để tìm hiểu nguyên nhân\")\n",
        "      print(\"\\nBonus: Thất bại là bà nội của thành công! Chúc bạn may mắn lần sau!\")\n",
        "      stop_execution() # Thoát nếu không tìm thấy file\n",
        "except StopExecution:\n",
        "  print(\"\\nThật tiếc, chương trình thực thi phải dừng lại tại đây! 😢\")"
      ],
      "metadata": {
        "colab": {
          "base_uri": "https://localhost:8080/"
        },
        "cellView": "form",
        "id": "ReTITk09H4Pb",
        "outputId": "ac72917a-d648-4c09-81c9-f8985b4fe650",
        "collapsed": true
      },
      "execution_count": 40,
      "outputs": [
        {
          "output_type": "stream",
          "name": "stdout",
          "text": [
            "1. File/folder ID:    1VEgw8yriHLfAAVMacZTyDAYfw8KGGL4F\n",
            "\n",
            ">2. File/folder name:  SkinFiner 4.2 Multilingual.rar\n",
            "\n",
            "3. Downloading....... SkinFiner 4.2 Multilingual.rar\n",
            "          ⬇⬇\n",
            "          ⬇⬇\n",
            "--2024-08-19 14:06:36--  https://drive.google.com/uc?export=download&id=1VEgw8yriHLfAAVMacZTyDAYfw8KGGL4F\n",
            "Resolving drive.google.com (drive.google.com)... 209.85.200.101, 209.85.200.100, 209.85.200.113, ...\n",
            "Connecting to drive.google.com (drive.google.com)|209.85.200.101|:443... connected.\n",
            "HTTP request sent, awaiting response... 303 See Other\n",
            "Location: https://drive.usercontent.google.com/download?id=1VEgw8yriHLfAAVMacZTyDAYfw8KGGL4F&export=download [following]\n",
            "--2024-08-19 14:06:36--  https://drive.usercontent.google.com/download?id=1VEgw8yriHLfAAVMacZTyDAYfw8KGGL4F&export=download\n",
            "Resolving drive.usercontent.google.com (drive.usercontent.google.com)... 74.125.132.132, 2607:f8b0:4001:c00::84\n",
            "Connecting to drive.usercontent.google.com (drive.usercontent.google.com)|74.125.132.132|:443... connected.\n",
            "HTTP request sent, awaiting response... 200 OK\n",
            "Length: 2441 (2.4K) [text/html]\n",
            "Saving to: ‘/content/SkinFiner 4.2 Multilingual.rar’\n",
            "\n",
            "/content/SkinFiner  100%[===================>]   2.38K  --.-KB/s    in 0s      \n",
            "\n",
            "2024-08-19 14:06:36 (21.2 MB/s) - ‘/content/SkinFiner 4.2 Multilingual.rar’ saved [2441/2441]\n",
            "\n",
            "\n",
            "4. Checking....FILE:  SkinFiner 4.2 Multilingual.rar  in  vodang2702:Phần mềm/Stable Diffusion VN\n",
            "          ⬇⬇\n",
            "          ⬇⬇\n",
            "\u0005. File SkinFiner 4.2 Multilingual.rar đã có trong thư mục đích!\n"
          ]
        }
      ]
    },
    {
      "cell_type": "code",
      "source": [
        "#@title <center><img src='https://upload.wikimedia.org/wikipedia/commons/1/12/Google_Drive_icon_%282020%29.svg' height=\"20\" alt=\"Google Drive\"/> ↔ <img src='https://upload.wikimedia.org/wikipedia/commons/1/12/Google_Drive_icon_%282020%29.svg' height=\"20\" alt=\"Google Drive\"/> Download SHORTCUT FOLDER <img src='https://cdn3d.iconscout.com/3d/premium/thumb/shortcut-folder-3d-icon-download-in-png-blend-fbx-gltf-file-formats--share-arrow-pack-files-folders-icons-6043951.png?f=webp' height=\"25\" alt=\"Google Drive\"> từ Google Drive URL</center>\n",
        "#@markdown <center><h5>Chức năng download folder từ Google drive URL được share public, Lưu vào My Drive bằng cách gián tiếp tạo Shortcut và download Shortcut đó</center>\n",
        "\n",
        "#@markdown ---\n",
        "# @markdown <center><h5>Tạo shortcut folder shared to My Drive sau đó dán đường dẫn shortcut folder vừa tạo vào bên dưới (vodang2702:ShorcutFolderName)</h5>\n",
        "shortCutFolderPath = \"vodang2702:TONG HOP KHOA HOC FULL/KHÓA HỌC HIEUTV\" # @param {\"type\":\"string\",\"placeholder\":\"vodang2702:TONG HOP KHOA HOC FULL/CÙNG NHAU HỌC POWERPOINT\"}\n",
        "# VD: !rclone copy -v --ignore-existing -u --check-first --transfers 20 --checkers 40 \"vodang2702:TONG HOP KHOA HOC FULL/aemmo.vn/Viral Characters by Mohi & Sami\" \"vodang2702:TONG HOP KHOA HOC FULL/aemmo.vn/Viral Characters by Mohi and Sami\" --log-file \"vodang2702:TONG HOP KHOA HOC FULL/aemmo.vn/Viral Characters by Mohi and Sami-logfile.txt\"\n",
        "# Tự động tạo đường dẫn đích\n",
        "import re\n",
        "import time\n",
        "# Khai báo hàm bắt exception\n",
        "class StopExecution(Exception):\n",
        "    \"\"\"Exception tùy chỉnh để biểu thị việc dừng thực thi.\"\"\"\n",
        "    pass\n",
        "\n",
        "def stop_execution():\n",
        "    \"\"\"Hàm dừng thực thi chương trình.\"\"\"\n",
        "    raise StopExecution\n",
        "try:\n",
        "  destinationFolderPath = f\"{shortCutFolderPath} Copied\"\n",
        "  sourceFolderPathAfterRemoveRemoteName = re.search(r\":(.+)\", shortCutFolderPath)\n",
        "  destinationFolderPathAfterRemoveRemoteName = re.search(r\":(.+)\", destinationFolderPath)\n",
        "  #print(\"Đường dẫn đích: \",destinationFolderPathAfterRemoveRemoteName.group(1))\n",
        "\n",
        "  log_path = f\"/content/drive/MyDrive/{destinationFolderPathAfterRemoveRemoteName.group(1)}/logfile.xlsx\"\n",
        "  # print(\"log path: \",log_path)\n",
        "\n",
        "  # Thực thi lệnh rclone\n",
        "  print(\"Bước 1/5. Đang tạo file log để lưu nhật ký sao chép thư mục... \")\n",
        "  !rclone touch \"{log_path}\"\n",
        "  # Kiểm tra filelog, thử lại mỗi 5 giây trong tối đa 30 giây\n",
        "\n",
        "  for _ in range(6):  # 6 lần thử với 5 giây chờ mỗi lần\n",
        "      output = !rclone lsf \"{destinationFolderPath}\"\n",
        "      if \"logfile.xlsx\" in output:\n",
        "          print(\"\\nFile log đã được nhận diện!\")\n",
        "          break\n",
        "      else:\n",
        "          print(\"\\nFile log chưa được nhận diện, thử lại...\")\n",
        "          time.sleep(5)\n",
        "  else:\n",
        "      print(\"\\nFile log không được nhận diện sau 30 giây.\")\n",
        "      stop_execution()  # Thoát nếu không tìm thấy file log\n",
        "  print(\"\\nBước 2/5. Kích thước thư mục nguồn: \",sourceFolderPathAfterRemoveRemoteName.group(1))\n",
        "  !rclone size \"{shortCutFolderPath}\"\n",
        "  print(\"\\nBước 3/5. Đang copy từ\",sourceFolderPathAfterRemoveRemoteName.group(1),\" đến \",destinationFolderPathAfterRemoveRemoteName.group(1),\"\\n\")\n",
        "  !rclone copy -v --ignore-existing -u --check-first --transfers 20 --checkers 40 \"{shortCutFolderPath}\" \"{destinationFolderPath}\" --log-file \"{log_path}\"\n",
        "  print(\"\\nBước 4/5. Kết thúc nhiệm vụ, xem chi tiết file log tại: \",log_path)\n",
        "  print(\"\\nBước 5/5. Kích thước thư mục đích: \",destinationFolderPathAfterRemoveRemoteName.group(1))\n",
        "  !rclone size \"{destinationFolderPath}\"\n",
        "except StopExecution:\n",
        "  print(\"\\nThật tiếc, chương trình thực thi phải dừng lại tại đây! 😢\")"
      ],
      "metadata": {
        "id": "l2wQWkQiuuDn",
        "cellView": "form",
        "colab": {
          "base_uri": "https://localhost:8080/"
        },
        "outputId": "edffc041-4d2d-4323-b789-3e1f7a6a9ba6",
        "collapsed": true
      },
      "execution_count": null,
      "outputs": [
        {
          "output_type": "stream",
          "name": "stdout",
          "text": [
            "Bước 1/5. Đang tạo file log để lưu nhật ký sao chép thư mục... \n",
            "\n",
            "File log chưa được nhận diện, thử lại...\n",
            "\n",
            "File log đã được nhận diện!\n",
            "\n",
            "Bước 2/5. Kích thước thư mục nguồn:  TONG HOP KHOA HOC FULL/KHÓA HỌC HIEUTV\n",
            "Total objects: 23\n",
            "Total size: 2.595 GiB (2786326878 Byte)\n",
            "\n",
            "Bước 3/5. Đang copy từ TONG HOP KHOA HOC FULL/KHÓA HỌC HIEUTV  đến  TONG HOP KHOA HOC FULL/KHÓA HỌC HIEUTV Copied \n",
            "\n",
            "\n",
            "Bước 4/5. Kết thúc nhiệm vụ, xem chi tiết file log tại:  /content/drive/MyDrive/TONG HOP KHOA HOC FULL/KHÓA HỌC HIEUTV Copied/logfile.xlsx\n",
            "\n",
            "Bước 5/5. Kích thước thư mục đích:  TONG HOP KHOA HOC FULL/KHÓA HỌC HIEUTV Copied\n",
            "Total objects: 18\n",
            "Total size: 1.631 GiB (1750822830 Byte)\n"
          ]
        }
      ]
    },
    {
      "cell_type": "code",
      "source": [
        "#@title ĐANG PHÁT TRIỂN <center><img src='https://upload.wikimedia.org/wikipedia/commons/thumb/3/3c/Microsoft_Office_OneDrive_%282019%E2%80%93present%29.svg/1024px-Microsoft_Office_OneDrive_%282019%E2%80%93present%29.svg.png' height=\"20\" alt=\"One Drive\"/> ↔ <img src='https://upload.wikimedia.org/wikipedia/commons/1/12/Google_Drive_icon_%282020%29.svg' height=\"20\" alt=\"Google Drive\"/> Tranfer FOLDER <img src='https://www.svgrepo.com/show/788/folder.svg' height=\"20\" alt=\"Google Drive\"> giữa các Cloud Stograge</center>\n",
        "#@markdown <center><h5>Chức năng chuyển dữ liệu file/folder qua lại giữa các Cloud Stograge</center>\n",
        "\n",
        "#@markdown ---\n",
        "\n",
        "#@markdown <center><h6>Nhập đường dẫn đến thư mục nguồn - là file/folder cần transfer</h6>\n",
        "#@markdown <center><h6>(Ví dụ: dangvn:Movie/Cua lại chị bầu)</h6>\n",
        "Source_Path = \"dangvn:Movie/Cua lại chị bầu\"  # @param {type:\"string\"}\n",
        "\n",
        "#@markdown <center><h6>Nhập đường dẫn đến thư mục đích - là folder cha của folder cần lưu</h6>\n",
        "#@markdown <center><h6>(Ví dụ: vodang2702:TONG HOP KHOA HOC FULL)</h6>\n",
        "#@markdown <center><h6>(Kết quả sẽ là: vodang2702:TONG HOP KHOA HOC FULL/Cua lại chị bầu)</h6>\n",
        "Destination_Base = \"vodang2702:TONG HOP KHOA HOC FULL\"  # @param {type:\"string\"}\n",
        "\n",
        "#@markdown ---\n",
        "\n",
        "# Định nghĩa các hàm sẽ sử dụng\n",
        "import subprocess\n",
        "import os\n",
        "\n",
        "def check_exists(path):\n",
        "    result = subprocess.run(['rclone', 'ls', path], capture_output=True, text=True)\n",
        "    return result.returncode == 0\n",
        "\n",
        "def create_directory(path):\n",
        "    result = subprocess.run(['rclone', 'mkdir', path], capture_output=True, text=True)\n",
        "    return result.returncode == 0\n",
        "\n",
        "def get_size(path):\n",
        "    result = subprocess.run(['rclone', 'size', path], capture_output=True, text=True)\n",
        "    return result.stdout\n",
        "\n",
        "def is_file(path):\n",
        "    result = subprocess.run(['rclone', 'lsf', path], capture_output=True, text=True)\n",
        "    return result.returncode == 0 and len(result.stdout.strip()) > 0\n",
        "\n",
        "# Xác định loại đối tượng tại Source_Path\n",
        "if is_file(Source_Path):  # Sở dĩ 2 điều kiện if-else giống nhau để tiện cho việc mở rộng code sau này\n",
        "    # Source_Path là file\n",
        "    source_name = os.path.basename(Source_Path)\n",
        "    Destination_Path = f\"{Destination_Base}/{source_name}\"\n",
        "else:\n",
        "    # Source_Path là thư mục\n",
        "    source_name = os.path.basename(Source_Path)\n",
        "    Destination_Path = f\"{Destination_Base}/{source_name}\"\n",
        "\n",
        "# Kiểm tra sự tồn tại của thư mục hoặc file nguồn\n",
        "if not check_exists(Source_Path):\n",
        "    print(f\"Đường dẫn nguồn {Source_Path} không tồn tại.\")\n",
        "else:\n",
        "    print(f\"Đường dẫn nguồn {Source_Path} tồn tại.\")\n",
        "\n",
        "# Kiểm tra và tạo thư mục đích nếu cần\n",
        "if not check_exists(Destination_Base):\n",
        "    print(f\"Đường dẫn cơ sở {Destination_Base} không tồn tại. Đang tạo thư mục.\")\n",
        "    if create_directory(Destination_Base):\n",
        "        print(f\"Đã tạo thành công thư mục cơ sở {Destination_Base}.\")\n",
        "    else:\n",
        "        print(f\"Không thể tạo thư mục cơ sở {Destination_Base}.\")\n",
        "else:\n",
        "    print(f\"Đường dẫn cơ sở {Destination_Base} đã tồn tại.\")\n",
        "\n",
        "# Tạo thư mục để lưu log\n",
        "log_directory = f\"{Destination_Base}/log\"\n",
        "create_directory(log_directory)\n",
        "\n",
        "# Đặt tên cho tệp log\n",
        "logfile_path = f\"{log_directory}/logfile.txt\"\n",
        "\n",
        "# Thực hiện transfer với việc lưu log vào tệp văn bản\n",
        "transfer_command = ['rclone', 'copy', Source_Path, Destination_Path, '--progress', '--log-file', logfile_path]\n",
        "result = subprocess.run(transfer_command, capture_output=True, text=True)\n",
        "\n",
        "# Kiểm tra kết quả transfer\n",
        "if result.returncode == 0:\n",
        "    print(\"Quá trình sao chép hoàn tất thành công.\")\n",
        "else:\n",
        "    print(f\"Quá trình sao chép thất bại với lỗi:\\n{result.stderr}\")\n",
        "\n",
        "# In kết quả ra màn hình\n",
        "print(\"Kết quả sao chép:\")\n",
        "print(result.stdout)\n"
      ],
      "metadata": {
        "cellView": "form",
        "id": "L2tYm5mfb-GP"
      },
      "execution_count": null,
      "outputs": []
    },
    {
      "cell_type": "markdown",
      "metadata": {
        "id": "7Uoq-Xd355PE"
      },
      "source": [
        "#<img src='https://www.svgrepo.com/show/411407/orchestrate.svg' height=\"30\" alt=\"Sync\"/> **Copy - Sync chậm hơn với lệnh tay**"
      ]
    },
    {
      "cell_type": "markdown",
      "metadata": {
        "id": "SVDyrIPf59He"
      },
      "source": [
        "*Không in log ra màn hình, ghi log vào file*"
      ]
    },
    {
      "cell_type": "markdown",
      "source": [
        "- Mục đích: Copy folder từ google drive sang one drive + ghi log vào file\n",
        "- Ví dụ: **`!rclone copy -v --transfers 12 vodang2702:\"Khoá Học 2TB\" admin:\"Khoá Học 2TB\" --log-file /content/sample_data/logfile.txt`**"
      ],
      "metadata": {
        "id": "Ug9fsqoAkIYh"
      }
    },
    {
      "cell_type": "code",
      "execution_count": null,
      "metadata": {
        "id": "yvNR3VZg6CZH"
      },
      "outputs": [],
      "source": [
        "# Nhập lệnh ở đây\n",
        "!rclone copy -v --transfers 12 vodang2702:\"Khoá Học 2TB\" admin:\"Khoá Học 2TB\" --log-file /content/sample_data/logfile.txt"
      ]
    },
    {
      "cell_type": "markdown",
      "source": [
        "- Mục đích: Copy folder được chia sẻ vào drive (cùng tài khoản google) + ghi log vào file; Không giới hạn băng thông, Luồng transfer cùng lúc là 12, Check file là 20, thực thi trên server google, tốc độ mạng của server\n",
        "- Ví dụ: **`!rclone copy -v --drive-shared-with-me --server-side-across-configs --transfers 12 --checkers 20 --bwlimit 0 \"vodang2702:1Team HSG [Backup]\"  \"vodang2702:1Team HSG [BK]\" --log-file /content/sample_data/logfile.txt\n",
        "`**"
      ],
      "metadata": {
        "id": "rJqewkxkkoBq"
      }
    },
    {
      "cell_type": "code",
      "execution_count": null,
      "metadata": {
        "id": "UQDJT6By6ILB"
      },
      "outputs": [],
      "source": [
        "# Nhập lệnh ở đây\n",
        "!rclone copy -v --drive-shared-with-me --server-side-across-configs --transfers 10 --checkers 20 --bwlimit 0 \"vodang2702:1Team HSG [Backup]\"  \"vodang2702:1Team HSG [BK]\" --log-file /content/sample_data/logfile.txt\n"
      ]
    },
    {
      "cell_type": "markdown",
      "metadata": {
        "id": "j4sw_cKd6KuS"
      },
      "source": [
        "*Ghi log ra màn hình*"
      ]
    },
    {
      "cell_type": "markdown",
      "source": [
        "\n",
        "- Mục đích: Copy folder từ google drive sang one drive + in log ra màn hình\n",
        "- Ví dụ: **`!rclone copy -v --transfers 15 vodang2702:\"Khoá Học 2TB\" admin:\"Khoá Học 2TB\"`**"
      ],
      "metadata": {
        "id": "Rq2tQgQfd8YR"
      }
    },
    {
      "cell_type": "code",
      "execution_count": null,
      "metadata": {
        "id": "gjqPy7WB6PLz"
      },
      "outputs": [],
      "source": [
        "# Nhập lệnh ở đây\n",
        "!rclone copy -v --transfers 10 --checkers 20 vodang2702:\"Khoá Học 2TB\" admin:\"Khoá Học 2TB\""
      ]
    },
    {
      "cell_type": "markdown",
      "source": [
        "- Mục đích: Copy folder từ google drive sang one drive, bỏ qua file đã tồn tại ở thư mục đích (copy thêm), giới hạn băng thông và số lượng luồng song song.\n",
        "- Ví dụ: **`!rclone copy -v --bwlimit 7M --ignore-existing --transfers 20 --checkers 40 vodang2702:\"Khoá Học 2TB\" admin:\"Khoá Học 2TB\"`**"
      ],
      "metadata": {
        "id": "UWgjfVVSejMW"
      }
    },
    {
      "cell_type": "code",
      "execution_count": null,
      "metadata": {
        "id": "_mHd3lvI6TIn"
      },
      "outputs": [],
      "source": [
        "# Nhập lệnh ở đây\n",
        "!rclone copy -v --checkers 40 --transfers 20 vodang2702:\"Khoá Học 2TB\" admin:\"Khoá Học 2TB\""
      ]
    },
    {
      "cell_type": "markdown",
      "source": [
        "- Mục đích: Copy folder từ thư mục được chia sẻ trên google drive vào chính google drive đó (chuyển quyền sở hữu). Copy bằng folder id\n",
        "- Ví dụ: **`!rclone copy -v --transfers 20 --checkers 40 'vodang2702,root_folder_id=\"1I7VSoUdSXSJ_r6Bm0y0l1j7TXbKdWNQD\":' 'vodang2702:1.5 Ao Lua'`**"
      ],
      "metadata": {
        "id": "llj-gzmFfb3h"
      }
    },
    {
      "cell_type": "code",
      "source": [
        "# Nhập lệnh ở đây\n",
        "!rclone copy -v --transfers 20 --checkers 40 'vodang2702,root_folder_id=\"1I7VSoUdSXSJ_r6Bm0y0l1j7TXbKdWNQD\":' 'vodang2702:1.5 Ao Lua'"
      ],
      "metadata": {
        "id": "c-rLiKgWB8X8"
      },
      "execution_count": null,
      "outputs": []
    },
    {
      "cell_type": "markdown",
      "source": [
        "- Mục đích: Copy folder từ cloud này sang cloud khác, bỏ qua file đã tồn tại\n",
        "- Ví dụ: **`!rclone copy -v --ignore-existing -u --check-first --transfers 20 --checkers 40 \"admin:BackupIphoneMyMom\" \"duongle:BackupIphoneMyMom\"`**"
      ],
      "metadata": {
        "id": "wzutX9PTgEV3"
      }
    },
    {
      "cell_type": "code",
      "execution_count": null,
      "metadata": {
        "id": "rZPM9WMC6Wxn",
        "collapsed": true
      },
      "outputs": [],
      "source": [
        "# Nhập lệnh ở đây\n",
        "!rclone copy -v --ignore-existing -u --check-first --transfers 20 --checkers 40 \"vodang2702:TONG HOP KHOA HOC FULL/aemmo.vn/Viral Characters by Mohi & Sami\" \"vodang2702:TONG HOP KHOA HOC FULL/aemmo.vn/Viral Characters by Mohi and Sami\""
      ]
    },
    {
      "cell_type": "code",
      "source": [
        "# Nhập lệnh ở đây\n",
        "!rclone copy -v --ignore-existing -u --check-first --transfers 20 --checkers 40 \"admin:BackupIphoneMyMom\" \"duongle:BackupIphoneMyMom\""
      ],
      "metadata": {
        "id": "TKpHBfNGaTkF"
      },
      "execution_count": null,
      "outputs": []
    },
    {
      "cell_type": "code",
      "execution_count": null,
      "metadata": {
        "id": "yvtn_Cv_YNi9"
      },
      "outputs": [],
      "source": [
        "# Nhập lệnh ở đây\n",
        "!rclone dedupe -vvP \"vodang2702:1Team HSG [BK]\" --dedupe-mode skip --checkers=16 --buffer-size=64M --log-file /content/drive/MyDrive/Log-rclone-colab/logfile.txt"
      ]
    },
    {
      "cell_type": "code",
      "execution_count": null,
      "metadata": {
        "id": "RLlQ8DbmxNcg"
      },
      "outputs": [],
      "source": [
        "# Nhập lệnh ở đây\n",
        "!rclone dedupe -vv \"vodang2702:1Team HSG\" --dedupe-mode skip --checkers=16 --buffer-size=64M"
      ]
    },
    {
      "cell_type": "code",
      "execution_count": null,
      "metadata": {
        "collapsed": true,
        "id": "1Eqa2BmT_cST"
      },
      "outputs": [],
      "source": [
        "# Nhập lệnh ở đây\n",
        "!rclone copy -v --drive-shared-with-me --server-side-across-configs \"vodang2702:Melody Marks [43GB]\"  \"vodang2702:1Team HSG/Melody Marks [43GB]\""
      ]
    },
    {
      "cell_type": "code",
      "source": [
        "# Nhập lệnh ở đây\n",
        "!rclone about vndang96:"
      ],
      "metadata": {
        "id": "decSNc8OXoVH"
      },
      "execution_count": null,
      "outputs": []
    },
    {
      "cell_type": "markdown",
      "metadata": {
        "id": "zMV1kqXN6g8D"
      },
      "source": [
        "\n",
        "**GHI CHÚ**\n",
        "\n",
        "<details>\n",
        "  <summary>LIÊN QUAN TỚI FLAG MẶC ĐỊNH</summary>\n",
        "  \n",
        "  Dưới đây là các thông số mặc định của một số cờ (flags) phổ biến trong rclone:\n",
        "\n",
        "1. **`-P` hoặc `--progress`**:\n",
        "    - Mặc định: Không hiển thị tiến trình. Khi sử dụng cờ này, nó sẽ hiển thị tiến trình sao chép tệp.\n",
        "\n",
        "2. **`--bwlimit`**:\n",
        "    - Mặc định: Không giới hạn băng thông.\n",
        "    - Ví dụ: `--bwlimit 10M` để giới hạn băng thông ở mức 10 MB/s.\n",
        "\n",
        "3. **`--transfers`**:\n",
        "    - Mặc định: `4` (sao chép 4 tệp đồng thời).\n",
        "    - Ví dụ: `--transfers 8` để sao chép 8 tệp đồng thời.\n",
        "\n",
        "4. **`--exclude`**:\n",
        "    - Mặc định: Không loại trừ tệp nào.\n",
        "    - Ví dụ: `--exclude \"*.txt\"` để loại trừ tất cả các tệp có đuôi `.txt`.\n",
        "\n",
        "5. **`--include`**:\n",
        "    - Mặc định: Bao gồm tất cả các tệp.\n",
        "    - Ví dụ: `--include \"*.jpg\"` để chỉ bao gồm các tệp có đuôi `.jpg`.\n",
        "\n",
        "6. **`--max-size`**:\n",
        "    - Mặc định: Không giới hạn kích thước tệp tối đa.\n",
        "    - Ví dụ: `--max-size 100M` để chỉ sao chép các tệp có kích thước nhỏ hơn hoặc bằng 100 MB.\n",
        "\n",
        "7. **`--min-size`**:\n",
        "    - Mặc định: Không giới hạn kích thước tệp tối thiểu.\n",
        "    - Ví dụ: `--min-size 10M` để chỉ sao chép các tệp có kích thước lớn hơn hoặc bằng 10 MB.\n",
        "\n",
        "8. **`--log-file`** và **`--log-level`**:\n",
        "    - Mặc định: Không ghi log ra tệp và mức độ chi tiết của log là `NOTICE`.\n",
        "    - Ví dụ: `--log-file rclone.log --log-level INFO` để ghi log chi tiết vào tệp `rclone.log`.\n",
        "\n",
        "9. **`--dry-run`**:\n",
        "    - Mặc định: Không chạy thử.\n",
        "    - Khi sử dụng cờ này, nó sẽ mô phỏng việc sao chép mà không thực sự thực hiện sao chép.\n",
        "\n",
        "10. **`--checkers`**:\n",
        "    - Mặc định: `8` (sử dụng 8 luồng kiểm tra song song).\n",
        "    - Ví dụ: `--checkers 16` để sử dụng 16 luồng kiểm tra song song.\n",
        "\n",
        "11. **`--retries`**:\n",
        "    - Mặc định: `3` (thử lại 3 lần khi gặp lỗi).\n",
        "    - Ví dụ: `--retries 5` để thử lại 5 lần khi gặp lỗi.\n",
        "\n",
        "### Cách Kiểm Tra Các Giá Trị Mặc Định\n",
        "\n",
        "Bạn có thể kiểm tra giá trị mặc định của các cờ và nhiều thông tin khác bằng cách sử dụng lệnh `rclone help flags` hoặc xem tài liệu trực tuyến của rclone tại [Rclone Documentation](https://rclone.org/docs/).\n",
        "\n",
        "### Ví Dụ Chi Tiết\n",
        "\n",
        "Dưới đây là một ví dụ chi tiết về cách sử dụng một số cờ với các giá trị mặc định và thay đổi:\n",
        "\n",
        "```bash\n",
        "rclone copy gdrive:backup /path/to/local_backup -P --bwlimit 10M --transfers 8 --exclude \"*.txt\" --log-file rclone.log --log-level INFO --dry-run\n",
        "```\n",
        "\n",
        "Giải thích:\n",
        "- `-P`: Hiển thị tiến trình sao chép.\n",
        "- `--bwlimit 10M`: Giới hạn băng thông ở mức 10 MB/s.\n",
        "- `--transfers 8`: Sao chép 8 tệp đồng thời.\n",
        "- `--exclude \"*.txt\"`: Loại trừ tất cả các tệp có đuôi `.txt`.\n",
        "- `--log-file rclone.log`: Ghi log ra tệp `rclone.log`.\n",
        "- `--log-level INFO`: Ghi log chi tiết ở mức INFO.\n",
        "- `--dry-run`: Chạy thử mà không thực sự sao chép tệp.\n",
        "\n",
        "Bằng cách sử dụng các cờ này, bạn có thể kiểm soát tốt hơn quá trình sao chép tệp của mình với rclone.\n",
        "</details>\n",
        "\n",
        "\n",
        "<details>\n",
        "  <summary>LIÊN QUAN TỚI GHI LỌG</summary>\n",
        "Để tắt việc in log ra màn hình khi sử dụng rclone, bạn có thể sử dụng tùy chọn `--log-level` và thiết lập mức độ log thành `NOTICE` hoặc cao hơn. Dưới đây là một số tùy chọn phổ biến cho `--log-level`:\n",
        "\n",
        "- `NOTICE`: Chỉ hiển thị các thông báo quan trọng.\n",
        "- `ERROR`: Chỉ hiển thị các lỗi.\n",
        "- `NONE`: Tắt hoàn toàn việc ghi log.\n",
        "\n",
        "Ví dụ, nếu bạn muốn tắt hoàn toàn việc in log ra màn hình, bạn có thể sử dụng lệnh sau:\n",
        "\n",
        "```bash\n",
        "rclone sync source: destination: --log-level NONE\n",
        "```\n",
        "\n",
        "Ngoài ra, bạn cũng có thể sử dụng tùy chọn `--quiet` để giảm bớt lượng thông tin log được in ra:\n",
        "\n",
        "```bash\n",
        "rclone sync source: destination: --quiet\n",
        "```\n",
        "\n",
        "Dưới đây là một số ví dụ khác với các mức độ log khác nhau:\n",
        "\n",
        "- Chỉ hiển thị các thông báo quan trọng (NOTICE):\n",
        "\n",
        "```bash\n",
        "rclone sync source: destination: --log-level NOTICE\n",
        "```\n",
        "\n",
        "- Chỉ hiển thị lỗi (ERROR):\n",
        "\n",
        "```bash\n",
        "rclone sync source: destination: --log-level ERROR\n",
        "```\n",
        "\n",
        "Nếu bạn muốn lưu log vào một file thay vì in ra màn hình, bạn có thể sử dụng tùy chọn `--log-file`:\n",
        "\n",
        "```bash\n",
        "rclone sync source: destination: --log-file /path/to/logfile.txt --log-level INFO\n",
        "```\n",
        "</details>"
      ]
    }
  ],
  "metadata": {
    "colab": {
      "collapsed_sections": [
        "NkXRpNhJmjFp",
        "J0eDKxxxPCQd"
      ],
      "provenance": [],
      "mount_file_id": "1iCF4J_ohxogmv1QsmfwVng_LLX8fvkGW",
      "authorship_tag": "ABX9TyNBedZxNVIpg2O87yyVi7z+",
      "include_colab_link": true
    },
    "kernelspec": {
      "display_name": "Python 3",
      "name": "python3"
    },
    "language_info": {
      "name": "python"
    },
    "widgets": {
      "application/vnd.jupyter.widget-state+json": {
        "17ec3dbbd471403ca56e7e545a68b5fe": {
          "model_module": "@jupyter-widgets/controls",
          "model_name": "RadioButtonsModel",
          "model_module_version": "1.5.0",
          "state": {
            "_dom_classes": [],
            "_model_module": "@jupyter-widgets/controls",
            "_model_module_version": "1.5.0",
            "_model_name": "RadioButtonsModel",
            "_options_labels": [
              "vodang2702",
              "vndang96",
              "duongle",
              "admin",
              "dangvn",
              "dangvo",
              "obt",
              "edward",
              "nghienmac4",
              "cusc",
              "dttx"
            ],
            "_view_count": null,
            "_view_module": "@jupyter-widgets/controls",
            "_view_module_version": "1.5.0",
            "_view_name": "RadioButtonsView",
            "description": "Select Drive:",
            "description_tooltip": null,
            "disabled": false,
            "index": 0,
            "layout": "IPY_MODEL_c879282b854445f7b7e3d6b96b185f89",
            "style": "IPY_MODEL_390e6724d3ae4c9993f3df63b88b9d3a"
          }
        },
        "c879282b854445f7b7e3d6b96b185f89": {
          "model_module": "@jupyter-widgets/base",
          "model_name": "LayoutModel",
          "model_module_version": "1.2.0",
          "state": {
            "_model_module": "@jupyter-widgets/base",
            "_model_module_version": "1.2.0",
            "_model_name": "LayoutModel",
            "_view_count": null,
            "_view_module": "@jupyter-widgets/base",
            "_view_module_version": "1.2.0",
            "_view_name": "LayoutView",
            "align_content": null,
            "align_items": null,
            "align_self": null,
            "border": null,
            "bottom": null,
            "display": null,
            "flex": null,
            "flex_flow": null,
            "grid_area": null,
            "grid_auto_columns": null,
            "grid_auto_flow": null,
            "grid_auto_rows": null,
            "grid_column": null,
            "grid_gap": null,
            "grid_row": null,
            "grid_template_areas": null,
            "grid_template_columns": null,
            "grid_template_rows": null,
            "height": null,
            "justify_content": null,
            "justify_items": null,
            "left": null,
            "margin": null,
            "max_height": null,
            "max_width": null,
            "min_height": null,
            "min_width": null,
            "object_fit": null,
            "object_position": null,
            "order": null,
            "overflow": null,
            "overflow_x": null,
            "overflow_y": null,
            "padding": null,
            "right": null,
            "top": null,
            "visibility": null,
            "width": null
          }
        },
        "390e6724d3ae4c9993f3df63b88b9d3a": {
          "model_module": "@jupyter-widgets/controls",
          "model_name": "DescriptionStyleModel",
          "model_module_version": "1.5.0",
          "state": {
            "_model_module": "@jupyter-widgets/controls",
            "_model_module_version": "1.5.0",
            "_model_name": "DescriptionStyleModel",
            "_view_count": null,
            "_view_module": "@jupyter-widgets/base",
            "_view_module_version": "1.2.0",
            "_view_name": "StyleView",
            "description_width": ""
          }
        },
        "dc74e9bb78284c2e9b60b4c1ec814fe1": {
          "model_module": "@jupyter-widgets/controls",
          "model_name": "TextareaModel",
          "model_module_version": "1.5.0",
          "state": {
            "_dom_classes": [],
            "_model_module": "@jupyter-widgets/controls",
            "_model_module_version": "1.5.0",
            "_model_name": "TextareaModel",
            "_view_count": null,
            "_view_module": "@jupyter-widgets/controls",
            "_view_module_version": "1.5.0",
            "_view_name": "TextareaView",
            "continuous_update": true,
            "description": "",
            "description_tooltip": null,
            "disabled": false,
            "layout": "IPY_MODEL_f39d5aca556647418b9652d796b412db",
            "placeholder": "​",
            "rows": null,
            "style": "IPY_MODEL_09b6d395537c431eb7665506ebbc2eae",
            "value": "Total:   30 TiB\nUsed:    4.121 TiB\nFree:    25.877 TiB\nTrashed: 808.977 MiB\nOther:   1.614 GiB\n"
          }
        },
        "f39d5aca556647418b9652d796b412db": {
          "model_module": "@jupyter-widgets/base",
          "model_name": "LayoutModel",
          "model_module_version": "1.2.0",
          "state": {
            "_model_module": "@jupyter-widgets/base",
            "_model_module_version": "1.2.0",
            "_model_name": "LayoutModel",
            "_view_count": null,
            "_view_module": "@jupyter-widgets/base",
            "_view_module_version": "1.2.0",
            "_view_name": "LayoutView",
            "align_content": null,
            "align_items": null,
            "align_self": null,
            "border": null,
            "bottom": null,
            "display": null,
            "flex": null,
            "flex_flow": null,
            "grid_area": null,
            "grid_auto_columns": null,
            "grid_auto_flow": null,
            "grid_auto_rows": null,
            "grid_column": null,
            "grid_gap": null,
            "grid_row": null,
            "grid_template_areas": null,
            "grid_template_columns": null,
            "grid_template_rows": null,
            "height": "100px",
            "justify_content": null,
            "justify_items": null,
            "left": null,
            "margin": null,
            "max_height": null,
            "max_width": null,
            "min_height": null,
            "min_width": null,
            "object_fit": null,
            "object_position": null,
            "order": null,
            "overflow": null,
            "overflow_x": null,
            "overflow_y": null,
            "padding": null,
            "right": null,
            "top": null,
            "visibility": null,
            "width": "15%"
          }
        },
        "09b6d395537c431eb7665506ebbc2eae": {
          "model_module": "@jupyter-widgets/controls",
          "model_name": "DescriptionStyleModel",
          "model_module_version": "1.5.0",
          "state": {
            "_model_module": "@jupyter-widgets/controls",
            "_model_module_version": "1.5.0",
            "_model_name": "DescriptionStyleModel",
            "_view_count": null,
            "_view_module": "@jupyter-widgets/base",
            "_view_module_version": "1.2.0",
            "_view_name": "StyleView",
            "description_width": ""
          }
        }
      }
    }
  },
  "nbformat": 4,
  "nbformat_minor": 0
}