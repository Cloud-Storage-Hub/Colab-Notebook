{
  "cells": [
    {
      "cell_type": "markdown",
      "metadata": {
        "id": "view-in-github",
        "colab_type": "text"
      },
      "source": [
        "<a href=\"https://colab.research.google.com/github/vonguyendang/colab-notebook/blob/main/Rclone_byDangVo(update23082024).ipynb\" target=\"_parent\"><img src=\"https://colab.research.google.com/assets/colab-badge.svg\" alt=\"Open In Colab\"/></a>"
      ]
    },
    {
      "cell_type": "markdown",
      "metadata": {
        "id": "PGrv9XpxONY8"
      },
      "source": [
        "<center>\n",
        "<img src='https://upload.wikimedia.org/wikipedia/commons/1/12/Google_Drive_icon_%282020%29.svg' height=\"150\" alt=\"Google Drive\"/>\n",
        "<img src='https://upload.wikimedia.org/wikipedia/commons/d/d0/Google_Colaboratory_SVG_Logo.svg' height=\"150\" alt=\"Google Colab\"/>\n",
        "<img src='https://i.imgur.com/Dii5771.png' height=\"150\" alt=\"Rclone\"/>\n",
        "<img src='https://i.imgur.com/LB0JIEQ.png' height=\"150\" alt=\"Dang Vo\"/>\n",
        "<br>\n",
        "<font size=12px>\n",
        "  <span style=\"background: linear-gradient(to right, red, orange, yellow, green, blue, indigo, violet);\n",
        "               -webkit-background-clip: text;\n",
        "               color: transparent;\">\n",
        "    COLAB + RCLONE<BR> COPY - SYNC - DOWNLOAD TO GOOGLE DRIVE<BR>BY DANG VO\n",
        "  </span>\n",
        "</font>\n",
        "</center>\n",
        "\n",
        "\n",
        "---\n",
        "\n",
        "\n",
        "\n",
        "\n"
      ]
    },
    {
      "cell_type": "markdown",
      "metadata": {
        "id": "NkXRpNhJmjFp"
      },
      "source": [
        "#<img src='https://www.svgrepo.com/show/411381/fly.svg' height=\"35\" alt=\"Start\"/> **START**"
      ]
    },
    {
      "cell_type": "code",
      "execution_count": 1,
      "metadata": {
        "cellView": "form",
        "colab": {
          "base_uri": "https://localhost:8080/"
        },
        "id": "FX4mU9QtkqVf",
        "outputId": "a787bc37-3531-482f-8c9f-818a0971fa67"
      },
      "outputs": [
        {
          "output_type": "stream",
          "name": "stdout",
          "text": [
            "Sử dụng CPU theo từng lõi (%): [51.9, 52.7]\n",
            "\n",
            "Giá trị trung bình sử dụng CPU (%): 53.1\n",
            "\n",
            "Bộ nhớ:\n",
            "  Tổng: 12.67 GB\n",
            "  Đã sử dụng: 0.64 GB\n",
            "  Phần trăm đã sử dụng: 7.4%\n",
            "\n",
            "Dung lượng ổ đĩa:\n",
            "  Tổng: 107.72 GB\n",
            "  Đã sử dụng: 43.32 GB\n",
            "  Phần trăm đã sử dụng: 40.2%\n",
            "\n",
            "Số lượng kết nối mạng: 27\n",
            "\n",
            "Thời gian khởi động của hệ thống theo múi giờ Việt Nam: 2024-08-23 21:42:39 +07\n",
            "\n",
            "Dữ liệu tải xuống (GB): 0.00 GB\n",
            "  ____         _        _   _      ____    __      __    ___    \n",
            " |  _ \\       / \\      | \\ | |    / ___|   \\ \\    / /   / _ \\   \n",
            " | | | |     / _ \\     |  \\| |   | |  _     \\ \\  / /   | | | |  \n",
            " | |_| |    / ___ \\    | . ` |   | |_| |     \\ \\/ /    | |_| |  \n",
            " |____/    /_/   \\_\\   |_|\\ _|    \\____|      \\__/      \\___/   \n"
          ]
        }
      ],
      "source": [
        "#@title Kiểm tra hệ thống\n",
        "import psutil\n",
        "import datetime\n",
        "import pytz\n",
        "\n",
        "# Lấy giá trị sử dụng CPU hiện tại\n",
        "cpu_percent = psutil.cpu_percent(percpu=True)\n",
        "print(\"Sử dụng CPU theo từng lõi (%):\", cpu_percent)\n",
        "\n",
        "# Lấy giá trị trung bình sử dụng CPU\n",
        "avg_cpu_percent = psutil.cpu_percent(interval=1)\n",
        "print(\"\\nGiá trị trung bình sử dụng CPU (%):\", avg_cpu_percent)\n",
        "\n",
        "# Lấy thông tin về bộ nhớ\n",
        "svmem = psutil.virtual_memory()\n",
        "total_memory_gb = svmem.total / (1024 ** 3)\n",
        "used_memory_gb = svmem.used / (1024 ** 3)\n",
        "percent_memory_used = svmem.percent\n",
        "\n",
        "# Lấy thông tin về dung lượng ổ đĩa\n",
        "sdiskusage = psutil.disk_usage('/')\n",
        "total_disk_gb = sdiskusage.total / (1024 ** 3)\n",
        "used_disk_gb = sdiskusage.used / (1024 ** 3)\n",
        "percent_disk_used = sdiskusage.percent\n",
        "\n",
        "print(\"\\nBộ nhớ:\")\n",
        "print(f\"  Tổng: {total_memory_gb:.2f} GB\")\n",
        "print(f\"  Đã sử dụng: {used_memory_gb:.2f} GB\")\n",
        "print(f\"  Phần trăm đã sử dụng: {percent_memory_used:.1f}%\")\n",
        "\n",
        "print(\"\\nDung lượng ổ đĩa:\")\n",
        "print(f\"  Tổng: {total_disk_gb:.2f} GB\")\n",
        "print(f\"  Đã sử dụng: {used_disk_gb:.2f} GB\")\n",
        "print(f\"  Phần trăm đã sử dụng: {percent_disk_used:.1f}%\")\n",
        "\n",
        "# Lấy thông tin về các kết nối mạng\n",
        "connections = psutil.net_connections()\n",
        "print(\"\\nSố lượng kết nối mạng:\", len(connections))\n",
        "\n",
        "# Lấy thời gian khởi động của hệ thống\n",
        "boot_time_timestamp = psutil.boot_time()\n",
        "\n",
        "# Chuyển đổi thời gian khởi động thành đối tượng datetime\n",
        "boot_time_datetime = datetime.datetime.fromtimestamp(boot_time_timestamp)\n",
        "\n",
        "# Lấy múi giờ của Việt Nam\n",
        "vietnam_timezone = pytz.timezone('Asia/Ho_Chi_Minh')\n",
        "\n",
        "# Chuyển đổi thời gian khởi động sang múi giờ Việt Nam\n",
        "boot_time_vietnam = pytz.utc.localize(boot_time_datetime).astimezone(vietnam_timezone)\n",
        "\n",
        "# Định dạng thời gian theo chuỗi\n",
        "boot_time_str = boot_time_vietnam.strftime(\"%Y-%m-%d %H:%M:%S %Z\")\n",
        "print(\"\\nThời gian khởi động của hệ thống theo múi giờ Việt Nam:\", boot_time_str)\n",
        "\n",
        "# Lấy thông tin về dữ liệu mạng đã truyền\n",
        "net_io = psutil.net_io_counters()\n",
        "\n",
        "# Chuyển đổi dữ liệu tải xuống từ byte sang GB\n",
        "download_gb = net_io.bytes_recv / (1024**3)\n",
        "print(f\"\\nDữ liệu tải xuống (GB): {download_gb:.2f} GB\")\n",
        "\n",
        "def d():\n",
        "    return [\n",
        "        \"  ____  \",\n",
        "        \" |  _ \\\\ \",\n",
        "        \" | | | |\",\n",
        "        \" | |_| |\",\n",
        "        \" |____/ \"\n",
        "    ]\n",
        "\n",
        "def a():\n",
        "    return [\n",
        "        \"     _    \",\n",
        "        \"    / \\\\   \",\n",
        "        \"   / _ \\\\  \",\n",
        "        \"  / ___ \\\\ \",\n",
        "        \" /_/   \\\\_\\\\\"\n",
        "    ]\n",
        "\n",
        "def n():\n",
        "    return [\n",
        "        \"  _   _  \",\n",
        "        \" | \\\\ | | \",\n",
        "        \" |  \\\\| | \",\n",
        "        \" | . ` | \",\n",
        "        \" |_|\\\\ _| \",\n",
        "    ]\n",
        "\n",
        "def g():\n",
        "    return [\n",
        "        \"  ____  \",\n",
        "        \" / ___| \",\n",
        "        \"| |  _  \",\n",
        "        \"| |_| | \",\n",
        "        \" \\\\____| \"\n",
        "    ]\n",
        "\n",
        "def v():\n",
        "    return [\n",
        "        \"__      __\",\n",
        "        \"\\\\ \\\\    / /\",\n",
        "        \" \\\\ \\\\  / / \",\n",
        "        \"  \\\\ \\\\/ /  \",\n",
        "        \"   \\\\__/   \"\n",
        "    ]\n",
        "\n",
        "def o():\n",
        "    return [\n",
        "        \"  ___  \",\n",
        "        \" / _ \\\\ \",\n",
        "        \"| | | |\",\n",
        "        \"| |_| |\",\n",
        "        \" \\\\___/ \"\n",
        "    ]\n",
        "\n",
        "def print_dang_vo():\n",
        "    letters = [d(), a(), n(), g(), v(), o()]\n",
        "    max_height = max(len(letter) for letter in letters)\n",
        "\n",
        "    for i in range(max_height):\n",
        "        for letter in letters:\n",
        "            if i < len(letter):\n",
        "                print(letter[i], end=\"  \")\n",
        "            else:\n",
        "                print(\" \" * len(letter[0]), end=\"  \")\n",
        "        print()\n",
        "\n",
        "print_dang_vo()"
      ]
    },
    {
      "cell_type": "code",
      "execution_count": 2,
      "metadata": {
        "cellView": "form",
        "colab": {
          "base_uri": "https://localhost:8080/"
        },
        "id": "SIVvKN1XSVyx",
        "outputId": "28eb4177-975c-41b6-944d-c07917bda8aa"
      },
      "outputs": [
        {
          "output_type": "stream",
          "name": "stdout",
          "text": [
            "Fri Aug 23 02:44:42 PM UTC 2024\n",
            "Fri Aug 23 09:44:42 PM +07 2024\n"
          ]
        }
      ],
      "source": [
        "#@title Đặt thời gian theo Asia/Ho_Chi_Minh\n",
        "# Kiểm tra múi giờ hiện tại\n",
        "!date\n",
        "\n",
        "# Cài đặt múi giờ thành Asia/Ho_Chi_Minh\n",
        "!ln -sf /usr/share/zoneinfo/Asia/Ho_Chi_Minh /etc/localtime\n",
        "!echo \"Asia/Ho_Chi_Minh\" > /etc/timezone\n",
        "\n",
        "# Kiểm tra lại múi giờ sau khi thay đổi\n",
        "!date\n"
      ]
    },
    {
      "cell_type": "code",
      "execution_count": 3,
      "metadata": {
        "cellView": "form",
        "colab": {
          "base_uri": "https://localhost:8080/"
        },
        "collapsed": true,
        "id": "52h5TD5okZeN",
        "outputId": "3b7e1304-b4cc-4b90-972d-f9ae85179201"
      },
      "outputs": [
        {
          "output_type": "stream",
          "name": "stdout",
          "text": [
            "Retrieving speedtest.net configuration...\n",
            "Testing from Google Cloud (34.148.220.85)...\n",
            "Retrieving speedtest.net server list...\n",
            "Selecting best server based on ping...\n",
            "Hosted by Comcast (Augusta, GA) [156.69 km]: 25.657 ms\n",
            "Testing download speed................................................................................\n",
            "Download: 2167.95 Mbit/s\n",
            "Testing upload speed......................................................................................................\n",
            "Upload: 502.76 Mbit/s\n"
          ]
        }
      ],
      "source": [
        "#@title Kiểm tra tốc độ mạng\n",
        "!curl -s https://raw.githubusercontent.com/sivel/speedtest-cli/master/speedtest.py | python -"
      ]
    },
    {
      "cell_type": "code",
      "execution_count": 4,
      "metadata": {
        "cellView": "form",
        "colab": {
          "base_uri": "https://localhost:8080/"
        },
        "collapsed": true,
        "id": "G9eGQ8dEem_V",
        "outputId": "41a6dede-4808-43fd-f1fc-495bd445e548"
      },
      "outputs": [
        {
          "output_type": "stream",
          "name": "stdout",
          "text": [
            "  % Total    % Received % Xferd  Average Speed   Time    Time     Time  Current\n",
            "                                 Dload  Upload   Total   Spent    Left  Speed\n",
            "100  4734  100  4734    0     0   7759      0 --:--:-- --:--:-- --:--:--  7760\n",
            "Archive:  rclone-current-linux-amd64.zip\n",
            "   creating: tmp_unzip_dir_for_rclone/rclone-v1.67.0-linux-amd64/\n",
            "  inflating: tmp_unzip_dir_for_rclone/rclone-v1.67.0-linux-amd64/rclone  [binary]\n",
            "  inflating: tmp_unzip_dir_for_rclone/rclone-v1.67.0-linux-amd64/README.html  [text]  \n",
            "  inflating: tmp_unzip_dir_for_rclone/rclone-v1.67.0-linux-amd64/git-log.txt  [text]  \n",
            "  inflating: tmp_unzip_dir_for_rclone/rclone-v1.67.0-linux-amd64/README.txt  [text]  \n",
            "  inflating: tmp_unzip_dir_for_rclone/rclone-v1.67.0-linux-amd64/rclone.1  [text]  \n",
            "Purging old database entries in /usr/share/man...\n",
            "Processing manual pages under /usr/share/man...\n",
            "Updating index cache for path `/usr/share/man/man1'. Wait...done.\n",
            "Checking for stray cats under /usr/share/man...\n",
            "Checking for stray cats under /var/cache/man...\n",
            "Purging old database entries in /usr/share/man/es...\n",
            "Processing manual pages under /usr/share/man/es...\n",
            "Purging old database entries in /usr/share/man/cs...\n",
            "Processing manual pages under /usr/share/man/cs...\n",
            "Purging old database entries in /usr/share/man/ko...\n",
            "Processing manual pages under /usr/share/man/ko...\n",
            "Purging old database entries in /usr/share/man/zh_CN...\n",
            "Processing manual pages under /usr/share/man/zh_CN...\n",
            "Purging old database entries in /usr/share/man/zh_TW...\n",
            "Processing manual pages under /usr/share/man/zh_TW...\n",
            "Purging old database entries in /usr/share/man/pt...\n",
            "Processing manual pages under /usr/share/man/pt...\n",
            "Purging old database entries in /usr/share/man/sl...\n",
            "Processing manual pages under /usr/share/man/sl...\n",
            "Purging old database entries in /usr/share/man/fr...\n",
            "Processing manual pages under /usr/share/man/fr...\n",
            "Purging old database entries in /usr/share/man/pl...\n",
            "Processing manual pages under /usr/share/man/pl...\n",
            "Purging old database entries in /usr/share/man/it...\n",
            "Processing manual pages under /usr/share/man/it...\n",
            "Purging old database entries in /usr/share/man/sv...\n",
            "Processing manual pages under /usr/share/man/sv...\n",
            "Purging old database entries in /usr/share/man/tr...\n",
            "Processing manual pages under /usr/share/man/tr...\n",
            "Purging old database entries in /usr/share/man/hu...\n",
            "Processing manual pages under /usr/share/man/hu...\n",
            "Purging old database entries in /usr/share/man/ja...\n",
            "Processing manual pages under /usr/share/man/ja...\n",
            "Purging old database entries in /usr/share/man/de...\n",
            "Processing manual pages under /usr/share/man/de...\n",
            "Purging old database entries in /usr/share/man/id...\n",
            "Processing manual pages under /usr/share/man/id...\n",
            "Purging old database entries in /usr/share/man/pt_BR...\n",
            "Processing manual pages under /usr/share/man/pt_BR...\n",
            "Purging old database entries in /usr/share/man/nl...\n",
            "Processing manual pages under /usr/share/man/nl...\n",
            "Purging old database entries in /usr/share/man/da...\n",
            "Processing manual pages under /usr/share/man/da...\n",
            "Purging old database entries in /usr/share/man/ru...\n",
            "Processing manual pages under /usr/share/man/ru...\n",
            "Purging old database entries in /usr/share/man/ro...\n",
            "Processing manual pages under /usr/share/man/ro...\n",
            "Purging old database entries in /usr/share/man/uk...\n",
            "Processing manual pages under /usr/share/man/uk...\n",
            "Purging old database entries in /usr/share/man/sr...\n",
            "Processing manual pages under /usr/share/man/sr...\n",
            "Processing manual pages under /usr/local/man...\n",
            "mandb: can't update index cache /var/cache/man/oldlocal/705: No such file or directory\n",
            "Updating index cache for path `/usr/local/man/man1'. Wait...done.\n",
            "Checking for stray cats under /usr/local/man...\n",
            "Checking for stray cats under /var/cache/man/oldlocal...\n",
            "2 man subdirectories contained newer manual pages.\n",
            "53 manual pages were added.\n",
            "0 stray cats were added.\n",
            "18 old database entries were purged.\n",
            "\n",
            "rclone v1.67.0 has successfully installed.\n",
            "Now run \"rclone config\" for setup. Check https://rclone.org/docs/ for more details.\n",
            "\n"
          ]
        }
      ],
      "source": [
        "#@title 1. Cài đặt rclone\n",
        "!sudo -v ; curl https://rclone.org/install.sh | sudo bash"
      ]
    },
    {
      "cell_type": "code",
      "execution_count": 5,
      "metadata": {
        "cellView": "form",
        "colab": {
          "base_uri": "https://localhost:8080/"
        },
        "collapsed": true,
        "id": "shxMdFsPfF4_",
        "outputId": "402a9bbc-0369-47c6-e1d6-2a4d9fe17b21"
      },
      "outputs": [
        {
          "output_type": "stream",
          "name": "stdout",
          "text": [
            "Configuration file doesn't exist, but rclone will use this path:\n",
            "/root/.config/rclone/rclone.conf\n"
          ]
        }
      ],
      "source": [
        "#@title 2. Kiểm tra path file config\n",
        "!rclone config file"
      ]
    },
    {
      "cell_type": "markdown",
      "metadata": {
        "id": "fdDDUJ7oxj3s"
      },
      "source": [
        "**3. Chọn 3.1 hoặc 3.2 để cấu hình rclone.conf**"
      ]
    },
    {
      "cell_type": "code",
      "execution_count": 6,
      "metadata": {
        "cellView": "form",
        "colab": {
          "base_uri": "https://localhost:8080/"
        },
        "collapsed": true,
        "id": "DuCf80UMwDDM",
        "outputId": "066ca276-923a-454d-e39e-29d4ca54f6ae"
      },
      "outputs": [
        {
          "output_type": "stream",
          "name": "stdout",
          "text": [
            "Mounted at /content/drive\n",
            "Nội dung từ /content/drive/MyDrive/rclone/rclone.conf đã được sao chép sang /root/.config/rclone/rclone.conf.\n"
          ]
        }
      ],
      "source": [
        "#@title 3.1 Tạo và thêm nội dung vào file rclone.conf\n",
        "# Phải upload file config lên drive trước\n",
        "from google.colab import drive\n",
        "import os\n",
        "# Kiểm tra xem Google Drive đã được mount chưa\n",
        "if not os.path.ismount('/content/drive'):\n",
        "    drive.mount('/content/drive')\n",
        "    print(\"Google Drive đã được kết nối.\")\n",
        "else:\n",
        "    print(\"Google Drive đã được kết nối trước đó.\")\n",
        "\n",
        "# Đường dẫn tới file gốc và file đích\n",
        "file1_path = \"/content/drive/MyDrive/rclone/rclone.conf\"\n",
        "file2_path = \"/root/.config/rclone/rclone.conf\"\n",
        "\n",
        "# Đọc nội dung từ file1.txt\n",
        "with open(file1_path, 'r') as file1:\n",
        "    content = file1.read()\n",
        "\n",
        "# Ghi nội dung vào file2.txt\n",
        "with open(file2_path, 'w') as file2:\n",
        "    file2.write(content)\n",
        "\n",
        "print(f\"Nội dung từ {file1_path} đã được sao chép sang {file2_path}.\")\n"
      ]
    },
    {
      "cell_type": "code",
      "execution_count": null,
      "metadata": {
        "cellView": "form",
        "collapsed": true,
        "id": "YvX-OaF_ymaX"
      },
      "outputs": [],
      "source": [
        "#@title So sánh nội dung đã thêm\n",
        "# Đọc và hiển thị nội dung của file1.txt\n",
        "print(\"Nội dung của file1.txt:\")\n",
        "with open(file1_path, 'r') as file1:\n",
        "    print(file1.read())\n",
        "\n",
        "# Đọc và hiển thị nội dung của file2.txt\n",
        "print(\"\\nNội dung của file2.txt:\")\n",
        "with open(file2_path, 'r') as file2:\n",
        "    print(file2.read())"
      ]
    },
    {
      "cell_type": "code",
      "execution_count": 8,
      "metadata": {
        "cellView": "form",
        "id": "N67zTOHkfM3J"
      },
      "outputs": [],
      "source": [
        "#@title 3.2 Tạo thư mục chứa file config\n",
        "#!touch /root/.config/rclone/"
      ]
    },
    {
      "cell_type": "markdown",
      "metadata": {
        "id": "GlL2p8Ebp9bZ"
      },
      "source": [
        "Kéo file rclone.conf từ /Users/dangvo/.config/rclone/rclone.conf trên local vào /root/.config/rclone/"
      ]
    },
    {
      "cell_type": "markdown",
      "metadata": {
        "id": "59v4wAGdfY-5"
      },
      "source": [
        "**4. Cài đặt một số phần mềm cần thiết**"
      ]
    },
    {
      "cell_type": "code",
      "execution_count": 9,
      "metadata": {
        "cellView": "form",
        "colab": {
          "base_uri": "https://localhost:8080/"
        },
        "id": "vxeImH1nxILX",
        "outputId": "712e55d7-6afe-4542-d3a8-cc565d074a37"
      },
      "outputs": [
        {
          "output_type": "stream",
          "name": "stdout",
          "text": [
            "Reading package lists... Done\n",
            "Building dependency tree... Done\n",
            "Reading state information... Done\n",
            "unrar is already the newest version (1:6.1.5-1).\n",
            "0 upgraded, 0 newly installed, 0 to remove and 45 not upgraded.\n",
            "Reading package lists... Done\n",
            "Building dependency tree... Done\n",
            "Reading state information... Done\n",
            "p7zip-full is already the newest version (16.02+dfsg-8).\n",
            "0 upgraded, 0 newly installed, 0 to remove and 45 not upgraded.\n"
          ]
        }
      ],
      "source": [
        "#@title Cài đặt giải nén Unrar và p7zip-full\n",
        "# Cài đặt giải nén\n",
        "!apt-get install unrar\n",
        "!apt-get install p7zip-full"
      ]
    },
    {
      "cell_type": "code",
      "source": [
        "#@title Cấu hình quan trọng\n",
        "\n",
        "# Telegram bot info\n",
        "TELEGRAM_TOKEN = '7029832103:AAHhQG3jFGk7Rc2OgOT-4hYikjbBqpbFvJs'\n",
        "CHAT_ID = '553343379'\n",
        "\n",
        "# Cờ gửi thông báo teleram\n",
        "NOTI_TELE_FLAG = \"ON\""
      ],
      "metadata": {
        "cellView": "form",
        "id": "qylZHJJIoXHr"
      },
      "execution_count": 10,
      "outputs": []
    },
    {
      "cell_type": "code",
      "execution_count": 15,
      "metadata": {
        "cellView": "form",
        "id": "BZZ5jHaVn9fx"
      },
      "outputs": [],
      "source": [
        "#@title Import thư viện và Định nghĩa các hàm cần sử dụng trong project\n",
        "#Import thư viện\n",
        "\n",
        "import ipywidgets as widgets # title 6. Kiểm tra dung lượng lưu trữ Cloud\n",
        "from IPython.display import display\n",
        "import os\n",
        "import configparser\n",
        "import re #title 7. Kiểm tra kích thước thư mục v2\n",
        "import time #title 8. Kiểm tra kích thước thư mục v1\n",
        "import requests #Copy sync folder - Tool 1,2,4\n",
        "from bs4 import BeautifulSoup\n",
        "from datetime import datetime\n",
        "import pytz\n",
        "import subprocess\n",
        "import gdown #Copy sync folder - Tool 3\n",
        "import json #Copy sync folder - Tool 5\n",
        "\n",
        "\n",
        "# Định nghĩa hàm sử dụng nhiều\n",
        "\n",
        "def get_time_now():\n",
        "    \"\"\"Lấy thời gian hiện tại.\"\"\"\n",
        "    # Múi giờ Việt Nam (UTC+7)\n",
        "    vn_tz = pytz.timezone('Asia/Ho_Chi_Minh')\n",
        "    # Lấy thời gian hiện tại theo múi giờ Việt Nam\n",
        "    now_vn = datetime.now(vn_tz)\n",
        "    # Định dạng thời gian theo mẫu ngày/tháng/năm giờ:phút:giây\n",
        "    formatted_time_vn = now_vn.strftime(\"%d/%m/%Y %H:%M:%S\")\n",
        "    return formatted_time_vn\n",
        "\n",
        "def send_telegram_message(message):\n",
        "    \"\"\"Gửi tin nhắn telegram\"\"\"\n",
        "    url = f\"https://api.telegram.org/bot{TELEGRAM_TOKEN}/sendMessage\"\n",
        "    payload = {'chat_id': CHAT_ID, 'text': message}\n",
        "    requests.post(url, data=payload)\n",
        "\n",
        "def notify(*args):\n",
        "    \"\"\"In log và gửi tin nhắn cùng nội dung\"\"\"\n",
        "    # Nối tất cả các tham số thành một chuỗi\n",
        "    message = ' '.join(map(str, args))\n",
        "    print(message)\n",
        "    if NOTI_TELE_FLAG == \"ON\":\n",
        "        send_telegram_message(message)\n",
        "\n",
        "class StopExecution(Exception):\n",
        "    \"\"\"Exception tùy chỉnh để biểu thị việc dừng thực thi.\"\"\"\n",
        "    pass\n",
        "\n",
        "def stop_execution():\n",
        "    \"\"\"Hàm dừng thực thi chương trình.\"\"\"\n",
        "    raise StopExecution\n",
        "\n",
        "def extract_gdrive_name(url):\n",
        "    \"\"\"Kiểm tra và in tên tệp/thư mục từ URL Google Drive.\"\"\"\n",
        "    def get_name_from_gdrive_url(url):\n",
        "        \"\"\"Trích xuất tên từ URL Google Drive.\"\"\"\n",
        "    try:\n",
        "        response = requests.get(url)\n",
        "        response.encoding = 'utf-8'  # Đảm bảo xử lý đúng encoding\n",
        "        soup = BeautifulSoup(response.text, 'html.parser')\n",
        "        title = soup.title.string\n",
        "        return title.replace(\" - Google Drive\", \"\").replace(\" - Google 雲端硬碟\", \"\")\n",
        "    except requests.exceptions.RequestException as e:\n",
        "        notify(f\"\\nLỗi khi truy cập URL: {e}\")\n",
        "        stop_execution()\n",
        "    except Exception as e:\n",
        "        notify(f\"\\nĐã xảy ra lỗi khi xử lý URL: {e}\")\n",
        "        stop_execution()\n",
        "    _folder_name = get_name_from_gdrive_url(url)\n",
        "\n",
        "    if _folder_name is None:\n",
        "        notify(\"\\nKhông thể trích xuất tên tệp/thư mục từ URL.\")\n",
        "        stop_execution()\n",
        "    elif _folder_name == \"\":\n",
        "        notify(\"\\nTên tệp/thư mục không hợp lệ.\")\n",
        "        stop_execution()\n",
        "    elif _folder_name == \"Google Drive: Sign-in\":\n",
        "        notify(\"\\nTệp/thư mục được chia sẻ hạn chế, vui lòng liên hệ chủ sở hữu để nhận chia sẻ công khai.\")\n",
        "        stop_execution()\n",
        "    elif _folder_name in [\"Error 404 (Not Found)!!1\", \"Page Not Found\"]:\n",
        "        notify(\"\\nTệp/thư mục không tồn tại hoặc đã bị xóa.\")\n",
        "        stop_execution()\n",
        "    else:\n",
        "        return _folder_name\n",
        "\n",
        "def get_folder_size_info(path):\n",
        "    \"\"\"Hàm để kiểm tra tổng số objects và total size của thư mục đích\"\"\"\n",
        "    output = subprocess.check_output(f'rclone size \"{path}\"', shell=True).decode('utf-8')\n",
        "    total_size = re.search(r'Total size: (.+)', output).group(1)\n",
        "    total_objects = re.search(r'Total objects: (\\d+)', output).group(1)\n",
        "    return total_size, int(total_objects)\n",
        "\n",
        "def check_rate_limit(process,log_path,period=180):\n",
        "    \"\"\"Hàm kiểm tra RATE_LIMIT_EXCEEDED từ log file sao 1 thời gian\"\"\"\n",
        "    #process là subprocess.Popen shell=True\n",
        "    #log_path là đường dẫn tuyệt đối của log\n",
        "    #period đơn vị giây, mặc định 180 giây\n",
        "    while process.poll() is None:\n",
        "        time.sleep(period)\n",
        "        try:\n",
        "            with open(log_path, 'r') as log_file:\n",
        "                log_content = log_file.read()\n",
        "                if \"RATE_LIMIT_EXCEEDED\" in log_content:\n",
        "                    notify(\"\\nHủy lệnh do gặp lỗi RATE_LIMIT_EXCEEDED trong log!\")\n",
        "                    process.terminate()  # Dừng lệnh sao chép\n",
        "                    stop_execution()\n",
        "                    break  # Kết thúc vòng lặp\n",
        "        except Exception as e:\n",
        "            notify(f\"\\nLỗi đọc log check limit rate: {e}\")\n",
        "            stop_execution() # Dừng thực thi nếu không tìm thấy log\n",
        "\n",
        "# Các hàm rclone chạy trong subprocess (dùng nhiều trong Tool 5)\n",
        "def is_exists(path): # Kiểm tra đối tượng trong path có tồn tại không\n",
        "    result = subprocess.run(['rclone', 'ls', path], capture_output=True, text=True)\n",
        "    if result.returncode != 0:\n",
        "        notify(f\"Lỗi kiểm tra sự tồn tại của đối tượng: {result.stderr}\")\n",
        "        stop_execution()\n",
        "\n",
        "    return True\n",
        "\n",
        "def create_folder(path): # Tạo thư mục\n",
        "    result = subprocess.run(['rclone', 'mkdir', path], capture_output=True, text=True)\n",
        "    if result.returncode != 0:\n",
        "        notify(f\"Lỗi tạo thư mục: {result.stderr}\")\n",
        "        stop_execution()\n",
        "\n",
        "    return True\n",
        "\n",
        "def create_file(path): # Tạo file\n",
        "    result = subprocess.run(['rclone', 'touch', path], capture_output=True, text=True)\n",
        "    if result.returncode != 0:\n",
        "        notify(f\"Lỗi tạo file: {result.stderr}\")\n",
        "        stop_execution()\n",
        "\n",
        "    return True\n",
        "\n",
        "def move_object(src,dest): # Di chuyển đối tượng\n",
        "    result = subprocess.run(['rclone', 'move', src, dest], capture_output=True, text=True)\n",
        "    if result.returncode != 0:\n",
        "        notify(f\"Lỗi di chuyển đối tượng: {result.stderr}\")\n",
        "        stop_execution()\n",
        "\n",
        "    return True\n",
        "\n",
        "def get_size(path): # Lấy kích thước thư mục/file\n",
        "    result = subprocess.run(['rclone', 'size', path], capture_output=True, text=True)\n",
        "    if result.returncode != 0:\n",
        "        notify(f\"Lỗi xem kích thước đối tượng: {result.stderr}\")\n",
        "        stop_execution()\n",
        "    # return result.stdout\n",
        "    return result.stdout    # Loại bỏ ký tự xuống dòng cuối cùng\n",
        "\n",
        "\n",
        "def is_folder(path): # Kiểm tra đối tượng trong path có phải thư mục không\n",
        "    result = subprocess.run(['rclone', 'lsjson', path], capture_output=True, text=True)\n",
        "\n",
        "    if result.returncode != 0:\n",
        "        notify(f\"\\nLỗi kiểm tra đối tượng có phải là thư mục: {result.stderr}\")\n",
        "        stop_execution()\n",
        "\n",
        "    try: # Phân tích dữ liệu JSON\n",
        "        data = json.loads(result.stdout)\n",
        "        if data and 'IsDir' in data[0]:\n",
        "            is_dir = data[0]['IsDir']\n",
        "            if is_dir:\n",
        "                # notify(f\"{path} là thư mục.\")\n",
        "                return True\n",
        "            else:\n",
        "                # notify(f\"{path} là file.\")\n",
        "                return False\n",
        "        else:\n",
        "            notify(f\"\\nKhông tìm thấy thông tin 'IsDir' trong dữ liệu.\")\n",
        "            stop_execution()\n",
        "    except json.JSONDecodeError as e:\n",
        "        notify(f\"\\nError parsing JSON: {e}\")\n",
        "        stop_execution()\n",
        "\n",
        "def get_folder_path_not_remote_name(path): # Lấy đường dẫn không bao gồm tên remote\n",
        "    parts = path.split(':') # Phân tách chuỗi tại dấu ':'\n",
        "    return parts[1] if len(parts) > 1 else None  # Lấy phần sau dấu ':'\n",
        "\n",
        "def get_object_name(path): # Lấy tên đối tượng (thư mục hoặc file) từ đường dẫn\n",
        "    folder_path = get_folder_path_not_remote_name(path)\n",
        "    return os.path.basename(folder_path)\n",
        "\n",
        "def find_file(name,path,is_stop=True): # Tìm file\n",
        "    #name: tên tệp tin cần tìm\n",
        "    #path: đường dẫn thư mục chứa tệp tin\n",
        "    #is_stop: cờ dừng thực thi\n",
        "    #cmd: command cần thực thi xuất kết quả output (mặc định None)\n",
        "\n",
        "    for _ in range(6):  # Kiểm tra file, thử lại mỗi 5 giây trong tối đa 30 giây\n",
        "        output = !rclone lsf \"{path}\" --files-only | grep \"{name}\"\n",
        "        if name in output:\n",
        "            notify(f\"\\nFile {name} đã được tìm thấy trong thư mục đích {path}!\")\n",
        "            break\n",
        "        else:\n",
        "            notify(f\"\\nFile {name} chưa được tìm thấy trong thư mục đích {path}, đang thử lại...\")\n",
        "            time.sleep(5)\n",
        "    else:\n",
        "        notify(f\"\\nFile {name} không được tìm thấy trong thư mục đích {path} sau 30 giây.\")\n",
        "        notify(\"\\nNote: Có thể bạn phải cần bật chế độ debug code để tìm hiểu nguyên nhân\")\n",
        "        notify(\"\\nBonus: Thất bại là bà nội của thành công! Chúc bạn may mắn lần sau!\")\n",
        "        if is_stop:\n",
        "            stop_execution()  # Dừng thực thi nếu không tìm thấy file log\n",
        "\n",
        "def find_folder(name,path,is_stop=True):\n",
        "    for _ in range(6):  # 6 lần thử với 6 giây chờ mỗi lần\n",
        "        output = !rclone lsd \"{path}\"\n",
        "        if any(name in line for line in output):\n",
        "            notify(f\"\\nThư mục [{name}] đã xuất hiện trong thư mục đích {path}!\")\n",
        "            break\n",
        "        else:\n",
        "            notify(f\"\\nThư mục [{name}] chưa có trong thư mục đích {path}, đang thử lại...\")\n",
        "            time.sleep(5)\n",
        "    else:\n",
        "        notify(f\"\\nThư mục [{name}] không có trong thư mục đích {path} sau 30 giây tìm kiếm.\")\n",
        "        notify(\"\\nNote: Có thể bạn phải cần bật chế độ debug code để tìm hiểu nguyên nhân\")\n",
        "        notify(\"\\nBonus: Thất bại là bà nội của thành công! Chúc bạn may mắn lần sau!\")\n",
        "        if is_stop:\n",
        "            stop_execution() # Thoát nếu không tìm thấy thư mục {folder_name}\n"
      ]
    },
    {
      "cell_type": "markdown",
      "metadata": {
        "id": "qtV0MPP6fBZr"
      },
      "source": [
        "#<img src='https://www.svgrepo.com/show/411432/schedule.svg' height=\"30\" alt=\"Time\"/> **Thời gian cho đến khi kết thúc phiên làm việc (Quy tắc 90 phút và 12 giờ)**"
      ]
    },
    {
      "cell_type": "markdown",
      "metadata": {
        "id": "7nynSx6HgUWy"
      },
      "source": [
        "<details>\n",
        "<summary>CHI TIẾT</summary>\n",
        "  \n",
        "  Chú ý: nếu thời gian vượt quá 0.5 days thì Colab sẽ tự động Restart lại phiên làm việc hiện tại của bạn.\n",
        "\n",
        "**`Kết quả`**:\n",
        "\n",
        "<img src=\"https://i.imgur.com/Tquzfux.png\" style=\"width:80%;height:80%;\"/>\n",
        "\n",
        "Trước tiên, bạn hãy hiểu quy tắc 90 phút của Colab qua hình ảnh sau đây:\n",
        "\n",
        "<img src=\"https://i.imgur.com/OuGE8a0.png\" style=\"width:70%;height:70%;\"/>\n",
        "\n",
        "Và quy tắc 12 giờ:\n",
        "<img src=\"https://i.imgur.com/njtQtSu.png\" style=\"width:80%;height:80%;\"/>"
      ]
    },
    {
      "cell_type": "code",
      "execution_count": null,
      "metadata": {
        "cellView": "form",
        "id": "WLkduIkBjOEo"
      },
      "outputs": [],
      "source": [
        "#@title Kiểm tra thời gian hoạt động của phiên làm việc\n",
        "!cat /proc/uptime | awk '{print $1 /60 /60 /24 \"days (\" $1 \"sec)\"}'"
      ]
    },
    {
      "cell_type": "markdown",
      "metadata": {
        "id": "J0eDKxxxPCQd"
      },
      "source": [
        "#<img src='https://www.svgrepo.com/show/411430/search.svg' height=\"30\" alt=\"Check\"/> **Kiểm tra các Cloud đã kết nối và dung lượng lưu trữ**"
      ]
    },
    {
      "cell_type": "code",
      "execution_count": 14,
      "metadata": {
        "collapsed": true,
        "id": "PF5CaR77oxzy",
        "colab": {
          "base_uri": "https://localhost:8080/"
        },
        "cellView": "form",
        "outputId": "4c0037c7-fabe-4ae7-b978-db0a51960f68"
      },
      "outputs": [
        {
          "output_type": "stream",
          "name": "stdout",
          "text": [
            "Current remotes:\n",
            "\n",
            "Name                 Type\n",
            "====                 ====\n",
            "admin                onedrive\n",
            "cusc                 drive\n",
            "dangvn               onedrive\n",
            "dangvo               onedrive\n",
            "dttx                 drive\n",
            "duongle              onedrive\n",
            "edward               drive\n",
            "nghienmac4           drive\n",
            "obt                  onedrive\n",
            "vndang96             drive\n",
            "vodang2702           drive\n",
            "\n",
            "e) Edit existing remote\n",
            "n) New remote\n",
            "d) Delete remote\n",
            "r) Rename remote\n",
            "c) Copy remote\n",
            "s) Set configuration password\n",
            "q) Quit config\n",
            "e/n/d/r/c/s/q> q\n"
          ]
        }
      ],
      "source": [
        "#@title 5. Kiểm tra các cloud đã kết nối\n",
        "!rclone config"
      ]
    },
    {
      "cell_type": "code",
      "execution_count": 15,
      "metadata": {
        "cellView": "form",
        "id": "y2ebLODFl3Nv",
        "colab": {
          "base_uri": "https://localhost:8080/",
          "height": 358,
          "referenced_widgets": [
            "8ea5f1033a3e4277bdb2bf22d899fa4a",
            "549c46861402423b9e1aca8a0fbd0dab",
            "754b76c22e674e7ab363e989f4156f7b",
            "1960fc8131e444988482dbb6e6c21bbf",
            "1a88566e8e054bb0a8521a9b96ec1f76",
            "6ade396d5be34585b941cf0eadb46bd6"
          ]
        },
        "outputId": "0d376c91-6113-44a0-de5e-8a06eaacac68"
      },
      "outputs": [
        {
          "output_type": "display_data",
          "data": {
            "text/plain": [
              "RadioButtons(description='Select Drive:', options=('vodang2702', 'vndang96', 'duongle', 'admin', 'dangvn', 'da…"
            ],
            "application/vnd.jupyter.widget-view+json": {
              "version_major": 2,
              "version_minor": 0,
              "model_id": "8ea5f1033a3e4277bdb2bf22d899fa4a"
            }
          },
          "metadata": {}
        },
        {
          "output_type": "display_data",
          "data": {
            "text/plain": [
              "Textarea(value='', layout=Layout(height='100px', width='15%'))"
            ],
            "application/vnd.jupyter.widget-view+json": {
              "version_major": 2,
              "version_minor": 0,
              "model_id": "1960fc8131e444988482dbb6e6c21bbf"
            }
          },
          "metadata": {}
        }
      ],
      "source": [
        "#@title 6. Kiểm tra dung lượng lưu trữ Cloud\n",
        "\n",
        "# Đọc nội dung từ file rclone.conf\n",
        "with open(\"/root/.config/rclone/rclone.conf\", \"r\") as f:\n",
        "    content = f.read()\n",
        "\n",
        "# Sử dụng configparser để phân tích cấu trúc của file cấu hình\n",
        "config = configparser.ConfigParser()\n",
        "config.read_string(content)\n",
        "\n",
        "# Trích xuất danh sách các section (drives)\n",
        "drive_list = config.sections()\n",
        "# Danh sách các drive\n",
        "# drive_list = [\"vndang96\", \"duongle\", \"vodang2702\"]\n",
        "\n",
        "def execute_rclone_about(drive):\n",
        "    command = f\"rclone about {drive}:\"\n",
        "    output = os.popen(command).read()\n",
        "    output_text.value = output\n",
        "\n",
        "# Tạo trường RadioButton cho các drive\n",
        "drive_radio_buttons = widgets.RadioButtons(\n",
        "    options=drive_list,\n",
        "    description=\"Select Drive:\"\n",
        ")\n",
        "\n",
        "output_text = widgets.Textarea(layout={'width': '15%', 'height': '100px'})\n",
        "# Hiển thị trường RadioButton\n",
        "display(drive_radio_buttons, output_text)\n",
        "\n",
        "# Thực thi hàm execute_rclone_about khi chọn drive\n",
        "drive_radio_buttons.observe(lambda change: execute_rclone_about(change.new), names='value')\n"
      ]
    },
    {
      "cell_type": "code",
      "execution_count": 16,
      "metadata": {
        "cellView": "form",
        "id": "flf-k52TydaX",
        "colab": {
          "base_uri": "https://localhost:8080/"
        },
        "outputId": "63f497b9-84a5-41ea-fbd6-bb5c256607dc"
      },
      "outputs": [
        {
          "output_type": "stream",
          "name": "stdout",
          "text": [
            "Vui lòng nhập đường dẫn PATH hoặc URL.\n"
          ]
        }
      ],
      "source": [
        "#@title 7. Kiểm tra kích thước thư mục v2\n",
        "#@markdown <center><h5>Nhập tên drive đã được cấu hình trong rclone (mặc định: vodang2702)</h5></center>\n",
        "Drive = \"vodang2702\"  # @param {type:\"string\"}\n",
        "while not Drive:\n",
        "  Drive = input(\"Vui lòng nhập tên drive: \")\n",
        "\n",
        "#@markdown ---\n",
        "\n",
        "#@markdown <center><h5>CHỌN MỘT TRONG HAI CÁCH SAU:</h5></center>\n",
        "\n",
        "#@markdown <center><h6>Cách 1: Nhập đường dẫn đến thư mục/tệp (ví dụ: check dao van hoặc English/Mind maps English)</h6></center>\n",
        "Path = \"\"  # @param {type:\"string\"}\n",
        "\n",
        "#@markdown <center><h6>HOẶC</h6></center>\n",
        "\n",
        "#@markdown <center><h6>Cách 2: Dán liên kết đến thư mục/tệp (ví dụ: https://drive.google.com/drive/folders/...)</h6></center>\n",
        "URL = \"\"  # @param {type:\"string\"}\n",
        "\n",
        "#@markdown ---\n",
        "\n",
        "if Path and URL:\n",
        "  print(\"Vui lòng chỉ chọn một trong hai cách nhập: Đường dẫn PATH hoặc URL.\")\n",
        "elif not Path and not URL:\n",
        "  print(\"Vui lòng nhập đường dẫn PATH hoặc URL.\")\n",
        "else:\n",
        "  if URL:\n",
        "    # Trích xuất ID thư mục từ URL (nếu có)\n",
        "    id = re.search(r\"/folders/([a-zA-Z0-9_-]+)\", URL)\n",
        "    if id:\n",
        "      command = f'rclone size \"{Drive},root_folder_id={id.group(1)}\":'\n",
        "    else:\n",
        "      print(\"Không thể trích xuất ID thư mục từ URL. Vui lòng kiểm tra lại URL.\")\n",
        "      exit()  # Thoát nếu không tìm thấy ID\n",
        "  if Path:\n",
        "     command = f'rclone size \"{Drive}\":\"{Path}\"'\n",
        "\n",
        "  result = !{command}\n",
        "\n",
        " # Kiểm tra lỗi và hiển thị kết quả\n",
        "  if result[0].startswith(\"20\"):\n",
        "    print(\"Lỗi:\", result[0])\n",
        "  else:\n",
        "    for line in result:  # Duyệt qua từng dòng trong result\n",
        "      print(line)       # In từng dòng\n"
      ]
    },
    {
      "cell_type": "code",
      "execution_count": 17,
      "metadata": {
        "cellView": "form",
        "id": "RSneo0ZQOgBQ",
        "colab": {
          "base_uri": "https://localhost:8080/",
          "height": 347,
          "referenced_widgets": [
            "321be98f610545b298e87b1caa51795e",
            "1d3aacf0622a457b8a266edf3d9605f7",
            "19dc67eeeb37427d810f189ddd5e882a",
            "949cc9e9db174eab998ba7aa6fc6c1d1",
            "0625ecbb9c1042b89254b8c0d3cc32fc",
            "0efd4448e16a4934b0df72423a9f1312",
            "864c315ee21e44a78c0e0e80c350aee3",
            "a4f5ced48b564023bf55d01ba425ffb7",
            "dd3b557262f4434f86f5610ccb3bd30c",
            "0871cf8f83c04512af10d29db185d6af",
            "54dbf82fbfa341f8a7f1e9cc42b6bf73",
            "eb4f03241ef44922a1c5523b3262ce08",
            "481f754b3b2d4703afbec37753ee2086",
            "b1df6f42c146421c9eb20ca4f43e35d4",
            "669700757a0f4c63a04f65c9508dd123",
            "ec5eb18211654d62b9d2405fdd9e008c",
            "fc0727a4001a45fda65ab67aacc095c6",
            "3948a855ac3a4e20bd5cae8ae1dff912"
          ]
        },
        "outputId": "a1beb291-fea5-419f-c5e5-fba40af6c69c"
      },
      "outputs": [
        {
          "output_type": "display_data",
          "data": {
            "text/plain": [
              "Dropdown(description='Select Drive:', options=('vodang2702', 'vndang96', 'duongle', 'admin', 'dangvn', 'dangvo…"
            ],
            "application/vnd.jupyter.widget-view+json": {
              "version_major": 2,
              "version_minor": 0,
              "model_id": "321be98f610545b298e87b1caa51795e"
            }
          },
          "metadata": {}
        },
        {
          "output_type": "display_data",
          "data": {
            "text/plain": [
              "Text(value='', description='Path:', layout=Layout(height='30px', width='100%'), placeholder='English/Mind maps…"
            ],
            "application/vnd.jupyter.widget-view+json": {
              "version_major": 2,
              "version_minor": 0,
              "model_id": "949cc9e9db174eab998ba7aa6fc6c1d1"
            }
          },
          "metadata": {}
        },
        {
          "output_type": "display_data",
          "data": {
            "text/plain": [
              "Textarea(value='', layout=Layout(height='150px', width='100%'), placeholder='Output will be displayed here...'…"
            ],
            "application/vnd.jupyter.widget-view+json": {
              "version_major": 2,
              "version_minor": 0,
              "model_id": "864c315ee21e44a78c0e0e80c350aee3"
            }
          },
          "metadata": {}
        },
        {
          "output_type": "display_data",
          "data": {
            "text/plain": [
              "Text(value='', layout=Layout(width='100%'))"
            ],
            "application/vnd.jupyter.widget-view+json": {
              "version_major": 2,
              "version_minor": 0,
              "model_id": "0871cf8f83c04512af10d29db185d6af"
            }
          },
          "metadata": {}
        },
        {
          "output_type": "display_data",
          "data": {
            "text/plain": [
              "Button(button_style='danger', description='Cancel', style=ButtonStyle())"
            ],
            "application/vnd.jupyter.widget-view+json": {
              "version_major": 2,
              "version_minor": 0,
              "model_id": "481f754b3b2d4703afbec37753ee2086"
            }
          },
          "metadata": {}
        },
        {
          "output_type": "display_data",
          "data": {
            "text/plain": [
              "Text(value='', layout=Layout(width='100%'))"
            ],
            "application/vnd.jupyter.widget-view+json": {
              "version_major": 2,
              "version_minor": 0,
              "model_id": "ec5eb18211654d62b9d2405fdd9e008c"
            }
          },
          "metadata": {}
        }
      ],
      "source": [
        "#@title 8. Kiểm tra kích thước thư mục v1\n",
        "\n",
        "# Đọc nội dung từ file rclone.conf\n",
        "with open(\"/root/.config/rclone/rclone.conf\", \"r\") as f:\n",
        "    content = f.read()\n",
        "\n",
        "# Sử dụng configparser để phân tích cấu trúc của file cấu hình\n",
        "config = configparser.ConfigParser()\n",
        "config.read_string(content)\n",
        "\n",
        "# Trích xuất danh sách các section (drives)\n",
        "drive_list = config.sections()\n",
        "\n",
        "def execute_rclone_size(drive):\n",
        "    path = path_input.value\n",
        "    command = f'rclone size \"{drive}:{path}\"'\n",
        "    print(f\"Executing command: {command}\")\n",
        "\n",
        "    start_time = time.time()  # Lấy thời gian bắt đầu\n",
        "\n",
        "    result = os.popen(command).read()\n",
        "    end_time = time.time()  # Lấy thời gian kết thúc\n",
        "    elapsed_time = end_time - start_time  # Tính thời gian thực thi\n",
        "\n",
        "    output_text.value = result\n",
        "\n",
        "    elapsed_time_text.value = f\"Elapsed Time: {elapsed_time:.2f} seconds\"\n",
        "\n",
        "def on_path_input_submit(change):\n",
        "    execute_rclone_size(drive_dropdown.value)\n",
        "\n",
        "# Tạo trường dropdown\n",
        "drive_dropdown = widgets.Dropdown(\n",
        "    options=drive_list,\n",
        "    description=\"Select Drive:\"\n",
        ")\n",
        "\n",
        "# Nhập đường dẫn thư mục\n",
        "path_input = widgets.Text(\n",
        "    description=\"Path:\",\n",
        "    placeholder=\"English/Mind maps English\",\n",
        "    layout={'width': '100%', 'height': '30px'}\n",
        ")\n",
        "\n",
        "def on_path_input_submit(change):\n",
        "    execute_rclone_size(drive_dropdown.value)\n",
        "\n",
        "path_input.on_submit(on_path_input_submit)\n",
        "\n",
        "# Widget để hiển thị kết quả\n",
        "output_text = widgets.Textarea(\n",
        "    layout={'height': '150px', 'width': '100%'},\n",
        "    placeholder=\"Output will be displayed here...\"\n",
        ")\n",
        "\n",
        "# Widget để hiển thị thời gian thực thi\n",
        "elapsed_time_text = widgets.Text(\n",
        "    layout={'width': '100%'}\n",
        ")\n",
        "\n",
        "# Tạo nút huỷ lệnh\n",
        "cancel_button = widgets.Button(description=\"Cancel\", button_style=\"danger\")\n",
        "\n",
        "# Tạo widget để hiển thị thông báo\n",
        "cancel_status = widgets.Text(layout={'width': '100%'})\n",
        "\n",
        "def cancel_execution(_):\n",
        "    # Nếu có một lệnh đang thực thi, hãy cố gắng kết thúc nó\n",
        "    os.system(\"pkill -f 'rclone size'\")\n",
        "    cancel_status.value = \"Cancellation successful.\"\n",
        "\n",
        "# Gắn hàm cancel_execution vào sự kiện click của nút\n",
        "cancel_button.on_click(cancel_execution)\n",
        "\n",
        "# Hiển thị nút huỷ lệnh cùng các widget khác\n",
        "display(drive_dropdown, path_input, output_text, elapsed_time_text, cancel_button, cancel_status)\n"
      ]
    },
    {
      "cell_type": "markdown",
      "metadata": {
        "id": "dtuv_dKk509L"
      },
      "source": [
        "#<img src='https://www.svgrepo.com/show/411456/sync.svg' height=\"30\" alt=\"Sync\"/> **Copy - Sync nhanh với GUI**"
      ]
    },
    {
      "cell_type": "code",
      "execution_count": null,
      "metadata": {
        "cellView": "form",
        "collapsed": true,
        "id": "dDp9xWlct-wA"
      },
      "outputs": [],
      "source": [
        "#@title TOOL 1 <center><img src='https://upload.wikimedia.org/wikipedia/commons/1/12/Google_Drive_icon_%282020%29.svg' height=\"20\" alt=\"Google Drive\"/> ↔ <img src='https://upload.wikimedia.org/wikipedia/commons/1/12/Google_Drive_icon_%282020%29.svg' height=\"20\" alt=\"Google Drive\"/> Download FOLDER <img src='https://www.svgrepo.com/show/788/folder.svg' height=\"20\" alt=\"Google Drive\"> từ Google Drive URL v1.1</center>\n",
        "#@markdown <center><h5>Chức năng download foder từ Google drive URL được share public, Lưu vào My Drive</center>\n",
        "\n",
        "#@markdown ---\n",
        "\n",
        "#@markdown <center><h6>Dán liên kết thư mục được chia sẻ (ví dụ: https://drive.google.com/drive/folders/1CgzIalZTD4DUFpE7xKwzpzjPAixTBm3-...)</h6>\n",
        "\n",
        "Shared_URL = \"https://drive.google.com/drive/folders/1u9keIU7rdqL6ZmUZnjoFqf9o_6fpH-26\"  # @param {type:\"string\"}\n",
        "\n",
        "#@markdown <center><h6>Nhập đường dẫn đến thư mục đích - là folder cha của folder cần lưu</h6>\n",
        "#@markdown <center><h6>(Ví dụ Nhập: vodang2702:TONG HOP KHOA HOC FULL)</h6>\n",
        "#@markdown <center><h6>(Kết quả sẽ là: vodang2702:TONG HOP KHOA HOC FULL/Name shared folder)</h6>\n",
        "Dest_Folder = \"vodang2702:TONG HOP KHOA HOC FULL\"  # @param {type:\"string\"}\n",
        "\n",
        "# @markdown <center><h5>Nút này sẽ kiểm tra kích thước thư mục nguồn và đích để dễ so sánh, nhưng sẽ tốn request đến gooogleapis. Nếu thư mục quá lớn hãy bật OFF để tối ưu hóa hiệu suất</h5>\n",
        "IntegrityCheck = \"OFF\" # @param [\"ON\",\"OFF\"]\n",
        "\n",
        "# Kiểm tra Shared_URL và Dest_Folder\n",
        "try:\n",
        "    # Thông báo bắt đầu\n",
        "    notify(f\"THÔNG BÁO TỪ GOOGLE COLAB!\\nKhởi động: Tool 1 - Download FOLDER Google Drive URL v1.1\\nThời gian bắt đầu: {get_time_now()}\")\n",
        "    if not Shared_URL and not Dest_Folder:\n",
        "        notify(\"Vui lòng nhập Shared_URL và Dest_Folder.\")\n",
        "    else:\n",
        "        if Dest_Folder:\n",
        "            drive = re.search(r\"^(.+?):\", Dest_Folder)  # Tìm kiếm phần trước dấu \":\"\n",
        "            if drive:\n",
        "                mydrive = drive.group(1)       # Lấy phần đã tìm thấy (mydrive)\n",
        "            else:\n",
        "                notify(\"Không thể trích xuất MyDrive từ Dest_Folder. Vui lòng kiểm tra lại Dest_Folder.\")\n",
        "                stop_execution()  # Thoát nếu không tìm thấy MyDrive\n",
        "        if Shared_URL:\n",
        "            # Trích xuất ID thư mục từ URL (nếu có)\n",
        "            id = re.search(r\"/folders/([a-zA-Z0-9_-]+)\", Shared_URL)\n",
        "            if id:\n",
        "                # Get file/folder name from shared url - Google Drive\n",
        "                folder_name = extract_gdrive_name(Shared_URL)\n",
        "\n",
        "                # Tạo file log\n",
        "                log_path = f\"{Dest_Folder}/{folder_name}/logfile.txt\"\n",
        "\n",
        "                # Thực thi lệnh tạo file log\n",
        "                notify(\"\\nĐang tạo file log để lưu nhật ký sao chép thư mục... \")\n",
        "                try:\n",
        "                    subprocess.run(f'rclone touch \"{log_path}\"', shell=True)\n",
        "                except Exception as e:\n",
        "                    notify(\"Bạn đã quên START project rồi!\")\n",
        "                    notify(f\"\\nLỗi khi tạo file log: {e}\")\n",
        "                    stop_execution()\n",
        "\n",
        "                # Kiểm tra filelog, thử lại mỗi 5 giây trong tối đa 30 giây\n",
        "                find_file(\"logfile.txt\",Dest_Folder,True)\n",
        "\n",
        "                # Chuyển đổi đường dẫn tương đối của file log sang đường dẫn tuyệt đối\n",
        "                abs_log_path = log_path.replace(\"vodang2702:\",\"/content/drive/MyDrive/\")\n",
        "\n",
        "                notify(\"\\nThông tin thư mục nguồn: \")\n",
        "                notify(\"\\nShared URL: \",Shared_URL)\n",
        "                notify(\"\\nFolder ID: \",id.group(1))\n",
        "                notify(\"\\nFolder name: \", folder_name)\n",
        "\n",
        "                if IntegrityCheck == \"ON\":\n",
        "                    notify(\"\\nKích thước:\\n\")\n",
        "                    subprocess.run(f'rclone size --drive-shared-with-me \"{mydrive}:{folder_name}\"', shell=True)\n",
        "\n",
        "                # Lệnh copy folder\n",
        "                command = f'rclone copy -v -u --transfers=20 --checkers=40 \\'{mydrive},root_folder_id=\"{id.group(1)}\":\\' \\'{Dest_Folder}/{folder_name}\\' --log-file \"{abs_log_path}\"'\n",
        "                notify(\"\\nĐang thực thi:\\n\\n\",command)\n",
        "\n",
        "                # Chạy lệnh sao chép trong một tiến trình riêng biệt\n",
        "                process = subprocess.Popen(command, shell=True, stdout=subprocess.PIPE, stderr=subprocess.PIPE)\n",
        "\n",
        "                check_rate_limit(process,abs_log_path,180)\n",
        "\n",
        "                stderr = process.stderr.read().decode()\n",
        "                if stderr:\n",
        "                    notify(f\"Có lỗi xảy ra: {stderr}\")\n",
        "                    stop_execution()\n",
        "                else:\n",
        "                    notify(\"\\nKết thúc nhiệm vụ, xem chi tiết file log tại: \", log_path)\n",
        "                    if IntegrityCheck == \"ON\":\n",
        "                        notify(\"\\nKích thước thư mục đích: \",Dest_Folder,\"/\",folder_name)\n",
        "                        subprocess.run(f'rclone size \"{Dest_Folder}/{folder_name}\"', shell=True)\n",
        "\n",
        "            else:\n",
        "                notify(\"\\nKhông thể trích xuất ID thư mục từ Shared_URL. Vui lòng kiểm tra lại Shared_URL.\")\n",
        "                stop_execution()  # Thoát nếu không tìm thấy ID\n",
        "\n",
        "except StopExecution:\n",
        "        notify(f\"\\nThật tiếc, chương trình thực thi phải dừng lại tại đây! 😢\\nThời gian kết thúc: {get_time_now()}! \")\n"
      ]
    },
    {
      "cell_type": "code",
      "execution_count": null,
      "metadata": {
        "cellView": "form",
        "colab": {
          "base_uri": "https://localhost:8080/"
        },
        "collapsed": true,
        "id": "cYCEVPPh7MVw",
        "outputId": "99fac07e-9523-4daa-d8ac-c223f65ba80c"
      },
      "outputs": [
        {
          "name": "stdout",
          "output_type": "stream",
          "text": [
            "\n",
            "Đang tạo file log để lưu nhật ký sao chép thư mục... \n",
            "\n",
            "File log đã được nhận diện!\n",
            "\n",
            "Thông tin thư mục nguồn: \n",
            "\n",
            "Shared URL:  https://drive.google.com/drive/folders/1DE6EDskMay9QSnLnJlylIFk71cpZaUsN\n",
            "\n",
            "Folder ID:  1DE6EDskMay9QSnLnJlylIFk71cpZaUsN\n",
            "\n",
            "Folder name:  [Udemy] Notion with Snow\n",
            "\n",
            "Kích thước:\n",
            "\n",
            "Total objects: 42\n",
            "Total size: 2.093 GiB (2247120346 Byte)\n",
            "\n",
            "Đang thực thi:\n",
            "\n",
            " rclone copy -v -u --ignore-existing --transfers=20 --checkers=40 --drive-shared-with-me --server-side-across-configs --checksum \"vodang2702:[Udemy] Notion with Snow\" \"vodang2702:0tmp_folder/[Udemy] Notion with Snow\" --log-file \"/content/[Udemy] Notion with Snow_logfile.xlsx\"\n",
            "\n",
            "Đang di chuyển [ [Udemy] Notion with Snow ] từ thư mục tạm thời tới thư mục đích\n",
            "\n",
            "Thư mục [[Udemy] Notion with Snow] đã xuất hiện trong thư mục đích!\n",
            "\n",
            "File log: [[Udemy] Notion with Snow_logfile.xlsx] đã xuất hiện trong thư mục đích!\n",
            "\n",
            "Thư mục tạm thời [0tmp_folder] trống và đã được xóa.\n",
            "\n",
            "Kết thúc nhiệm vụ!\n",
            "\n",
            "Xem chi tiết file log tại:  vodang2702:TONG HOP KHOA HOC FULL / [Udemy] Notion with Snow / [Udemy] Notion with Snow _logfile.xlsx\n",
            "\n",
            "Kích thước thư mục đích:  vodang2702:TONG HOP KHOA HOC FULL / [Udemy] Notion with Snow\n",
            "\n",
            "\n",
            "Total objects: 43\n",
            "Total size: 2.093 GiB (2247129698 Byte)\n"
          ]
        }
      ],
      "source": [
        "#@title TOOL 2 <center><img src='https://upload.wikimedia.org/wikipedia/commons/1/12/Google_Drive_icon_%282020%29.svg' height=\"20\" alt=\"Google Drive\"/> ↔ <img src='https://upload.wikimedia.org/wikipedia/commons/1/12/Google_Drive_icon_%282020%29.svg' height=\"20\" alt=\"Google Drive\"/> Download FOLDER <img src='https://www.svgrepo.com/show/788/folder.svg' height=\"20\" alt=\"Google Drive\"> từ Google Drive URL v2.1</center>\n",
        "#@markdown <center><h5>Chức năng download foder từ Google drive URL được share public, Lưu vào My Drive</center>\n",
        "\n",
        "#@markdown ---\n",
        "\n",
        "#@markdown <center><h6>Dán liên kết thư mục được chia sẻ (ví dụ: https://drive.google.com/drive/folders/1CgzIalZTD4DUFpE7xKwzpzjPAixTBm3-...)</h6>\n",
        "\n",
        "Shared_URL = \"https://drive.google.com/drive/folders/1DE6EDskMay9QSnLnJlylIFk71cpZaUsN\"  # @param {type:\"string\"}\n",
        "\n",
        "#@markdown <center><h6>Nhập đường dẫn đến thư mục đích - là folder cha của folder cần lưu</h6>\n",
        "#@markdown <center><h6>(Ví dụ Nhập: vodang2702:TONG HOP KHOA HOC FULL)</h6>\n",
        "#@markdown <center><h6>(Kết quả sẽ là: vodang2702:TONG HOP KHOA HOC FULL/Name shared folder)</h6>\n",
        "Dest_Folder = \"vodang2702:TONG HOP KHOA HOC FULL\"  # @param {type:\"string\"}\n",
        "\n",
        "# @markdown <center><h5>Nút này sẽ kiểm tra kích thước thư mục nguồn và đích để dễ so sánh, nhưng sẽ tốn request đến gooogleapis. Nếu thư mục quá lớn hãy bật OFF để tối ưu hóa hiệu suất</h5>\n",
        "IntegrityCheck = \"OFF\" # @param [\"ON\",\"OFF\"]\n",
        "\n",
        "#@markdown ---\n",
        "\n",
        "# Kiểm tra Shared_URL và Dest_Folder\n",
        "try:\n",
        "    # Thông báo bắt đầu\n",
        "    notify(f\"THÔNG BÁO TỪ GOOGLE COLAB!\\nKhởi động: Tool 2 - Download FOLDER Google Drive URL v2.1\\nThời gian bắt đầu: {get_time_now()}\")\n",
        "\n",
        "    if not Shared_URL and not Dest_Folder:\n",
        "        notify(\"Vui lòng nhập Shared_URL và Dest_Folder.\")\n",
        "    else:\n",
        "        if Dest_Folder:\n",
        "            drive = re.search(r\"^(.+?):\", Dest_Folder)  # Tìm kiếm phần trước dấu \":\"\n",
        "            if drive:\n",
        "                mydrive = drive.group(1)       # Lấy phần đã tìm thấy (mydrive)\n",
        "                # print(mydrive)\n",
        "            else:\n",
        "                notify(\"\\nKhông thể trích xuất MyDrive từ Dest_Folder. Vui lòng kiểm tra lại Dest_Folder.\")\n",
        "                stop_execution()  # Thoát nếu không tìm thấy MyDrive\n",
        "        if Shared_URL:\n",
        "      # Trích xuất ID thư mục từ URL (nếu có)\n",
        "            id = re.search(r\"/folders/([a-zA-Z0-9_-]+)\", Shared_URL)\n",
        "            if id:\n",
        "                #Get file/folder name from shared url - Google Drive\n",
        "                folder_name = extract_gdrive_name(Shared_URL)\n",
        "\n",
        "                # Tạo file log\n",
        "                log_path = f\"/content/{folder_name}_logfile.txt\"\n",
        "                # print(\"log path: \",log_path)\n",
        "\n",
        "                # Thực thi lệnh tạo file log\n",
        "                notify(\"\\nĐang tạo file log để lưu nhật ký sao chép thư mục... \")\n",
        "\n",
        "                !rclone touch \"{log_path}\"\n",
        "\n",
        "                # Kiểm tra filelog, thử lại mỗi 5 giây trong tối đa 30 giây\n",
        "                find_file(f\"{folder_name}_logfile.txt\",\"/content\",True)\n",
        "\n",
        "                notify(\"\\nThông tin thư mục nguồn: \")\n",
        "                notify(\"\\nShared URL: \",Shared_URL)\n",
        "                notify(\"\\nFolder ID: \",id.group(1))\n",
        "                notify(\"\\nFolder name: \", folder_name)\n",
        "                if IntegrityCheck == \"ON\":\n",
        "                    output = !rclone size --drive-shared-with-me \"{mydrive}:{folder_name}\"\n",
        "                    notify(f\"\\nKích thước:\\n{output}\")\n",
        "                # Lệnh copy folder\n",
        "                command = f'rclone copy -v -u --transfers=20 --checkers=40 --drive-shared-with-me --server-side-across-configs \"{mydrive}:{folder_name}\" \"{mydrive}:0tmp_folder/{folder_name}\" --log-file \"{log_path}\"'\n",
        "                notify(\"\\nĐang thực thi:\\n\\n\",command)\n",
        "                notify(f\"Bắt đầu sao chép thư mục {folder_name} từ {mydrive} vào {Dest_Folder}\")\n",
        "                # result = !{command}\n",
        "                process = subprocess.Popen(command, shell=True)\n",
        "                check_rate_limit(process,log_path,180)\n",
        "\n",
        "                # Di chuyển thư mục từ A/folder sang B/folder\n",
        "                notify(f\"Đang di chuyển [\",folder_name,\"] từ thư mục tạm thời tới thư mục đích\")\n",
        "                !rclone move \"{mydrive}:0tmp_folder/{folder_name}\" \"{Dest_Folder}/{folder_name}\"\n",
        "\n",
        "                # Kiểm tra kết quả di chuyển thư mục\n",
        "                find_folder(folder_name,Dest_Folder,True)\n",
        "\n",
        "                # Di chuyển tệp từ thư mục A sang thư mục B\n",
        "                !rclone move \"{log_path}\" \"{Dest_Folder}/{folder_name}/\"\n",
        "\n",
        "                # Kiểm tra kết quả di chuyển file log\n",
        "                find_file(f\"{folder_name}_logfile.txt\",f\"{Dest_Folder}/{folder_name}\",True)\n",
        "\n",
        "                # Kiểm tra xem thư mục tạm thời có trống hay không và xóa nó\n",
        "                output = !rclone size \"{mydrive}:0tmp_folder\"\n",
        "\n",
        "                # Tìm kích thước thư mục (lấy phần số byte từ đầu ra)\n",
        "                match = re.search(r\"Total size: (\\d+ B|\\d+ Bytes)\", \"\\n\".join(output))\n",
        "                total_size = match.group(1) if match else None\n",
        "\n",
        "                # Nếu kích thước bằng \"0 B\" hoặc \"0 Bytes\", xóa thư mục\n",
        "                if total_size in [\"0 B\", \"0 Bytes\"]:\n",
        "                    !rclone purge \"{mydrive}:0tmp_folder\"\n",
        "                    notify(\"\\nThư mục tạm thời [0tmp_folder] trống và đã được xóa.\")\n",
        "                elif total_size:\n",
        "                    notify(\"\\nThư mục tạm thời [0tmp_folder] không trống, không thể xóa.\")\n",
        "                else:\n",
        "                    notify(\"\\nKhông thể phân tích kích thước thư mục tạm [0tmp_folder].\")\n",
        "\n",
        "                notify(\"\\nKết thúc nhiệm vụ!\")\n",
        "                notify(\"\\nXem chi tiết file log tại: \",Dest_Folder,\"/\",folder_name,\"/\",folder_name,\"_logfile.txt\")\n",
        "\n",
        "                # Kiểm tra kích thước thư mục đích\n",
        "                if IntegrityCheck == \"ON\":\n",
        "                    notify(f\"\\nKích thước thư mục đích: {Dest_Folder}/{folder_name}\")\n",
        "                    output = !rclone size \"{Dest_Folder}/{folder_name}\"\n",
        "                    print(f\"\\n{output}\")\n",
        "\n",
        "            else:\n",
        "                notify(\"\\nKhông thể trích xuất ID thư mục từ Shared_URL. Vui lòng kiểm tra lại Shared_URL.\")\n",
        "                stop_execution()  # Thoát nếu không tìm thấy ID\n",
        "except StopExecution:\n",
        "        notify(f\"\\nThật tiếc, chương trình thực thi phải dừng lại tại đây! 😢\\nThời gian kết thúc: {get_time_now()}! \")"
      ]
    },
    {
      "cell_type": "code",
      "execution_count": 16,
      "metadata": {
        "cellView": "form",
        "collapsed": true,
        "id": "ReTITk09H4Pb",
        "colab": {
          "base_uri": "https://localhost:8080/"
        },
        "outputId": "e87b4c20-5f33-4974-9915-6892abd46f48"
      },
      "outputs": [
        {
          "output_type": "stream",
          "name": "stdout",
          "text": [
            "THÔNG BÁO TỪ GOOGLE COLAB!\n",
            "Khởi động: Tool 3 - Download FILE Google Drive URL v1.1\n",
            "Thời gian bắt đầu: 23/08/2024 21:55:40\n",
            "File ID:    11sC_TaPkjYnitQNGnBvGSAI_OHCU0e0m\n",
            "\n",
            "File name:  Phôi căn cước công dân.rar\n",
            "Bắt đầu quá trình tải xuống file Phôi căn cước công dân.rar từ Google Drive.\n",
            "\n",
            "Downloading...[Vui lòng chờ chút]...  Phôi căn cước công dân.rar\n",
            "                          ⬇⬇\n"
          ]
        },
        {
          "output_type": "stream",
          "name": "stderr",
          "text": [
            "Downloading...\n",
            "From (original): https://drive.google.com/uc?export=download&id=11sC_TaPkjYnitQNGnBvGSAI_OHCU0e0m\n",
            "From (redirected): https://drive.google.com/uc?export=download&id=11sC_TaPkjYnitQNGnBvGSAI_OHCU0e0m&confirm=t&uuid=12162b8a-8da0-4afd-94d6-ff817f5fec0f\n",
            "To: /content/Phôi căn cước công dân.rar\n",
            "100%|██████████| 68.7M/68.7M [00:02<00:00, 27.6MB/s]\n"
          ]
        },
        {
          "output_type": "stream",
          "name": "stdout",
          "text": [
            "Đã tải xong file Phôi căn cước công dân.rar. Bắt đầu quá trình sao chép tới vodang2702:CCCD.\n",
            "Đã sao chép file Phôi căn cước công dân.rar tới vodang2702:CCCD. Bắt đầu kiểm tra file trong thư mục đích.\n",
            "\n",
            "Checking...[Vui lòng chờ chút]...  Phôi căn cước công dân.rar  trong thư mục đích  vodang2702:CCCD\n",
            "                          ⬇⬇\n",
            "\n",
            "File Phôi căn cước công dân.rar đã được tìm thấy trong thư mục đích vodang2702:CCCD!\n",
            "Kich thước file đích: ['Total objects: 1', 'Total size: 65.523 MiB (68706006 Byte)']\n"
          ]
        }
      ],
      "source": [
        "#@title TOOL 3 <center><img src='https://upload.wikimedia.org/wikipedia/commons/1/12/Google_Drive_icon_%282020%29.svg' height=\"20\" alt=\"Google Drive\"/> ↔ <img src='https://upload.wikimedia.org/wikipedia/commons/1/12/Google_Drive_icon_%282020%29.svg' height=\"20\" alt=\"Google Drive\"/> Download FILE <img src='https://www.svgrepo.com/show/492654/file-holder.svg' height=\"20\" alt=\"Google File\"> từ Google Drive URL v1.1</center>\n",
        "#@markdown <center><h5>Chức năng download file từ Google drive URL được share public, Lưu vào My Drive</center>\n",
        "\n",
        "#@markdown ---\n",
        "#@markdown <center><h6>Dán liên kết file/thư mục được chia sẻ (ví dụ: https://drive.google.com/file/d/1NUYc-orx5df3RskKdJOxR4AhWix0Th4d...)</h6>\n",
        "\n",
        "Shared_URL = \"https://drive.google.com/file/d/11sC_TaPkjYnitQNGnBvGSAI_OHCU0e0m/view\" # @param {\"type\":\"string\",\"placeholder\":\"https://drive.google.com/file/d/1NUYc-orx5df3RskKdJOxR4AhWix0Th4d/view?usp=drive_link\"}\n",
        "\n",
        "#@markdown <center><h6>Nhập đường dẫn đến thư mục đích cần lưu file (ví dụ: vodang2702:TONG HOP KHOA HOC FULL)</h6>\n",
        "\n",
        "Dest_Folder = \"vodang2702:CCCD\" # @param {\"type\":\"string\",\"placeholder\":\"vodang2702:TONG HOP KHOA HOC FULL\"}\n",
        "\n",
        "try:\n",
        "    # Thông báo bắt đầu\n",
        "    notify(f\"THÔNG BÁO TỪ GOOGLE COLAB!\\nKhởi động: Tool 3 - Download FILE Google Drive URL v1.1\\nThời gian bắt đầu: {get_time_now()}\")\n",
        "\n",
        "    # Step 1: Extract the file/folder ID from shared url - Google Drive (using string splitting)\n",
        "    file_id = Shared_URL.split('/')[5]\n",
        "\n",
        "    # Print the file/folder ID\n",
        "    notify(\"File ID:   \", file_id)\n",
        "\n",
        "    # Step 2: Get file/folder name from shared url - Google Drive\n",
        "\n",
        "    file_name = extract_gdrive_name(Shared_URL)\n",
        "    notify(\"\\nFile name: \", file_name)\n",
        "\n",
        "    # Thông báo bắt đầu quá trình tải xuống\n",
        "    notify(f\"Bắt đầu quá trình tải xuống file {file_name} từ Google Drive.\")\n",
        "\n",
        "    # Step 3: Download the file from the URL\n",
        "    url_download = f\"https://drive.google.com/uc?export=download&id={file_id}\"\n",
        "    local_path = os.path.join(\"/content\", file_name)\n",
        "    notify(\"\\nDownloading...[Vui lòng chờ chút]... \", file_name)\n",
        "    print(\"                          ⬇⬇\")\n",
        "    # !wget --no-check-certificate \"{url_download}\" -O \"{local_path}\"\n",
        "    url_download = f\"https://drive.google.com/uc?export=download&id={file_id}\"\n",
        "    gdown.download(url_download, local_path, quiet=False)\n",
        "\n",
        "    # Thông báo hoàn tất tải xuống\n",
        "    notify(f\"Đã tải xong file {file_name}. Bắt đầu quá trình sao chép tới {Dest_Folder}.\")\n",
        "\n",
        "    # Step 4: Upload the file to Google Drive\n",
        "    destination_path = f\"{Dest_Folder}\"\n",
        "\n",
        "    !rclone copy \"{local_path}\" \"{destination_path}\"\n",
        "    # Thông báo bắt đầu kiểm tra file\n",
        "    notify(f\"Đã sao chép file {file_name} tới {Dest_Folder}. Bắt đầu kiểm tra file trong thư mục đích.\")\n",
        "\n",
        "    # Step 5: Check the file in Google Drive\n",
        "    notify(\"\\nChecking...[Vui lòng chờ chút]... \", file_name,\" trong thư mục đích \",Dest_Folder)\n",
        "    print(\"                          ⬇⬇\")\n",
        "    # Kiểm tra file trong thư mục đích\n",
        "    find_file(file_name,destination_path,True)\n",
        "    output = !rclone size \"{destination_path}/{file_name}\"\n",
        "    notify(f\"Kich thước file đích: {output}\")\n",
        "\n",
        "except StopExecution:\n",
        "    notify(f\"\\nThật tiếc, chương trình thực thi phải dừng lại tại đây! 😢\\nThời gian kết thúc: {get_time_now()}! \")"
      ]
    },
    {
      "cell_type": "code",
      "execution_count": 18,
      "metadata": {
        "cellView": "form",
        "colab": {
          "base_uri": "https://localhost:8080/"
        },
        "id": "l2wQWkQiuuDn",
        "outputId": "0bcc0d58-1eba-4fe5-f7ba-3427a6eb05c1"
      },
      "outputs": [
        {
          "output_type": "stream",
          "name": "stdout",
          "text": [
            "THÔNG BÁO TỪ GOOGLE COLAB!\n",
            "Khởi động: Tool 4 - Download SHORTCUT FOLDER Google Drive URL v1.1\n",
            "Thời gian bắt đầu: 23/08/2024 22:18:38\n",
            "Bắt đầu sao chép thư mục...\n",
            "\n",
            "Đang tạo file log để lưu nhật ký sao chép thư mục... \n",
            "\n",
            "File logfile.txt đã được tìm thấy trong thư mục đích vodang2702:KHOA HOC VIDIEU Copied!\n",
            "\n",
            "Đang copy từ KHOA HOC VIDIEU đến KHOA HOC VIDIEU Copied . Vui lòng không đóng tab Colab!\n",
            "\n",
            "\n",
            "Hủy lệnh do gặp lỗi RATE_LIMIT_EXCEEDED trong log!\n",
            "\n",
            "Lỗi đọc log check limit rate: \n",
            "\n",
            "Thật tiếc, chương trình thực thi phải dừng lại tại đây! 😢\n",
            "Thời gian kết thúc: 23/08/2024 22:21:44! \n"
          ]
        }
      ],
      "source": [
        "#@title TOOL 4 <center><img src='https://upload.wikimedia.org/wikipedia/commons/1/12/Google_Drive_icon_%282020%29.svg' height=\"20\" alt=\"Google Drive\"/> ↔ <img src='https://upload.wikimedia.org/wikipedia/commons/1/12/Google_Drive_icon_%282020%29.svg' height=\"20\" alt=\"Google Drive\"/> Download SHORTCUT FOLDER <img src='https://cdn3d.iconscout.com/3d/premium/thumb/shortcut-folder-3d-icon-download-in-png-blend-fbx-gltf-file-formats--share-arrow-pack-files-folders-icons-6043951.png?f=webp' height=\"25\" alt=\"Google Drive\"> từ Google Drive URL v1.1</center>\n",
        "#@markdown <center><h5>Chức năng download folder từ Google drive URL được share public, Lưu vào My Drive bằng cách gián tiếp tạo Shortcut và download Shortcut đó</center>\n",
        "\n",
        "#@markdown ---\n",
        "# @markdown <center><h5>Tạo shortcut folder shared to My Drive sau đó dán đường dẫn shortcut folder vừa tạo vào bên dưới (vodang2702:ShorcutFolderName)</h5>\n",
        "shortCutFolderPath = \"vodang2702:KHOA HOC VIDIEU\" # @param {\"type\":\"string\",\"placeholder\":\"vodang2702:TONG HOP KHOA HOC FULL/CÙNG NHAU HỌC POWERPOINT\"}\n",
        "\n",
        "# @markdown <center><h5>Nút này sẽ kiểm tra kích thước thư mục nguồn và đích để dễ so sánh, nhưng sẽ tốn request đến gooogleapis. Nếu thư mục quá lớn hãy bật OFF để tối ưu hóa hiệu suất</h5>\n",
        "IntegrityCheck = \"OFF\" # @param [\"ON\",\"OFF\"]\n",
        "\n",
        "try:\n",
        "    destinationFolderPath = f\"{shortCutFolderPath} Copied\"\n",
        "    sourceFolderPathAfterRemoveRemoteName = re.search(r\":(.+)\", shortCutFolderPath)\n",
        "    destinationFolderPathAfterRemoveRemoteName = re.search(r\":(.+)\", destinationFolderPath)\n",
        "    # print(\"Đường dẫn đích: \",destinationFolderPathAfterRemoveRemoteName.group(1))\n",
        "\n",
        "    log_path = f\"/content/drive/MyDrive/{destinationFolderPathAfterRemoveRemoteName.group(1)}/logfile.txt\"\n",
        "    # print(\"log path: \",log_path)\n",
        "\n",
        "    # Thông báo bắt đầu\n",
        "    notify(f\"THÔNG BÁO TỪ GOOGLE COLAB!\\nKhởi động: Tool 4 - Download SHORTCUT FOLDER Google Drive URL v1.1\\nThời gian bắt đầu: {get_time_now()}\")\n",
        "    notify(\"Bắt đầu sao chép thư mục...\")\n",
        "\n",
        "    # Thực thi lệnh rclone\n",
        "    notify(\"\\nĐang tạo file log để lưu nhật ký sao chép thư mục... \")\n",
        "\n",
        "    !rclone touch \"{log_path}\"\n",
        "\n",
        "    find_file(\"logfile.txt\",destinationFolderPath,True)\n",
        "\n",
        "    if IntegrityCheck == \"ON\":\n",
        "        notify(\"\\nKích thước thư mục nguồn: \", sourceFolderPathAfterRemoveRemoteName.group(1))\n",
        "        output = !rclone size \"{shortCutFolderPath}\"\n",
        "        notify(f\"\\n{output}\")\n",
        "\n",
        "    notify(\"\\nĐang copy từ\", sourceFolderPathAfterRemoveRemoteName.group(1), \"đến\", destinationFolderPathAfterRemoveRemoteName.group(1), \". Vui lòng không đóng tab Colab!\\n\")\n",
        "\n",
        "    # Bắt đầu sao chép\n",
        "    cmd = f\"rclone copy -v -u --transfers 10 --checkers 20 \\\"{shortCutFolderPath}\\\" \\\"{destinationFolderPath}\\\" --log-file \\\"{log_path}\\\"\"\n",
        "    process = subprocess.Popen(cmd, shell=True, stderr=subprocess.PIPE)\n",
        "\n",
        "    check_rate_limit(process,log_path,180)\n",
        "\n",
        "    # Kiểm tra lỗi nếu có\n",
        "    stderr = process.stderr.read().decode()\n",
        "    if stderr:\n",
        "        notify(f\"Có lỗi xảy ra: {stderr}\")\n",
        "        stop_execution()\n",
        "    else:\n",
        "        notify(\"\\nKết thúc nhiệm vụ, xem chi tiết file log tại: \", log_path)\n",
        "        if IntegrityCheck == \"ON\":\n",
        "            notify(\"\\nKích thước thư mục đích: \", destinationFolderPathAfterRemoveRemoteName.group(1))\n",
        "            output = !rclone size \"{destinationFolderPath}\"\n",
        "            notify(f\"\\n{output}\")\n",
        "except StopExecution:\n",
        "    notify(f\"\\nThật tiếc, chương trình thực thi phải dừng lại tại đây! 😢\\nThời gian kết thúc: {get_time_now()}! \")"
      ]
    },
    {
      "cell_type": "code",
      "execution_count": null,
      "metadata": {
        "cellView": "form",
        "collapsed": true,
        "id": "L2tYm5mfb-GP"
      },
      "outputs": [],
      "source": [
        "#@title TOOL 5 <center><img src='https://upload.wikimedia.org/wikipedia/commons/thumb/3/3c/Microsoft_Office_OneDrive_%282019%E2%80%93present%29.svg/1024px-Microsoft_Office_OneDrive_%282019%E2%80%93present%29.svg.png' height=\"20\" alt=\"One Drive\"/> ↔ <img src='https://upload.wikimedia.org/wikipedia/commons/1/12/Google_Drive_icon_%282020%29.svg' height=\"20\" alt=\"Google Drive\"/> Tranfer FILE <img src='https://www.svgrepo.com/show/492654/file-holder.svg' height=\"20\" alt=\"Google File\"> || FOLDER <img src='https://www.svgrepo.com/show/788/folder.svg' height=\"20\" alt=\"Google Folder\"> giữa các Cloud Stograge v1.0</center>\n",
        "#@markdown <center><h5>Chức năng chuyển dữ liệu file/folder qua lại giữa các Cloud Stograge</center>\n",
        "\n",
        "#@markdown ---\n",
        "\n",
        "#@markdown <center><h6>Nhập đường dẫn đến thư mục nguồn - là file/folder cần transfer</h6>\n",
        "#@markdown <center><h6>(Ví dụ: dangvn:Movie/Cua lại chị bầu)</h6>\n",
        "Source_Path = \"vodang2702:CCCD\"  # @param {type:\"string\"}\n",
        "\n",
        "#@markdown <center><h6>Nhập đường dẫn đến thư mục đích - là folder cha của folder cần lưu</h6>\n",
        "#@markdown <center><h6>(Ví dụ: vodang2702:TONG HOP KHOA HOC FULL)</h6>\n",
        "#@markdown <center><h6>(Kết quả sẽ là: vodang2702:TONG HOP KHOA HOC FULL/Cua lại chị bầu)</h6>\n",
        "Destination_Base = \"dangvn:Attachments\"  # @param {type:\"string\"}\n",
        "\n",
        "# @markdown <center><h5>Nút này sẽ kiểm tra kích thước thư mục nguồn và đích để dễ so sánh, nhưng sẽ tốn request đến gooogleapis. Nếu thư mục quá lớn hãy bật OFF để tối ưu hóa hiệu suất</h5>\n",
        "IntegrityCheck = \"OFF\" # @param [\"ON\",\"OFF\"]\n",
        "\n",
        "def rclone_copy(src, dest, log):\n",
        "    if IntegrityCheck == \"ON\":\n",
        "        notify(\"\\nKích thước nguồn: \", get_size(src))\n",
        "\n",
        "    transfer_command = [\n",
        "        'rclone', 'copy', '-v', '-u',\n",
        "        '--transfers=20', '--checkers=40', src, dest, '--log-file', log\n",
        "    ]\n",
        "    notify(f\"Đang thực thi lệnh copy: {' '.join(transfer_command)}\")\n",
        "\n",
        "    process = subprocess.Popen(transfer_command, stdout=subprocess.PIPE, stderr=subprocess.PIPE, text=True)\n",
        "\n",
        "    check_rate_limit(process,log,180)\n",
        "\n",
        "    if process.returncode != 0:\n",
        "        stdout, stderr = process.communicate()\n",
        "        notify(f\"\\nQuá trình sao chép thất bại với lỗi: {stderr}\")\n",
        "        stop_execution()  # Dừng thực thi nếu quá trình sao chép thất bại\n",
        "    else:\n",
        "        notify(\"\\nQuá trình sao chép hoàn tất thành công.\")\n",
        "        if IntegrityCheck == \"ON\":\n",
        "            notify(\"\\nKích thước đích: \", get_size(dest))\n",
        "\n",
        "    return process.communicate()[0]\n",
        "\n",
        "\n",
        "# Hàm main\n",
        "try:\n",
        "    # Thông báo bắt đầu\n",
        "    notify(f\"THÔNG BÁO TỪ GOOGLE COLAB!\\nKhởi động: Tool 5 - Tranfer FILE/FOLDER giữa các Cloud Stograge v1.0\\nThời gian bắt đầu: {get_time_now()}\")\n",
        "    notify(\"Chương trình đang khởi động...\")\n",
        "    if not is_exists(Source_Path): # Kiểm tra sự tồn tại của thư mục hoặc file nguồn\n",
        "        notify(f\"\\nĐường dẫn nguồn: {Source_Path} không tồn tại.\")\n",
        "    else:\n",
        "        notify(f\"\\nĐường dẫn nguồn: {Source_Path} tồn tại.\")\n",
        "\n",
        "    if not is_exists(Destination_Base):  # Kiểm tra và tạo thư mục đích nếu cần\n",
        "        notify(f\"\\nĐường dẫn cơ sở: {Destination_Base} không tồn tại. Đang tạo thư mục.\")\n",
        "        if create_folder(Destination_Base):\n",
        "            notify(f\"\\nĐã tạo thành công thư mục cơ sở: {Destination_Base}.\")\n",
        "        else:\n",
        "            notify(f\"\\nKhông thể tạo thư mục cơ sở: {Destination_Base}.\")\n",
        "    else:\n",
        "        notify(f\"\\nĐường dẫn cơ sở: {Destination_Base} đã tồn tại.\")\n",
        "\n",
        "    is_file = not is_folder(Source_Path)  # Xác định loại đối tượng tại Source_Path là file hay thư mục\n",
        "    object_name = get_object_name(Source_Path) # Lấy tên đối tượng (file hoặc thư mục)\n",
        "    notify(f\"\\nTên {'tệp' if is_file else 'thư mục'}:\", object_name)\n",
        "\n",
        "    # Tạo đường dẫn đích\n",
        "    Destination_Path = f\"{Destination_Base}/{object_name if not is_file else ''}\".rstrip('/')\n",
        "    notify(f\"\\nĐường dẫn đích của {'tệp' if is_file else 'thư mục'}:\", Destination_Path)\n",
        "\n",
        "    # Đặt tên cho tệp log\n",
        "    log_folder = Destination_Path\n",
        "    temp_log_folder = \"/content\"\n",
        "    log_name = f\"{object_name}_logfile.txt\"\n",
        "    temp_log_path = f\"{temp_log_folder}/{log_name}\"\n",
        "\n",
        "    notify(\"\\nĐang tạo tệp log theo đường dẫn:\", temp_log_path)\n",
        "    create_file(temp_log_path) # Tạo file log\n",
        "    # Kiểm tra file log đã được tạo hay chưa\n",
        "    notify(\"\\nĐang kiểm tra file log trong thư mục tạm: \",temp_log_folder)\n",
        "    find_file(log_name,temp_log_folder,is_stop=True)\n",
        "    # Thực hiện transfer với việc lưu log vào tệp văn bản\n",
        "    rclone_copy(Source_Path,Destination_Path,temp_log_path)\n",
        "    move_object(temp_log_path,log_folder) # Di chuyển log từ thư mục tạm sang thư mục chính\n",
        "    notify(\"\\nKiểm tra kết quả di chuyển file log từ thư mục tạm sang thư mục đích: \",log_folder)\n",
        "    find_file(log_name,log_folder,False) # Kiểm tra file log đã được di chuyển hay chưa\n",
        "\n",
        "except StopExecution:\n",
        "    notify(\"\\nThật tiếc, chương trình thực thi phải dừng lại tại đây! 😢\")"
      ]
    },
    {
      "cell_type": "markdown",
      "metadata": {
        "id": "7Uoq-Xd355PE"
      },
      "source": [
        "#<img src='https://www.svgrepo.com/show/411407/orchestrate.svg' height=\"30\" alt=\"Sync\"/> **Copy - Sync chậm hơn với lệnh tay**"
      ]
    },
    {
      "cell_type": "markdown",
      "metadata": {
        "id": "SVDyrIPf59He"
      },
      "source": [
        "*Không in log ra màn hình, ghi log vào file*"
      ]
    },
    {
      "cell_type": "markdown",
      "metadata": {
        "id": "Ug9fsqoAkIYh"
      },
      "source": [
        "- Mục đích: Copy folder từ google drive sang one drive + ghi log vào file\n",
        "- Ví dụ: **`!rclone copy -v --transfers 12 vodang2702:\"Khoá Học 2TB\" admin:\"Khoá Học 2TB\" --log-file /content/sample_data/logfile.txt`**"
      ]
    },
    {
      "cell_type": "code",
      "execution_count": null,
      "metadata": {
        "id": "yvNR3VZg6CZH"
      },
      "outputs": [],
      "source": [
        "# Nhập lệnh ở đây\n",
        "!rclone copy -v --transfers 12 vodang2702:\"Khoá Học 2TB\" admin:\"Khoá Học 2TB\" --log-file /content/sample_data/logfile.txt"
      ]
    },
    {
      "cell_type": "markdown",
      "metadata": {
        "id": "rJqewkxkkoBq"
      },
      "source": [
        "- Mục đích: Copy folder được chia sẻ vào drive (cùng tài khoản google) + ghi log vào file; Không giới hạn băng thông, Luồng transfer cùng lúc là 12, Check file là 20, thực thi trên server google, tốc độ mạng của server\n",
        "- Ví dụ: **`!rclone copy -v --drive-shared-with-me --server-side-across-configs --transfers 12 --checkers 20 --bwlimit 0 \"vodang2702:1Team HSG [Backup]\"  \"vodang2702:1Team HSG [BK]\" --log-file /content/sample_data/logfile.txt\n",
        "`**"
      ]
    },
    {
      "cell_type": "code",
      "execution_count": null,
      "metadata": {
        "id": "UQDJT6By6ILB"
      },
      "outputs": [],
      "source": [
        "# Nhập lệnh ở đây\n",
        "!rclone copy -v --drive-shared-with-me --server-side-across-configs --transfers 10 --checkers 20 --bwlimit 0 \"vodang2702:1Team HSG [Backup]\"  \"vodang2702:1Team HSG [BK]\" --log-file /content/sample_data/logfile.txt\n"
      ]
    },
    {
      "cell_type": "markdown",
      "metadata": {
        "id": "j4sw_cKd6KuS"
      },
      "source": [
        "*Ghi log ra màn hình*"
      ]
    },
    {
      "cell_type": "markdown",
      "metadata": {
        "id": "Rq2tQgQfd8YR"
      },
      "source": [
        "\n",
        "- Mục đích: Copy folder từ google drive sang one drive + in log ra màn hình\n",
        "- Ví dụ: **`!rclone copy -v --transfers 15 vodang2702:\"Khoá Học 2TB\" admin:\"Khoá Học 2TB\"`**"
      ]
    },
    {
      "cell_type": "code",
      "execution_count": null,
      "metadata": {
        "id": "gjqPy7WB6PLz"
      },
      "outputs": [],
      "source": [
        "# Nhập lệnh ở đây\n",
        "!rclone copy -v --transfers 10 --checkers 20 vodang2702:\"Khoá Học 2TB\" admin:\"Khoá Học 2TB\""
      ]
    },
    {
      "cell_type": "markdown",
      "metadata": {
        "id": "UWgjfVVSejMW"
      },
      "source": [
        "- Mục đích: Copy folder từ google drive sang one drive, bỏ qua file đã tồn tại ở thư mục đích (copy thêm), giới hạn băng thông và số lượng luồng song song.\n",
        "- Ví dụ: **`!rclone copy -v --bwlimit 7M --ignore-existing --transfers 20 --checkers 40 vodang2702:\"Khoá Học 2TB\" admin:\"Khoá Học 2TB\"`**"
      ]
    },
    {
      "cell_type": "code",
      "execution_count": null,
      "metadata": {
        "id": "_mHd3lvI6TIn"
      },
      "outputs": [],
      "source": [
        "# Nhập lệnh ở đây\n",
        "!rclone copy -v --checkers 40 --transfers 20 vodang2702:\"Khoá Học 2TB\" admin:\"Khoá Học 2TB\""
      ]
    },
    {
      "cell_type": "markdown",
      "metadata": {
        "id": "llj-gzmFfb3h"
      },
      "source": [
        "- Mục đích: Copy folder từ thư mục được chia sẻ trên google drive vào chính google drive đó (chuyển quyền sở hữu). Copy bằng folder id\n",
        "- Ví dụ: **`!rclone copy -v --transfers 20 --checkers 40 'vodang2702,root_folder_id=\"1I7VSoUdSXSJ_r6Bm0y0l1j7TXbKdWNQD\":' 'vodang2702:1.5 Ao Lua'`**"
      ]
    },
    {
      "cell_type": "code",
      "execution_count": null,
      "metadata": {
        "id": "c-rLiKgWB8X8"
      },
      "outputs": [],
      "source": [
        "# Nhập lệnh ở đây\n",
        "!rclone copy -v --transfers 20 --checkers 40 'vodang2702,root_folder_id=\"1I7VSoUdSXSJ_r6Bm0y0l1j7TXbKdWNQD\":' 'vodang2702:1.5 Ao Lua'"
      ]
    },
    {
      "cell_type": "markdown",
      "metadata": {
        "id": "wzutX9PTgEV3"
      },
      "source": [
        "- Mục đích: Copy folder từ cloud này sang cloud khác, bỏ qua file đã tồn tại\n",
        "- Ví dụ: **`!rclone copy -v --ignore-existing -u --check-first --transfers 20 --checkers 40 \"admin:BackupIphoneMyMom\" \"duongle:BackupIphoneMyMom\"`**"
      ]
    },
    {
      "cell_type": "code",
      "execution_count": null,
      "metadata": {
        "collapsed": true,
        "id": "rZPM9WMC6Wxn"
      },
      "outputs": [],
      "source": [
        "# Nhập lệnh ở đây\n",
        "!rclone copy -v --ignore-existing -u --check-first --transfers 20 --checkers 40 \"vodang2702:TONG HOP KHOA HOC FULL/aemmo.vn/Viral Characters by Mohi & Sami\" \"vodang2702:TONG HOP KHOA HOC FULL/aemmo.vn/Viral Characters by Mohi and Sami\""
      ]
    },
    {
      "cell_type": "code",
      "execution_count": null,
      "metadata": {
        "id": "TKpHBfNGaTkF"
      },
      "outputs": [],
      "source": [
        "# Nhập lệnh ở đây\n",
        "!rclone copy -v --ignore-existing -u --check-first --transfers 20 --checkers 40 \"admin:BackupIphoneMyMom\" \"duongle:BackupIphoneMyMom\""
      ]
    },
    {
      "cell_type": "code",
      "execution_count": null,
      "metadata": {
        "id": "yvtn_Cv_YNi9"
      },
      "outputs": [],
      "source": [
        "# Nhập lệnh ở đây\n",
        "!rclone dedupe -vvP \"vodang2702:1Team HSG [BK]\" --dedupe-mode skip --checkers=16 --buffer-size=64M --log-file /content/drive/MyDrive/Log-rclone-colab/logfile.txt"
      ]
    },
    {
      "cell_type": "code",
      "execution_count": null,
      "metadata": {
        "id": "RLlQ8DbmxNcg"
      },
      "outputs": [],
      "source": [
        "# Nhập lệnh ở đây\n",
        "!rclone dedupe -vv \"vodang2702:1Team HSG\" --dedupe-mode skip --checkers=16 --buffer-size=64M"
      ]
    },
    {
      "cell_type": "code",
      "execution_count": null,
      "metadata": {
        "collapsed": true,
        "id": "1Eqa2BmT_cST"
      },
      "outputs": [],
      "source": [
        "# Nhập lệnh ở đây\n",
        "!rclone copy -v --drive-shared-with-me --server-side-across-configs \"vodang2702:Melody Marks [43GB]\"  \"vodang2702:1Team HSG/Melody Marks [43GB]\""
      ]
    },
    {
      "cell_type": "code",
      "execution_count": null,
      "metadata": {
        "colab": {
          "base_uri": "https://localhost:8080/"
        },
        "collapsed": true,
        "id": "decSNc8OXoVH",
        "outputId": "f9d3ceb0-efdb-4864-d32d-1d265350fb6a"
      },
      "outputs": [
        {
          "name": "stdout",
          "output_type": "stream",
          "text": [
            "Total:   30 TiB\n",
            "Used:    323.243 GiB\n",
            "Free:    29.665 TiB\n",
            "Trashed: 847.562 KiB\n",
            "Other:   20.139 GiB\n"
          ]
        }
      ],
      "source": [
        "# Nhập lệnh ở đây\n",
        "!rclone about vndang96:"
      ]
    },
    {
      "cell_type": "markdown",
      "metadata": {
        "id": "zMV1kqXN6g8D"
      },
      "source": [
        "\n",
        "**GHI CHÚ**\n",
        "\n",
        "<details>\n",
        "  <summary>LIÊN QUAN TỚI FLAG MẶC ĐỊNH</summary>\n",
        "  \n",
        "  Dưới đây là các thông số mặc định của một số cờ (flags) phổ biến trong rclone:\n",
        "\n",
        "1. **`-P` hoặc `--progress`**:\n",
        "    - Mặc định: Không hiển thị tiến trình. Khi sử dụng cờ này, nó sẽ hiển thị tiến trình sao chép tệp.\n",
        "\n",
        "2. **`--bwlimit`**:\n",
        "    - Mặc định: Không giới hạn băng thông.\n",
        "    - Ví dụ: `--bwlimit 10M` để giới hạn băng thông ở mức 10 MB/s.\n",
        "\n",
        "3. **`--transfers`**:\n",
        "    - Mặc định: `4` (sao chép 4 tệp đồng thời).\n",
        "    - Ví dụ: `--transfers 8` để sao chép 8 tệp đồng thời.\n",
        "\n",
        "4. **`--exclude`**:\n",
        "    - Mặc định: Không loại trừ tệp nào.\n",
        "    - Ví dụ: `--exclude \"*.txt\"` để loại trừ tất cả các tệp có đuôi `.txt`.\n",
        "\n",
        "5. **`--include`**:\n",
        "    - Mặc định: Bao gồm tất cả các tệp.\n",
        "    - Ví dụ: `--include \"*.jpg\"` để chỉ bao gồm các tệp có đuôi `.jpg`.\n",
        "\n",
        "6. **`--max-size`**:\n",
        "    - Mặc định: Không giới hạn kích thước tệp tối đa.\n",
        "    - Ví dụ: `--max-size 100M` để chỉ sao chép các tệp có kích thước nhỏ hơn hoặc bằng 100 MB.\n",
        "\n",
        "7. **`--min-size`**:\n",
        "    - Mặc định: Không giới hạn kích thước tệp tối thiểu.\n",
        "    - Ví dụ: `--min-size 10M` để chỉ sao chép các tệp có kích thước lớn hơn hoặc bằng 10 MB.\n",
        "\n",
        "8. **`--log-file`** và **`--log-level`**:\n",
        "    - Mặc định: Không ghi log ra tệp và mức độ chi tiết của log là `NOTICE`.\n",
        "    - Ví dụ: `--log-file rclone.log --log-level INFO` để ghi log chi tiết vào tệp `rclone.log`.\n",
        "\n",
        "9. **`--dry-run`**:\n",
        "    - Mặc định: Không chạy thử.\n",
        "    - Khi sử dụng cờ này, nó sẽ mô phỏng việc sao chép mà không thực sự thực hiện sao chép.\n",
        "\n",
        "10. **`--checkers`**:\n",
        "    - Mặc định: `8` (sử dụng 8 luồng kiểm tra song song).\n",
        "    - Ví dụ: `--checkers 16` để sử dụng 16 luồng kiểm tra song song.\n",
        "\n",
        "11. **`--retries`**:\n",
        "    - Mặc định: `3` (thử lại 3 lần khi gặp lỗi).\n",
        "    - Ví dụ: `--retries 5` để thử lại 5 lần khi gặp lỗi.\n",
        "\n",
        "### Cách Kiểm Tra Các Giá Trị Mặc Định\n",
        "\n",
        "Bạn có thể kiểm tra giá trị mặc định của các cờ và nhiều thông tin khác bằng cách sử dụng lệnh `rclone help flags` hoặc xem tài liệu trực tuyến của rclone tại [Rclone Documentation](https://rclone.org/docs/).\n",
        "\n",
        "### Ví Dụ Chi Tiết\n",
        "\n",
        "Dưới đây là một ví dụ chi tiết về cách sử dụng một số cờ với các giá trị mặc định và thay đổi:\n",
        "\n",
        "```bash\n",
        "rclone copy gdrive:backup /path/to/local_backup -P --bwlimit 10M --transfers 8 --exclude \"*.txt\" --log-file rclone.log --log-level INFO --dry-run\n",
        "```\n",
        "\n",
        "Giải thích:\n",
        "- `-P`: Hiển thị tiến trình sao chép.\n",
        "- `--bwlimit 10M`: Giới hạn băng thông ở mức 10 MB/s.\n",
        "- `--transfers 8`: Sao chép 8 tệp đồng thời.\n",
        "- `--exclude \"*.txt\"`: Loại trừ tất cả các tệp có đuôi `.txt`.\n",
        "- `--log-file rclone.log`: Ghi log ra tệp `rclone.log`.\n",
        "- `--log-level INFO`: Ghi log chi tiết ở mức INFO.\n",
        "- `--dry-run`: Chạy thử mà không thực sự sao chép tệp.\n",
        "\n",
        "Bằng cách sử dụng các cờ này, bạn có thể kiểm soát tốt hơn quá trình sao chép tệp của mình với rclone.\n",
        "</details>\n",
        "\n",
        "\n",
        "<details>\n",
        "  <summary>LIÊN QUAN TỚI GHI LỌG</summary>\n",
        "Để tắt việc in log ra màn hình khi sử dụng rclone, bạn có thể sử dụng tùy chọn `--log-level` và thiết lập mức độ log thành `NOTICE` hoặc cao hơn. Dưới đây là một số tùy chọn phổ biến cho `--log-level`:\n",
        "\n",
        "- `NOTICE`: Chỉ hiển thị các thông báo quan trọng.\n",
        "- `ERROR`: Chỉ hiển thị các lỗi.\n",
        "- `NONE`: Tắt hoàn toàn việc ghi log.\n",
        "\n",
        "Ví dụ, nếu bạn muốn tắt hoàn toàn việc in log ra màn hình, bạn có thể sử dụng lệnh sau:\n",
        "\n",
        "```bash\n",
        "rclone sync source: destination: --log-level NONE\n",
        "```\n",
        "\n",
        "Ngoài ra, bạn cũng có thể sử dụng tùy chọn `--quiet` để giảm bớt lượng thông tin log được in ra:\n",
        "\n",
        "```bash\n",
        "rclone sync source: destination: --quiet\n",
        "```\n",
        "\n",
        "Dưới đây là một số ví dụ khác với các mức độ log khác nhau:\n",
        "\n",
        "- Chỉ hiển thị các thông báo quan trọng (NOTICE):\n",
        "\n",
        "```bash\n",
        "rclone sync source: destination: --log-level NOTICE\n",
        "```\n",
        "\n",
        "- Chỉ hiển thị lỗi (ERROR):\n",
        "\n",
        "```bash\n",
        "rclone sync source: destination: --log-level ERROR\n",
        "```\n",
        "\n",
        "Nếu bạn muốn lưu log vào một file thay vì in ra màn hình, bạn có thể sử dụng tùy chọn `--log-file`:\n",
        "\n",
        "```bash\n",
        "rclone sync source: destination: --log-file /path/to/logfile.txt --log-level INFO\n",
        "```\n",
        "</details>"
      ]
    }
  ],
  "metadata": {
    "colab": {
      "collapsed_sections": [
        "qtV0MPP6fBZr",
        "J0eDKxxxPCQd",
        "7Uoq-Xd355PE"
      ],
      "provenance": [],
      "include_colab_link": true
    },
    "kernelspec": {
      "display_name": "Python 3",
      "name": "python3"
    },
    "language_info": {
      "name": "python"
    },
    "widgets": {
      "application/vnd.jupyter.widget-state+json": {
        "8ea5f1033a3e4277bdb2bf22d899fa4a": {
          "model_module": "@jupyter-widgets/controls",
          "model_name": "RadioButtonsModel",
          "model_module_version": "1.5.0",
          "state": {
            "_dom_classes": [],
            "_model_module": "@jupyter-widgets/controls",
            "_model_module_version": "1.5.0",
            "_model_name": "RadioButtonsModel",
            "_options_labels": [
              "vodang2702",
              "vndang96",
              "duongle",
              "admin",
              "dangvn",
              "dangvo",
              "obt",
              "edward",
              "nghienmac4",
              "cusc",
              "dttx"
            ],
            "_view_count": null,
            "_view_module": "@jupyter-widgets/controls",
            "_view_module_version": "1.5.0",
            "_view_name": "RadioButtonsView",
            "description": "Select Drive:",
            "description_tooltip": null,
            "disabled": false,
            "index": 0,
            "layout": "IPY_MODEL_549c46861402423b9e1aca8a0fbd0dab",
            "style": "IPY_MODEL_754b76c22e674e7ab363e989f4156f7b"
          }
        },
        "549c46861402423b9e1aca8a0fbd0dab": {
          "model_module": "@jupyter-widgets/base",
          "model_name": "LayoutModel",
          "model_module_version": "1.2.0",
          "state": {
            "_model_module": "@jupyter-widgets/base",
            "_model_module_version": "1.2.0",
            "_model_name": "LayoutModel",
            "_view_count": null,
            "_view_module": "@jupyter-widgets/base",
            "_view_module_version": "1.2.0",
            "_view_name": "LayoutView",
            "align_content": null,
            "align_items": null,
            "align_self": null,
            "border": null,
            "bottom": null,
            "display": null,
            "flex": null,
            "flex_flow": null,
            "grid_area": null,
            "grid_auto_columns": null,
            "grid_auto_flow": null,
            "grid_auto_rows": null,
            "grid_column": null,
            "grid_gap": null,
            "grid_row": null,
            "grid_template_areas": null,
            "grid_template_columns": null,
            "grid_template_rows": null,
            "height": null,
            "justify_content": null,
            "justify_items": null,
            "left": null,
            "margin": null,
            "max_height": null,
            "max_width": null,
            "min_height": null,
            "min_width": null,
            "object_fit": null,
            "object_position": null,
            "order": null,
            "overflow": null,
            "overflow_x": null,
            "overflow_y": null,
            "padding": null,
            "right": null,
            "top": null,
            "visibility": null,
            "width": null
          }
        },
        "754b76c22e674e7ab363e989f4156f7b": {
          "model_module": "@jupyter-widgets/controls",
          "model_name": "DescriptionStyleModel",
          "model_module_version": "1.5.0",
          "state": {
            "_model_module": "@jupyter-widgets/controls",
            "_model_module_version": "1.5.0",
            "_model_name": "DescriptionStyleModel",
            "_view_count": null,
            "_view_module": "@jupyter-widgets/base",
            "_view_module_version": "1.2.0",
            "_view_name": "StyleView",
            "description_width": ""
          }
        },
        "1960fc8131e444988482dbb6e6c21bbf": {
          "model_module": "@jupyter-widgets/controls",
          "model_name": "TextareaModel",
          "model_module_version": "1.5.0",
          "state": {
            "_dom_classes": [],
            "_model_module": "@jupyter-widgets/controls",
            "_model_module_version": "1.5.0",
            "_model_name": "TextareaModel",
            "_view_count": null,
            "_view_module": "@jupyter-widgets/controls",
            "_view_module_version": "1.5.0",
            "_view_name": "TextareaView",
            "continuous_update": true,
            "description": "",
            "description_tooltip": null,
            "disabled": false,
            "layout": "IPY_MODEL_1a88566e8e054bb0a8521a9b96ec1f76",
            "placeholder": "​",
            "rows": null,
            "style": "IPY_MODEL_6ade396d5be34585b941cf0eadb46bd6",
            "value": ""
          }
        },
        "1a88566e8e054bb0a8521a9b96ec1f76": {
          "model_module": "@jupyter-widgets/base",
          "model_name": "LayoutModel",
          "model_module_version": "1.2.0",
          "state": {
            "_model_module": "@jupyter-widgets/base",
            "_model_module_version": "1.2.0",
            "_model_name": "LayoutModel",
            "_view_count": null,
            "_view_module": "@jupyter-widgets/base",
            "_view_module_version": "1.2.0",
            "_view_name": "LayoutView",
            "align_content": null,
            "align_items": null,
            "align_self": null,
            "border": null,
            "bottom": null,
            "display": null,
            "flex": null,
            "flex_flow": null,
            "grid_area": null,
            "grid_auto_columns": null,
            "grid_auto_flow": null,
            "grid_auto_rows": null,
            "grid_column": null,
            "grid_gap": null,
            "grid_row": null,
            "grid_template_areas": null,
            "grid_template_columns": null,
            "grid_template_rows": null,
            "height": "100px",
            "justify_content": null,
            "justify_items": null,
            "left": null,
            "margin": null,
            "max_height": null,
            "max_width": null,
            "min_height": null,
            "min_width": null,
            "object_fit": null,
            "object_position": null,
            "order": null,
            "overflow": null,
            "overflow_x": null,
            "overflow_y": null,
            "padding": null,
            "right": null,
            "top": null,
            "visibility": null,
            "width": "15%"
          }
        },
        "6ade396d5be34585b941cf0eadb46bd6": {
          "model_module": "@jupyter-widgets/controls",
          "model_name": "DescriptionStyleModel",
          "model_module_version": "1.5.0",
          "state": {
            "_model_module": "@jupyter-widgets/controls",
            "_model_module_version": "1.5.0",
            "_model_name": "DescriptionStyleModel",
            "_view_count": null,
            "_view_module": "@jupyter-widgets/base",
            "_view_module_version": "1.2.0",
            "_view_name": "StyleView",
            "description_width": ""
          }
        },
        "321be98f610545b298e87b1caa51795e": {
          "model_module": "@jupyter-widgets/controls",
          "model_name": "DropdownModel",
          "model_module_version": "1.5.0",
          "state": {
            "_dom_classes": [],
            "_model_module": "@jupyter-widgets/controls",
            "_model_module_version": "1.5.0",
            "_model_name": "DropdownModel",
            "_options_labels": [
              "vodang2702",
              "vndang96",
              "duongle",
              "admin",
              "dangvn",
              "dangvo",
              "obt",
              "edward",
              "nghienmac4",
              "cusc",
              "dttx"
            ],
            "_view_count": null,
            "_view_module": "@jupyter-widgets/controls",
            "_view_module_version": "1.5.0",
            "_view_name": "DropdownView",
            "description": "Select Drive:",
            "description_tooltip": null,
            "disabled": false,
            "index": 0,
            "layout": "IPY_MODEL_1d3aacf0622a457b8a266edf3d9605f7",
            "style": "IPY_MODEL_19dc67eeeb37427d810f189ddd5e882a"
          }
        },
        "1d3aacf0622a457b8a266edf3d9605f7": {
          "model_module": "@jupyter-widgets/base",
          "model_name": "LayoutModel",
          "model_module_version": "1.2.0",
          "state": {
            "_model_module": "@jupyter-widgets/base",
            "_model_module_version": "1.2.0",
            "_model_name": "LayoutModel",
            "_view_count": null,
            "_view_module": "@jupyter-widgets/base",
            "_view_module_version": "1.2.0",
            "_view_name": "LayoutView",
            "align_content": null,
            "align_items": null,
            "align_self": null,
            "border": null,
            "bottom": null,
            "display": null,
            "flex": null,
            "flex_flow": null,
            "grid_area": null,
            "grid_auto_columns": null,
            "grid_auto_flow": null,
            "grid_auto_rows": null,
            "grid_column": null,
            "grid_gap": null,
            "grid_row": null,
            "grid_template_areas": null,
            "grid_template_columns": null,
            "grid_template_rows": null,
            "height": null,
            "justify_content": null,
            "justify_items": null,
            "left": null,
            "margin": null,
            "max_height": null,
            "max_width": null,
            "min_height": null,
            "min_width": null,
            "object_fit": null,
            "object_position": null,
            "order": null,
            "overflow": null,
            "overflow_x": null,
            "overflow_y": null,
            "padding": null,
            "right": null,
            "top": null,
            "visibility": null,
            "width": null
          }
        },
        "19dc67eeeb37427d810f189ddd5e882a": {
          "model_module": "@jupyter-widgets/controls",
          "model_name": "DescriptionStyleModel",
          "model_module_version": "1.5.0",
          "state": {
            "_model_module": "@jupyter-widgets/controls",
            "_model_module_version": "1.5.0",
            "_model_name": "DescriptionStyleModel",
            "_view_count": null,
            "_view_module": "@jupyter-widgets/base",
            "_view_module_version": "1.2.0",
            "_view_name": "StyleView",
            "description_width": ""
          }
        },
        "949cc9e9db174eab998ba7aa6fc6c1d1": {
          "model_module": "@jupyter-widgets/controls",
          "model_name": "TextModel",
          "model_module_version": "1.5.0",
          "state": {
            "_dom_classes": [],
            "_model_module": "@jupyter-widgets/controls",
            "_model_module_version": "1.5.0",
            "_model_name": "TextModel",
            "_view_count": null,
            "_view_module": "@jupyter-widgets/controls",
            "_view_module_version": "1.5.0",
            "_view_name": "TextView",
            "continuous_update": true,
            "description": "Path:",
            "description_tooltip": null,
            "disabled": false,
            "layout": "IPY_MODEL_0625ecbb9c1042b89254b8c0d3cc32fc",
            "placeholder": "English/Mind maps English",
            "style": "IPY_MODEL_0efd4448e16a4934b0df72423a9f1312",
            "value": ""
          }
        },
        "0625ecbb9c1042b89254b8c0d3cc32fc": {
          "model_module": "@jupyter-widgets/base",
          "model_name": "LayoutModel",
          "model_module_version": "1.2.0",
          "state": {
            "_model_module": "@jupyter-widgets/base",
            "_model_module_version": "1.2.0",
            "_model_name": "LayoutModel",
            "_view_count": null,
            "_view_module": "@jupyter-widgets/base",
            "_view_module_version": "1.2.0",
            "_view_name": "LayoutView",
            "align_content": null,
            "align_items": null,
            "align_self": null,
            "border": null,
            "bottom": null,
            "display": null,
            "flex": null,
            "flex_flow": null,
            "grid_area": null,
            "grid_auto_columns": null,
            "grid_auto_flow": null,
            "grid_auto_rows": null,
            "grid_column": null,
            "grid_gap": null,
            "grid_row": null,
            "grid_template_areas": null,
            "grid_template_columns": null,
            "grid_template_rows": null,
            "height": "30px",
            "justify_content": null,
            "justify_items": null,
            "left": null,
            "margin": null,
            "max_height": null,
            "max_width": null,
            "min_height": null,
            "min_width": null,
            "object_fit": null,
            "object_position": null,
            "order": null,
            "overflow": null,
            "overflow_x": null,
            "overflow_y": null,
            "padding": null,
            "right": null,
            "top": null,
            "visibility": null,
            "width": "100%"
          }
        },
        "0efd4448e16a4934b0df72423a9f1312": {
          "model_module": "@jupyter-widgets/controls",
          "model_name": "DescriptionStyleModel",
          "model_module_version": "1.5.0",
          "state": {
            "_model_module": "@jupyter-widgets/controls",
            "_model_module_version": "1.5.0",
            "_model_name": "DescriptionStyleModel",
            "_view_count": null,
            "_view_module": "@jupyter-widgets/base",
            "_view_module_version": "1.2.0",
            "_view_name": "StyleView",
            "description_width": ""
          }
        },
        "864c315ee21e44a78c0e0e80c350aee3": {
          "model_module": "@jupyter-widgets/controls",
          "model_name": "TextareaModel",
          "model_module_version": "1.5.0",
          "state": {
            "_dom_classes": [],
            "_model_module": "@jupyter-widgets/controls",
            "_model_module_version": "1.5.0",
            "_model_name": "TextareaModel",
            "_view_count": null,
            "_view_module": "@jupyter-widgets/controls",
            "_view_module_version": "1.5.0",
            "_view_name": "TextareaView",
            "continuous_update": true,
            "description": "",
            "description_tooltip": null,
            "disabled": false,
            "layout": "IPY_MODEL_a4f5ced48b564023bf55d01ba425ffb7",
            "placeholder": "Output will be displayed here...",
            "rows": null,
            "style": "IPY_MODEL_dd3b557262f4434f86f5610ccb3bd30c",
            "value": ""
          }
        },
        "a4f5ced48b564023bf55d01ba425ffb7": {
          "model_module": "@jupyter-widgets/base",
          "model_name": "LayoutModel",
          "model_module_version": "1.2.0",
          "state": {
            "_model_module": "@jupyter-widgets/base",
            "_model_module_version": "1.2.0",
            "_model_name": "LayoutModel",
            "_view_count": null,
            "_view_module": "@jupyter-widgets/base",
            "_view_module_version": "1.2.0",
            "_view_name": "LayoutView",
            "align_content": null,
            "align_items": null,
            "align_self": null,
            "border": null,
            "bottom": null,
            "display": null,
            "flex": null,
            "flex_flow": null,
            "grid_area": null,
            "grid_auto_columns": null,
            "grid_auto_flow": null,
            "grid_auto_rows": null,
            "grid_column": null,
            "grid_gap": null,
            "grid_row": null,
            "grid_template_areas": null,
            "grid_template_columns": null,
            "grid_template_rows": null,
            "height": "150px",
            "justify_content": null,
            "justify_items": null,
            "left": null,
            "margin": null,
            "max_height": null,
            "max_width": null,
            "min_height": null,
            "min_width": null,
            "object_fit": null,
            "object_position": null,
            "order": null,
            "overflow": null,
            "overflow_x": null,
            "overflow_y": null,
            "padding": null,
            "right": null,
            "top": null,
            "visibility": null,
            "width": "100%"
          }
        },
        "dd3b557262f4434f86f5610ccb3bd30c": {
          "model_module": "@jupyter-widgets/controls",
          "model_name": "DescriptionStyleModel",
          "model_module_version": "1.5.0",
          "state": {
            "_model_module": "@jupyter-widgets/controls",
            "_model_module_version": "1.5.0",
            "_model_name": "DescriptionStyleModel",
            "_view_count": null,
            "_view_module": "@jupyter-widgets/base",
            "_view_module_version": "1.2.0",
            "_view_name": "StyleView",
            "description_width": ""
          }
        },
        "0871cf8f83c04512af10d29db185d6af": {
          "model_module": "@jupyter-widgets/controls",
          "model_name": "TextModel",
          "model_module_version": "1.5.0",
          "state": {
            "_dom_classes": [],
            "_model_module": "@jupyter-widgets/controls",
            "_model_module_version": "1.5.0",
            "_model_name": "TextModel",
            "_view_count": null,
            "_view_module": "@jupyter-widgets/controls",
            "_view_module_version": "1.5.0",
            "_view_name": "TextView",
            "continuous_update": true,
            "description": "",
            "description_tooltip": null,
            "disabled": false,
            "layout": "IPY_MODEL_54dbf82fbfa341f8a7f1e9cc42b6bf73",
            "placeholder": "​",
            "style": "IPY_MODEL_eb4f03241ef44922a1c5523b3262ce08",
            "value": ""
          }
        },
        "54dbf82fbfa341f8a7f1e9cc42b6bf73": {
          "model_module": "@jupyter-widgets/base",
          "model_name": "LayoutModel",
          "model_module_version": "1.2.0",
          "state": {
            "_model_module": "@jupyter-widgets/base",
            "_model_module_version": "1.2.0",
            "_model_name": "LayoutModel",
            "_view_count": null,
            "_view_module": "@jupyter-widgets/base",
            "_view_module_version": "1.2.0",
            "_view_name": "LayoutView",
            "align_content": null,
            "align_items": null,
            "align_self": null,
            "border": null,
            "bottom": null,
            "display": null,
            "flex": null,
            "flex_flow": null,
            "grid_area": null,
            "grid_auto_columns": null,
            "grid_auto_flow": null,
            "grid_auto_rows": null,
            "grid_column": null,
            "grid_gap": null,
            "grid_row": null,
            "grid_template_areas": null,
            "grid_template_columns": null,
            "grid_template_rows": null,
            "height": null,
            "justify_content": null,
            "justify_items": null,
            "left": null,
            "margin": null,
            "max_height": null,
            "max_width": null,
            "min_height": null,
            "min_width": null,
            "object_fit": null,
            "object_position": null,
            "order": null,
            "overflow": null,
            "overflow_x": null,
            "overflow_y": null,
            "padding": null,
            "right": null,
            "top": null,
            "visibility": null,
            "width": "100%"
          }
        },
        "eb4f03241ef44922a1c5523b3262ce08": {
          "model_module": "@jupyter-widgets/controls",
          "model_name": "DescriptionStyleModel",
          "model_module_version": "1.5.0",
          "state": {
            "_model_module": "@jupyter-widgets/controls",
            "_model_module_version": "1.5.0",
            "_model_name": "DescriptionStyleModel",
            "_view_count": null,
            "_view_module": "@jupyter-widgets/base",
            "_view_module_version": "1.2.0",
            "_view_name": "StyleView",
            "description_width": ""
          }
        },
        "481f754b3b2d4703afbec37753ee2086": {
          "model_module": "@jupyter-widgets/controls",
          "model_name": "ButtonModel",
          "model_module_version": "1.5.0",
          "state": {
            "_dom_classes": [],
            "_model_module": "@jupyter-widgets/controls",
            "_model_module_version": "1.5.0",
            "_model_name": "ButtonModel",
            "_view_count": null,
            "_view_module": "@jupyter-widgets/controls",
            "_view_module_version": "1.5.0",
            "_view_name": "ButtonView",
            "button_style": "danger",
            "description": "Cancel",
            "disabled": false,
            "icon": "",
            "layout": "IPY_MODEL_b1df6f42c146421c9eb20ca4f43e35d4",
            "style": "IPY_MODEL_669700757a0f4c63a04f65c9508dd123",
            "tooltip": ""
          }
        },
        "b1df6f42c146421c9eb20ca4f43e35d4": {
          "model_module": "@jupyter-widgets/base",
          "model_name": "LayoutModel",
          "model_module_version": "1.2.0",
          "state": {
            "_model_module": "@jupyter-widgets/base",
            "_model_module_version": "1.2.0",
            "_model_name": "LayoutModel",
            "_view_count": null,
            "_view_module": "@jupyter-widgets/base",
            "_view_module_version": "1.2.0",
            "_view_name": "LayoutView",
            "align_content": null,
            "align_items": null,
            "align_self": null,
            "border": null,
            "bottom": null,
            "display": null,
            "flex": null,
            "flex_flow": null,
            "grid_area": null,
            "grid_auto_columns": null,
            "grid_auto_flow": null,
            "grid_auto_rows": null,
            "grid_column": null,
            "grid_gap": null,
            "grid_row": null,
            "grid_template_areas": null,
            "grid_template_columns": null,
            "grid_template_rows": null,
            "height": null,
            "justify_content": null,
            "justify_items": null,
            "left": null,
            "margin": null,
            "max_height": null,
            "max_width": null,
            "min_height": null,
            "min_width": null,
            "object_fit": null,
            "object_position": null,
            "order": null,
            "overflow": null,
            "overflow_x": null,
            "overflow_y": null,
            "padding": null,
            "right": null,
            "top": null,
            "visibility": null,
            "width": null
          }
        },
        "669700757a0f4c63a04f65c9508dd123": {
          "model_module": "@jupyter-widgets/controls",
          "model_name": "ButtonStyleModel",
          "model_module_version": "1.5.0",
          "state": {
            "_model_module": "@jupyter-widgets/controls",
            "_model_module_version": "1.5.0",
            "_model_name": "ButtonStyleModel",
            "_view_count": null,
            "_view_module": "@jupyter-widgets/base",
            "_view_module_version": "1.2.0",
            "_view_name": "StyleView",
            "button_color": null,
            "font_weight": ""
          }
        },
        "ec5eb18211654d62b9d2405fdd9e008c": {
          "model_module": "@jupyter-widgets/controls",
          "model_name": "TextModel",
          "model_module_version": "1.5.0",
          "state": {
            "_dom_classes": [],
            "_model_module": "@jupyter-widgets/controls",
            "_model_module_version": "1.5.0",
            "_model_name": "TextModel",
            "_view_count": null,
            "_view_module": "@jupyter-widgets/controls",
            "_view_module_version": "1.5.0",
            "_view_name": "TextView",
            "continuous_update": true,
            "description": "",
            "description_tooltip": null,
            "disabled": false,
            "layout": "IPY_MODEL_fc0727a4001a45fda65ab67aacc095c6",
            "placeholder": "​",
            "style": "IPY_MODEL_3948a855ac3a4e20bd5cae8ae1dff912",
            "value": ""
          }
        },
        "fc0727a4001a45fda65ab67aacc095c6": {
          "model_module": "@jupyter-widgets/base",
          "model_name": "LayoutModel",
          "model_module_version": "1.2.0",
          "state": {
            "_model_module": "@jupyter-widgets/base",
            "_model_module_version": "1.2.0",
            "_model_name": "LayoutModel",
            "_view_count": null,
            "_view_module": "@jupyter-widgets/base",
            "_view_module_version": "1.2.0",
            "_view_name": "LayoutView",
            "align_content": null,
            "align_items": null,
            "align_self": null,
            "border": null,
            "bottom": null,
            "display": null,
            "flex": null,
            "flex_flow": null,
            "grid_area": null,
            "grid_auto_columns": null,
            "grid_auto_flow": null,
            "grid_auto_rows": null,
            "grid_column": null,
            "grid_gap": null,
            "grid_row": null,
            "grid_template_areas": null,
            "grid_template_columns": null,
            "grid_template_rows": null,
            "height": null,
            "justify_content": null,
            "justify_items": null,
            "left": null,
            "margin": null,
            "max_height": null,
            "max_width": null,
            "min_height": null,
            "min_width": null,
            "object_fit": null,
            "object_position": null,
            "order": null,
            "overflow": null,
            "overflow_x": null,
            "overflow_y": null,
            "padding": null,
            "right": null,
            "top": null,
            "visibility": null,
            "width": "100%"
          }
        },
        "3948a855ac3a4e20bd5cae8ae1dff912": {
          "model_module": "@jupyter-widgets/controls",
          "model_name": "DescriptionStyleModel",
          "model_module_version": "1.5.0",
          "state": {
            "_model_module": "@jupyter-widgets/controls",
            "_model_module_version": "1.5.0",
            "_model_name": "DescriptionStyleModel",
            "_view_count": null,
            "_view_module": "@jupyter-widgets/base",
            "_view_module_version": "1.2.0",
            "_view_name": "StyleView",
            "description_width": ""
          }
        }
      }
    }
  },
  "nbformat": 4,
  "nbformat_minor": 0
}
